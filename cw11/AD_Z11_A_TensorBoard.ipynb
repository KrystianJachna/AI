{
 "cells": [
  {
   "cell_type": "code",
   "metadata": {
    "ExecuteTime": {
     "end_time": "2024-06-07T01:02:16.950081Z",
     "start_time": "2024-06-07T01:02:13.050563Z"
    }
   },
   "source": [
    "import os\n",
    "import time\n",
    "\n",
    "import numpy as np\n",
    "import pandas as pd\n",
    "import tensorflow as tf\n",
    "from keras.callbacks import History\n",
    "from keras.callbacks import TensorBoard\n",
    "from keras.layers import Dense\n",
    "from keras.models import Sequential\n",
    "from tensorflow import keras"
   ],
   "outputs": [
    {
     "name": "stderr",
     "output_type": "stream",
     "text": [
      "2024-06-07 03:02:13.309340: I tensorflow/core/platform/cpu_feature_guard.cc:193] This TensorFlow binary is optimized with oneAPI Deep Neural Network Library (oneDNN) to use the following CPU instructions in performance-critical operations:  AVX2 FMA\n",
      "To enable them in other operations, rebuild TensorFlow with the appropriate compiler flags.\n",
      "2024-06-07 03:02:13.591920: W tensorflow/compiler/xla/stream_executor/platform/default/dso_loader.cc:64] Could not load dynamic library 'libcudart.so.11.0'; dlerror: libcudart.so.11.0: cannot open shared object file: No such file or directory\n",
      "2024-06-07 03:02:13.591946: I tensorflow/compiler/xla/stream_executor/cuda/cudart_stub.cc:29] Ignore above cudart dlerror if you do not have a GPU set up on your machine.\n",
      "2024-06-07 03:02:14.769572: W tensorflow/compiler/xla/stream_executor/platform/default/dso_loader.cc:64] Could not load dynamic library 'libnvinfer.so.7'; dlerror: libnvinfer.so.7: cannot open shared object file: No such file or directory\n",
      "2024-06-07 03:02:14.769683: W tensorflow/compiler/xla/stream_executor/platform/default/dso_loader.cc:64] Could not load dynamic library 'libnvinfer_plugin.so.7'; dlerror: libnvinfer_plugin.so.7: cannot open shared object file: No such file or directory\n",
      "2024-06-07 03:02:14.769699: W tensorflow/compiler/tf2tensorrt/utils/py_utils.cc:38] TF-TRT Warning: Cannot dlopen some TensorRT libraries. If you would like to use Nvidia GPU with TensorRT, please make sure the missing libraries mentioned above are installed properly.\n"
     ]
    }
   ],
   "execution_count": 1
  },
  {
   "metadata": {},
   "cell_type": "code",
   "source": [
    "np.random.seed(42)\n",
    "tf.random.set_seed(42)"
   ],
   "outputs": [],
   "execution_count": 2
  },
  {
   "metadata": {},
   "cell_type": "markdown",
   "source": "Wczytanie danych, usunięcie brakujących wartości, nadanie etykiet"
  },
  {
   "cell_type": "code",
   "metadata": {
    "ExecuteTime": {
     "end_time": "2024-06-07T01:02:17.780959Z",
     "start_time": "2024-06-07T01:02:16.959014Z"
    }
   },
   "source": [
    "train_set = pd.read_csv('adult/adult.data', sep=\", \", header=None, engine='python')\n",
    "test_set = pd.read_csv('adult/adult.test', sep=\", \", skiprows=1, header=None, engine='python')\n",
    "\n",
    "col_labels = ['age', 'workclass', 'fnlwgt', 'education', 'education_num', 'marital_status', 'occupation',\n",
    "              'relationship', 'race', 'sex', 'capital_gain', 'capital_loss', 'hours_per_week', 'native_country',\n",
    "              'wage_class']\n",
    "\n",
    "train_set.columns = col_labels\n",
    "test_set.columns = col_labels\n",
    "\n",
    "train = train_set.replace('?', np.nan).dropna()\n",
    "test = test_set.replace('?', np.nan).dropna()\n",
    "\n",
    "train_set.head()"
   ],
   "outputs": [
    {
     "data": {
      "text/plain": [
       "   age         workclass  fnlwgt  education  education_num  \\\n",
       "0   39         State-gov   77516  Bachelors             13   \n",
       "1   50  Self-emp-not-inc   83311  Bachelors             13   \n",
       "2   38           Private  215646    HS-grad              9   \n",
       "3   53           Private  234721       11th              7   \n",
       "4   28           Private  338409  Bachelors             13   \n",
       "\n",
       "       marital_status         occupation   relationship   race     sex  \\\n",
       "0       Never-married       Adm-clerical  Not-in-family  White    Male   \n",
       "1  Married-civ-spouse    Exec-managerial        Husband  White    Male   \n",
       "2            Divorced  Handlers-cleaners  Not-in-family  White    Male   \n",
       "3  Married-civ-spouse  Handlers-cleaners        Husband  Black    Male   \n",
       "4  Married-civ-spouse     Prof-specialty           Wife  Black  Female   \n",
       "\n",
       "   capital_gain  capital_loss  hours_per_week native_country wage_class  \n",
       "0          2174             0              40  United-States      <=50K  \n",
       "1             0             0              13  United-States      <=50K  \n",
       "2             0             0              40  United-States      <=50K  \n",
       "3             0             0              40  United-States      <=50K  \n",
       "4             0             0              40           Cuba      <=50K  "
      ],
      "text/html": [
       "<div>\n",
       "<style scoped>\n",
       "    .dataframe tbody tr th:only-of-type {\n",
       "        vertical-align: middle;\n",
       "    }\n",
       "\n",
       "    .dataframe tbody tr th {\n",
       "        vertical-align: top;\n",
       "    }\n",
       "\n",
       "    .dataframe thead th {\n",
       "        text-align: right;\n",
       "    }\n",
       "</style>\n",
       "<table border=\"1\" class=\"dataframe\">\n",
       "  <thead>\n",
       "    <tr style=\"text-align: right;\">\n",
       "      <th></th>\n",
       "      <th>age</th>\n",
       "      <th>workclass</th>\n",
       "      <th>fnlwgt</th>\n",
       "      <th>education</th>\n",
       "      <th>education_num</th>\n",
       "      <th>marital_status</th>\n",
       "      <th>occupation</th>\n",
       "      <th>relationship</th>\n",
       "      <th>race</th>\n",
       "      <th>sex</th>\n",
       "      <th>capital_gain</th>\n",
       "      <th>capital_loss</th>\n",
       "      <th>hours_per_week</th>\n",
       "      <th>native_country</th>\n",
       "      <th>wage_class</th>\n",
       "    </tr>\n",
       "  </thead>\n",
       "  <tbody>\n",
       "    <tr>\n",
       "      <th>0</th>\n",
       "      <td>39</td>\n",
       "      <td>State-gov</td>\n",
       "      <td>77516</td>\n",
       "      <td>Bachelors</td>\n",
       "      <td>13</td>\n",
       "      <td>Never-married</td>\n",
       "      <td>Adm-clerical</td>\n",
       "      <td>Not-in-family</td>\n",
       "      <td>White</td>\n",
       "      <td>Male</td>\n",
       "      <td>2174</td>\n",
       "      <td>0</td>\n",
       "      <td>40</td>\n",
       "      <td>United-States</td>\n",
       "      <td>&lt;=50K</td>\n",
       "    </tr>\n",
       "    <tr>\n",
       "      <th>1</th>\n",
       "      <td>50</td>\n",
       "      <td>Self-emp-not-inc</td>\n",
       "      <td>83311</td>\n",
       "      <td>Bachelors</td>\n",
       "      <td>13</td>\n",
       "      <td>Married-civ-spouse</td>\n",
       "      <td>Exec-managerial</td>\n",
       "      <td>Husband</td>\n",
       "      <td>White</td>\n",
       "      <td>Male</td>\n",
       "      <td>0</td>\n",
       "      <td>0</td>\n",
       "      <td>13</td>\n",
       "      <td>United-States</td>\n",
       "      <td>&lt;=50K</td>\n",
       "    </tr>\n",
       "    <tr>\n",
       "      <th>2</th>\n",
       "      <td>38</td>\n",
       "      <td>Private</td>\n",
       "      <td>215646</td>\n",
       "      <td>HS-grad</td>\n",
       "      <td>9</td>\n",
       "      <td>Divorced</td>\n",
       "      <td>Handlers-cleaners</td>\n",
       "      <td>Not-in-family</td>\n",
       "      <td>White</td>\n",
       "      <td>Male</td>\n",
       "      <td>0</td>\n",
       "      <td>0</td>\n",
       "      <td>40</td>\n",
       "      <td>United-States</td>\n",
       "      <td>&lt;=50K</td>\n",
       "    </tr>\n",
       "    <tr>\n",
       "      <th>3</th>\n",
       "      <td>53</td>\n",
       "      <td>Private</td>\n",
       "      <td>234721</td>\n",
       "      <td>11th</td>\n",
       "      <td>7</td>\n",
       "      <td>Married-civ-spouse</td>\n",
       "      <td>Handlers-cleaners</td>\n",
       "      <td>Husband</td>\n",
       "      <td>Black</td>\n",
       "      <td>Male</td>\n",
       "      <td>0</td>\n",
       "      <td>0</td>\n",
       "      <td>40</td>\n",
       "      <td>United-States</td>\n",
       "      <td>&lt;=50K</td>\n",
       "    </tr>\n",
       "    <tr>\n",
       "      <th>4</th>\n",
       "      <td>28</td>\n",
       "      <td>Private</td>\n",
       "      <td>338409</td>\n",
       "      <td>Bachelors</td>\n",
       "      <td>13</td>\n",
       "      <td>Married-civ-spouse</td>\n",
       "      <td>Prof-specialty</td>\n",
       "      <td>Wife</td>\n",
       "      <td>Black</td>\n",
       "      <td>Female</td>\n",
       "      <td>0</td>\n",
       "      <td>0</td>\n",
       "      <td>40</td>\n",
       "      <td>Cuba</td>\n",
       "      <td>&lt;=50K</td>\n",
       "    </tr>\n",
       "  </tbody>\n",
       "</table>\n",
       "</div>"
      ]
     },
     "execution_count": 3,
     "metadata": {},
     "output_type": "execute_result"
    }
   ],
   "execution_count": 3
  },
  {
   "cell_type": "markdown",
   "metadata": {},
   "source": [
    "# Zad.\n",
    "Zróbmy szybki preprocesing"
   ]
  },
  {
   "cell_type": "code",
   "metadata": {
    "ExecuteTime": {
     "end_time": "2024-06-07T01:02:18.090393Z",
     "start_time": "2024-06-07T01:02:17.784701Z"
    }
   },
   "source": [
    "dataset = pd.concat([train, test])\n",
    "\n",
    "dataset['wage_class'] = dataset.wage_class.replace({'<=50K.': 0, '<=50K': 0, '>50K.': 1, '>50K': 1})\n",
    "\n",
    "dataset.drop([\"fnlwgt\"], axis=1, inplace=True)\n",
    "dataset.drop([\"education\"], axis=1, inplace=True)\n",
    "\n",
    "x = dataset.groupby('native_country')[\"wage_class\"].mean()\n",
    "d = dict(pd.cut(x[x.index != \" United-States\"], 5, labels=range(5)))\n",
    "dataset['native_country'] = dataset['native_country'].replace(d)\n",
    "\n",
    "dataset = pd.get_dummies(dataset, drop_first=True)\n",
    "\n",
    "train = dataset.iloc[:train.shape[0]]\n",
    "test = dataset.iloc[train.shape[0]:]\n",
    "\n",
    "X_train = train.drop(\"wage_class\", axis=1)\n",
    "y_train = train.wage_class\n",
    "\n",
    "X_test = test.drop(\"wage_class\", axis=1)\n",
    "y_test = test.wage_class"
   ],
   "outputs": [],
   "execution_count": 4
  },
  {
   "cell_type": "markdown",
   "metadata": {},
   "source": [
    "# TensorBoard"
   ]
  },
  {
   "cell_type": "code",
   "metadata": {
    "ExecuteTime": {
     "end_time": "2024-06-07T01:02:18.102116Z",
     "start_time": "2024-06-07T01:02:18.095831Z"
    }
   },
   "source": [
    "root_logdir = os.path.join(os.curdir, \"my_logs\")"
   ],
   "outputs": [],
   "execution_count": 5
  },
  {
   "cell_type": "code",
   "metadata": {
    "ExecuteTime": {
     "end_time": "2024-06-07T01:02:18.127276Z",
     "start_time": "2024-06-07T01:02:18.105689Z"
    }
   },
   "source": [
    "def get_run_logdir():\n",
    "    run_id = time.strftime(\"run_%Y_%m_%d-%H_%M_%S\")\n",
    "    return os.path.join(root_logdir, run_id)\n",
    "\n",
    "\n",
    "run_logdir = get_run_logdir()\n",
    "run_logdir"
   ],
   "outputs": [
    {
     "data": {
      "text/plain": [
       "'./my_logs/run_2024_06_07-03_02_18'"
      ]
     },
     "execution_count": 6,
     "metadata": {},
     "output_type": "execute_result"
    }
   ],
   "execution_count": 6
  },
  {
   "cell_type": "code",
   "metadata": {
    "ExecuteTime": {
     "end_time": "2024-06-07T01:02:18.482912Z",
     "start_time": "2024-06-07T01:02:18.129586Z"
    }
   },
   "source": [
    "history = History()\n",
    "model = Sequential()\n",
    "model.add(Dense(100, activation=\"sigmoid\", input_shape=(X_train.shape[1],)))\n",
    "model.add(Dense(50, activation=\"sigmoid\"))\n",
    "model.add(Dense(10, activation=\"sigmoid\"))\n",
    "model.add(Dense(1, activation=\"sigmoid\"))\n",
    "model.summary()"
   ],
   "outputs": [
    {
     "name": "stderr",
     "output_type": "stream",
     "text": [
      "2024-06-07 03:02:18.140953: W tensorflow/compiler/xla/stream_executor/platform/default/dso_loader.cc:64] Could not load dynamic library 'libcuda.so.1'; dlerror: libcuda.so.1: cannot open shared object file: No such file or directory\n",
      "2024-06-07 03:02:18.141004: W tensorflow/compiler/xla/stream_executor/cuda/cuda_driver.cc:265] failed call to cuInit: UNKNOWN ERROR (303)\n",
      "2024-06-07 03:02:18.141038: I tensorflow/compiler/xla/stream_executor/cuda/cuda_diagnostics.cc:156] kernel driver does not appear to be running on this host (kjUbuntu): /proc/driver/nvidia/version does not exist\n",
      "2024-06-07 03:02:18.141450: I tensorflow/core/platform/cpu_feature_guard.cc:193] This TensorFlow binary is optimized with oneAPI Deep Neural Network Library (oneDNN) to use the following CPU instructions in performance-critical operations:  AVX2 FMA\n",
      "To enable them in other operations, rebuild TensorFlow with the appropriate compiler flags.\n"
     ]
    },
    {
     "name": "stdout",
     "output_type": "stream",
     "text": [
      "Model: \"sequential\"\n",
      "_________________________________________________________________\n",
      " Layer (type)                Output Shape              Param #   \n",
      "=================================================================\n",
      " dense (Dense)               (None, 100)               4200      \n",
      "                                                                 \n",
      " dense_1 (Dense)             (None, 50)                5050      \n",
      "                                                                 \n",
      " dense_2 (Dense)             (None, 10)                510       \n",
      "                                                                 \n",
      " dense_3 (Dense)             (None, 1)                 11        \n",
      "                                                                 \n",
      "=================================================================\n",
      "Total params: 9,771\n",
      "Trainable params: 9,771\n",
      "Non-trainable params: 0\n",
      "_________________________________________________________________\n"
     ]
    }
   ],
   "execution_count": 7
  },
  {
   "cell_type": "code",
   "metadata": {
    "ExecuteTime": {
     "end_time": "2024-06-07T01:02:18.517412Z",
     "start_time": "2024-06-07T01:02:18.486608Z"
    }
   },
   "source": "model.compile(loss=\"binary_crossentropy\", optimizer=\"Adam\", metrics=[\"accuracy\"])",
   "outputs": [],
   "execution_count": 8
  },
  {
   "cell_type": "code",
   "metadata": {
    "ExecuteTime": {
     "end_time": "2024-06-07T01:05:11.899826Z",
     "start_time": "2024-06-07T01:02:18.520474Z"
    }
   },
   "source": [
    "X_train = np.asarray(X_train).astype('float32')\n",
    "y_train = np.asarray(y_train).astype('float32')\n",
    "X_test = np.asarray(X_test).astype('float32')\n",
    "y_test = np.asarray(y_test).astype('float32')\n",
    "\n",
    "tensorboard_cb = TensorBoard(run_logdir)\n",
    "history = model.fit(X_train, y_train, epochs=30, validation_data=(X_test, y_test), callbacks=[tensorboard_cb])"
   ],
   "outputs": [
    {
     "name": "stdout",
     "output_type": "stream",
     "text": [
      "Epoch 1/30\n",
      "943/943 [==============================] - 8s 7ms/step - loss: 0.4326 - accuracy: 0.7914 - val_loss: 0.3917 - val_accuracy: 0.8068\n",
      "Epoch 2/30\n",
      "943/943 [==============================] - 7s 7ms/step - loss: 0.3769 - accuracy: 0.8130 - val_loss: 0.3716 - val_accuracy: 0.8139\n",
      "Epoch 3/30\n",
      "943/943 [==============================] - 6s 7ms/step - loss: 0.3737 - accuracy: 0.8133 - val_loss: 0.3699 - val_accuracy: 0.8177\n",
      "Epoch 4/30\n",
      "943/943 [==============================] - 6s 6ms/step - loss: 0.3713 - accuracy: 0.8158 - val_loss: 0.4049 - val_accuracy: 0.8039\n",
      "Epoch 5/30\n",
      "943/943 [==============================] - 6s 7ms/step - loss: 0.3697 - accuracy: 0.8144 - val_loss: 0.3685 - val_accuracy: 0.7936\n",
      "Epoch 6/30\n",
      "943/943 [==============================] - 6s 7ms/step - loss: 0.3686 - accuracy: 0.8133 - val_loss: 0.3721 - val_accuracy: 0.8070\n",
      "Epoch 7/30\n",
      "943/943 [==============================] - 6s 6ms/step - loss: 0.3679 - accuracy: 0.8177 - val_loss: 0.3631 - val_accuracy: 0.8210\n",
      "Epoch 8/30\n",
      "943/943 [==============================] - 6s 6ms/step - loss: 0.3653 - accuracy: 0.8174 - val_loss: 0.3671 - val_accuracy: 0.8131\n",
      "Epoch 9/30\n",
      "943/943 [==============================] - 6s 6ms/step - loss: 0.3661 - accuracy: 0.8152 - val_loss: 0.3733 - val_accuracy: 0.8126\n",
      "Epoch 10/30\n",
      "943/943 [==============================] - 6s 6ms/step - loss: 0.3658 - accuracy: 0.8169 - val_loss: 0.3648 - val_accuracy: 0.8138\n",
      "Epoch 11/30\n",
      "943/943 [==============================] - 6s 6ms/step - loss: 0.3630 - accuracy: 0.8169 - val_loss: 0.3639 - val_accuracy: 0.8156\n",
      "Epoch 12/30\n",
      "943/943 [==============================] - 6s 6ms/step - loss: 0.3652 - accuracy: 0.8151 - val_loss: 0.3625 - val_accuracy: 0.8153\n",
      "Epoch 13/30\n",
      "943/943 [==============================] - 6s 6ms/step - loss: 0.3653 - accuracy: 0.8163 - val_loss: 0.3625 - val_accuracy: 0.8173\n",
      "Epoch 14/30\n",
      "943/943 [==============================] - 6s 6ms/step - loss: 0.3623 - accuracy: 0.8190 - val_loss: 0.3625 - val_accuracy: 0.8147\n",
      "Epoch 15/30\n",
      "943/943 [==============================] - 6s 6ms/step - loss: 0.3641 - accuracy: 0.8164 - val_loss: 0.3723 - val_accuracy: 0.8075\n",
      "Epoch 16/30\n",
      "943/943 [==============================] - 6s 6ms/step - loss: 0.3632 - accuracy: 0.8160 - val_loss: 0.3640 - val_accuracy: 0.8139\n",
      "Epoch 17/30\n",
      "943/943 [==============================] - 5s 5ms/step - loss: 0.3640 - accuracy: 0.8178 - val_loss: 0.3611 - val_accuracy: 0.8193\n",
      "Epoch 18/30\n",
      "943/943 [==============================] - 6s 6ms/step - loss: 0.3643 - accuracy: 0.8161 - val_loss: 0.3886 - val_accuracy: 0.7990\n",
      "Epoch 19/30\n",
      "943/943 [==============================] - 6s 6ms/step - loss: 0.3654 - accuracy: 0.8158 - val_loss: 0.3651 - val_accuracy: 0.8176\n",
      "Epoch 20/30\n",
      "943/943 [==============================] - 6s 6ms/step - loss: 0.3658 - accuracy: 0.8143 - val_loss: 0.3638 - val_accuracy: 0.8154\n",
      "Epoch 21/30\n",
      "943/943 [==============================] - 5s 6ms/step - loss: 0.3664 - accuracy: 0.8141 - val_loss: 0.3635 - val_accuracy: 0.8160\n",
      "Epoch 22/30\n",
      "943/943 [==============================] - 6s 6ms/step - loss: 0.3640 - accuracy: 0.8153 - val_loss: 0.3637 - val_accuracy: 0.8174\n",
      "Epoch 23/30\n",
      "943/943 [==============================] - 6s 6ms/step - loss: 0.3626 - accuracy: 0.8171 - val_loss: 0.3631 - val_accuracy: 0.8152\n",
      "Epoch 24/30\n",
      "943/943 [==============================] - 6s 6ms/step - loss: 0.3632 - accuracy: 0.8168 - val_loss: 0.3629 - val_accuracy: 0.8179\n",
      "Epoch 25/30\n",
      "943/943 [==============================] - 6s 6ms/step - loss: 0.3638 - accuracy: 0.8143 - val_loss: 0.3627 - val_accuracy: 0.8179\n",
      "Epoch 26/30\n",
      "943/943 [==============================] - 5s 6ms/step - loss: 0.3616 - accuracy: 0.8150 - val_loss: 0.3618 - val_accuracy: 0.8165\n",
      "Epoch 27/30\n",
      "943/943 [==============================] - 5s 5ms/step - loss: 0.3617 - accuracy: 0.8191 - val_loss: 0.3710 - val_accuracy: 0.8111\n",
      "Epoch 28/30\n",
      "943/943 [==============================] - 5s 5ms/step - loss: 0.3623 - accuracy: 0.8154 - val_loss: 0.3651 - val_accuracy: 0.8143\n",
      "Epoch 29/30\n",
      "943/943 [==============================] - 5s 6ms/step - loss: 0.3601 - accuracy: 0.8186 - val_loss: 0.3628 - val_accuracy: 0.8188\n",
      "Epoch 30/30\n",
      "943/943 [==============================] - 5s 6ms/step - loss: 0.3605 - accuracy: 0.8191 - val_loss: 0.3612 - val_accuracy: 0.8181\n"
     ]
    }
   ],
   "execution_count": 9
  },
  {
   "cell_type": "markdown",
   "metadata": {},
   "source": [
    "o start the TensorBoard server, one option is to open a terminal, if needed activate the virtualenv where you installed TensorBoard, go to this notebook's directory, then type:\n",
    "\n",
    "```python\n",
    "$ tensorboard --logdir=./my_logs --port=6006\n",
    "```\n",
    "\n",
    "You can then open your web browser to localhost:6006 and use TensorBoard. Once you are done, press Ctrl-C in the terminal window, this will shutdown the TensorBoard server.\n",
    "\n",
    "Alternatively, you can load TensorBoard's Jupyter extension and run it like this:\n",
    "\n",
    "```python\n",
    "%load_ext tensorboard\n",
    "%tensorboard --logdir=./my_logs --port=6006\n",
    "```"
   ]
  },
  {
   "cell_type": "markdown",
   "metadata": {},
   "source": [
    "Gdyby nie działał tensorboard\n",
    "\n",
    "https://github.com/pytorch/pytorch/issues/22676\n",
    "```python\n",
    "pip uninstall tb-nightly tensorboardX tensorboard\n",
    "pip install tensorboard\n",
    "```"
   ]
  },
  {
   "cell_type": "markdown",
   "metadata": {},
   "source": [
    "# Zad\n",
    "\n",
    "* Naucz dowolny model na zbiorze MNIST.\n",
    "* Wyświetl krzywe uczenia w tensorboard"
   ]
  },
  {
   "metadata": {
    "ExecuteTime": {
     "end_time": "2024-06-07T01:05:12.397667Z",
     "start_time": "2024-06-07T01:05:11.903949Z"
    }
   },
   "cell_type": "code",
   "source": [
    "mnist = keras.datasets.mnist\n",
    "(X_train_full, y_train_full), (X_test, y_test) = mnist.load_data()\n",
    "X_train_full = X_train_full.astype(np.float32) / 255\n",
    "X_test = X_test.astype(np.float32) / 255\n",
    "X_valid, X_train = X_train_full[:5000], X_train_full[5000:]\n",
    "y_valid, y_train = y_train_full[:5000], y_train_full[5000:]"
   ],
   "outputs": [],
   "execution_count": 10
  },
  {
   "metadata": {
    "ExecuteTime": {
     "end_time": "2024-06-07T01:05:12.487Z",
     "start_time": "2024-06-07T01:05:12.399853Z"
    }
   },
   "cell_type": "code",
   "source": [
    "model = keras.models.Sequential([\n",
    "    keras.layers.Flatten(input_shape=[28, 28]),\n",
    "    keras.layers.Dense(300, activation=\"relu\"),\n",
    "    keras.layers.Dense(100, activation=\"relu\"),\n",
    "    keras.layers.Dense(10, activation=\"softmax\")\n",
    "])\n",
    "model.compile(loss=\"sparse_categorical_crossentropy\",\n",
    "              optimizer=\"sgd\",\n",
    "              metrics=[\"accuracy\"])"
   ],
   "outputs": [],
   "execution_count": 11
  },
  {
   "metadata": {
    "ExecuteTime": {
     "end_time": "2024-06-07T01:05:12.493946Z",
     "start_time": "2024-06-07T01:05:12.488910Z"
    }
   },
   "cell_type": "code",
   "source": "root_logdir = os.path.join(os.curdir, \"my_logs_mnist\")",
   "outputs": [],
   "execution_count": 12
  },
  {
   "metadata": {
    "ExecuteTime": {
     "end_time": "2024-06-07T01:10:39.144306Z",
     "start_time": "2024-06-07T01:05:12.496549Z"
    }
   },
   "cell_type": "code",
   "source": [
    "tensorboard_cb = TensorBoard(run_logdir)\n",
    "\n",
    "history = model.fit(X_train, y_train, epochs=30,\n",
    "                    validation_data=(X_valid, y_valid),\n",
    "                    callbacks=[tensorboard_cb])\n"
   ],
   "outputs": [
    {
     "name": "stdout",
     "output_type": "stream",
     "text": [
      "Epoch 1/30\n"
     ]
    },
    {
     "name": "stderr",
     "output_type": "stream",
     "text": [
      "2024-06-07 03:05:12.505401: W tensorflow/tsl/framework/cpu_allocator_impl.cc:82] Allocation of 172480000 exceeds 10% of free system memory.\n"
     ]
    },
    {
     "name": "stdout",
     "output_type": "stream",
     "text": [
      "1719/1719 [==============================] - 13s 7ms/step - loss: 0.5912 - accuracy: 0.8489 - val_loss: 0.3064 - val_accuracy: 0.9166\n",
      "Epoch 2/30\n",
      "1719/1719 [==============================] - 13s 8ms/step - loss: 0.2875 - accuracy: 0.9184 - val_loss: 0.2460 - val_accuracy: 0.9304\n",
      "Epoch 3/30\n",
      "1719/1719 [==============================] - 12s 7ms/step - loss: 0.2373 - accuracy: 0.9324 - val_loss: 0.2049 - val_accuracy: 0.9424\n",
      "Epoch 4/30\n",
      "1719/1719 [==============================] - 14s 8ms/step - loss: 0.2028 - accuracy: 0.9429 - val_loss: 0.1808 - val_accuracy: 0.9480\n",
      "Epoch 5/30\n",
      "1719/1719 [==============================] - 12s 7ms/step - loss: 0.1770 - accuracy: 0.9503 - val_loss: 0.1621 - val_accuracy: 0.9546\n",
      "Epoch 6/30\n",
      "1719/1719 [==============================] - 12s 7ms/step - loss: 0.1570 - accuracy: 0.9564 - val_loss: 0.1472 - val_accuracy: 0.9604\n",
      "Epoch 7/30\n",
      "1719/1719 [==============================] - 12s 7ms/step - loss: 0.1407 - accuracy: 0.9604 - val_loss: 0.1369 - val_accuracy: 0.9620\n",
      "Epoch 8/30\n",
      "1719/1719 [==============================] - 11s 6ms/step - loss: 0.1274 - accuracy: 0.9639 - val_loss: 0.1286 - val_accuracy: 0.9662\n",
      "Epoch 9/30\n",
      "1719/1719 [==============================] - 11s 6ms/step - loss: 0.1161 - accuracy: 0.9670 - val_loss: 0.1185 - val_accuracy: 0.9688\n",
      "Epoch 10/30\n",
      "1719/1719 [==============================] - 11s 6ms/step - loss: 0.1067 - accuracy: 0.9701 - val_loss: 0.1091 - val_accuracy: 0.9714\n",
      "Epoch 11/30\n",
      "1719/1719 [==============================] - 10s 6ms/step - loss: 0.0979 - accuracy: 0.9725 - val_loss: 0.1061 - val_accuracy: 0.9708\n",
      "Epoch 12/30\n",
      "1719/1719 [==============================] - 10s 6ms/step - loss: 0.0903 - accuracy: 0.9752 - val_loss: 0.1006 - val_accuracy: 0.9714\n",
      "Epoch 13/30\n",
      "1719/1719 [==============================] - 10s 6ms/step - loss: 0.0836 - accuracy: 0.9766 - val_loss: 0.0952 - val_accuracy: 0.9746\n",
      "Epoch 14/30\n",
      "1719/1719 [==============================] - 10s 6ms/step - loss: 0.0775 - accuracy: 0.9788 - val_loss: 0.0920 - val_accuracy: 0.9744\n",
      "Epoch 15/30\n",
      "1719/1719 [==============================] - 10s 6ms/step - loss: 0.0720 - accuracy: 0.9800 - val_loss: 0.0876 - val_accuracy: 0.9748\n",
      "Epoch 16/30\n",
      "1719/1719 [==============================] - 9s 5ms/step - loss: 0.0672 - accuracy: 0.9814 - val_loss: 0.0867 - val_accuracy: 0.9742\n",
      "Epoch 17/30\n",
      "1719/1719 [==============================] - 10s 6ms/step - loss: 0.0626 - accuracy: 0.9831 - val_loss: 0.0843 - val_accuracy: 0.9762\n",
      "Epoch 18/30\n",
      "1719/1719 [==============================] - 9s 5ms/step - loss: 0.0585 - accuracy: 0.9844 - val_loss: 0.0803 - val_accuracy: 0.9772\n",
      "Epoch 19/30\n",
      "1719/1719 [==============================] - 9s 5ms/step - loss: 0.0551 - accuracy: 0.9849 - val_loss: 0.0776 - val_accuracy: 0.9782\n",
      "Epoch 20/30\n",
      "1719/1719 [==============================] - 9s 5ms/step - loss: 0.0516 - accuracy: 0.9865 - val_loss: 0.0786 - val_accuracy: 0.9780\n",
      "Epoch 21/30\n",
      "1719/1719 [==============================] - 9s 5ms/step - loss: 0.0485 - accuracy: 0.9873 - val_loss: 0.0733 - val_accuracy: 0.9786\n",
      "Epoch 22/30\n",
      "1719/1719 [==============================] - 10s 6ms/step - loss: 0.0457 - accuracy: 0.9882 - val_loss: 0.0743 - val_accuracy: 0.9786\n",
      "Epoch 23/30\n",
      "1719/1719 [==============================] - 9s 5ms/step - loss: 0.0428 - accuracy: 0.9890 - val_loss: 0.0759 - val_accuracy: 0.9770\n",
      "Epoch 24/30\n",
      "1719/1719 [==============================] - 10s 6ms/step - loss: 0.0402 - accuracy: 0.9900 - val_loss: 0.0723 - val_accuracy: 0.9800\n",
      "Epoch 25/30\n",
      "1719/1719 [==============================] - 12s 7ms/step - loss: 0.0381 - accuracy: 0.9904 - val_loss: 0.0697 - val_accuracy: 0.9790\n",
      "Epoch 26/30\n",
      "1719/1719 [==============================] - 10s 6ms/step - loss: 0.0357 - accuracy: 0.9911 - val_loss: 0.0678 - val_accuracy: 0.9810\n",
      "Epoch 27/30\n",
      "1719/1719 [==============================] - 15s 9ms/step - loss: 0.0339 - accuracy: 0.9917 - val_loss: 0.0669 - val_accuracy: 0.9822\n",
      "Epoch 28/30\n",
      "1719/1719 [==============================] - 12s 7ms/step - loss: 0.0321 - accuracy: 0.9921 - val_loss: 0.0685 - val_accuracy: 0.9800\n",
      "Epoch 29/30\n",
      "1719/1719 [==============================] - 10s 6ms/step - loss: 0.0299 - accuracy: 0.9928 - val_loss: 0.0674 - val_accuracy: 0.9810\n",
      "Epoch 30/30\n",
      "1719/1719 [==============================] - 12s 7ms/step - loss: 0.0284 - accuracy: 0.9935 - val_loss: 0.0685 - val_accuracy: 0.9798\n"
     ]
    }
   ],
   "execution_count": 13
  },
  {
   "metadata": {},
   "cell_type": "markdown",
   "source": [
    "```\n",
    "$ tensorboard --logdir=./my_logs --port=6006\n",
    "```"
   ]
  }
 ],
 "metadata": {
  "kernelspec": {
   "display_name": "Python 3 (ipykernel)",
   "language": "python",
   "name": "python3"
  },
  "language_info": {
   "codemirror_mode": {
    "name": "ipython",
    "version": 3
   },
   "file_extension": ".py",
   "mimetype": "text/x-python",
   "name": "python",
   "nbconvert_exporter": "python",
   "pygments_lexer": "ipython3",
   "version": "3.10.13"
  }
 },
 "nbformat": 4,
 "nbformat_minor": 4
}
