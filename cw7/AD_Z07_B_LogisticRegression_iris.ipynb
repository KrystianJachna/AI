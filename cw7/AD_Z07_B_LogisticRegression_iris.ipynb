{
 "cells": [
  {
   "cell_type": "code",
   "metadata": {
    "ExecuteTime": {
     "end_time": "2024-04-26T12:32:09.138883Z",
     "start_time": "2024-04-26T12:31:54.334565Z"
    }
   },
   "source": [
    "import numpy as np\n",
    "import pandas as pd\n",
    "import matplotlib.pyplot as plt\n",
    "from sklearn import metrics\n",
    "from sklearn import datasets\n",
    "from sklearn.linear_model import LogisticRegression\n",
    "from mlxtend.plotting import plot_decision_regions\n",
    "from sklearn.metrics import accuracy_score\n",
    "from sklearn.model_selection import train_test_split"
   ],
   "execution_count": 1,
   "outputs": []
  },
  {
   "cell_type": "markdown",
   "metadata": {},
   "source": [
    "# Logistic Regression\n",
    "\n",
    "Podobnie jak w modelu regresji liniowej, model **regresji logistycznej** oblicza ważoną sumę elementów wejściowych (plus wartość odchylenia -- bias), ale zamiast wyświetlać wynik bezpośrednio, jak ma to miejsce w przypadku modelu regresji liniowej, zwraca **logistic** tego wyniku.\n"
   ]
  },
  {
   "cell_type": "code",
   "metadata": {
    "ExecuteTime": {
     "end_time": "2024-04-26T12:32:09.172905Z",
     "start_time": "2024-04-26T12:32:09.142663Z"
    }
   },
   "source": [
    "iris = datasets.load_iris()\n",
    "list(iris.keys())"
   ],
   "execution_count": 2,
   "outputs": []
  },
  {
   "cell_type": "code",
   "metadata": {
    "ExecuteTime": {
     "end_time": "2024-04-26T12:32:09.180442Z",
     "start_time": "2024-04-26T12:32:09.172905Z"
    }
   },
   "source": "print(iris.DESCR)",
   "execution_count": 3,
   "outputs": []
  },
  {
   "cell_type": "markdown",
   "metadata": {},
   "source": [
    "# 1D - example\n",
    "\n",
    "Spróbujmy zbudować klasyfikator wykrywający typ Iris-Virginica oparty tylko na funkcji szerokości płatka (jedna wspórzędna)."
   ]
  },
  {
   "cell_type": "code",
   "metadata": {
    "ExecuteTime": {
     "end_time": "2024-04-26T12:32:09.195840Z",
     "start_time": "2024-04-26T12:32:09.181630Z"
    }
   },
   "source": [
    "X = iris[\"data\"][:, 3:]                         # petal width\n",
    "y = (iris[\"target\"] == 2).astype(np.int32)      # 1 if Iris-Virginica, else 0"
   ],
   "execution_count": 4,
   "outputs": []
  },
  {
   "cell_type": "code",
   "metadata": {
    "ExecuteTime": {
     "end_time": "2024-04-26T12:32:09.685984Z",
     "start_time": "2024-04-26T12:32:09.195840Z"
    }
   },
   "source": [
    "plt.hist(X[y==0, :], label=\"Not-Iris-Virginica\")\n",
    "plt.hist(X[y==1, :], label=\"Iris-Virginica\")\n",
    "plt.xlim(0,3)\n",
    "plt.legend()\n",
    "plt.show()"
   ],
   "execution_count": 5,
   "outputs": []
  },
  {
   "cell_type": "code",
   "metadata": {
    "ExecuteTime": {
     "end_time": "2024-04-26T12:32:09.734706Z",
     "start_time": "2024-04-26T12:32:09.685984Z"
    }
   },
   "source": [
    "log_reg = LogisticRegression(random_state=42)\n",
    "log_reg.fit(X, y)"
   ],
   "execution_count": 6,
   "outputs": []
  },
  {
   "cell_type": "code",
   "metadata": {
    "ExecuteTime": {
     "end_time": "2024-04-26T12:32:09.750006Z",
     "start_time": "2024-04-26T12:32:09.734706Z"
    }
   },
   "source": [
    "X_new = np.linspace(0, 3, 1000).reshape(-1, 1)\n",
    "y_proba = log_reg.predict_proba(X_new)\n",
    "\n",
    "y_proba.shape"
   ],
   "execution_count": 7,
   "outputs": []
  },
  {
   "cell_type": "code",
   "metadata": {
    "ExecuteTime": {
     "end_time": "2024-04-26T12:32:10.005690Z",
     "start_time": "2024-04-26T12:32:09.750006Z"
    }
   },
   "source": [
    "plt.plot(X_new, y_proba[:, 1], \"g-\", linewidth=2, label=\"Iris-Virginica\")\n",
    "plt.plot(X_new, y_proba[:, 0], \"b--\", linewidth=2, label=\"Not Iris-Virginica\")\n",
    "plt.xlim(0,3)\n",
    "plt.legend()\n",
    "plt.show()"
   ],
   "execution_count": 8,
   "outputs": []
  },
  {
   "cell_type": "code",
   "metadata": {
    "ExecuteTime": {
     "end_time": "2024-04-26T12:32:10.288213Z",
     "start_time": "2024-04-26T12:32:10.005690Z"
    }
   },
   "source": [
    "X_new = np.linspace(0, 3, 1000).reshape(-1, 1)\n",
    "y_proba = log_reg.predict_proba(X_new)\n",
    "decision_boundary = X_new[y_proba[:, 1] >= 0.5][0]\n",
    "\n",
    "plt.figure(figsize=(8, 3))\n",
    "plt.plot(X[y==0], y[y==0], \"bs\")\n",
    "plt.plot(X[y==1], y[y==1], \"g^\")\n",
    "plt.plot([decision_boundary, decision_boundary], [-1, 2], \"k:\", linewidth=2)\n",
    "plt.plot(X_new, y_proba[:, 1], \"g-\", linewidth=2, label=\"Iris-Virginica\")\n",
    "plt.plot(X_new, y_proba[:, 0], \"b--\", linewidth=2, label=\"Not Iris-Virginica\")\n",
    "plt.text(decision_boundary+0.02, 0.15, \"Decision  boundary\", fontsize=14, color=\"k\", ha=\"center\")\n",
    "#plt.arrow(decision_boundary, 0.08, -0.3, 0, head_width=0.05, head_length=0.1, fc='b', ec='b')\n",
    "#plt.arrow(decision_boundary, 0.92, 0.3, 0, head_width=0.05, head_length=0.1, fc='g', ec='g')\n",
    "plt.xlabel(\"Petal width (cm)\", fontsize=14)\n",
    "plt.ylabel(\"Probability\", fontsize=14)\n",
    "plt.legend(loc=\"center left\", fontsize=14)\n",
    "plt.axis([0, 3, -0.02, 1.02])\n",
    "plt.show()"
   ],
   "execution_count": 9,
   "outputs": []
  },
  {
   "cell_type": "code",
   "metadata": {
    "ExecuteTime": {
     "end_time": "2024-04-26T12:32:10.298555Z",
     "start_time": "2024-04-26T12:32:10.288213Z"
    }
   },
   "source": [
    "decision_boundary"
   ],
   "execution_count": 10,
   "outputs": []
  },
  {
   "cell_type": "code",
   "metadata": {
    "ExecuteTime": {
     "end_time": "2024-04-26T12:32:10.315593Z",
     "start_time": "2024-04-26T12:32:10.298555Z"
    }
   },
   "source": [
    "log_reg.predict([[1.7], [1.5]])"
   ],
   "execution_count": 11,
   "outputs": []
  },
  {
   "cell_type": "markdown",
   "metadata": {},
   "source": [
    "# Example 2D"
   ]
  },
  {
   "cell_type": "code",
   "metadata": {
    "ExecuteTime": {
     "end_time": "2024-04-26T12:32:10.328250Z",
     "start_time": "2024-04-26T12:32:10.315593Z"
    }
   },
   "source": [
    "X = iris[\"data\"][:, (2, 3)]  # petal length, petal width\n",
    "y = (iris[\"target\"] == 2).astype(np.int32)"
   ],
   "execution_count": 12,
   "outputs": []
  },
  {
   "cell_type": "code",
   "metadata": {
    "ExecuteTime": {
     "end_time": "2024-04-26T12:32:10.565967Z",
     "start_time": "2024-04-26T12:32:10.328250Z"
    }
   },
   "source": [
    "plt.figure(figsize=(10, 4))\n",
    "plt.scatter(X[:, 0], X[:, 1], c=y)\n",
    "plt.axis([2.9, 7, 0.8, 2.7])\n",
    "plt.show()"
   ],
   "execution_count": 13,
   "outputs": []
  },
  {
   "cell_type": "code",
   "metadata": {
    "ExecuteTime": {
     "end_time": "2024-04-26T12:32:10.617073Z",
     "start_time": "2024-04-26T12:32:10.565967Z"
    }
   },
   "source": [
    "#log_reg = LogisticRegression(C=10**10, random_state=42)\n",
    "log_reg = LogisticRegression(penalty=None, random_state=42)\n",
    "log_reg.fit(X, y)"
   ],
   "execution_count": 14,
   "outputs": []
  },
  {
   "cell_type": "code",
   "metadata": {
    "ExecuteTime": {
     "end_time": "2024-04-26T12:32:11.126373Z",
     "start_time": "2024-04-26T12:32:10.617073Z"
    }
   },
   "source": [
    "x0, x1 = np.meshgrid(\n",
    "        np.linspace(2.9, 7, 500).reshape(-1, 1),\n",
    "        np.linspace(0.8, 2.7, 200).reshape(-1, 1),\n",
    "    )\n",
    "X_new = np.c_[x0.ravel(), x1.ravel()]\n",
    "\n",
    "y_proba = log_reg.predict_proba(X_new)\n",
    "\n",
    "plt.figure(figsize=(10, 4))\n",
    "plt.plot(X[y==0, 0], X[y==0, 1], \"bs\")\n",
    "plt.plot(X[y==1, 0], X[y==1, 1], \"g^\")\n",
    "\n",
    "zz = y_proba[:, 1].reshape(x0.shape)\n",
    "contour = plt.contour(x0, x1, zz, cmap=plt.cm.brg)\n",
    "\n",
    "\n",
    "left_right = np.array([2.9, 7])\n",
    "boundary = -(log_reg.coef_[0][0] * left_right + log_reg.intercept_[0]) / log_reg.coef_[0][1]\n",
    "\n",
    "plt.clabel(contour, inline=1, fontsize=12)\n",
    "plt.plot(left_right, boundary, \"k--\", linewidth=3)\n",
    "plt.text(3.5, 1.5, \"Not Iris-Virginica\", fontsize=14, color=\"b\", ha=\"center\")\n",
    "plt.text(6.5, 2.3, \"Iris-Virginica\", fontsize=14, color=\"g\", ha=\"center\")\n",
    "plt.xlabel(\"Petal length\", fontsize=14)\n",
    "plt.ylabel(\"Petal width\", fontsize=14)\n",
    "plt.axis([2.9, 7, 0.8, 2.7])\n",
    "plt.show()"
   ],
   "execution_count": 15,
   "outputs": []
  },
  {
   "cell_type": "code",
   "metadata": {
    "ExecuteTime": {
     "end_time": "2024-04-26T12:32:11.556294Z",
     "start_time": "2024-04-26T12:32:11.126373Z"
    }
   },
   "source": [
    "plt.figure(figsize=(10, 4))\n",
    "plot_decision_regions(X, y, clf=log_reg)\n",
    "plt.xlabel('petal length [standardized]')\n",
    "plt.ylabel('petal width [standardized]')\n",
    "plt.legend(loc='upper left')\n",
    "plt.axis([2.9, 7, 0.8, 2.7])\n",
    "plt.show()"
   ],
   "execution_count": 16,
   "outputs": []
  },
  {
   "cell_type": "code",
   "metadata": {
    "ExecuteTime": {
     "end_time": "2024-04-26T12:32:11.567229Z",
     "start_time": "2024-04-26T12:32:11.557695Z"
    }
   },
   "source": "accuracy_score(log_reg.predict(X),y)",
   "execution_count": 17,
   "outputs": []
  },
  {
   "cell_type": "markdown",
   "metadata": {},
   "source": [
    "# Zad \n",
    "Wykonaj powyższą procedurę dla danych 2D dziląc zbiór danych na trin/test.\n"
   ]
  },
  {
   "cell_type": "code",
   "metadata": {
    "ExecuteTime": {
     "end_time": "2024-04-26T12:32:11.589184Z",
     "start_time": "2024-04-26T12:32:11.569315Z"
    }
   },
   "source": "X_train, X_test , y_train, y_test = train_test_split(X,y,test_size=0.20)",
   "execution_count": 18,
   "outputs": []
  },
  {
   "cell_type": "code",
   "metadata": {
    "collapsed": true,
    "jupyter": {
     "outputs_hidden": true
    },
    "ExecuteTime": {
     "end_time": "2024-04-26T12:32:11.611339Z",
     "start_time": "2024-04-26T12:32:11.589184Z"
    }
   },
   "source": [
    "log_reg = LogisticRegression(penalty=None, random_state=42)\n",
    "log_reg.fit(X_train, y_train)"
   ],
   "execution_count": 19,
   "outputs": []
  },
  {
   "metadata": {
    "ExecuteTime": {
     "end_time": "2024-04-26T12:32:12.124116Z",
     "start_time": "2024-04-26T12:32:11.611339Z"
    }
   },
   "cell_type": "code",
   "source": [
    "plt.figure(figsize=(10, 4))\n",
    "plot_decision_regions(X_train, y_train, clf=log_reg)\n",
    "plt.xlabel('petal length [standardized]')\n",
    "plt.ylabel('petal width [standardized]')\n",
    "plt.legend(loc='upper left')\n",
    "plt.axis([2.9, 7, 0.8, 2.7])\n",
    "plt.plot(X_test[y_test==0, 0], X_test[y_test==0, 1], \"bs\", label='0 test')\n",
    "plt.plot(X_test[y_test==1, 0], X_test[y_test==1, 1], \"r^\", label='1 test')\n",
    "plt.title(f\"Accuracy score ~ {accuracy_score(log_reg.predict(X_test),y_test):.2}\")\n",
    "plt.legend()\n",
    "plt.show()"
   ],
   "execution_count": 20,
   "outputs": []
  }
 ],
 "metadata": {
  "kernelspec": {
   "display_name": "Python 3 (ipykernel)",
   "language": "python",
   "name": "python3"
  },
  "language_info": {
   "codemirror_mode": {
    "name": "ipython",
    "version": 3
   },
   "file_extension": ".py",
   "mimetype": "text/x-python",
   "name": "python",
   "nbconvert_exporter": "python",
   "pygments_lexer": "ipython3",
   "version": "3.10.13"
  }
 },
 "nbformat": 4,
 "nbformat_minor": 4
}
