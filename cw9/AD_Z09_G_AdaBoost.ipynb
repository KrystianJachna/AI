{
 "cells": [
  {
   "cell_type": "code",
   "metadata": {
    "ExecuteTime": {
     "end_time": "2024-05-11T22:56:00.280401Z",
     "start_time": "2024-05-11T22:56:00.275201Z"
    }
   },
   "source": [
    "\n",
    "import warnings\n",
    "\n",
    "import matplotlib.pyplot as plt\n",
    "from mlxtend.plotting import plot_decision_regions\n",
    "from sklearn.datasets import make_moons\n",
    "from sklearn.ensemble import AdaBoostClassifier\n",
    "from sklearn.model_selection import train_test_split\n",
    "from sklearn.tree import DecisionTreeClassifier\n"
   ],
   "execution_count": 14,
   "outputs": []
  },
  {
   "cell_type": "markdown",
   "metadata": {},
   "source": [
    "# AdaBoost"
   ]
  },
  {
   "cell_type": "code",
   "metadata": {
    "ExecuteTime": {
     "end_time": "2024-05-11T22:53:53.689642Z",
     "start_time": "2024-05-11T22:53:53.669326Z"
    }
   },
   "source": [
    "X, y = make_moons(n_samples=500, noise=0.30, random_state=42)\n",
    "X_train, X_test, y_train, y_test = train_test_split(X, y, random_state=42)"
   ],
   "execution_count": 4,
   "outputs": []
  },
  {
   "cell_type": "code",
   "metadata": {
    "ExecuteTime": {
     "end_time": "2024-05-11T22:54:17.239608Z",
     "start_time": "2024-05-11T22:54:16.760187Z"
    }
   },
   "source": [
    "plt.scatter(X[:, 0], X[:, 1], c=y)\n",
    "plt.show()"
   ],
   "execution_count": 8,
   "outputs": []
  },
  {
   "cell_type": "code",
   "metadata": {
    "ExecuteTime": {
     "end_time": "2024-05-11T22:54:26.958635Z",
     "start_time": "2024-05-11T22:54:26.918336Z"
    }
   },
   "source": [
    "ada_clf = AdaBoostClassifier(\n",
    "    DecisionTreeClassifier(max_depth=1),\n",
    "    n_estimators=1, learning_rate=0.5,\n",
    "    algorithm=\"SAMME.R\", random_state=42)\n",
    "ada_clf.fit(X_train, y_train)"
   ],
   "execution_count": 9,
   "outputs": []
  },
  {
   "cell_type": "code",
   "metadata": {
    "ExecuteTime": {
     "end_time": "2024-05-11T22:54:38.935614Z",
     "start_time": "2024-05-11T22:54:38.512978Z"
    }
   },
   "source": [
    "plot_decision_regions(X, y, ada_clf)\n",
    "plt.show()"
   ],
   "execution_count": 10,
   "outputs": []
  },
  {
   "cell_type": "markdown",
   "metadata": {},
   "source": [
    "# Zad.\n",
    "\n",
    "Sprawdż różne parametry dla AdaBoostClassifier\n",
    "\n",
    "* n_estimators=2, learning_rate=0.5\n",
    "* n_estimators=2, learning_rate=1\n",
    "* n_estimators=10, learning_rate=0.5\n",
    "* n_estimators=10, learning_rate=1"
   ]
  },
  {
   "cell_type": "code",
   "metadata": {
    "ExecuteTime": {
     "end_time": "2024-05-11T22:55:25.786852Z",
     "start_time": "2024-05-11T22:55:25.777146Z"
    }
   },
   "source": [
    "params = [\n",
    "    (2, 0.5),\n",
    "    (2, 1),\n",
    "    (10, 0.5),\n",
    "    (10, 1)\n",
    "]"
   ],
   "execution_count": 12,
   "outputs": []
  },
  {
   "cell_type": "code",
   "metadata": {
    "collapsed": true,
    "jupyter": {
     "outputs_hidden": true
    },
    "ExecuteTime": {
     "end_time": "2024-05-11T22:56:08.294672Z",
     "start_time": "2024-05-11T22:56:03.921807Z"
    }
   },
   "source": [
    "fig, axs = plt.subplots(2, 2, figsize=(10, 10))\n",
    "\n",
    "for (n_estimators, learning_rate), ax in zip(params, axs.flatten()):\n",
    "    with warnings.catch_warnings():\n",
    "        warnings.simplefilter(\"ignore\")\n",
    "        ada_clf = AdaBoostClassifier(\n",
    "            DecisionTreeClassifier(max_depth=1),\n",
    "            n_estimators=n_estimators, learning_rate=learning_rate,\n",
    "            algorithm=\"SAMME.R\", random_state=42)\n",
    "        ada_clf.fit(X_train, y_train)\n",
    "    plot_decision_regions(X, y, ada_clf, ax=ax)\n",
    "    ax.set_title(f\"n_estimators={n_estimators}, learning_rate={learning_rate}\")"
   ],
   "execution_count": 15,
   "outputs": []
  }
 ],
 "metadata": {
  "kernelspec": {
   "display_name": "Python 3 (ipykernel)",
   "language": "python",
   "name": "python3"
  },
  "language_info": {
   "codemirror_mode": {
    "name": "ipython",
    "version": 3
   },
   "file_extension": ".py",
   "mimetype": "text/x-python",
   "name": "python",
   "nbconvert_exporter": "python",
   "pygments_lexer": "ipython3",
   "version": "3.8.10"
  }
 },
 "nbformat": 4,
 "nbformat_minor": 4
}
