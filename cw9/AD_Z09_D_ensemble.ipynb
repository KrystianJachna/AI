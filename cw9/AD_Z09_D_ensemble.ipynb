{
 "cells": [
  {
   "cell_type": "code",
   "metadata": {
    "ExecuteTime": {
     "end_time": "2024-05-11T21:55:57.158309Z",
     "start_time": "2024-05-11T21:55:57.146803Z"
    }
   },
   "source": [
    "import numpy as np\n",
    "import pandas as pd\n",
    "import matplotlib.pyplot as plt\n",
    "from sklearn.model_selection import train_test_split\n",
    "from sklearn.datasets import make_moons\n",
    "from mlxtend.plotting import plot_decision_regions\n",
    "from sklearn.ensemble import BaggingClassifier\n",
    "from sklearn.tree import DecisionTreeClassifier\n",
    "from sklearn.metrics import accuracy_score"
   ],
   "execution_count": 7,
   "outputs": []
  },
  {
   "cell_type": "markdown",
   "metadata": {},
   "source": [
    "# Bagging and Pasting"
   ]
  },
  {
   "cell_type": "code",
   "metadata": {
    "ExecuteTime": {
     "end_time": "2024-05-11T21:49:30.802477Z",
     "start_time": "2024-05-11T21:49:30.784398Z"
    }
   },
   "source": [
    "X, y = make_moons(n_samples=500, noise=0.30, random_state=42)\n",
    "X_train, X_test, y_train, y_test = train_test_split(X, y, random_state=42)"
   ],
   "execution_count": 2,
   "outputs": []
  },
  {
   "cell_type": "code",
   "metadata": {
    "ExecuteTime": {
     "end_time": "2024-05-11T21:49:31.710807Z",
     "start_time": "2024-05-11T21:49:31.354596Z"
    }
   },
   "source": [
    "plt.scatter(X_train[:, 0], X_train[:, 1], c=y_train)\n",
    "plt.show()"
   ],
   "execution_count": 3,
   "outputs": []
  },
  {
   "cell_type": "code",
   "metadata": {
    "ExecuteTime": {
     "end_time": "2024-05-11T21:49:34.350760Z",
     "start_time": "2024-05-11T21:49:33.942222Z"
    }
   },
   "source": [
    "plt.hist(y_train)\n",
    "plt.hist(y_test)\n",
    "plt.show()"
   ],
   "execution_count": 4,
   "outputs": []
  },
  {
   "cell_type": "markdown",
   "metadata": {},
   "source": [
    "* Scikit-Learn oferuje prosty interfejs API do **bagging** i **pasting** . \n",
    "\n",
    "* Poniższy kod uczy zespół złożony z 500 drzewa decyzyjnego, z które zostało nauczonych na 100 elementach ze zbioru uczącego losowo pobranych z zestawu treningowego ze zwracaniem \n",
    "\n",
    "* Jest to przykład **bagging**, ale jeśli chcesz użyć **pasting** zamiast tego, po prostu ustaw **bootstrap=False**. \n",
    "\n",
    "* Parametr **n_jobs** mówi Scikit-Learn ile rdzeni procesora można użyć do treningu i prognoz (-1 mówi Scikit-Learn, aby używać wszystkich dostępnych rdzeni):"
   ]
  },
  {
   "cell_type": "code",
   "metadata": {
    "ExecuteTime": {
     "end_time": "2024-05-11T21:50:07.704483Z",
     "start_time": "2024-05-11T21:50:04.761235Z"
    }
   },
   "source": [
    "bag_clf = BaggingClassifier(\n",
    "    DecisionTreeClassifier(random_state=42), n_estimators=500,\n",
    "    max_samples=100, bootstrap=True, n_jobs=-1, random_state=42)\n",
    "bag_clf.fit(X_train, y_train)\n",
    "y_pred = bag_clf.predict(X_test)"
   ],
   "execution_count": 6,
   "outputs": []
  },
  {
   "cell_type": "markdown",
   "metadata": {},
   "source": [
    "The BaggingClassifier automatycznie wykonuje miękkie głosowanie zamiast twardego, jeśli klasyfikator bazowy może oszacować prawdopodobieństwa klasy (tj. jeśli ma metodę **predict_proba()**), co ma miejsce w przypadku klasyfikatorów Decision Trees."
   ]
  },
  {
   "cell_type": "code",
   "metadata": {
    "ExecuteTime": {
     "end_time": "2024-05-11T21:56:02.438075Z",
     "start_time": "2024-05-11T21:56:02.422736Z"
    }
   },
   "source": "print(accuracy_score(y_test, y_pred))",
   "execution_count": 8,
   "outputs": []
  },
  {
   "cell_type": "code",
   "metadata": {
    "ExecuteTime": {
     "end_time": "2024-05-11T21:56:05.440091Z",
     "start_time": "2024-05-11T21:56:05.416942Z"
    }
   },
   "source": [
    "tree_clf = DecisionTreeClassifier(random_state=42)\n",
    "tree_clf.fit(X_train, y_train)\n",
    "y_pred_tree = tree_clf.predict(X_test)\n",
    "print(accuracy_score(y_test, y_pred_tree))"
   ],
   "execution_count": 9,
   "outputs": []
  },
  {
   "cell_type": "markdown",
   "metadata": {},
   "source": [
    "# Zad. \n",
    "\n",
    "Narysuj wynik dla\n",
    "\n",
    "* BaggingClassifier\n",
    "* DecisionTreeClassifier"
   ]
  },
  {
   "cell_type": "code",
   "metadata": {
    "collapsed": true,
    "jupyter": {
     "outputs_hidden": true
    },
    "scrolled": true,
    "ExecuteTime": {
     "end_time": "2024-05-11T21:56:49.652565Z",
     "start_time": "2024-05-11T21:56:41.694428Z"
    }
   },
   "source": [
    "fig, axes = plt.subplots(2, figsize=(10, 8))\n",
    "\n",
    "for clf, ax in zip([bag_clf, tree_clf], axes.flatten()):\n",
    "    plot_decision_regions(X, y, clf, legend=2, ax=ax)\n",
    "    ax.set_title(clf.__class__.__name__)"
   ],
   "execution_count": 10,
   "outputs": []
  },
  {
   "cell_type": "markdown",
   "metadata": {},
   "source": [
    "# Out-of-Bag Evaluation\n",
    "\n",
    "* W przypadku metody **bagging** niektóre przykłady mogą być próbkowane kilka razy dla dowolnego predyktora  podczas gdy inne mogą nie być próbkowane w ogóle. \n",
    "\n",
    "* Domyślnie BaggingClassifier pobiera próbki ze zwracaniem (**bootstrap = True**), gdzie $m$ jest rozmiarem zestawu treningowego. \n",
    "\n",
    "* Oznacza to, że tylko około 63% instancji szkoleniowych jest próbkowanych średnio dla każdego z predyktorów. \n",
    "\n",
    "* Pozostałe 37% instancji szkoleniowych, które nie są próbkowane, nazywane są instancjami **out-of-bag (oob)**. \n",
    "\n",
    "* Zauważ, że nie są one takie same dla wszystkich predyktorów. \n",
    "\n",
    "* Ponieważ predykator nigdy nie widzi instancji **out-of-bag (oob)** podczas treningu, klasyfikator może być oceniany na tych instancjach. \n",
    "\n",
    "* Możesz ocenić komitet klasyfikatorów uśredniając oceny każdego z predyktorów na **out-of-bag (oob)**. "
   ]
  },
  {
   "cell_type": "code",
   "metadata": {
    "ExecuteTime": {
     "end_time": "2024-05-11T22:00:04.138395Z",
     "start_time": "2024-05-11T22:00:02.628203Z"
    }
   },
   "source": [
    "bag_clf = BaggingClassifier(\n",
    "    DecisionTreeClassifier(), \n",
    "    n_estimators=500,\n",
    "    bootstrap=True, \n",
    "    n_jobs=-1, \n",
    "    oob_score=True)\n",
    "\n",
    "bag_clf.fit(X_train, y_train)\n",
    "bag_clf.oob_score_"
   ],
   "execution_count": 13,
   "outputs": []
  },
  {
   "cell_type": "code",
   "metadata": {
    "ExecuteTime": {
     "end_time": "2024-05-11T22:00:04.561837Z",
     "start_time": "2024-05-11T22:00:04.141483Z"
    }
   },
   "source": [
    "y_pred = bag_clf.predict(X_test)\n",
    "accuracy_score(y_test, y_pred)"
   ],
   "execution_count": 14,
   "outputs": []
  },
  {
   "cell_type": "code",
   "metadata": {
    "collapsed": true,
    "jupyter": {
     "outputs_hidden": true
    },
    "ExecuteTime": {
     "end_time": "2024-05-11T22:01:57.750763Z",
     "start_time": "2024-05-11T22:01:52.528071Z"
    }
   },
   "source": [
    "fig = plt.figure(figsize=(10, 8))\n",
    "plot_decision_regions(X, y, bag_clf)\n",
    "plt.show()"
   ],
   "execution_count": 19,
   "outputs": []
  }
 ],
 "metadata": {
  "kernelspec": {
   "display_name": "Python 3 (ipykernel)",
   "language": "python",
   "name": "python3"
  },
  "language_info": {
   "codemirror_mode": {
    "name": "ipython",
    "version": 3
   },
   "file_extension": ".py",
   "mimetype": "text/x-python",
   "name": "python",
   "nbconvert_exporter": "python",
   "pygments_lexer": "ipython3",
   "version": "3.8.10"
  }
 },
 "nbformat": 4,
 "nbformat_minor": 4
}
