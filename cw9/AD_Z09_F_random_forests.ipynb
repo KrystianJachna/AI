{
 "cells": [
  {
   "cell_type": "code",
   "metadata": {
    "ExecuteTime": {
     "end_time": "2024-05-11T22:52:59.926869Z",
     "start_time": "2024-05-11T22:52:59.921407Z"
    }
   },
   "source": [
    "\n",
    "import matplotlib.pyplot as plt\n",
    "from mlxtend.plotting import plot_decision_regions\n",
    "from sklearn import metrics\n",
    "from sklearn.datasets import make_moons\n",
    "from sklearn.ensemble import BaggingClassifier\n",
    "from sklearn.ensemble import ExtraTreesClassifier\n",
    "from sklearn.ensemble import RandomForestClassifier\n",
    "from sklearn.model_selection import train_test_split\n",
    "from sklearn.tree import DecisionTreeClassifier"
   ],
   "execution_count": 29,
   "outputs": []
  },
  {
   "cell_type": "markdown",
   "metadata": {},
   "source": [
    "# Random Forests"
   ]
  },
  {
   "cell_type": "code",
   "metadata": {
    "ExecuteTime": {
     "end_time": "2024-05-11T22:53:02.774706Z",
     "start_time": "2024-05-11T22:53:02.747303Z"
    }
   },
   "source": [
    "X, y = make_moons(n_samples=500, noise=0.30, random_state=42)\n",
    "X_train, X_test, y_train, y_test = train_test_split(X, y, random_state=42)"
   ],
   "execution_count": 30,
   "outputs": []
  },
  {
   "cell_type": "code",
   "metadata": {
    "ExecuteTime": {
     "end_time": "2024-05-11T22:53:04.245588Z",
     "start_time": "2024-05-11T22:53:03.912113Z"
    }
   },
   "source": [
    "plt.scatter(X_train[:, 0], X_train[:, 1], c=y_train)\n",
    "plt.show()"
   ],
   "execution_count": 31,
   "outputs": []
  },
  {
   "cell_type": "code",
   "metadata": {
    "ExecuteTime": {
     "end_time": "2024-05-11T22:53:06.387477Z",
     "start_time": "2024-05-11T22:53:05.986790Z"
    }
   },
   "source": [
    "plt.hist(y_train)\n",
    "plt.hist(y_test)\n",
    "plt.show()"
   ],
   "execution_count": 32,
   "outputs": []
  },
  {
   "cell_type": "markdown",
   "metadata": {},
   "source": [
    "# Zad. \n",
    "\n",
    "Porównaj działanie\n",
    "\n",
    "```python\n",
    "BaggingClassifier(\n",
    "    DecisionTreeClassifier(max_leaf_nodes=16, random_state=42),\n",
    "    n_estimators=500, max_samples=1.0, bootstrap=True, n_jobs=-1, random_state=42)\n",
    "```\n",
    "\n",
    "i\n",
    "\n",
    "```python\n",
    "RandomForestClassifier(n_estimators=500, max_leaf_nodes=16, n_jobs=-1, random_state=42)\n",
    "```"
   ]
  },
  {
   "cell_type": "code",
   "metadata": {
    "ExecuteTime": {
     "end_time": "2024-05-11T22:48:39.758874Z",
     "start_time": "2024-05-11T22:48:36.902417Z"
    }
   },
   "source": [
    "bagg_clf = BaggingClassifier(\n",
    "    DecisionTreeClassifier(max_leaf_nodes=16, random_state=42),\n",
    "    n_estimators=500, max_samples=1.0, bootstrap=True, n_jobs=-1, random_state=42)\n",
    "bagg_clf.fit(X_train, y_train)\n",
    "\n",
    "rnd_clf = RandomForestClassifier(n_estimators=500, max_leaf_nodes=16, n_jobs=-1, random_state=42)\n",
    "rnd_clf.fit(X_train, y_train)"
   ],
   "execution_count": 21,
   "outputs": []
  },
  {
   "metadata": {
    "ExecuteTime": {
     "end_time": "2024-05-11T22:48:39.773672Z",
     "start_time": "2024-05-11T22:48:39.762984Z"
    }
   },
   "cell_type": "code",
   "source": [
    "def score_model(model):\n",
    "    y_pred = model.predict(X_test)\n",
    "    accuracy = metrics.accuracy_score(y_test, y_pred)\n",
    "    return accuracy"
   ],
   "execution_count": 22,
   "outputs": []
  },
  {
   "metadata": {
    "ExecuteTime": {
     "end_time": "2024-05-11T22:49:09.517237Z",
     "start_time": "2024-05-11T22:49:03.231994Z"
    }
   },
   "cell_type": "code",
   "source": [
    "fig, axs = plt.subplots(1, 2, figsize=(10, 5))\n",
    "\n",
    "for ax, model in zip(axs, [bagg_clf, rnd_clf]):\n",
    "    plot_decision_regions(X, y, model, ax=ax)\n",
    "    ax.set_title(f\"Accuracy: {score_model(model)}, {model.__class__.__name__}\")"
   ],
   "execution_count": 24,
   "outputs": []
  },
  {
   "cell_type": "markdown",
   "metadata": {},
   "source": [
    "# Ciekawostka - Extra-Trees \n",
    "\n",
    "\n",
    "* Gdy budujemy kolejne drzewa  w losowym lesie, w każdym węźle rozpatrywany jest losowy podzbiór elementów do podziału. \n",
    "\n",
    "* Możliwe jest stworzenie drzewa jeszcze bardziej losowego, wykorzystując losowe podziały dla każdej cechy, zamiast szukać najlepszych możliwych podziału (jak w przypadku zwykłych drzew decyzyjnych).\n",
    "\n",
    "* Taki las losowy nazywa się **Extremely Randomized Trees** (lub **Extra-Trees** w skrócie). \n",
    "\n",
    "* Możesz utworzyć klasyfikator **Extremely Randomized Trees** za pomocą klasy **ExtraTreesClassifier** z Scikit-Learn. \n",
    "\n",
    "* Jego API jest identyczne z klasą RandomForestClassifier. \n"
   ]
  },
  {
   "cell_type": "markdown",
   "metadata": {},
   "source": [
    "# Zad.\n",
    "\n",
    "Naucz \n",
    "\n",
    "```python\n",
    "ExtraTreesClassifier(n_estimators=500, max_leaf_nodes=16, n_jobs=-1, random_state=42)\n",
    "```\n",
    "\n",
    "i porównaj z powyższymi."
   ]
  },
  {
   "cell_type": "code",
   "metadata": {
    "ExecuteTime": {
     "end_time": "2024-05-11T22:49:48.436490Z",
     "start_time": "2024-05-11T22:49:47.009802Z"
    }
   },
   "source": [
    "extra_clf = ExtraTreesClassifier(n_estimators=500, max_leaf_nodes=16, n_jobs=-1, random_state=42)\n",
    "extra_clf.fit(X_train, y_train)"
   ],
   "execution_count": 27,
   "outputs": []
  },
  {
   "cell_type": "code",
   "metadata": {
    "ExecuteTime": {
     "end_time": "2024-05-11T22:50:13.983678Z",
     "start_time": "2024-05-11T22:50:00.578063Z"
    }
   },
   "source": [
    "fig, axs = plt.subplots(1, 3, figsize=(15, 5))\n",
    "\n",
    "for ax, model in zip(axs, [bagg_clf, rnd_clf, extra_clf]):\n",
    "    plot_decision_regions(X, y, model, ax=ax)\n",
    "    ax.set_title(f\"Accuracy: {score_model(model)}, {model.__class__.__name__}\")"
   ],
   "execution_count": 28,
   "outputs": []
  }
 ],
 "metadata": {
  "kernelspec": {
   "display_name": "Python 3 (ipykernel)",
   "language": "python",
   "name": "python3"
  },
  "language_info": {
   "codemirror_mode": {
    "name": "ipython",
    "version": 3
   },
   "file_extension": ".py",
   "mimetype": "text/x-python",
   "name": "python",
   "nbconvert_exporter": "python",
   "pygments_lexer": "ipython3",
   "version": "3.8.10"
  }
 },
 "nbformat": 4,
 "nbformat_minor": 4
}
