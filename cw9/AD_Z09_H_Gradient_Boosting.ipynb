{
 "cells": [
  {
   "cell_type": "code",
   "metadata": {
    "ExecuteTime": {
     "end_time": "2024-05-11T22:59:30.943434Z",
     "start_time": "2024-05-11T22:59:30.861239Z"
    }
   },
   "source": [
    "import numpy as np\n",
    "import pandas as pd\n",
    "import matplotlib.pyplot as plt\n",
    "from sklearn.model_selection import train_test_split\n",
    "from sklearn.datasets import make_moons\n",
    "from mlxtend.plotting import plot_decision_regions\n",
    "from sklearn.ensemble import GradientBoostingClassifier\n",
    "import xgboost"
   ],
   "execution_count": 13,
   "outputs": []
  },
  {
   "cell_type": "markdown",
   "metadata": {},
   "source": [
    "# Gradient Boosting"
   ]
  },
  {
   "cell_type": "code",
   "metadata": {
    "ExecuteTime": {
     "end_time": "2024-05-11T22:57:21.708014Z",
     "start_time": "2024-05-11T22:57:21.683330Z"
    }
   },
   "source": [
    "X, y = make_moons(n_samples=500, noise=0.30, random_state=42)\n",
    "X_train, X_test, y_train, y_test = train_test_split(X, y, random_state=42)"
   ],
   "execution_count": 3,
   "outputs": []
  },
  {
   "cell_type": "code",
   "metadata": {
    "ExecuteTime": {
     "end_time": "2024-05-11T22:57:22.924Z",
     "start_time": "2024-05-11T22:57:22.392416Z"
    }
   },
   "source": [
    "plt.scatter(X[:, 0], X[:, 1], c=y)\n",
    "plt.show()"
   ],
   "execution_count": 4,
   "outputs": []
  },
  {
   "cell_type": "code",
   "metadata": {
    "ExecuteTime": {
     "end_time": "2024-05-11T22:57:36.435114Z",
     "start_time": "2024-05-11T22:57:36.392873Z"
    }
   },
   "source": [
    "ada_clf = GradientBoostingClassifier(n_estimators=1, learning_rate=0.5, random_state=42)\n",
    "ada_clf.fit(X_train, y_train)"
   ],
   "execution_count": 6,
   "outputs": []
  },
  {
   "cell_type": "code",
   "metadata": {
    "ExecuteTime": {
     "end_time": "2024-05-11T22:57:37.854326Z",
     "start_time": "2024-05-11T22:57:37.209998Z"
    }
   },
   "source": [
    "plot_decision_regions(X_train, y_train, ada_clf)\n",
    "plt.show()"
   ],
   "execution_count": 7,
   "outputs": []
  },
  {
   "cell_type": "markdown",
   "metadata": {},
   "source": [
    "# Zad.\n",
    "\n",
    "Sprawdż różne parametry dla GradientBoostingClassifier\n",
    "\n",
    "* n_estimators=2, learning_rate=0.5\n",
    "* n_estimators=2, learning_rate=1\n",
    "* n_estimators=10, learning_rate=0.5\n",
    "* n_estimators=10, learning_rate=1"
   ]
  },
  {
   "cell_type": "code",
   "metadata": {
    "collapsed": true,
    "jupyter": {
     "outputs_hidden": true
    },
    "ExecuteTime": {
     "end_time": "2024-05-11T22:57:53.245249Z",
     "start_time": "2024-05-11T22:57:53.235496Z"
    }
   },
   "source": [
    "params = [\n",
    "    (2, 0.5),\n",
    "    (2, 1),\n",
    "    (10, 0.5),\n",
    "    (10, 1)\n",
    "]"
   ],
   "execution_count": 9,
   "outputs": []
  },
  {
   "metadata": {
    "ExecuteTime": {
     "end_time": "2024-05-11T22:58:08.853627Z",
     "start_time": "2024-05-11T22:58:06.494410Z"
    }
   },
   "cell_type": "code",
   "source": [
    "ax, fig = plt.subplots(2, 2, figsize=(10, 10))\n",
    "\n",
    "for i, (n_estimators, learning_rate) in enumerate(params):\n",
    "    ada_clf = GradientBoostingClassifier(n_estimators=n_estimators, learning_rate=learning_rate, random_state=42)\n",
    "    ada_clf.fit(X_train, y_train)\n",
    "    plt.subplot(2, 2, i+1)\n",
    "    plot_decision_regions(X_train, y_train, ada_clf)\n",
    "    plt.title(f\"n_estimators={n_estimators}, learning_rate={learning_rate}\")"
   ],
   "execution_count": 10,
   "outputs": []
  },
  {
   "cell_type": "markdown",
   "metadata": {},
   "source": [
    "# Zad.\n",
    "\n",
    "Sprawdż różne parametry dla XGBClassifier\n",
    "\n",
    "* n_estimators=2, learning_rate=0.5\n",
    "* n_estimators=2, learning_rate=1\n",
    "* n_estimators=10, learning_rate=0.5\n",
    "* n_estimators=10, learning_rate=1"
   ]
  },
  {
   "cell_type": "code",
   "metadata": {
    "ExecuteTime": {
     "end_time": "2024-05-11T22:58:44.822328Z",
     "start_time": "2024-05-11T22:58:44.818280Z"
    }
   },
   "source": [
    "params = [\n",
    "    (2, 0.5),\n",
    "    (2, 1),\n",
    "    (10, 0.5),\n",
    "    (10, 1)\n",
    "]"
   ],
   "execution_count": 11,
   "outputs": []
  },
  {
   "cell_type": "code",
   "metadata": {
    "ExecuteTime": {
     "end_time": "2024-05-11T22:59:38.215928Z",
     "start_time": "2024-05-11T22:59:35.765077Z"
    }
   },
   "source": [
    "fig, ax = plt.subplots(2, 2, figsize=(10, 10))\n",
    "\n",
    "for i, (n_estimators, learning_rate) in enumerate(params):\n",
    "    ada_clf = xgboost.XGBClassifier(n_estimators=n_estimators, learning_rate=learning_rate, random_state=42)\n",
    "    ada_clf.fit(X_train, y_train)\n",
    "    plt.subplot(2, 2, i+1)\n",
    "    plot_decision_regions(X_train, y_train, ada_clf)\n",
    "    plt.title(f\"n_estimators={n_estimators}, learning_rate={learning_rate}\")"
   ],
   "execution_count": 14,
   "outputs": []
  }
 ],
 "metadata": {
  "kernelspec": {
   "display_name": "Python 3 (ipykernel)",
   "language": "python",
   "name": "python3"
  },
  "language_info": {
   "codemirror_mode": {
    "name": "ipython",
    "version": 3
   },
   "file_extension": ".py",
   "mimetype": "text/x-python",
   "name": "python",
   "nbconvert_exporter": "python",
   "pygments_lexer": "ipython3",
   "version": "3.8.10"
  }
 },
 "nbformat": 4,
 "nbformat_minor": 4
}
