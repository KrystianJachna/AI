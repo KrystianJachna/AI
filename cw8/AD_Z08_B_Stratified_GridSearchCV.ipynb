{
 "cells": [
  {
   "cell_type": "markdown",
   "metadata": {
    "collapsed": true,
    "jupyter": {
     "outputs_hidden": true
    }
   },
   "source": [
    "# Stratified_GridSearchCV"
   ]
  },
  {
   "cell_type": "code",
   "metadata": {
    "ExecuteTime": {
     "end_time": "2024-04-30T10:16:53.415486Z",
     "start_time": "2024-04-30T10:16:53.401018Z"
    }
   },
   "source": [
    "import warnings\n",
    "import matplotlib.pyplot as plt\n",
    "import numpy as np\n",
    "import pandas as pd\n",
    "from sklearn import datasets\n",
    "from sklearn import metrics\n",
    "from sklearn.linear_model import LogisticRegression\n",
    "from sklearn.model_selection import GridSearchCV, StratifiedKFold\n",
    "from sklearn.preprocessing import StandardScaler\n",
    "from sklearn.svm import SVC"
   ],
   "outputs": [],
   "execution_count": 40
  },
  {
   "cell_type": "markdown",
   "metadata": {},
   "source": [
    "Rozważmy zbiór Wine"
   ]
  },
  {
   "cell_type": "code",
   "metadata": {
    "ExecuteTime": {
     "end_time": "2024-04-30T09:45:29.590181Z",
     "start_time": "2024-04-30T09:45:29.548532Z"
    }
   },
   "source": [
    "np.random.seed(1)\n",
    "wine = datasets.load_wine()\n",
    "# print description\n",
    "print(wine.DESCR)"
   ],
   "outputs": [
    {
     "name": "stdout",
     "output_type": "stream",
     "text": [
      ".. _wine_dataset:\n",
      "\n",
      "Wine recognition dataset\n",
      "------------------------\n",
      "\n",
      "**Data Set Characteristics:**\n",
      "\n",
      ":Number of Instances: 178\n",
      ":Number of Attributes: 13 numeric, predictive attributes and the class\n",
      ":Attribute Information:\n",
      "    - Alcohol\n",
      "    - Malic acid\n",
      "    - Ash\n",
      "    - Alcalinity of ash\n",
      "    - Magnesium\n",
      "    - Total phenols\n",
      "    - Flavanoids\n",
      "    - Nonflavanoid phenols\n",
      "    - Proanthocyanins\n",
      "    - Color intensity\n",
      "    - Hue\n",
      "    - OD280/OD315 of diluted wines\n",
      "    - Proline\n",
      "    - class:\n",
      "        - class_0\n",
      "        - class_1\n",
      "        - class_2\n",
      "\n",
      ":Summary Statistics:\n",
      "\n",
      "============================= ==== ===== ======= =====\n",
      "                                Min   Max   Mean     SD\n",
      "============================= ==== ===== ======= =====\n",
      "Alcohol:                      11.0  14.8    13.0   0.8\n",
      "Malic Acid:                   0.74  5.80    2.34  1.12\n",
      "Ash:                          1.36  3.23    2.36  0.27\n",
      "Alcalinity of Ash:            10.6  30.0    19.5   3.3\n",
      "Magnesium:                    70.0 162.0    99.7  14.3\n",
      "Total Phenols:                0.98  3.88    2.29  0.63\n",
      "Flavanoids:                   0.34  5.08    2.03  1.00\n",
      "Nonflavanoid Phenols:         0.13  0.66    0.36  0.12\n",
      "Proanthocyanins:              0.41  3.58    1.59  0.57\n",
      "Colour Intensity:              1.3  13.0     5.1   2.3\n",
      "Hue:                          0.48  1.71    0.96  0.23\n",
      "OD280/OD315 of diluted wines: 1.27  4.00    2.61  0.71\n",
      "Proline:                       278  1680     746   315\n",
      "============================= ==== ===== ======= =====\n",
      "\n",
      ":Missing Attribute Values: None\n",
      ":Class Distribution: class_0 (59), class_1 (71), class_2 (48)\n",
      ":Creator: R.A. Fisher\n",
      ":Donor: Michael Marshall (MARSHALL%PLU@io.arc.nasa.gov)\n",
      ":Date: July, 1988\n",
      "\n",
      "This is a copy of UCI ML Wine recognition datasets.\n",
      "https://archive.ics.uci.edu/ml/machine-learning-databases/wine/wine.data\n",
      "\n",
      "The data is the results of a chemical analysis of wines grown in the same\n",
      "region in Italy by three different cultivators. There are thirteen different\n",
      "measurements taken for different constituents found in the three types of\n",
      "wine.\n",
      "\n",
      "Original Owners:\n",
      "\n",
      "Forina, M. et al, PARVUS -\n",
      "An Extendible Package for Data Exploration, Classification and Correlation.\n",
      "Institute of Pharmaceutical and Food Analysis and Technologies,\n",
      "Via Brigata Salerno, 16147 Genoa, Italy.\n",
      "\n",
      "Citation:\n",
      "\n",
      "Lichman, M. (2013). UCI Machine Learning Repository\n",
      "[https://archive.ics.uci.edu/ml]. Irvine, CA: University of California,\n",
      "School of Information and Computer Science.\n",
      "\n",
      "|details-start|\n",
      "**References**\n",
      "|details-split|\n",
      "\n",
      "(1) S. Aeberhard, D. Coomans and O. de Vel,\n",
      "Comparison of Classifiers in High Dimensional Settings,\n",
      "Tech. Rep. no. 92-02, (1992), Dept. of Computer Science and Dept. of\n",
      "Mathematics and Statistics, James Cook University of North Queensland.\n",
      "(Also submitted to Technometrics).\n",
      "\n",
      "The data was used with many others for comparing various\n",
      "classifiers. The classes are separable, though only RDA\n",
      "has achieved 100% correct classification.\n",
      "(RDA : 100%, QDA 99.4%, LDA 98.9%, 1NN 96.1% (z-transformed data))\n",
      "(All results using the leave-one-out technique)\n",
      "\n",
      "(2) S. Aeberhard, D. Coomans and O. de Vel,\n",
      "\"THE CLASSIFICATION PERFORMANCE OF RDA\"\n",
      "Tech. Rep. no. 92-01, (1992), Dept. of Computer Science and Dept. of\n",
      "Mathematics and Statistics, James Cook University of North Queensland.\n",
      "(Also submitted to Journal of Chemometrics).\n",
      "\n",
      "|details-end|\n",
      "\n"
     ]
    }
   ],
   "execution_count": 4
  },
  {
   "cell_type": "code",
   "metadata": {
    "ExecuteTime": {
     "end_time": "2024-04-30T09:45:33.255194Z",
     "start_time": "2024-04-30T09:45:33.247913Z"
    }
   },
   "source": [
    "# get the data\n",
    "X = wine.data\n",
    "y = wine.target"
   ],
   "outputs": [],
   "execution_count": 5
  },
  {
   "cell_type": "markdown",
   "metadata": {},
   "source": [
    "Podzielmy zbiór na część testową i treningową ."
   ]
  },
  {
   "cell_type": "code",
   "metadata": {
    "ExecuteTime": {
     "end_time": "2024-04-30T09:46:00.220624Z",
     "start_time": "2024-04-30T09:45:58.895288Z"
    }
   },
   "source": [
    "from sklearn.model_selection import train_test_split\n",
    "\n",
    "X_train, X_test, y_train, y_test = train_test_split(X, y, test_size=0.33, random_state=42)\n",
    "\n",
    "# Skalowanie danych w celu zmniejszenia czasu trenowania\n",
    "scaler = StandardScaler()\n",
    "scaler.fit(X_train)\n",
    "X_train_scaled = scaler.transform(X_train)\n",
    "X_test_scaled = scaler.transform(X_test)\n",
    "\n",
    "plt.hist(y_train, alpha=0.5)\n",
    "plt.hist(y_test, alpha=0.5)\n",
    "plt.show()"
   ],
   "outputs": [
    {
     "data": {
      "text/plain": [
       "<Figure size 640x480 with 1 Axes>"
      ],
      "image/png": "[encoded data removed]"
     },
     "metadata": {},
     "output_type": "display_data"
    }
   ],
   "execution_count": 6
  },
  {
   "cell_type": "markdown",
   "metadata": {},
   "source": [
    "# Zadanie\n",
    "Znajdż najleprzy model dzieląc na zbiór testowy i terningowy dla \n",
    "\n",
    "* SVM z jądrem rbf\n",
    "* SVM z jądrem poly\n",
    "* SVM liniowego\n",
    "* Regresji logistycznej\n"
   ]
  },
  {
   "cell_type": "code",
   "metadata": {
    "ExecuteTime": {
     "end_time": "2024-04-30T09:46:19.267563Z",
     "start_time": "2024-04-30T09:46:19.261752Z"
    }
   },
   "source": [
    "seed = 123\n",
    "kfold = StratifiedKFold(n_splits=5, random_state=seed, shuffle=True)"
   ],
   "outputs": [],
   "execution_count": 7
  },
  {
   "cell_type": "code",
   "metadata": {
    "ExecuteTime": {
     "end_time": "2024-04-30T09:46:31.170936Z",
     "start_time": "2024-04-30T09:46:28.474927Z"
    }
   },
   "source": [
    "param_grid = {'C': [0.001, 0.01, 0.1, 1, 10, 100],\n",
    "              'gamma': [0.001, 0.01, 0.1, 1, 10, 100]}\n",
    "\n",
    "grid_1 = GridSearchCV(SVC(), param_grid, cv=kfold, return_train_score=True)\n",
    "\n",
    "grid_1.fit(X_train, y_train)\n",
    "grid_1.best_params_"
   ],
   "outputs": [
    {
     "data": {
      "text/plain": [
       "{'C': 100, 'gamma': 0.001}"
      ]
     },
     "execution_count": 8,
     "metadata": {},
     "output_type": "execute_result"
    }
   ],
   "execution_count": 8
  },
  {
   "cell_type": "code",
   "metadata": {
    "ExecuteTime": {
     "end_time": "2024-04-30T09:46:35.493279Z",
     "start_time": "2024-04-30T09:46:35.483053Z"
    }
   },
   "source": [
    "def heatmap(values, xlabel, ylabel, xticklabels, yticklabels, cmap=None,\n",
    "            vmin=None, vmax=None, ax=None, fmt=\"%0.2f\"):\n",
    "    if ax is None:\n",
    "        ax = plt.gca()\n",
    "    # plot the mean cross-validation scores\n",
    "    img = ax.pcolor(values, cmap=cmap, vmin=vmin, vmax=vmax)\n",
    "    img.update_scalarmappable()\n",
    "    ax.set_xlabel(xlabel)\n",
    "    ax.set_ylabel(ylabel)\n",
    "    ax.set_xticks(np.arange(len(xticklabels)) + .5)\n",
    "    ax.set_yticks(np.arange(len(yticklabels)) + .5)\n",
    "    ax.set_xticklabels(xticklabels)\n",
    "    ax.set_yticklabels(yticklabels)\n",
    "    ax.set_aspect(1)\n",
    "\n",
    "    for p, color, value in zip(img.get_paths(), img.get_facecolors(),\n",
    "                               img.get_array().flatten()):\n",
    "        x, y = p.vertices[:-2, :].mean(0)\n",
    "        if np.mean(color[:3]) > 0.5:\n",
    "            c = 'k'\n",
    "        else:\n",
    "            c = 'w'\n",
    "        ax.text(x, y, fmt % value, color=c, ha=\"center\", va=\"center\")\n",
    "    return img"
   ],
   "outputs": [],
   "execution_count": 9
  },
  {
   "cell_type": "code",
   "metadata": {
    "ExecuteTime": {
     "end_time": "2024-04-30T09:46:55.170044Z",
     "start_time": "2024-04-30T09:46:55.121435Z"
    }
   },
   "source": [
    "# convert to DataFrame\n",
    "results = pd.DataFrame(grid_1.cv_results_)\n",
    "# show the first 5 rows\n",
    "display(results.head())"
   ],
   "outputs": [
    {
     "data": {
      "text/plain": [
       "   mean_fit_time  std_fit_time  mean_score_time  std_score_time param_C  \\\n",
       "0       0.018896      0.034627         0.100113        0.184532   0.001   \n",
       "1       0.009972      0.009867         0.006599        0.005663   0.001   \n",
       "2       0.000781      0.001562         0.003046        0.005145   0.001   \n",
       "3       0.014931      0.015859         0.001611        0.003221   0.001   \n",
       "4       0.021700      0.029813         0.001734        0.001051   0.001   \n",
       "\n",
       "  param_gamma                        params  split0_test_score  \\\n",
       "0       0.001  {'C': 0.001, 'gamma': 0.001}              0.375   \n",
       "1        0.01   {'C': 0.001, 'gamma': 0.01}              0.375   \n",
       "2         0.1    {'C': 0.001, 'gamma': 0.1}              0.375   \n",
       "3           1      {'C': 0.001, 'gamma': 1}              0.375   \n",
       "4          10     {'C': 0.001, 'gamma': 10}              0.375   \n",
       "\n",
       "   split1_test_score  split2_test_score  ...  mean_test_score  std_test_score  \\\n",
       "0              0.375           0.416667  ...         0.394928        0.018722   \n",
       "1              0.375           0.416667  ...         0.394928        0.018722   \n",
       "2              0.375           0.416667  ...         0.394928        0.018722   \n",
       "3              0.375           0.416667  ...         0.394928        0.018722   \n",
       "4              0.375           0.416667  ...         0.394928        0.018722   \n",
       "\n",
       "   rank_test_score  split0_train_score  split1_train_score  \\\n",
       "0               10                 0.4                 0.4   \n",
       "1               10                 0.4                 0.4   \n",
       "2               10                 0.4                 0.4   \n",
       "3               10                 0.4                 0.4   \n",
       "4               10                 0.4                 0.4   \n",
       "\n",
       "   split2_train_score  split3_train_score  split4_train_score  \\\n",
       "0            0.389474            0.389474            0.395833   \n",
       "1            0.389474            0.389474            0.395833   \n",
       "2            0.389474            0.389474            0.395833   \n",
       "3            0.389474            0.389474            0.395833   \n",
       "4            0.389474            0.389474            0.395833   \n",
       "\n",
       "   mean_train_score  std_train_score  \n",
       "0          0.394956         0.004728  \n",
       "1          0.394956         0.004728  \n",
       "2          0.394956         0.004728  \n",
       "3          0.394956         0.004728  \n",
       "4          0.394956         0.004728  \n",
       "\n",
       "[5 rows x 22 columns]"
      ],
      "text/html": [
       "<div>\n",
       "<style scoped>\n",
       "    .dataframe tbody tr th:only-of-type {\n",
       "        vertical-align: middle;\n",
       "    }\n",
       "\n",
       "    .dataframe tbody tr th {\n",
       "        vertical-align: top;\n",
       "    }\n",
       "\n",
       "    .dataframe thead th {\n",
       "        text-align: right;\n",
       "    }\n",
       "</style>\n",
       "<table border=\"1\" class=\"dataframe\">\n",
       "  <thead>\n",
       "    <tr style=\"text-align: right;\">\n",
       "      <th></th>\n",
       "      <th>mean_fit_time</th>\n",
       "      <th>std_fit_time</th>\n",
       "      <th>mean_score_time</th>\n",
       "      <th>std_score_time</th>\n",
       "      <th>param_C</th>\n",
       "      <th>param_gamma</th>\n",
       "      <th>params</th>\n",
       "      <th>split0_test_score</th>\n",
       "      <th>split1_test_score</th>\n",
       "      <th>split2_test_score</th>\n",
       "      <th>...</th>\n",
       "      <th>mean_test_score</th>\n",
       "      <th>std_test_score</th>\n",
       "      <th>rank_test_score</th>\n",
       "      <th>split0_train_score</th>\n",
       "      <th>split1_train_score</th>\n",
       "      <th>split2_train_score</th>\n",
       "      <th>split3_train_score</th>\n",
       "      <th>split4_train_score</th>\n",
       "      <th>mean_train_score</th>\n",
       "      <th>std_train_score</th>\n",
       "    </tr>\n",
       "  </thead>\n",
       "  <tbody>\n",
       "    <tr>\n",
       "      <th>0</th>\n",
       "      <td>0.018896</td>\n",
       "      <td>0.034627</td>\n",
       "      <td>0.100113</td>\n",
       "      <td>0.184532</td>\n",
       "      <td>0.001</td>\n",
       "      <td>0.001</td>\n",
       "      <td>{'C': 0.001, 'gamma': 0.001}</td>\n",
       "      <td>0.375</td>\n",
       "      <td>0.375</td>\n",
       "      <td>0.416667</td>\n",
       "      <td>...</td>\n",
       "      <td>0.394928</td>\n",
       "      <td>0.018722</td>\n",
       "      <td>10</td>\n",
       "      <td>0.4</td>\n",
       "      <td>0.4</td>\n",
       "      <td>0.389474</td>\n",
       "      <td>0.389474</td>\n",
       "      <td>0.395833</td>\n",
       "      <td>0.394956</td>\n",
       "      <td>0.004728</td>\n",
       "    </tr>\n",
       "    <tr>\n",
       "      <th>1</th>\n",
       "      <td>0.009972</td>\n",
       "      <td>0.009867</td>\n",
       "      <td>0.006599</td>\n",
       "      <td>0.005663</td>\n",
       "      <td>0.001</td>\n",
       "      <td>0.01</td>\n",
       "      <td>{'C': 0.001, 'gamma': 0.01}</td>\n",
       "      <td>0.375</td>\n",
       "      <td>0.375</td>\n",
       "      <td>0.416667</td>\n",
       "      <td>...</td>\n",
       "      <td>0.394928</td>\n",
       "      <td>0.018722</td>\n",
       "      <td>10</td>\n",
       "      <td>0.4</td>\n",
       "      <td>0.4</td>\n",
       "      <td>0.389474</td>\n",
       "      <td>0.389474</td>\n",
       "      <td>0.395833</td>\n",
       "      <td>0.394956</td>\n",
       "      <td>0.004728</td>\n",
       "    </tr>\n",
       "    <tr>\n",
       "      <th>2</th>\n",
       "      <td>0.000781</td>\n",
       "      <td>0.001562</td>\n",
       "      <td>0.003046</td>\n",
       "      <td>0.005145</td>\n",
       "      <td>0.001</td>\n",
       "      <td>0.1</td>\n",
       "      <td>{'C': 0.001, 'gamma': 0.1}</td>\n",
       "      <td>0.375</td>\n",
       "      <td>0.375</td>\n",
       "      <td>0.416667</td>\n",
       "      <td>...</td>\n",
       "      <td>0.394928</td>\n",
       "      <td>0.018722</td>\n",
       "      <td>10</td>\n",
       "      <td>0.4</td>\n",
       "      <td>0.4</td>\n",
       "      <td>0.389474</td>\n",
       "      <td>0.389474</td>\n",
       "      <td>0.395833</td>\n",
       "      <td>0.394956</td>\n",
       "      <td>0.004728</td>\n",
       "    </tr>\n",
       "    <tr>\n",
       "      <th>3</th>\n",
       "      <td>0.014931</td>\n",
       "      <td>0.015859</td>\n",
       "      <td>0.001611</td>\n",
       "      <td>0.003221</td>\n",
       "      <td>0.001</td>\n",
       "      <td>1</td>\n",
       "      <td>{'C': 0.001, 'gamma': 1}</td>\n",
       "      <td>0.375</td>\n",
       "      <td>0.375</td>\n",
       "      <td>0.416667</td>\n",
       "      <td>...</td>\n",
       "      <td>0.394928</td>\n",
       "      <td>0.018722</td>\n",
       "      <td>10</td>\n",
       "      <td>0.4</td>\n",
       "      <td>0.4</td>\n",
       "      <td>0.389474</td>\n",
       "      <td>0.389474</td>\n",
       "      <td>0.395833</td>\n",
       "      <td>0.394956</td>\n",
       "      <td>0.004728</td>\n",
       "    </tr>\n",
       "    <tr>\n",
       "      <th>4</th>\n",
       "      <td>0.021700</td>\n",
       "      <td>0.029813</td>\n",
       "      <td>0.001734</td>\n",
       "      <td>0.001051</td>\n",
       "      <td>0.001</td>\n",
       "      <td>10</td>\n",
       "      <td>{'C': 0.001, 'gamma': 10}</td>\n",
       "      <td>0.375</td>\n",
       "      <td>0.375</td>\n",
       "      <td>0.416667</td>\n",
       "      <td>...</td>\n",
       "      <td>0.394928</td>\n",
       "      <td>0.018722</td>\n",
       "      <td>10</td>\n",
       "      <td>0.4</td>\n",
       "      <td>0.4</td>\n",
       "      <td>0.389474</td>\n",
       "      <td>0.389474</td>\n",
       "      <td>0.395833</td>\n",
       "      <td>0.394956</td>\n",
       "      <td>0.004728</td>\n",
       "    </tr>\n",
       "  </tbody>\n",
       "</table>\n",
       "<p>5 rows × 22 columns</p>\n",
       "</div>"
      ]
     },
     "metadata": {},
     "output_type": "display_data"
    }
   ],
   "execution_count": 10
  },
  {
   "cell_type": "code",
   "metadata": {
    "ExecuteTime": {
     "end_time": "2024-04-30T09:47:02.145195Z",
     "start_time": "2024-04-30T09:47:01.955853Z"
    }
   },
   "source": [
    "scores = np.array(results.mean_test_score).reshape(6, 6)\n",
    "# plot the mean cross-validation scores\n",
    "heatmap(scores, xlabel='gamma', xticklabels=param_grid['gamma'], ylabel='C', yticklabels=param_grid['C'],\n",
    "        cmap=\"viridis\")\n",
    "plt.show()"
   ],
   "outputs": [
    {
     "data": {
      "text/plain": [
       "<Figure size 640x480 with 1 Axes>"
      ],
      "image/png": "[encoded data removed]"
     },
     "metadata": {},
     "output_type": "display_data"
    }
   ],
   "execution_count": 11
  },
  {
   "cell_type": "code",
   "metadata": {
    "ExecuteTime": {
     "end_time": "2024-04-30T09:47:25.166132Z",
     "start_time": "2024-04-30T09:47:25.156294Z"
    }
   },
   "source": [
    "def grid_fit(model, param_grid):\n",
    "    grid = GridSearchCV(model, param_grid, cv=kfold, return_train_score=True)\n",
    "    grid.fit(X_train_scaled, y_train)\n",
    "\n",
    "    results = pd.DataFrame(grid.cv_results_)\n",
    "    scores = np.array(results.mean_test_score).reshape(len(param_grid['C']), len(param_grid.get('gamma', [1])))\n",
    "\n",
    "    return scores, grid.best_estimator_"
   ],
   "outputs": [],
   "execution_count": 12
  },
  {
   "cell_type": "code",
   "metadata": {
    "ExecuteTime": {
     "end_time": "2024-04-30T09:55:29.389336Z",
     "start_time": "2024-04-30T09:55:29.380528Z"
    }
   },
   "source": [
    "def score_model(model):\n",
    "    y_pred = model.predict(X_test_scaled)\n",
    "\n",
    "    precision = metrics.precision_score(y_test, y_pred, average='weighted')\n",
    "    recall = metrics.recall_score(y_test, y_pred, average='weighted')\n",
    "    f1 = metrics.f1_score(y_test, y_pred, average='weighted')\n",
    "    accuracy = metrics.accuracy_score(y_test, y_pred)\n",
    "\n",
    "    return precision, recall, f1, accuracy"
   ],
   "outputs": [],
   "execution_count": 17
  },
  {
   "metadata": {
    "ExecuteTime": {
     "end_time": "2024-04-30T10:16:12.564662Z",
     "start_time": "2024-04-30T10:16:08.540518Z"
    }
   },
   "cell_type": "code",
   "source": [
    "fig, axs = plt.subplots(1, 4, figsize=(20, 5))\n",
    "df = pd.DataFrame(columns=[\"name\", \"precision\", \"recall\", \"f1\", \"accuracy\"])\n",
    "\n",
    "param_grid_svm = {'C': [0.001, 0.01, 0.1, 1, 10, 100],\n",
    "                  'gamma': [0.001, 0.01, 0.1, 1, 10, 100]}\n",
    "\n",
    "param_grid_lr = {'C': [0.001, 0.01, 0.1, 1, 10, 100]}\n",
    "\n",
    "methods = [\n",
    "    (\"SVM Linear\", SVC(kernel=\"linear\"), param_grid_svm),\n",
    "    (\"SVM RBF\", SVC(kernel=\"rbf\"), param_grid_svm),\n",
    "    (\"SVM Poly\", SVC(kernel=\"poly\"), param_grid_svm),\n",
    "    (\n",
    "        \"Logistic Regression\", LogisticRegression(multi_class=\"multinomial\", solver=\"saga\", max_iter=10_000),\n",
    "        param_grid_lr)\n",
    "]\n",
    "\n",
    "for i, (method, model, param_grid) in enumerate(methods):\n",
    "    with warnings.catch_warnings():\n",
    "        warnings.simplefilter(\"ignore\")\n",
    "        scores, best_model = grid_fit(model, param_grid)\n",
    "        precision, recall, f1, accuracy = score_model(best_model)\n",
    "        df.loc[i] = [method, *score_model(best_model)]\n",
    "\n",
    "    heatmap(\n",
    "        scores,\n",
    "        xlabel='gamma' if 'gamma' in param_grid.keys() else \"\",\n",
    "        xticklabels=param_grid.get('gamma', []),\n",
    "        ylabel=\"C\",\n",
    "        yticklabels=param_grid.get('C', None),\n",
    "        cmap=\"viridis\",\n",
    "        ax=axs[i],\n",
    "    )\n",
    "    axs[i].set_title(f\"{method}\")\n",
    "\n",
    "plt.show()"
   ],
   "outputs": [
    {
     "data": {
      "text/plain": [
       "<Figure size 2000x500 with 4 Axes>"
      ],
      "image/png": "[encoded data removed]"
     },
     "metadata": {},
     "output_type": "display_data"
    }
   ],
   "execution_count": 38
  },
  {
   "metadata": {
    "ExecuteTime": {
     "end_time": "2024-04-30T10:16:26.821886Z",
     "start_time": "2024-04-30T10:16:26.806293Z"
    }
   },
   "cell_type": "code",
   "source": "df.head()",
   "outputs": [
    {
     "data": {
      "text/plain": [
       "                  name  precision    recall        f1  accuracy\n",
       "0           SVM Linear   0.984110  0.983051  0.983144  0.983051\n",
       "1              SVM RBF   0.984110  0.983051  0.983144  0.983051\n",
       "2             SVM Poly   0.983858  0.983051  0.983077  0.983051\n",
       "3  Logistic Regression   0.984110  0.983051  0.983144  0.983051"
      ],
      "text/html": [
       "<div>\n",
       "<style scoped>\n",
       "    .dataframe tbody tr th:only-of-type {\n",
       "        vertical-align: middle;\n",
       "    }\n",
       "\n",
       "    .dataframe tbody tr th {\n",
       "        vertical-align: top;\n",
       "    }\n",
       "\n",
       "    .dataframe thead th {\n",
       "        text-align: right;\n",
       "    }\n",
       "</style>\n",
       "<table border=\"1\" class=\"dataframe\">\n",
       "  <thead>\n",
       "    <tr style=\"text-align: right;\">\n",
       "      <th></th>\n",
       "      <th>name</th>\n",
       "      <th>precision</th>\n",
       "      <th>recall</th>\n",
       "      <th>f1</th>\n",
       "      <th>accuracy</th>\n",
       "    </tr>\n",
       "  </thead>\n",
       "  <tbody>\n",
       "    <tr>\n",
       "      <th>0</th>\n",
       "      <td>SVM Linear</td>\n",
       "      <td>0.984110</td>\n",
       "      <td>0.983051</td>\n",
       "      <td>0.983144</td>\n",
       "      <td>0.983051</td>\n",
       "    </tr>\n",
       "    <tr>\n",
       "      <th>1</th>\n",
       "      <td>SVM RBF</td>\n",
       "      <td>0.984110</td>\n",
       "      <td>0.983051</td>\n",
       "      <td>0.983144</td>\n",
       "      <td>0.983051</td>\n",
       "    </tr>\n",
       "    <tr>\n",
       "      <th>2</th>\n",
       "      <td>SVM Poly</td>\n",
       "      <td>0.983858</td>\n",
       "      <td>0.983051</td>\n",
       "      <td>0.983077</td>\n",
       "      <td>0.983051</td>\n",
       "    </tr>\n",
       "    <tr>\n",
       "      <th>3</th>\n",
       "      <td>Logistic Regression</td>\n",
       "      <td>0.984110</td>\n",
       "      <td>0.983051</td>\n",
       "      <td>0.983144</td>\n",
       "      <td>0.983051</td>\n",
       "    </tr>\n",
       "  </tbody>\n",
       "</table>\n",
       "</div>"
      ]
     },
     "execution_count": 39,
     "metadata": {},
     "output_type": "execute_result"
    }
   ],
   "execution_count": 39
  }
 ],
 "metadata": {
  "kernelspec": {
   "display_name": "Python 3 (ipykernel)",
   "language": "python",
   "name": "python3"
  },
  "language_info": {
   "codemirror_mode": {
    "name": "ipython",
    "version": 3
   },
   "file_extension": ".py",
   "mimetype": "text/x-python",
   "name": "python",
   "nbconvert_exporter": "python",
   "pygments_lexer": "ipython3",
   "version": "3.10.13"
  }
 },
 "nbformat": 4,
 "nbformat_minor": 4
}
