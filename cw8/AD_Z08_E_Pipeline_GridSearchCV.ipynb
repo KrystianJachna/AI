{
 "cells": [
  {
   "cell_type": "markdown",
   "metadata": {
    "collapsed": true,
    "jupyter": {
     "outputs_hidden": true
    }
   },
   "source": [
    "# Pipeline_GridSearchCV"
   ]
  },
  {
   "cell_type": "code",
   "metadata": {
    "ExecuteTime": {
     "end_time": "2024-04-30T22:05:53.309816Z",
     "start_time": "2024-04-30T22:05:53.302096Z"
    }
   },
   "source": [
    "\n",
    "\n",
    "import warnings\n",
    "\n",
    "import matplotlib.pyplot as plt\n",
    "import numpy as np\n",
    "from sklearn import datasets\n",
    "from sklearn import metrics\n",
    "from sklearn.linear_model import LogisticRegression\n",
    "import warnings\n",
    "\n",
    "import matplotlib.pyplot as plt\n",
    "import numpy as np\n",
    "import pandas as pd\n",
    "from sklearn import datasets, metrics\n",
    "from sklearn.linear_model import LogisticRegression\n",
    "from sklearn.model_selection import GridSearchCV\n",
    "from sklearn.model_selection import StratifiedKFold, train_test_split\n",
    "from sklearn.pipeline import Pipeline\n",
    "from sklearn.preprocessing import StandardScaler\n",
    "from sklearn.svm import SVC"
   ],
   "execution_count": 47,
   "outputs": []
  },
  {
   "cell_type": "markdown",
   "metadata": {},
   "source": [
    "Rozważmy zbiór Breast Cancer"
   ]
  },
  {
   "cell_type": "code",
   "metadata": {
    "ExecuteTime": {
     "end_time": "2024-04-30T22:05:53.398756Z",
     "start_time": "2024-04-30T22:05:53.390749Z"
    }
   },
   "source": [
    "np.random.seed(1)\n",
    "wine = datasets.load_wine()\n",
    "# print description\n",
    "print(wine.DESCR)"
   ],
   "execution_count": 48,
   "outputs": []
  },
  {
   "cell_type": "code",
   "metadata": {
    "ExecuteTime": {
     "end_time": "2024-04-30T22:05:53.412699Z",
     "start_time": "2024-04-30T22:05:53.400502Z"
    }
   },
   "source": [
    "# get the data\n",
    "X = wine.data\n",
    "y = wine.target"
   ],
   "execution_count": 49,
   "outputs": []
  },
  {
   "cell_type": "markdown",
   "metadata": {},
   "source": [
    "Podzielmy zbiór na część testową i treningową ."
   ]
  },
  {
   "cell_type": "code",
   "metadata": {
    "ExecuteTime": {
     "end_time": "2024-04-30T22:05:53.557733Z",
     "start_time": "2024-04-30T22:05:53.413239Z"
    }
   },
   "source": [
    "from sklearn.model_selection import train_test_split\n",
    "\n",
    "X_train, X_test, y_train, y_test = train_test_split(X, y, test_size=0.33, random_state=42)\n",
    "\n",
    "# Skalowanie danych już na początku w celu zmniejszenia czasu trenowania\n",
    "scaler = StandardScaler()\n",
    "scaler.fit(X_train)\n",
    "X_train_scaled = scaler.transform(X_train)\n",
    "X_test_scaled = scaler.transform(X_test)\n",
    "\n",
    "plt.hist(y_train, alpha=0.5)\n",
    "plt.hist(y_test, alpha=0.5)\n",
    "plt.show()"
   ],
   "execution_count": 50,
   "outputs": []
  },
  {
   "cell_type": "markdown",
   "metadata": {},
   "source": [
    "# Zadanie\n",
    "Znajdż najleprzy model dzieląc na zbiór testowy i terningowy dla \n",
    "\n",
    "* SVM z jądrem rbf\n",
    "* SVM z jądrem poly\n",
    "* SVM liniowego\n",
    "* Regresji logistycznej\n"
   ]
  },
  {
   "cell_type": "code",
   "metadata": {
    "ExecuteTime": {
     "end_time": "2024-04-30T22:05:53.562951Z",
     "start_time": "2024-04-30T22:05:53.557733Z"
    }
   },
   "source": [
    "seed = 123\n",
    "kfold = StratifiedKFold(n_splits=5, random_state=seed, shuffle=True)"
   ],
   "execution_count": 51,
   "outputs": []
  },
  {
   "cell_type": "code",
   "metadata": {
    "ExecuteTime": {
     "end_time": "2024-04-30T22:05:55.389320Z",
     "start_time": "2024-04-30T22:05:53.564300Z"
    }
   },
   "source": [
    "pipe = Pipeline([('preprocessing', StandardScaler()), ('classifier', SVC())])\n",
    "\n",
    "param_grid = {\n",
    "    'preprocessing': [StandardScaler(), None],\n",
    "    'classifier__gamma': [0.001, 0.01, 0.1, 1, 10, 100],\n",
    "    'classifier__C': [0.001, 0.01, 0.1, 1, 10, 100]\n",
    "}\n",
    "\n",
    "grid_1 = GridSearchCV(pipe, param_grid, cv=kfold, return_train_score=True)\n",
    "\n",
    "grid_1.fit(X_train_scaled, y_train)\n",
    "grid_1.best_params_"
   ],
   "execution_count": 52,
   "outputs": []
  },
  {
   "cell_type": "code",
   "metadata": {
    "ExecuteTime": {
     "end_time": "2024-04-30T22:05:55.398290Z",
     "start_time": "2024-04-30T22:05:55.392143Z"
    }
   },
   "source": [
    "def heatmap(values, xlabel, ylabel, xticklabels, yticklabels, cmap=None,\n",
    "            vmin=None, vmax=None, ax=None, fmt=\"%0.2f\"):\n",
    "    if ax is None:\n",
    "        ax = plt.gca()\n",
    "    # plot the mean cross-validation scores\n",
    "    img = ax.pcolor(values, cmap=cmap, vmin=vmin, vmax=vmax)\n",
    "    img.update_scalarmappable()\n",
    "    ax.set_xlabel(xlabel)\n",
    "    ax.set_ylabel(ylabel)\n",
    "    ax.set_xticks(np.arange(len(xticklabels)) + .5)\n",
    "    ax.set_yticks(np.arange(len(yticklabels)) + .5)\n",
    "    ax.set_xticklabels(xticklabels)\n",
    "    ax.set_yticklabels(yticklabels)\n",
    "    ax.set_aspect(1)\n",
    "\n",
    "    for p, color, value in zip(img.get_paths(), img.get_facecolors(),\n",
    "                               img.get_array().flatten()):\n",
    "        x, y = p.vertices[:-2, :].mean(0)\n",
    "        if np.mean(color[:3]) > 0.5:\n",
    "            c = 'k'\n",
    "        else:\n",
    "            c = 'w'\n",
    "        ax.text(x, y, fmt % value, color=c, ha=\"center\", va=\"center\")\n",
    "    return img"
   ],
   "execution_count": 53,
   "outputs": []
  },
  {
   "cell_type": "code",
   "metadata": {
    "ExecuteTime": {
     "end_time": "2024-04-30T22:05:55.415977Z",
     "start_time": "2024-04-30T22:05:55.398290Z"
    }
   },
   "source": [
    "# convert to DataFrame\n",
    "results = pd.DataFrame(grid_1.cv_results_)\n",
    "# show the first 5 rows\n",
    "# display(results.head())"
   ],
   "execution_count": 54,
   "outputs": []
  },
  {
   "cell_type": "code",
   "metadata": {
    "ExecuteTime": {
     "end_time": "2024-04-30T22:05:55.431287Z",
     "start_time": "2024-04-30T22:05:55.415977Z"
    }
   },
   "source": [
    "len(results.mean_test_score)"
   ],
   "execution_count": 55,
   "outputs": []
  },
  {
   "cell_type": "code",
   "metadata": {
    "ExecuteTime": {
     "end_time": "2024-04-30T22:05:55.708569Z",
     "start_time": "2024-04-30T22:05:55.432776Z"
    }
   },
   "source": [
    "scores = np.array(results.mean_test_score).reshape(6, 6, 2)\n",
    "scores = scores[:, :, 0]\n",
    "# plot the mean cross-validation scores\n",
    "heatmap(scores, xlabel='classifier__gamma', xticklabels=param_grid['classifier__gamma'], ylabel='classifier__C',\n",
    "        yticklabels=param_grid['classifier__C'], cmap=\"viridis\")\n",
    "plt.show()\n",
    "\n",
    "scores = np.array(results.mean_test_score).reshape(6, 6, 2)\n",
    "scores = scores[:, :, 1]\n",
    "# plot the mean cross-validation scores\n",
    "heatmap(scores, xlabel='classifier__gamma', xticklabels=param_grid['classifier__gamma'], ylabel='classifier__C',\n",
    "        yticklabels=param_grid['classifier__C'], cmap=\"viridis\")\n",
    "plt.show()"
   ],
   "execution_count": 56,
   "outputs": []
  },
  {
   "cell_type": "code",
   "metadata": {
    "ExecuteTime": {
     "end_time": "2024-04-30T22:05:55.714394Z",
     "start_time": "2024-04-30T22:05:55.709072Z"
    }
   },
   "source": [
    "def grid_fit(pipe, param_grid):\n",
    "    grid = GridSearchCV(pipe, param_grid, cv=kfold, return_train_score=True)\n",
    "    grid.fit(X_train_scaled, y_train)\n",
    "\n",
    "    results = pd.DataFrame(grid.cv_results_)\n",
    "    scores = np.array(results.mean_test_score).reshape(len(param_grid['classifier__C']),\n",
    "                                                       len(param_grid.get('classifier__gamma', [1])), 2)\n",
    "\n",
    "    return scores, grid.best_estimator_"
   ],
   "execution_count": 57,
   "outputs": []
  },
  {
   "cell_type": "code",
   "metadata": {
    "collapsed": true,
    "jupyter": {
     "outputs_hidden": true
    },
    "ExecuteTime": {
     "end_time": "2024-04-30T22:05:55.729026Z",
     "start_time": "2024-04-30T22:05:55.714394Z"
    }
   },
   "source": [
    "def score_model(model):\n",
    "    y_pred = model.predict(X_test_scaled)\n",
    "\n",
    "    precision = metrics.precision_score(y_test, y_pred, average='weighted')\n",
    "    recall = metrics.recall_score(y_test, y_pred, average='weighted')\n",
    "    f1 = metrics.f1_score(y_test, y_pred, average='weighted')\n",
    "    accuracy = metrics.accuracy_score(y_test, y_pred)\n",
    "\n",
    "    return precision, recall, f1, accuracy"
   ],
   "execution_count": 58,
   "outputs": []
  },
  {
   "metadata": {
    "ExecuteTime": {
     "end_time": "2024-04-30T22:05:55.743835Z",
     "start_time": "2024-04-30T22:05:55.729026Z"
    }
   },
   "cell_type": "code",
   "source": [
    "param_grid_svm = {'preprocessing': [StandardScaler(), None],\n",
    "                  'classifier__C': [0.001, 0.01, 0.1, 1, 10, 100],\n",
    "                  'classifier__gamma': [0.001, 0.01, 0.1, 1, 10, 100]}\n",
    "\n",
    "param_grid_lr = {'preprocessing': [StandardScaler(), None],\n",
    "                 'classifier__C': [0.001, 0.01, 0.1, 1, 10, 100]}\n",
    "\n",
    "\n",
    "methods = [\n",
    "    (\"SVM Linear\", Pipeline([('preprocessing', StandardScaler()), ('classifier', SVC(kernel=\"linear\"))]),\n",
    "     param_grid_svm),\n",
    "    (\"SVM RBF\", Pipeline([('preprocessing', StandardScaler()), ('classifier', SVC(kernel=\"rbf\"))])\n",
    "     , param_grid_svm),\n",
    "    (\"SVM Poly\", Pipeline([('preprocessing', StandardScaler()), ('classifier', SVC(kernel=\"poly\"))])\n",
    "     , param_grid_svm),\n",
    "    (\"Logistic Regression\", Pipeline([('preprocessing', StandardScaler()), (\n",
    "        'classifier', LogisticRegression(multi_class=\"multinomial\", solver=\"saga\", max_iter=10_000))]),\n",
    "     param_grid_lr)\n",
    "]"
   ],
   "execution_count": 59,
   "outputs": []
  },
  {
   "cell_type": "code",
   "metadata": {
    "collapsed": true,
    "jupyter": {
     "outputs_hidden": true
    },
    "ExecuteTime": {
     "end_time": "2024-04-30T22:06:01.386495Z",
     "start_time": "2024-04-30T22:05:55.745624Z"
    }
   },
   "source": [
    "fig, axs = plt.subplots(2, 4, figsize=(30, 10))\n",
    "plt.subplots_adjust(hspace=0.5)\n",
    "df = pd.DataFrame(columns=[\"name\", \"precision\", \"recall\", \"f1\", \"accuracy\"])\n",
    "\n",
    "for i, (method, pipe, param_grid) in enumerate(methods):\n",
    "    with warnings.catch_warnings():\n",
    "        warnings.simplefilter(\"ignore\")\n",
    "        scores, best_model = grid_fit(pipe, param_grid)\n",
    "        precision, recall, f1, accuracy = score_model(best_model)\n",
    "        df.loc[i] = [method, *score_model(best_model)]\n",
    "\n",
    "    heatmap(\n",
    "        scores[:, :, 0],\n",
    "        xlabel='gamma' if 'classifier__gamma' in param_grid.keys() else \"\",\n",
    "        xticklabels=param_grid.get('classifier__gamma', []),\n",
    "        ylabel=\"C\",\n",
    "        yticklabels=param_grid.get('classifier__C', []),\n",
    "        cmap=\"viridis\",\n",
    "        ax=axs[0, i],\n",
    "    )\n",
    "    axs[0, i].set_title(f\"{method} - scaled\")\n",
    "    heatmap(\n",
    "        scores[:, :, 1],\n",
    "        xlabel='gamma' if 'classifier__gamma' in param_grid.keys() else \"\",\n",
    "        xticklabels=param_grid.get('classifier__gamma', []),\n",
    "        ylabel=\"C\",\n",
    "        yticklabels=param_grid.get('classifier__C', []),\n",
    "        cmap=\"viridis\",\n",
    "        ax=axs[1, i],\n",
    "    )\n",
    "    axs[1, i].set_title(f\"{method} - not scaled\")\n",
    "\n",
    "plt.show()"
   ],
   "execution_count": 60,
   "outputs": []
  },
  {
   "cell_type": "code",
   "metadata": {
    "collapsed": true,
    "jupyter": {
     "outputs_hidden": true
    },
    "ExecuteTime": {
     "end_time": "2024-04-30T22:06:01.397150Z",
     "start_time": "2024-04-30T22:06:01.387569Z"
    }
   },
   "source": "df.head()",
   "execution_count": 61,
   "outputs": []
  }
 ],
 "metadata": {
  "kernelspec": {
   "display_name": "Python 3 (ipykernel)",
   "language": "python",
   "name": "python3"
  },
  "language_info": {
   "codemirror_mode": {
    "name": "ipython",
    "version": 3
   },
   "file_extension": ".py",
   "mimetype": "text/x-python",
   "name": "python",
   "nbconvert_exporter": "python",
   "pygments_lexer": "ipython3",
   "version": "3.10.13"
  }
 },
 "nbformat": 4,
 "nbformat_minor": 4
}
