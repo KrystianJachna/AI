{
 "cells": [
  {
   "cell_type": "code",
   "metadata": {
    "ExecuteTime": {
     "end_time": "2024-05-02T11:56:05.901157Z",
     "start_time": "2024-05-02T11:56:00.751771Z"
    }
   },
   "source": [
    "import os\n",
    "import warnings\n",
    "import numpy as np\n",
    "import pandas as pd\n",
    "from sklearn import metrics\n",
    "from sklearn.base import BaseEstimator, TransformerMixin\n",
    "from sklearn.impute import SimpleImputer\n",
    "from sklearn.linear_model import LogisticRegression\n",
    "from sklearn.model_selection import GridSearchCV, StratifiedKFold, train_test_split\n",
    "from sklearn.pipeline import FeatureUnion\n",
    "from sklearn.pipeline import Pipeline\n",
    "from sklearn.preprocessing import OneHotEncoder\n",
    "from sklearn.svm import SVC"
   ],
   "outputs": [],
   "execution_count": 1
  },
  {
   "cell_type": "markdown",
   "metadata": {},
   "source": [
    "# titanic data"
   ]
  },
  {
   "cell_type": "markdown",
   "metadata": {},
   "source": [
    "Najpierw zaloguj się do https://www.kaggle.com/ i przejdź do wyzwania https://www.kaggle.com/c/titanic, aby pobrać \n",
    " * train.csv i test.csv. \n",
    "\n",
    "Zapisz je w katalogu data/titanic."
   ]
  },
  {
   "cell_type": "code",
   "metadata": {
    "ExecuteTime": {
     "end_time": "2024-05-02T11:56:05.906181Z",
     "start_time": "2024-05-02T11:56:05.902554Z"
    }
   },
   "source": "TITANIC_PATH = os.path.join(\"..\", \"data\", \"titanic\")",
   "outputs": [],
   "execution_count": 2
  },
  {
   "cell_type": "code",
   "metadata": {
    "ExecuteTime": {
     "end_time": "2024-05-02T11:56:05.921036Z",
     "start_time": "2024-05-02T11:56:05.907195Z"
    }
   },
   "source": [
    "def load_titanic_data(filename, titanic_path=TITANIC_PATH):\n",
    "    csv_path = os.path.join(titanic_path, filename)\n",
    "    return pd.read_csv(csv_path)"
   ],
   "outputs": [],
   "execution_count": 3
  },
  {
   "cell_type": "code",
   "metadata": {
    "ExecuteTime": {
     "end_time": "2024-05-02T11:56:05.949289Z",
     "start_time": "2024-05-02T11:56:05.921544Z"
    }
   },
   "source": [
    "train_data = load_titanic_data(\"train.csv\")\n",
    "test_data = load_titanic_data(\"test.csv\")"
   ],
   "outputs": [],
   "execution_count": 4
  },
  {
   "cell_type": "markdown",
   "metadata": {},
   "source": [
    "* Dane są już podzielone na zestaw treningowy i zestaw testów. \n",
    "* Jednak dane testowe nie zawierają etykiet: Twoim celem jest wyszkolenie najlepszego modelu, który możesz wykorzystać w danych treningowych, następnie dokonanie swoich przewidywań na danych testowych i przesłanie ich do Kaggle, aby zobaczyć ostateczny wynik.\n",
    "\n",
    "Rzućmy okiem na kilka pierwszych rzędów zestawu treningowego:"
   ]
  },
  {
   "cell_type": "code",
   "metadata": {
    "ExecuteTime": {
     "end_time": "2024-05-02T11:56:05.974621Z",
     "start_time": "2024-05-02T11:56:05.949802Z"
    }
   },
   "source": "train_data.head()",
   "outputs": [
    {
     "data": {
      "text/plain": [
       "   PassengerId  Survived  Pclass  \\\n",
       "0            1         0       3   \n",
       "1            2         1       1   \n",
       "2            3         1       3   \n",
       "3            4         1       1   \n",
       "4            5         0       3   \n",
       "\n",
       "                                                Name     Sex   Age  SibSp  \\\n",
       "0                            Braund, Mr. Owen Harris    male  22.0      1   \n",
       "1  Cumings, Mrs. John Bradley (Florence Briggs Th...  female  38.0      1   \n",
       "2                             Heikkinen, Miss. Laina  female  26.0      0   \n",
       "3       Futrelle, Mrs. Jacques Heath (Lily May Peel)  female  35.0      1   \n",
       "4                           Allen, Mr. William Henry    male  35.0      0   \n",
       "\n",
       "   Parch            Ticket     Fare Cabin Embarked  \n",
       "0      0         A/5 21171   7.2500   NaN        S  \n",
       "1      0          PC 17599  71.2833   C85        C  \n",
       "2      0  STON/O2. 3101282   7.9250   NaN        S  \n",
       "3      0            113803  53.1000  C123        S  \n",
       "4      0            373450   8.0500   NaN        S  "
      ],
      "text/html": [
       "<div>\n",
       "<style scoped>\n",
       "    .dataframe tbody tr th:only-of-type {\n",
       "        vertical-align: middle;\n",
       "    }\n",
       "\n",
       "    .dataframe tbody tr th {\n",
       "        vertical-align: top;\n",
       "    }\n",
       "\n",
       "    .dataframe thead th {\n",
       "        text-align: right;\n",
       "    }\n",
       "</style>\n",
       "<table border=\"1\" class=\"dataframe\">\n",
       "  <thead>\n",
       "    <tr style=\"text-align: right;\">\n",
       "      <th></th>\n",
       "      <th>PassengerId</th>\n",
       "      <th>Survived</th>\n",
       "      <th>Pclass</th>\n",
       "      <th>Name</th>\n",
       "      <th>Sex</th>\n",
       "      <th>Age</th>\n",
       "      <th>SibSp</th>\n",
       "      <th>Parch</th>\n",
       "      <th>Ticket</th>\n",
       "      <th>Fare</th>\n",
       "      <th>Cabin</th>\n",
       "      <th>Embarked</th>\n",
       "    </tr>\n",
       "  </thead>\n",
       "  <tbody>\n",
       "    <tr>\n",
       "      <th>0</th>\n",
       "      <td>1</td>\n",
       "      <td>0</td>\n",
       "      <td>3</td>\n",
       "      <td>Braund, Mr. Owen Harris</td>\n",
       "      <td>male</td>\n",
       "      <td>22.0</td>\n",
       "      <td>1</td>\n",
       "      <td>0</td>\n",
       "      <td>A/5 21171</td>\n",
       "      <td>7.2500</td>\n",
       "      <td>NaN</td>\n",
       "      <td>S</td>\n",
       "    </tr>\n",
       "    <tr>\n",
       "      <th>1</th>\n",
       "      <td>2</td>\n",
       "      <td>1</td>\n",
       "      <td>1</td>\n",
       "      <td>Cumings, Mrs. John Bradley (Florence Briggs Th...</td>\n",
       "      <td>female</td>\n",
       "      <td>38.0</td>\n",
       "      <td>1</td>\n",
       "      <td>0</td>\n",
       "      <td>PC 17599</td>\n",
       "      <td>71.2833</td>\n",
       "      <td>C85</td>\n",
       "      <td>C</td>\n",
       "    </tr>\n",
       "    <tr>\n",
       "      <th>2</th>\n",
       "      <td>3</td>\n",
       "      <td>1</td>\n",
       "      <td>3</td>\n",
       "      <td>Heikkinen, Miss. Laina</td>\n",
       "      <td>female</td>\n",
       "      <td>26.0</td>\n",
       "      <td>0</td>\n",
       "      <td>0</td>\n",
       "      <td>STON/O2. 3101282</td>\n",
       "      <td>7.9250</td>\n",
       "      <td>NaN</td>\n",
       "      <td>S</td>\n",
       "    </tr>\n",
       "    <tr>\n",
       "      <th>3</th>\n",
       "      <td>4</td>\n",
       "      <td>1</td>\n",
       "      <td>1</td>\n",
       "      <td>Futrelle, Mrs. Jacques Heath (Lily May Peel)</td>\n",
       "      <td>female</td>\n",
       "      <td>35.0</td>\n",
       "      <td>1</td>\n",
       "      <td>0</td>\n",
       "      <td>113803</td>\n",
       "      <td>53.1000</td>\n",
       "      <td>C123</td>\n",
       "      <td>S</td>\n",
       "    </tr>\n",
       "    <tr>\n",
       "      <th>4</th>\n",
       "      <td>5</td>\n",
       "      <td>0</td>\n",
       "      <td>3</td>\n",
       "      <td>Allen, Mr. William Henry</td>\n",
       "      <td>male</td>\n",
       "      <td>35.0</td>\n",
       "      <td>0</td>\n",
       "      <td>0</td>\n",
       "      <td>373450</td>\n",
       "      <td>8.0500</td>\n",
       "      <td>NaN</td>\n",
       "      <td>S</td>\n",
       "    </tr>\n",
       "  </tbody>\n",
       "</table>\n",
       "</div>"
      ]
     },
     "execution_count": 5,
     "metadata": {},
     "output_type": "execute_result"
    }
   ],
   "execution_count": 5
  },
  {
   "cell_type": "markdown",
   "metadata": {},
   "source": [
    "The attributes have the following meaning:\n",
    "\n",
    "* Survived: that's the target, 0 means the passenger did not survive, while 1 means he/she survived.\n",
    "* Pclass: passenger class.\n",
    "* Name, Sex, Age: self-explanatory\n",
    "* SibSp: how many siblings & spouses of the passenger aboard the Titanic.\n",
    "* Parch: how many children & parents of the passenger aboard the Titanic.\n",
    "* Ticket: ticket id\n",
    "* Fare: price paid (in pounds)\n",
    "* Cabin: passenger's cabin number\n",
    "* Embarked: where the passenger embarked the Titanic\n",
    "* Let's get more info to see how much data is missing:"
   ]
  },
  {
   "cell_type": "code",
   "metadata": {
    "ExecuteTime": {
     "end_time": "2024-05-02T11:56:05.986470Z",
     "start_time": "2024-05-02T11:56:05.975945Z"
    }
   },
   "source": [
    "train_data.info()"
   ],
   "outputs": [
    {
     "name": "stdout",
     "output_type": "stream",
     "text": [
      "<class 'pandas.core.frame.DataFrame'>\n",
      "RangeIndex: 891 entries, 0 to 890\n",
      "Data columns (total 12 columns):\n",
      " #   Column       Non-Null Count  Dtype  \n",
      "---  ------       --------------  -----  \n",
      " 0   PassengerId  891 non-null    int64  \n",
      " 1   Survived     891 non-null    int64  \n",
      " 2   Pclass       891 non-null    int64  \n",
      " 3   Name         891 non-null    object \n",
      " 4   Sex          891 non-null    object \n",
      " 5   Age          714 non-null    float64\n",
      " 6   SibSp        891 non-null    int64  \n",
      " 7   Parch        891 non-null    int64  \n",
      " 8   Ticket       891 non-null    object \n",
      " 9   Fare         891 non-null    float64\n",
      " 10  Cabin        204 non-null    object \n",
      " 11  Embarked     889 non-null    object \n",
      "dtypes: float64(2), int64(5), object(5)\n",
      "memory usage: 83.7+ KB\n"
     ]
    }
   ],
   "execution_count": 6
  },
  {
   "cell_type": "markdown",
   "metadata": {},
   "source": [
    "Atrybuty **Age**, **Cabin** oraz **Embarked** są czasami zerowe (mniej niż 891 wartości bez wartości null), szczególnie w przypadku **Cabin** (77% ma wartość zerową). Zignorujemy teraz **Cabin** i skupimy się na reszcie. Atrybut **Age** ma około 19% wartości pustych, więc będziemy musieli zdecydować, co z nimi zrobić. Zastąpienie wartości null medianą wieku wydaje się uzasadnione.\n",
    "\n",
    "Atrybuty **Name** i **Ticket** mogą mieć pewną wartość, ale będą one nieco trudne do przekształcenia w użyteczne liczby. Na razie będziemy je ignorować.\n",
    "\n",
    "Rzućmy okiem na atrybuty liczbowe:"
   ]
  },
  {
   "metadata": {
    "ExecuteTime": {
     "end_time": "2024-05-02T11:56:06.000806Z",
     "start_time": "2024-05-02T11:56:05.986470Z"
    }
   },
   "cell_type": "code",
   "source": [
    "train_data = train_data.drop([\"Name\", \"Ticket\", \"Cabin\"], axis=1)  \n",
    "test_data = test_data.drop([\"Name\", \"Ticket\", \"Cabin\"], axis=1)"
   ],
   "outputs": [],
   "execution_count": 7
  },
  {
   "metadata": {
    "ExecuteTime": {
     "end_time": "2024-05-02T11:56:06.017448Z",
     "start_time": "2024-05-02T11:56:06.002282Z"
    }
   },
   "cell_type": "code",
   "source": "train_data.isnull().sum()",
   "outputs": [
    {
     "data": {
      "text/plain": [
       "PassengerId      0\n",
       "Survived         0\n",
       "Pclass           0\n",
       "Sex              0\n",
       "Age            177\n",
       "SibSp            0\n",
       "Parch            0\n",
       "Fare             0\n",
       "Embarked         2\n",
       "dtype: int64"
      ]
     },
     "execution_count": 8,
     "metadata": {},
     "output_type": "execute_result"
    }
   ],
   "execution_count": 8
  },
  {
   "cell_type": "code",
   "metadata": {
    "ExecuteTime": {
     "end_time": "2024-05-02T11:56:06.048580Z",
     "start_time": "2024-05-02T11:56:06.018724Z"
    }
   },
   "source": "train_data.describe()",
   "outputs": [
    {
     "data": {
      "text/plain": [
       "       PassengerId    Survived      Pclass         Age       SibSp  \\\n",
       "count   891.000000  891.000000  891.000000  714.000000  891.000000   \n",
       "mean    446.000000    0.383838    2.308642   29.699118    0.523008   \n",
       "std     257.353842    0.486592    0.836071   14.526497    1.102743   \n",
       "min       1.000000    0.000000    1.000000    0.420000    0.000000   \n",
       "25%     223.500000    0.000000    2.000000   20.125000    0.000000   \n",
       "50%     446.000000    0.000000    3.000000   28.000000    0.000000   \n",
       "75%     668.500000    1.000000    3.000000   38.000000    1.000000   \n",
       "max     891.000000    1.000000    3.000000   80.000000    8.000000   \n",
       "\n",
       "            Parch        Fare  \n",
       "count  891.000000  891.000000  \n",
       "mean     0.381594   32.204208  \n",
       "std      0.806057   49.693429  \n",
       "min      0.000000    0.000000  \n",
       "25%      0.000000    7.910400  \n",
       "50%      0.000000   14.454200  \n",
       "75%      0.000000   31.000000  \n",
       "max      6.000000  512.329200  "
      ],
      "text/html": [
       "<div>\n",
       "<style scoped>\n",
       "    .dataframe tbody tr th:only-of-type {\n",
       "        vertical-align: middle;\n",
       "    }\n",
       "\n",
       "    .dataframe tbody tr th {\n",
       "        vertical-align: top;\n",
       "    }\n",
       "\n",
       "    .dataframe thead th {\n",
       "        text-align: right;\n",
       "    }\n",
       "</style>\n",
       "<table border=\"1\" class=\"dataframe\">\n",
       "  <thead>\n",
       "    <tr style=\"text-align: right;\">\n",
       "      <th></th>\n",
       "      <th>PassengerId</th>\n",
       "      <th>Survived</th>\n",
       "      <th>Pclass</th>\n",
       "      <th>Age</th>\n",
       "      <th>SibSp</th>\n",
       "      <th>Parch</th>\n",
       "      <th>Fare</th>\n",
       "    </tr>\n",
       "  </thead>\n",
       "  <tbody>\n",
       "    <tr>\n",
       "      <th>count</th>\n",
       "      <td>891.000000</td>\n",
       "      <td>891.000000</td>\n",
       "      <td>891.000000</td>\n",
       "      <td>714.000000</td>\n",
       "      <td>891.000000</td>\n",
       "      <td>891.000000</td>\n",
       "      <td>891.000000</td>\n",
       "    </tr>\n",
       "    <tr>\n",
       "      <th>mean</th>\n",
       "      <td>446.000000</td>\n",
       "      <td>0.383838</td>\n",
       "      <td>2.308642</td>\n",
       "      <td>29.699118</td>\n",
       "      <td>0.523008</td>\n",
       "      <td>0.381594</td>\n",
       "      <td>32.204208</td>\n",
       "    </tr>\n",
       "    <tr>\n",
       "      <th>std</th>\n",
       "      <td>257.353842</td>\n",
       "      <td>0.486592</td>\n",
       "      <td>0.836071</td>\n",
       "      <td>14.526497</td>\n",
       "      <td>1.102743</td>\n",
       "      <td>0.806057</td>\n",
       "      <td>49.693429</td>\n",
       "    </tr>\n",
       "    <tr>\n",
       "      <th>min</th>\n",
       "      <td>1.000000</td>\n",
       "      <td>0.000000</td>\n",
       "      <td>1.000000</td>\n",
       "      <td>0.420000</td>\n",
       "      <td>0.000000</td>\n",
       "      <td>0.000000</td>\n",
       "      <td>0.000000</td>\n",
       "    </tr>\n",
       "    <tr>\n",
       "      <th>25%</th>\n",
       "      <td>223.500000</td>\n",
       "      <td>0.000000</td>\n",
       "      <td>2.000000</td>\n",
       "      <td>20.125000</td>\n",
       "      <td>0.000000</td>\n",
       "      <td>0.000000</td>\n",
       "      <td>7.910400</td>\n",
       "    </tr>\n",
       "    <tr>\n",
       "      <th>50%</th>\n",
       "      <td>446.000000</td>\n",
       "      <td>0.000000</td>\n",
       "      <td>3.000000</td>\n",
       "      <td>28.000000</td>\n",
       "      <td>0.000000</td>\n",
       "      <td>0.000000</td>\n",
       "      <td>14.454200</td>\n",
       "    </tr>\n",
       "    <tr>\n",
       "      <th>75%</th>\n",
       "      <td>668.500000</td>\n",
       "      <td>1.000000</td>\n",
       "      <td>3.000000</td>\n",
       "      <td>38.000000</td>\n",
       "      <td>1.000000</td>\n",
       "      <td>0.000000</td>\n",
       "      <td>31.000000</td>\n",
       "    </tr>\n",
       "    <tr>\n",
       "      <th>max</th>\n",
       "      <td>891.000000</td>\n",
       "      <td>1.000000</td>\n",
       "      <td>3.000000</td>\n",
       "      <td>80.000000</td>\n",
       "      <td>8.000000</td>\n",
       "      <td>6.000000</td>\n",
       "      <td>512.329200</td>\n",
       "    </tr>\n",
       "  </tbody>\n",
       "</table>\n",
       "</div>"
      ]
     },
     "execution_count": 9,
     "metadata": {},
     "output_type": "execute_result"
    }
   ],
   "execution_count": 9
  },
  {
   "cell_type": "markdown",
   "metadata": {},
   "source": [
    "* Tylko 38% przeżyło: to wystarczająco blisko do 40%, więc **accuracy** będzie rozsądną miarą do oceny naszego modelu."
   ]
  },
  {
   "cell_type": "markdown",
   "metadata": {},
   "source": [
    "Sprawdźmy, czy etykiety przyjmują wartości 0 lub 1:"
   ]
  },
  {
   "cell_type": "code",
   "metadata": {
    "collapsed": true,
    "jupyter": {
     "outputs_hidden": true
    },
    "ExecuteTime": {
     "end_time": "2024-05-02T11:56:06.055708Z",
     "start_time": "2024-05-02T11:56:06.048580Z"
    }
   },
   "source": "(train_data[\"Survived\"].isin([0, 1])).all()",
   "outputs": [
    {
     "data": {
      "text/plain": [
       "True"
      ]
     },
     "execution_count": 10,
     "metadata": {},
     "output_type": "execute_result"
    }
   ],
   "execution_count": 10
  },
  {
   "cell_type": "markdown",
   "metadata": {},
   "source": [
    "Nie zapomnij o etykietach:"
   ]
  },
  {
   "cell_type": "code",
   "metadata": {
    "ExecuteTime": {
     "end_time": "2024-05-02T11:56:06.068432Z",
     "start_time": "2024-05-02T11:56:06.057180Z"
    }
   },
   "source": [
    "y = train_data[\"Survived\"]\n",
    "X = train_data.drop(\"Survived\", axis=1)"
   ],
   "outputs": [],
   "execution_count": 11
  },
  {
   "cell_type": "markdown",
   "metadata": {},
   "source": [
    "Teraz rzućmy okiem na wszystkie atrybuty kategoryczne:"
   ]
  },
  {
   "cell_type": "code",
   "metadata": {
    "collapsed": true,
    "jupyter": {
     "outputs_hidden": true
    },
    "ExecuteTime": {
     "end_time": "2024-05-02T11:56:06.081250Z",
     "start_time": "2024-05-02T11:56:06.069927Z"
    }
   },
   "source": "X[\"Sex\"].value_counts()",
   "outputs": [
    {
     "data": {
      "text/plain": [
       "Sex\n",
       "male      577\n",
       "female    314\n",
       "Name: count, dtype: int64"
      ]
     },
     "execution_count": 12,
     "metadata": {},
     "output_type": "execute_result"
    }
   ],
   "execution_count": 12
  },
  {
   "cell_type": "code",
   "metadata": {
    "collapsed": true,
    "jupyter": {
     "outputs_hidden": true
    },
    "ExecuteTime": {
     "end_time": "2024-05-02T11:56:06.095774Z",
     "start_time": "2024-05-02T11:56:06.081250Z"
    }
   },
   "source": "X[\"Embarked\"].value_counts()",
   "outputs": [
    {
     "data": {
      "text/plain": [
       "Embarked\n",
       "S    644\n",
       "C    168\n",
       "Q     77\n",
       "Name: count, dtype: int64"
      ]
     },
     "execution_count": 13,
     "metadata": {},
     "output_type": "execute_result"
    }
   ],
   "execution_count": 13
  },
  {
   "cell_type": "code",
   "metadata": {
    "collapsed": true,
    "jupyter": {
     "outputs_hidden": true
    },
    "ExecuteTime": {
     "end_time": "2024-05-02T11:56:06.105446Z",
     "start_time": "2024-05-02T11:56:06.097253Z"
    }
   },
   "source": "# X[\"Cabin\"].value_counts()",
   "outputs": [],
   "execution_count": 14
  },
  {
   "metadata": {},
   "cell_type": "markdown",
   "source": "Atrybut **Embarked** mówi nam, gdzie pasażer wsiadł: C=Cherbourg, Q=Queenstown, S=Southampton."
  },
  {
   "metadata": {},
   "cell_type": "markdown",
   "source": "Podzielmy zbiór na test/train:"
  },
  {
   "metadata": {
    "ExecuteTime": {
     "end_time": "2024-05-02T11:56:06.121932Z",
     "start_time": "2024-05-02T11:56:06.106843Z"
    }
   },
   "cell_type": "code",
   "source": "X_train, X_test, y_train, y_test = train_test_split(X, y, test_size=0.20, random_state=42)",
   "outputs": [],
   "execution_count": 15
  },
  {
   "cell_type": "markdown",
   "metadata": {},
   "source": [
    "Teraz zbudujmy nasze **pipeline** preprocessingu. \n",
    "\n",
    "Wykorzystamy DataframeSelector aby wybrać określone atrybuty z DataFrame:"
   ]
  },
  {
   "cell_type": "code",
   "metadata": {
    "collapsed": true,
    "jupyter": {
     "outputs_hidden": true
    },
    "ExecuteTime": {
     "end_time": "2024-05-02T11:56:06.134074Z",
     "start_time": "2024-05-02T11:56:06.123227Z"
    }
   },
   "source": [
    "# A class to select numerical or categorical columns \n",
    "# since Scikit-Learn doesn't handle DataFrames yet\n",
    "class DataFrameSelector(BaseEstimator, TransformerMixin):\n",
    "    def __init__(self, attribute_names):\n",
    "        self.attribute_names = attribute_names\n",
    "\n",
    "    def fit(self, X, y=None):\n",
    "        return self\n",
    "\n",
    "    def transform(self, X):\n",
    "        return X[self.attribute_names]"
   ],
   "outputs": [],
   "execution_count": 16
  },
  {
   "cell_type": "markdown",
   "metadata": {},
   "source": [
    "Zbudujmy **pipeline** dla atrybutów numerycznych:"
   ]
  },
  {
   "cell_type": "code",
   "metadata": {
    "collapsed": true,
    "jupyter": {
     "outputs_hidden": true
    },
    "ExecuteTime": {
     "end_time": "2024-05-02T11:56:06.149302Z",
     "start_time": "2024-05-02T11:56:06.134074Z"
    }
   },
   "source": [
    "imputer = SimpleImputer(strategy=\"median\")\n",
    "\n",
    "num_pipeline = Pipeline([\n",
    "    (\"select_numeric\", DataFrameSelector([\"Age\"])),\n",
    "    (\"imputer\", SimpleImputer(strategy=\"median\")),\n",
    "])"
   ],
   "outputs": [],
   "execution_count": 17
  },
  {
   "cell_type": "code",
   "metadata": {
    "collapsed": true,
    "jupyter": {
     "outputs_hidden": true
    },
    "ExecuteTime": {
     "end_time": "2024-05-02T11:56:06.176359Z",
     "start_time": "2024-05-02T11:56:06.150598Z"
    }
   },
   "source": "num_pipeline.fit_transform(X_train)",
   "outputs": [
    {
     "data": {
      "text/plain": [
       "array([[45.5 ],\n",
       "       [23.  ],\n",
       "       [32.  ],\n",
       "       [26.  ],\n",
       "       [ 6.  ],\n",
       "       [24.  ],\n",
       "       [45.  ],\n",
       "       [29.  ],\n",
       "       [28.  ],\n",
       "       [28.  ],\n",
       "       [42.  ],\n",
       "       [36.  ],\n",
       "       [33.  ],\n",
       "       [17.  ],\n",
       "       [29.  ],\n",
       "       [50.  ],\n",
       "       [35.  ],\n",
       "       [38.  ],\n",
       "       [34.  ],\n",
       "       [17.  ],\n",
       "       [11.  ],\n",
       "       [61.  ],\n",
       "       [30.  ],\n",
       "       [ 7.  ],\n",
       "       [63.  ],\n",
       "       [20.  ],\n",
       "       [28.  ],\n",
       "       [29.  ],\n",
       "       [36.  ],\n",
       "       [28.  ],\n",
       "       [50.  ],\n",
       "       [27.  ],\n",
       "       [30.  ],\n",
       "       [33.  ],\n",
       "       [28.  ],\n",
       "       [28.  ],\n",
       "       [ 2.  ],\n",
       "       [25.  ],\n",
       "       [51.  ],\n",
       "       [25.  ],\n",
       "       [28.  ],\n",
       "       [28.  ],\n",
       "       [24.  ],\n",
       "       [18.  ],\n",
       "       [28.  ],\n",
       "       [25.  ],\n",
       "       [24.  ],\n",
       "       [22.  ],\n",
       "       [ 0.92],\n",
       "       [24.  ],\n",
       "       [26.  ],\n",
       "       [34.  ],\n",
       "       [21.  ],\n",
       "       [28.  ],\n",
       "       [28.  ],\n",
       "       [28.  ],\n",
       "       [22.  ],\n",
       "       [62.  ],\n",
       "       [18.  ],\n",
       "       [42.  ],\n",
       "       [57.  ],\n",
       "       [19.  ],\n",
       "       [42.  ],\n",
       "       [28.  ],\n",
       "       [20.  ],\n",
       "       [34.5 ],\n",
       "       [28.  ],\n",
       "       [28.  ],\n",
       "       [23.  ],\n",
       "       [22.  ],\n",
       "       [52.  ],\n",
       "       [30.  ],\n",
       "       [36.5 ],\n",
       "       [28.  ],\n",
       "       [22.  ],\n",
       "       [50.  ],\n",
       "       [27.  ],\n",
       "       [22.  ],\n",
       "       [51.  ],\n",
       "       [36.  ],\n",
       "       [29.  ],\n",
       "       [22.  ],\n",
       "       [50.  ],\n",
       "       [40.  ],\n",
       "       [27.  ],\n",
       "       [28.  ],\n",
       "       [65.  ],\n",
       "       [17.  ],\n",
       "       [28.  ],\n",
       "       [ 4.  ],\n",
       "       [28.  ],\n",
       "       [ 1.  ],\n",
       "       [36.  ],\n",
       "       [43.  ],\n",
       "       [38.  ],\n",
       "       [31.  ],\n",
       "       [29.  ],\n",
       "       [18.  ],\n",
       "       [28.  ],\n",
       "       [39.  ],\n",
       "       [39.  ],\n",
       "       [26.  ],\n",
       "       [20.  ],\n",
       "       [28.  ],\n",
       "       [49.  ],\n",
       "       [23.  ],\n",
       "       [ 1.  ],\n",
       "       [28.  ],\n",
       "       [28.  ],\n",
       "       [ 3.  ],\n",
       "       [ 4.  ],\n",
       "       [19.  ],\n",
       "       [40.5 ],\n",
       "       [ 1.  ],\n",
       "       [28.  ],\n",
       "       [21.  ],\n",
       "       [54.  ],\n",
       "       [28.  ],\n",
       "       [25.  ],\n",
       "       [26.  ],\n",
       "       [22.  ],\n",
       "       [31.  ],\n",
       "       [49.  ],\n",
       "       [19.  ],\n",
       "       [24.  ],\n",
       "       [16.  ],\n",
       "       [25.  ],\n",
       "       [39.  ],\n",
       "       [47.  ],\n",
       "       [60.  ],\n",
       "       [24.  ],\n",
       "       [28.  ],\n",
       "       [27.  ],\n",
       "       [28.  ],\n",
       "       [38.  ],\n",
       "       [44.  ],\n",
       "       [21.  ],\n",
       "       [24.  ],\n",
       "       [45.  ],\n",
       "       [ 8.  ],\n",
       "       [ 8.  ],\n",
       "       [28.  ],\n",
       "       [32.  ],\n",
       "       [50.  ],\n",
       "       [21.  ],\n",
       "       [50.  ],\n",
       "       [23.  ],\n",
       "       [32.  ],\n",
       "       [28.  ],\n",
       "       [21.  ],\n",
       "       [28.  ],\n",
       "       [25.  ],\n",
       "       [15.  ],\n",
       "       [31.  ],\n",
       "       [25.  ],\n",
       "       [54.  ],\n",
       "       [28.  ],\n",
       "       [38.  ],\n",
       "       [41.  ],\n",
       "       [33.  ],\n",
       "       [52.  ],\n",
       "       [16.  ],\n",
       "       [20.  ],\n",
       "       [ 9.  ],\n",
       "       [28.  ],\n",
       "       [28.  ],\n",
       "       [28.  ],\n",
       "       [54.  ],\n",
       "       [26.  ],\n",
       "       [60.  ],\n",
       "       [28.  ],\n",
       "       [44.  ],\n",
       "       [20.  ],\n",
       "       [28.  ],\n",
       "       [16.  ],\n",
       "       [43.  ],\n",
       "       [17.  ],\n",
       "       [37.  ],\n",
       "       [62.  ],\n",
       "       [ 8.  ],\n",
       "       [32.  ],\n",
       "       [20.  ],\n",
       "       [28.  ],\n",
       "       [21.  ],\n",
       "       [37.  ],\n",
       "       [17.  ],\n",
       "       [28.  ],\n",
       "       [46.  ],\n",
       "       [28.  ],\n",
       "       [24.  ],\n",
       "       [29.  ],\n",
       "       [56.  ],\n",
       "       [31.  ],\n",
       "       [28.  ],\n",
       "       [32.  ],\n",
       "       [33.  ],\n",
       "       [59.  ],\n",
       "       [58.  ],\n",
       "       [28.  ],\n",
       "       [ 3.  ],\n",
       "       [28.  ],\n",
       "       [16.  ],\n",
       "       [45.  ],\n",
       "       [43.  ],\n",
       "       [30.  ],\n",
       "       [28.5 ],\n",
       "       [24.  ],\n",
       "       [30.  ],\n",
       "       [36.  ],\n",
       "       [25.  ],\n",
       "       [28.  ],\n",
       "       [50.  ],\n",
       "       [ 0.75],\n",
       "       [24.  ],\n",
       "       [24.  ],\n",
       "       [35.  ],\n",
       "       [30.  ],\n",
       "       [23.  ],\n",
       "       [28.  ],\n",
       "       [27.  ],\n",
       "       [55.  ],\n",
       "       [35.  ],\n",
       "       [28.  ],\n",
       "       [28.  ],\n",
       "       [28.  ],\n",
       "       [23.  ],\n",
       "       [28.  ],\n",
       "       [23.  ],\n",
       "       [51.  ],\n",
       "       [33.  ],\n",
       "       [29.  ],\n",
       "       [28.  ],\n",
       "       [28.  ],\n",
       "       [ 2.  ],\n",
       "       [14.  ],\n",
       "       [54.  ],\n",
       "       [15.  ],\n",
       "       [22.  ],\n",
       "       [27.  ],\n",
       "       [28.  ],\n",
       "       [28.  ],\n",
       "       [28.  ],\n",
       "       [39.  ],\n",
       "       [ 2.  ],\n",
       "       [24.  ],\n",
       "       [32.  ],\n",
       "       [45.5 ],\n",
       "       [ 8.  ],\n",
       "       [26.  ],\n",
       "       [29.  ],\n",
       "       [45.  ],\n",
       "       [36.  ],\n",
       "       [28.  ],\n",
       "       [ 4.  ],\n",
       "       [16.  ],\n",
       "       [58.  ],\n",
       "       [40.5 ],\n",
       "       [25.  ],\n",
       "       [28.  ],\n",
       "       [51.  ],\n",
       "       [28.  ],\n",
       "       [17.  ],\n",
       "       [28.  ],\n",
       "       [40.  ],\n",
       "       [25.  ],\n",
       "       [47.  ],\n",
       "       [28.  ],\n",
       "       [44.  ],\n",
       "       [23.  ],\n",
       "       [18.  ],\n",
       "       [29.  ],\n",
       "       [12.  ],\n",
       "       [11.  ],\n",
       "       [22.  ],\n",
       "       [19.  ],\n",
       "       [22.  ],\n",
       "       [33.  ],\n",
       "       [56.  ],\n",
       "       [ 1.  ],\n",
       "       [22.  ],\n",
       "       [28.  ],\n",
       "       [28.  ],\n",
       "       [ 7.  ],\n",
       "       [ 4.  ],\n",
       "       [70.5 ],\n",
       "       [18.  ],\n",
       "       [20.  ],\n",
       "       [24.  ],\n",
       "       [28.  ],\n",
       "       [34.  ],\n",
       "       [28.  ],\n",
       "       [31.  ],\n",
       "       [30.  ],\n",
       "       [18.  ],\n",
       "       [ 9.  ],\n",
       "       [39.  ],\n",
       "       [33.  ],\n",
       "       [70.  ],\n",
       "       [24.  ],\n",
       "       [58.  ],\n",
       "       [21.  ],\n",
       "       [17.  ],\n",
       "       [28.  ],\n",
       "       [24.  ],\n",
       "       [28.  ],\n",
       "       [28.  ],\n",
       "       [42.  ],\n",
       "       [18.  ],\n",
       "       [ 2.  ],\n",
       "       [34.  ],\n",
       "       [ 3.  ],\n",
       "       [58.  ],\n",
       "       [32.  ],\n",
       "       [31.  ],\n",
       "       [28.  ],\n",
       "       [27.  ],\n",
       "       [11.  ],\n",
       "       [23.  ],\n",
       "       [40.  ],\n",
       "       [28.  ],\n",
       "       [28.  ],\n",
       "       [28.  ],\n",
       "       [28.  ],\n",
       "       [19.  ],\n",
       "       [30.  ],\n",
       "       [20.  ],\n",
       "       [28.  ],\n",
       "       [36.  ],\n",
       "       [28.  ],\n",
       "       [24.  ],\n",
       "       [28.5 ],\n",
       "       [24.  ],\n",
       "       [42.  ],\n",
       "       [54.  ],\n",
       "       [25.  ],\n",
       "       [ 7.  ],\n",
       "       [25.  ],\n",
       "       [27.  ],\n",
       "       [24.  ],\n",
       "       [28.  ],\n",
       "       [28.  ],\n",
       "       [19.  ],\n",
       "       [22.  ],\n",
       "       [28.  ],\n",
       "       [28.  ],\n",
       "       [42.  ],\n",
       "       [50.  ],\n",
       "       [ 3.  ],\n",
       "       [28.  ],\n",
       "       [18.  ],\n",
       "       [18.  ],\n",
       "       [44.  ],\n",
       "       [28.  ],\n",
       "       [28.  ],\n",
       "       [28.  ],\n",
       "       [16.  ],\n",
       "       [28.  ],\n",
       "       [22.  ],\n",
       "       [ 4.  ],\n",
       "       [28.  ],\n",
       "       [24.  ],\n",
       "       [30.  ],\n",
       "       [29.  ],\n",
       "       [24.  ],\n",
       "       [45.  ],\n",
       "       [32.  ],\n",
       "       [21.  ],\n",
       "       [35.  ],\n",
       "       [28.  ],\n",
       "       [28.  ],\n",
       "       [36.  ],\n",
       "       [41.  ],\n",
       "       [23.  ],\n",
       "       [34.  ],\n",
       "       [28.  ],\n",
       "       [28.  ],\n",
       "       [15.  ],\n",
       "       [28.  ],\n",
       "       [18.  ],\n",
       "       [30.  ],\n",
       "       [32.  ],\n",
       "       [ 4.  ],\n",
       "       [ 2.  ],\n",
       "       [28.  ],\n",
       "       [28.  ],\n",
       "       [48.  ],\n",
       "       [31.  ],\n",
       "       [47.  ],\n",
       "       [26.  ],\n",
       "       [ 9.  ],\n",
       "       [19.  ],\n",
       "       [28.  ],\n",
       "       [22.  ],\n",
       "       [28.  ],\n",
       "       [28.  ],\n",
       "       [24.  ],\n",
       "       [17.  ],\n",
       "       [28.  ],\n",
       "       [28.  ],\n",
       "       [21.  ],\n",
       "       [51.  ],\n",
       "       [ 3.  ],\n",
       "       [ 0.75],\n",
       "       [28.  ],\n",
       "       [34.  ],\n",
       "       [18.  ],\n",
       "       [44.  ],\n",
       "       [28.  ],\n",
       "       [28.  ],\n",
       "       [37.  ],\n",
       "       [21.  ],\n",
       "       [36.  ],\n",
       "       [32.  ],\n",
       "       [28.  ],\n",
       "       [26.  ],\n",
       "       [80.  ],\n",
       "       [55.5 ],\n",
       "       [60.  ],\n",
       "       [28.  ],\n",
       "       [18.  ],\n",
       "       [14.5 ],\n",
       "       [19.  ],\n",
       "       [ 4.  ],\n",
       "       [33.  ],\n",
       "       [21.  ],\n",
       "       [10.  ],\n",
       "       [47.  ],\n",
       "       [ 2.  ],\n",
       "       [29.  ],\n",
       "       [22.  ],\n",
       "       [28.  ],\n",
       "       [28.  ],\n",
       "       [26.  ],\n",
       "       [33.  ],\n",
       "       [27.  ],\n",
       "       [27.  ],\n",
       "       [34.  ],\n",
       "       [28.  ],\n",
       "       [30.  ],\n",
       "       [30.  ],\n",
       "       [28.  ],\n",
       "       [28.  ],\n",
       "       [53.  ],\n",
       "       [32.  ],\n",
       "       [52.  ],\n",
       "       [52.  ],\n",
       "       [39.  ],\n",
       "       [ 2.  ],\n",
       "       [44.  ],\n",
       "       [51.  ],\n",
       "       [39.  ],\n",
       "       [46.  ],\n",
       "       [17.  ],\n",
       "       [30.  ],\n",
       "       [ 9.  ],\n",
       "       [27.  ],\n",
       "       [21.  ],\n",
       "       [28.  ],\n",
       "       [26.  ],\n",
       "       [ 3.  ],\n",
       "       [48.  ],\n",
       "       [36.  ],\n",
       "       [28.  ],\n",
       "       [32.5 ],\n",
       "       [33.  ],\n",
       "       [22.  ],\n",
       "       [19.  ],\n",
       "       [74.  ],\n",
       "       [42.  ],\n",
       "       [40.  ],\n",
       "       [35.  ],\n",
       "       [24.  ],\n",
       "       [39.  ],\n",
       "       [32.5 ],\n",
       "       [ 1.  ],\n",
       "       [34.  ],\n",
       "       [64.  ],\n",
       "       [25.  ],\n",
       "       [28.  ],\n",
       "       [ 1.  ],\n",
       "       [45.  ],\n",
       "       [31.  ],\n",
       "       [21.  ],\n",
       "       [25.  ],\n",
       "       [15.  ],\n",
       "       [26.  ],\n",
       "       [30.  ],\n",
       "       [24.  ],\n",
       "       [35.  ],\n",
       "       [70.  ],\n",
       "       [28.  ],\n",
       "       [21.  ],\n",
       "       [18.  ],\n",
       "       [28.  ],\n",
       "       [ 1.  ],\n",
       "       [28.  ],\n",
       "       [26.  ],\n",
       "       [25.  ],\n",
       "       [28.  ],\n",
       "       [20.  ],\n",
       "       [54.  ],\n",
       "       [22.  ],\n",
       "       [59.  ],\n",
       "       [54.  ],\n",
       "       [27.  ],\n",
       "       [31.  ],\n",
       "       [22.  ],\n",
       "       [33.  ],\n",
       "       [ 6.  ],\n",
       "       [ 5.  ],\n",
       "       [39.  ],\n",
       "       [24.5 ],\n",
       "       [54.  ],\n",
       "       [28.  ],\n",
       "       [28.  ],\n",
       "       [30.  ],\n",
       "       [28.  ],\n",
       "       [35.  ],\n",
       "       [21.  ],\n",
       "       [32.  ],\n",
       "       [16.  ],\n",
       "       [22.  ],\n",
       "       [28.  ],\n",
       "       [38.  ],\n",
       "       [28.  ],\n",
       "       [25.  ],\n",
       "       [33.  ],\n",
       "       [28.  ],\n",
       "       [18.  ],\n",
       "       [28.  ],\n",
       "       [28.  ],\n",
       "       [ 2.  ],\n",
       "       [ 0.42],\n",
       "       [26.  ],\n",
       "       [41.  ],\n",
       "       [48.  ],\n",
       "       [48.  ],\n",
       "       [48.  ],\n",
       "       [ 4.  ],\n",
       "       [39.  ],\n",
       "       [33.  ],\n",
       "       [29.  ],\n",
       "       [49.  ],\n",
       "       [28.  ],\n",
       "       [28.  ],\n",
       "       [42.  ],\n",
       "       [36.  ],\n",
       "       [61.  ],\n",
       "       [18.  ],\n",
       "       [18.  ],\n",
       "       [ 0.67],\n",
       "       [32.  ],\n",
       "       [28.  ],\n",
       "       [28.  ],\n",
       "       [28.  ],\n",
       "       [16.  ],\n",
       "       [31.  ],\n",
       "       [48.  ],\n",
       "       [22.  ],\n",
       "       [13.  ],\n",
       "       [32.  ],\n",
       "       [28.  ],\n",
       "       [46.  ],\n",
       "       [28.  ],\n",
       "       [42.  ],\n",
       "       [35.  ],\n",
       "       [ 2.  ],\n",
       "       [31.  ],\n",
       "       [28.  ],\n",
       "       [28.  ],\n",
       "       [19.  ],\n",
       "       [20.  ],\n",
       "       [14.  ],\n",
       "       [34.  ],\n",
       "       [28.  ],\n",
       "       [28.  ],\n",
       "       [51.  ],\n",
       "       [28.  ],\n",
       "       [28.  ],\n",
       "       [28.  ],\n",
       "       [28.  ],\n",
       "       [25.  ],\n",
       "       [19.  ],\n",
       "       [35.  ],\n",
       "       [35.  ],\n",
       "       [ 9.  ],\n",
       "       [20.  ],\n",
       "       [42.  ],\n",
       "       [30.  ],\n",
       "       [28.  ],\n",
       "       [21.  ],\n",
       "       [47.  ],\n",
       "       [25.  ],\n",
       "       [16.  ],\n",
       "       [45.  ],\n",
       "       [38.  ],\n",
       "       [56.  ],\n",
       "       [28.  ],\n",
       "       [31.  ],\n",
       "       [30.  ],\n",
       "       [28.  ],\n",
       "       [14.  ],\n",
       "       [16.  ],\n",
       "       [40.  ],\n",
       "       [55.  ],\n",
       "       [19.  ],\n",
       "       [45.  ],\n",
       "       [36.  ],\n",
       "       [27.  ],\n",
       "       [49.  ],\n",
       "       [41.  ],\n",
       "       [19.  ],\n",
       "       [33.  ],\n",
       "       [27.  ],\n",
       "       [28.  ],\n",
       "       [35.  ],\n",
       "       [29.  ],\n",
       "       [30.  ],\n",
       "       [34.  ],\n",
       "       [29.  ],\n",
       "       [19.  ],\n",
       "       [35.  ],\n",
       "       [28.  ],\n",
       "       [40.  ],\n",
       "       [62.  ],\n",
       "       [25.  ],\n",
       "       [26.  ],\n",
       "       [18.  ],\n",
       "       [34.  ],\n",
       "       [48.  ],\n",
       "       [28.  ],\n",
       "       [24.  ],\n",
       "       [17.  ],\n",
       "       [38.  ],\n",
       "       [28.  ],\n",
       "       [40.  ],\n",
       "       [22.  ],\n",
       "       [ 2.  ],\n",
       "       [28.  ],\n",
       "       [18.  ],\n",
       "       [28.  ],\n",
       "       [19.  ],\n",
       "       [28.  ],\n",
       "       [60.  ],\n",
       "       [20.  ],\n",
       "       [45.  ],\n",
       "       [28.  ],\n",
       "       [24.  ],\n",
       "       [28.  ],\n",
       "       [28.  ],\n",
       "       [39.  ],\n",
       "       [26.  ],\n",
       "       [24.  ],\n",
       "       [36.  ],\n",
       "       [37.  ],\n",
       "       [28.  ],\n",
       "       [28.  ],\n",
       "       [19.  ],\n",
       "       [43.  ],\n",
       "       [25.  ],\n",
       "       [47.  ],\n",
       "       [16.  ],\n",
       "       [ 0.83],\n",
       "       [22.  ],\n",
       "       [19.  ],\n",
       "       [28.  ],\n",
       "       [14.  ],\n",
       "       [36.  ],\n",
       "       [29.  ],\n",
       "       [42.  ],\n",
       "       [28.  ],\n",
       "       [27.  ],\n",
       "       [29.  ],\n",
       "       [ 5.  ],\n",
       "       [22.  ],\n",
       "       [28.  ],\n",
       "       [30.  ],\n",
       "       [62.  ],\n",
       "       [34.  ],\n",
       "       [28.  ],\n",
       "       [28.  ],\n",
       "       [44.  ],\n",
       "       [45.  ],\n",
       "       [19.  ],\n",
       "       [18.  ],\n",
       "       [31.  ],\n",
       "       [28.  ],\n",
       "       [21.  ],\n",
       "       [25.  ],\n",
       "       [32.  ],\n",
       "       [30.  ],\n",
       "       [40.  ],\n",
       "       [33.  ],\n",
       "       [36.  ],\n",
       "       [47.  ],\n",
       "       [34.  ],\n",
       "       [19.  ],\n",
       "       [28.  ],\n",
       "       [50.  ],\n",
       "       [28.  ],\n",
       "       [28.  ],\n",
       "       [28.  ],\n",
       "       [28.  ],\n",
       "       [35.  ],\n",
       "       [35.  ],\n",
       "       [18.  ],\n",
       "       [16.  ],\n",
       "       [21.  ],\n",
       "       [28.  ],\n",
       "       [41.  ],\n",
       "       [14.  ],\n",
       "       [21.  ]])"
      ]
     },
     "execution_count": 18,
     "metadata": {},
     "output_type": "execute_result"
    }
   ],
   "execution_count": 18
  },
  {
   "cell_type": "markdown",
   "metadata": {},
   "source": [
    "Będziemy także potrzebować imputera do kategorycznych kolumn  napisowych (zwykły Imputer nie działa na tych kolumnach):"
   ]
  },
  {
   "cell_type": "code",
   "metadata": {
    "collapsed": true,
    "jupyter": {
     "outputs_hidden": true
    },
    "ExecuteTime": {
     "end_time": "2024-05-02T11:56:06.182900Z",
     "start_time": "2024-05-02T11:56:06.177631Z"
    }
   },
   "source": [
    "# Inspired from stackoverflow.com/questions/25239958\n",
    "class MostFrequentImputer(BaseEstimator, TransformerMixin):\n",
    "    def fit(self, X, y=None):\n",
    "        self.most_frequent_ = pd.Series([X[c].value_counts().index[0] for c in X],\n",
    "                                        index=X.columns)\n",
    "        return self\n",
    "\n",
    "    def transform(self, X, y=None):\n",
    "        return X.fillna(self.most_frequent_)"
   ],
   "outputs": [],
   "execution_count": 19
  },
  {
   "cell_type": "markdown",
   "metadata": {},
   "source": [
    "Teraz możemy zbudować **pipeline** dla atrybutów kategorycznych:"
   ]
  },
  {
   "cell_type": "code",
   "metadata": {
    "collapsed": true,
    "jupyter": {
     "outputs_hidden": true
    },
    "ExecuteTime": {
     "end_time": "2024-05-02T11:56:06.198641Z",
     "start_time": "2024-05-02T11:56:06.182900Z"
    }
   },
   "source": [
    "cat_pipeline = Pipeline([\n",
    "    (\"select_cat\", DataFrameSelector([\"Sex\", \"Embarked\"])),\n",
    "    (\"imputer\", MostFrequentImputer()),\n",
    "    (\"cat_encoder\", OneHotEncoder(handle_unknown='ignore')),\n",
    "])"
   ],
   "outputs": [],
   "execution_count": 20
  },
  {
   "cell_type": "code",
   "metadata": {
    "collapsed": true,
    "jupyter": {
     "outputs_hidden": true
    },
    "ExecuteTime": {
     "end_time": "2024-05-02T11:56:06.219301Z",
     "start_time": "2024-05-02T11:56:06.200253Z"
    }
   },
   "source": "cat_pipeline.fit_transform(X_train)",
   "outputs": [
    {
     "data": {
      "text/plain": [
       "<712x5 sparse matrix of type '<class 'numpy.float64'>'\n",
       "\twith 1424 stored elements in Compressed Sparse Row format>"
      ]
     },
     "execution_count": 21,
     "metadata": {},
     "output_type": "execute_result"
    }
   ],
   "execution_count": 21
  },
  {
   "cell_type": "markdown",
   "metadata": {},
   "source": [
    "Na koniec połączmy powyższe podejścia:"
   ]
  },
  {
   "cell_type": "code",
   "metadata": {
    "collapsed": true,
    "jupyter": {
     "outputs_hidden": true
    },
    "ExecuteTime": {
     "end_time": "2024-05-02T11:56:06.232965Z",
     "start_time": "2024-05-02T11:56:06.219301Z"
    }
   },
   "source": [
    "preprocess_pipeline = FeatureUnion(transformer_list=[\n",
    "    (\"num_pipeline\", num_pipeline),\n",
    "    (\"cat_pipeline\", cat_pipeline),\n",
    "])"
   ],
   "outputs": [],
   "execution_count": 22
  },
  {
   "cell_type": "markdown",
   "metadata": {},
   "source": [
    "Teraz mamy fajny **pipeline** przetwarzania wstępnego, który pobiera dane wejściowe i zwraca dane wyjściowe złorzone z liczb, które możemy podać do dowolnego modelu uczenia maszynowego."
   ]
  },
  {
   "cell_type": "markdown",
   "metadata": {},
   "source": [
    "# Zad\n",
    "\n",
    "Robimy StratifiedKFold i znajdujemy optymalne parametry dla\n",
    "\n",
    "* SVM z jądrem rbf\n",
    "* SVM z jądrem poly\n",
    "* SVM liniowego\n",
    "* Regresji logistycznej"
   ]
  },
  {
   "metadata": {
    "ExecuteTime": {
     "end_time": "2024-05-02T11:56:06.242778Z",
     "start_time": "2024-05-02T11:56:06.233474Z"
    }
   },
   "cell_type": "code",
   "source": [
    "seed = 123\n",
    "kfold = StratifiedKFold(n_splits=5, random_state=seed, shuffle=True)"
   ],
   "outputs": [],
   "execution_count": 23
  },
  {
   "cell_type": "code",
   "metadata": {
    "ExecuteTime": {
     "end_time": "2024-05-02T11:56:06.252826Z",
     "start_time": "2024-05-02T11:56:06.243325Z"
    }
   },
   "source": [
    "def grid_fit(pipe, param_grid):\n",
    "    grid = GridSearchCV(pipe, param_grid, cv=kfold, return_train_score=True)\n",
    "    grid.fit(X_train, y_train)\n",
    "\n",
    "    results = pd.DataFrame(grid.cv_results_)\n",
    "    scores = np.array(results.mean_test_score)\n",
    "\n",
    "    return scores, grid.best_estimator_, grid.best_params_"
   ],
   "outputs": [],
   "execution_count": 24
  },
  {
   "cell_type": "code",
   "metadata": {
    "ExecuteTime": {
     "end_time": "2024-05-02T11:56:06.267594Z",
     "start_time": "2024-05-02T11:56:06.252826Z"
    }
   },
   "source": [
    "def score_model(model):\n",
    "    y_pred = model.predict(X_test)\n",
    "\n",
    "    precision = metrics.precision_score(y_test, y_pred)\n",
    "    recall = metrics.recall_score(y_test, y_pred)\n",
    "    f1 = metrics.f1_score(y_test, y_pred)\n",
    "    accuracy = metrics.accuracy_score(y_test, y_pred)\n",
    "\n",
    "    return precision, recall, f1, accuracy"
   ],
   "outputs": [],
   "execution_count": 25
  },
  {
   "cell_type": "code",
   "metadata": {
    "ExecuteTime": {
     "end_time": "2024-05-02T11:56:06.282742Z",
     "start_time": "2024-05-02T11:56:06.268603Z"
    }
   },
   "source": [
    "param_grid = {\n",
    "    'classifier__C': [0.001, 0.01, 0.1, 1, 10, 100]\n",
    "}\n",
    "\n",
    "methods = [\n",
    "    (\"SVM Linear\", Pipeline([('preprocessing', preprocess_pipeline), ('classifier', SVC(kernel=\"linear\"))]),\n",
    "     param_grid),\n",
    "    (\"SVM RBF\", Pipeline([('preprocessing', preprocess_pipeline), ('classifier', SVC(kernel=\"rbf\"))])\n",
    "     , param_grid),\n",
    "    (\"SVM Poly\", Pipeline([('preprocessing', preprocess_pipeline), ('classifier', SVC(kernel=\"poly\"))])\n",
    "     , param_grid),\n",
    "    (\"Logistic Regression\", Pipeline([('preprocessing', preprocess_pipeline), ('classifier', LogisticRegression())])\n",
    "     , param_grid)\n",
    "]\n"
   ],
   "outputs": [],
   "execution_count": 26
  },
  {
   "metadata": {
    "ExecuteTime": {
     "end_time": "2024-05-02T11:56:33.232555Z",
     "start_time": "2024-05-02T11:56:06.282742Z"
    }
   },
   "cell_type": "code",
   "source": [
    "df = pd.DataFrame(columns=[\"name\", \"C\", \"precision\", \"recall\", \"f1\", \"accuracy\"])\n",
    "\n",
    "best_f1 = None\n",
    "best_model = None\n",
    "\n",
    "for i, (method, pipe, param_grid) in enumerate(methods):\n",
    "    with warnings.catch_warnings():\n",
    "        warnings.simplefilter(\"ignore\")\n",
    "        scores, best_model, best_params = grid_fit(pipe, param_grid)\n",
    "        precision, recall, f1, accuracy = score_model(best_model)\n",
    "        if best_f1 is None or f1 > best_f1:\n",
    "            best_f1 = f1\n",
    "            best_model = best_model\n",
    "        df.loc[i] = [method, best_params['classifier__C'], *score_model(best_model)]\n",
    "\n",
    "df"
   ],
   "outputs": [
    {
     "data": {
      "text/plain": [
       "                  name       C  precision    recall        f1  accuracy\n",
       "0           SVM Linear    0.01   0.753623  0.702703  0.727273  0.782123\n",
       "1              SVM RBF   10.00   0.746479  0.716216  0.731034  0.782123\n",
       "2             SVM Poly  100.00   0.714286  0.472973  0.569106  0.703911\n",
       "3  Logistic Regression    0.10   0.753623  0.702703  0.727273  0.782123"
      ],
      "text/html": [
       "<div>\n",
       "<style scoped>\n",
       "    .dataframe tbody tr th:only-of-type {\n",
       "        vertical-align: middle;\n",
       "    }\n",
       "\n",
       "    .dataframe tbody tr th {\n",
       "        vertical-align: top;\n",
       "    }\n",
       "\n",
       "    .dataframe thead th {\n",
       "        text-align: right;\n",
       "    }\n",
       "</style>\n",
       "<table border=\"1\" class=\"dataframe\">\n",
       "  <thead>\n",
       "    <tr style=\"text-align: right;\">\n",
       "      <th></th>\n",
       "      <th>name</th>\n",
       "      <th>C</th>\n",
       "      <th>precision</th>\n",
       "      <th>recall</th>\n",
       "      <th>f1</th>\n",
       "      <th>accuracy</th>\n",
       "    </tr>\n",
       "  </thead>\n",
       "  <tbody>\n",
       "    <tr>\n",
       "      <th>0</th>\n",
       "      <td>SVM Linear</td>\n",
       "      <td>0.01</td>\n",
       "      <td>0.753623</td>\n",
       "      <td>0.702703</td>\n",
       "      <td>0.727273</td>\n",
       "      <td>0.782123</td>\n",
       "    </tr>\n",
       "    <tr>\n",
       "      <th>1</th>\n",
       "      <td>SVM RBF</td>\n",
       "      <td>10.00</td>\n",
       "      <td>0.746479</td>\n",
       "      <td>0.716216</td>\n",
       "      <td>0.731034</td>\n",
       "      <td>0.782123</td>\n",
       "    </tr>\n",
       "    <tr>\n",
       "      <th>2</th>\n",
       "      <td>SVM Poly</td>\n",
       "      <td>100.00</td>\n",
       "      <td>0.714286</td>\n",
       "      <td>0.472973</td>\n",
       "      <td>0.569106</td>\n",
       "      <td>0.703911</td>\n",
       "    </tr>\n",
       "    <tr>\n",
       "      <th>3</th>\n",
       "      <td>Logistic Regression</td>\n",
       "      <td>0.10</td>\n",
       "      <td>0.753623</td>\n",
       "      <td>0.702703</td>\n",
       "      <td>0.727273</td>\n",
       "      <td>0.782123</td>\n",
       "    </tr>\n",
       "  </tbody>\n",
       "</table>\n",
       "</div>"
      ]
     },
     "execution_count": 27,
     "metadata": {},
     "output_type": "execute_result"
    }
   ],
   "execution_count": 27
  },
  {
   "metadata": {},
   "cell_type": "markdown",
   "source": "Zajmijmy się danymi testowymi:"
  },
  {
   "metadata": {
    "ExecuteTime": {
     "end_time": "2024-05-02T11:56:58.322745Z",
     "start_time": "2024-05-02T11:56:58.304731Z"
    }
   },
   "cell_type": "code",
   "source": [
    "predictions = best_model.predict(test_data)\n",
    "submission_df = pd.DataFrame({\n",
    "    \"PassengerId\": test_data[\"PassengerId\"],\n",
    "    \"Survived\": predictions\n",
    "})\n",
    "submission_df.to_csv('submission.csv', index=False)"
   ],
   "outputs": [],
   "execution_count": 34
  },
  {
   "metadata": {},
   "cell_type": "markdown",
   "source": "![Wynik](scr.png)"
  }
 ],
 "metadata": {
  "kernelspec": {
   "display_name": "Python 3 (ipykernel)",
   "language": "python",
   "name": "python3"
  },
  "language_info": {
   "codemirror_mode": {
    "name": "ipython",
    "version": 3
   },
   "file_extension": ".py",
   "mimetype": "text/x-python",
   "name": "python",
   "nbconvert_exporter": "python",
   "pygments_lexer": "ipython3",
   "version": "3.10.13"
  }
 },
 "nbformat": 4,
 "nbformat_minor": 4
}
