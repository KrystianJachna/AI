{
 "cells": [
  {
   "cell_type": "markdown",
   "metadata": {},
   "source": [
    "# Podstawowe operatory\n",
    "\n",
    " * \\+ – dodawanie: 4 + 7.5 daje 11.5;\n",
    " * \\- – odejmowanie: 30 - 24 daje 6;\n",
    " * \\* – mnożenie: 2 * 3 daje 6;\n",
    " * \\*\\* – potęgowanie: 3 ** 4 daje 81;\n",
    " * / – dzielenie: 4 / 3 daje 1;\n",
    " * // – dzielenie całkowite: 4 // 3.0 daje 1;\n",
    " * % – dzielenie modulo: 8 % 3 daje 2. "
   ]
  },
  {
   "cell_type": "markdown",
   "metadata": {},
   "source": [
    "# Operatory porównania:\n",
    "\n",
    " * < – mniejsze,\n",
    " * \\> – większe,\n",
    " * <= – mniejsze lub równe,\n",
    " * == – równe,\n",
    " * != – różne. "
   ]
  },
  {
   "cell_type": "markdown",
   "metadata": {},
   "source": [
    "# 0. Wczytywanie danych\n",
    "komenda input\n",
    "wczytuje domyślnie string\n",
    "jeżeli chcemy float - trzeba dokonać konwersji"
   ]
  },
  {
   "cell_type": "code",
   "execution_count": 1,
   "metadata": {},
   "outputs": [
    {
     "name": "stdout",
     "output_type": "stream",
     "text": [
      "Enter any number: 1\n",
      "value of val1:  1\n",
      "type of val1:  <class 'str'>\n",
      "Enter any number: 1\n",
      "value of val2:  1.0\n",
      "type of val2:  <class 'float'>\n"
     ]
    }
   ],
   "source": [
    "# python code to take float input\n",
    "\n",
    "# reading a value, printing input and it's type\n",
    "val1 = input(\"Enter any number: \")\n",
    "print(\"value of val1: \", val1)\n",
    "print(\"type of val1: \", type(val1))\n",
    "\n",
    "# reading a value, converting to float\n",
    "# printing value and it's type\n",
    "val2 = float(input(\"Enter any number: \"))\n",
    "print(\"value of val2: \", val2)\n",
    "print(\"type of val2: \", type(val2))"
   ]
  },
  {
   "cell_type": "markdown",
   "metadata": {},
   "source": [
    "# 1. Warunki\n",
    "Python używa zmiennych logicznych w celu oceny warunków. \n",
    "Wartości logiczne prawda (True) i fałsz (False) są zwracane, gdy wyrażenie jest porównywane i oceniane. \n",
    "\n",
    "Na przykład:"
   ]
  },
  {
   "cell_type": "code",
   "execution_count": 75,
   "metadata": {},
   "outputs": [
    {
     "name": "stdout",
     "output_type": "stream",
     "text": [
      "True\n",
      "False\n",
      "True\n"
     ]
    }
   ],
   "source": [
    "x = 2\n",
    "print(x == 2)\n",
    "print(x == 3)\n",
    "print(x < 3)"
   ]
  },
  {
   "cell_type": "markdown",
   "metadata": {},
   "source": [
    "# 1.1 Instrukcje Warunkowe\n",
    "Aby uzależnić wykonanie instrukcji od rezultatu porównania, używamy instrukcji warunkowej"
   ]
  },
  {
   "cell_type": "code",
   "execution_count": 76,
   "metadata": {},
   "outputs": [
    {
     "name": "stdout",
     "output_type": "stream",
     "text": [
      "OK\n"
     ]
    }
   ],
   "source": [
    "x = 2\n",
    "\n",
    "if x == 2:\n",
    "    print(\"OK\")"
   ]
  },
  {
   "cell_type": "markdown",
   "metadata": {},
   "source": [
    "Przykład bardziej skomplikowany:"
   ]
  },
  {
   "cell_type": "code",
   "execution_count": 77,
   "metadata": {},
   "outputs": [
    {
     "name": "stdout",
     "output_type": "stream",
     "text": [
      "2\n"
     ]
    }
   ],
   "source": [
    "a = 2\n",
    "b = 4\n",
    "if a > b:\n",
    "    print(b)\n",
    "else:\n",
    "    print(a)"
   ]
  },
  {
   "cell_type": "markdown",
   "metadata": {},
   "source": [
    "W powyższym przykładzie użyliśmy pełnej instrukcji warunkowej <b>IF/ELSE</b>. Istnieje jeszcze bardziej bogatsza instrukcja warunkowa tzw. instrukcja wyboru wielokrotnego <b>IF/ELIF/ELSE</b>:"
   ]
  },
  {
   "cell_type": "code",
   "execution_count": 3,
   "metadata": {
    "ExecuteTime": {
     "end_time": "2024-03-21T12:24:12.482176Z",
     "start_time": "2024-03-21T12:24:10.159414Z"
    }
   },
   "outputs": [
    {
     "name": "stdout",
     "output_type": "stream",
     "text": [
      "Ten program porównuje dwie liczby\n",
      "Liczba 1.0 w stosunku do 1.0 jest:\n",
      "taka sama\n"
     ]
    }
   ],
   "source": [
    "print(\"Ten program porównuje dwie liczby\")\n",
    "x = float(input(\"Podaj pierwszą z dwóch liczb:\"))\n",
    "y = float(input(\"Podaj drugą z dwóch liczb:\"))\n",
    "print(\"Liczba\", x, \"w stosunku do\", y, \"jest:\", )\n",
    "if x == y:\n",
    "    print(\"taka sama\")\n",
    "elif x > y:\n",
    "    print(\"większa\")\n",
    "else:\n",
    "    print(\"mniejsza\")"
   ]
  },
  {
   "cell_type": "markdown",
   "metadata": {},
   "source": [
    "UWAGA: proszę zobaczyć, jakie typy są porówywane - czy do końca ten program powyższydziała tak jak chcemy?"
   ]
  },
  {
   "cell_type": "markdown",
   "metadata": {},
   "source": [
    "# Operatory logiczne\n",
    "Operatory logiczne, takie jak: <b>and</b> i <b>or</b> umożliwiają budowanie złożonych wyrażeń logicznych, na przykład:"
   ]
  },
  {
   "cell_type": "markdown",
   "metadata": {},
   "source": [
    "# Zad. 1\n",
    "\n",
    "Napisz program, który sprawdzi, czy podane przez użytkownika koła mają niepuste przecięcie. Użytkownik programu podaje współrzędne środka oraz promień każdego koła.\n"
   ]
  },
  {
   "cell_type": "code",
   "execution_count": 6,
   "metadata": {
    "collapsed": true,
    "ExecuteTime": {
     "end_time": "2024-03-21T12:28:26.340158Z",
     "start_time": "2024-03-21T12:28:18.855954Z"
    }
   },
   "outputs": [
    {
     "name": "stdout",
     "output_type": "stream",
     "text": [
      "Koła się nie przecinają\n"
     ]
    }
   ],
   "source": [
    "x1 = float(input(\"Podaj współrzędną x1 pierwszego koła: \"))\n",
    "y1 = float(input(\"Podaj współrzędną y1 pierwszego koła: \"))\n",
    "r1 = float(input(\"Podaj promień r1 pierwszego koła: \"))\n",
    "\n",
    "x2 = float(input(\"Podaj współrzędną x2 drugiego koła: \"))\n",
    "y2 = float(input(\"Podaj współrzędną y2 drugiego koła: \"))\n",
    "r2 = float(input(\"Podaj promień r12 drugiego koła: \"))\n",
    "\n",
    "distance = d = ((x2 - x1) ** 2 + (y2 - y1) ** 2) ** 1 / 2\n",
    "\n",
    "if distance <= r1 + r2:\n",
    "    print(\"Koła się przecinają\")\n",
    "else:\n",
    "    print(\"Koła się nie przecinają\")\n"
   ]
  },
  {
   "cell_type": "markdown",
   "metadata": {},
   "source": [
    "# Operator ,,in''\n",
    "Operator <b>in</b> może być używany w celu sprawdzenia, czy określony ,,obiekt'' istnieje w obrębie iterowalnego kontenera obiektów, np. listy:"
   ]
  },
  {
   "cell_type": "code",
   "execution_count": 79,
   "metadata": {},
   "outputs": [
    {
     "name": "stdout",
     "output_type": "stream",
     "text": [
      "Your name is not either John or Rick.\n"
     ]
    }
   ],
   "source": [
    "name = \"Adam\"\n",
    "if name in [\"John\", \"Rick\"]:\n",
    "    print(\"Your name is either John or Rick.\")\n",
    "else:\n",
    "    print(\"Your name is not either John or Rick.\")"
   ]
  },
  {
   "cell_type": "markdown",
   "metadata": {},
   "source": [
    "Instrukcje warunkowe możemy zagnieżdżać, np.:"
   ]
  },
  {
   "cell_type": "markdown",
   "metadata": {},
   "source": [
    "# 2. Pętle\n",
    "W Pythonie istnieją dwa typy pętli: <b>for<b> i <b>while<b>."
   ]
  },
  {
   "cell_type": "markdown",
   "metadata": {},
   "source": [
    "# 2.1 Pętle iterowane po elementach sekwencji\n",
    "\n",
    "Typowa pętla po liczbach:"
   ]
  },
  {
   "cell_type": "code",
   "execution_count": 80,
   "metadata": {},
   "outputs": [
    {
     "name": "stdout",
     "output_type": "stream",
     "text": [
      "3\n",
      "4\n",
      "5\n",
      "6\n",
      "7\n",
      "8\n",
      "9\n"
     ]
    }
   ],
   "source": [
    "for x in range(3, 10):\n",
    "    print(x)"
   ]
  },
  {
   "cell_type": "markdown",
   "metadata": {},
   "source": [
    "Funkcja <b>range</b> tworzy \"listę\" wartości całkowitych: \n",
    "\n",
    "- od zera do podanej wartości (jeżeli podamy 1 argument) \n",
    "- od - do (jeżeli podamy 2 argumenty)\n",
    "- możemy podać też trzeci parametr określający przyrost (normalnie +1).\n"
   ]
  },
  {
   "cell_type": "markdown",
   "source": [
    "Tak naprawdę jest to generator, a nie lista :P"
   ],
   "metadata": {
    "collapsed": false
   }
  },
  {
   "cell_type": "code",
   "execution_count": 9,
   "metadata": {
    "ExecuteTime": {
     "end_time": "2024-03-21T12:30:20.535001Z",
     "start_time": "2024-03-21T12:30:20.532662Z"
    }
   },
   "outputs": [
    {
     "name": "stdout",
     "output_type": "stream",
     "text": [
      "[0, 1, 2, 3, 4, 5, 6, 7, 8, 9]\n",
      "[3, 4, 5, 6, 7, 8, 9]\n",
      "[1, 3, 5, 7, 9]\n",
      "[4, 3, 2, 1]\n"
     ]
    }
   ],
   "source": [
    "print(list(range(10)))\n",
    "print(list(range(3, 10)))\n",
    "print(list(range(1, 10, 2)))\n",
    "print(list(range(4, 0, -1)))"
   ]
  },
  {
   "cell_type": "markdown",
   "metadata": {},
   "source": [
    "Pętla <b>for</b> może też iterować inne typy danych, np napisy, listy:"
   ]
  },
  {
   "cell_type": "code",
   "execution_count": 12,
   "metadata": {
    "ExecuteTime": {
     "end_time": "2024-03-21T12:31:15.704433Z",
     "start_time": "2024-03-21T12:31:15.701255Z"
    }
   },
   "outputs": [
    {
     "name": "stdout",
     "output_type": "stream",
     "text": [
      "Z|d|r|a|b|n|i|a|m|y| |l|i|t|e|r|k|i|\n",
      "2|3|5|7|\n",
      "apple|orange|peach|"
     ]
    }
   ],
   "source": [
    "bar = \"Zdrabniamy literki\"\n",
    "for i in bar:\n",
    "    print(i, end=\"|\")\n",
    "print()\n",
    "\n",
    "x = [2, 3, 5, 7]\n",
    "for i in x:\n",
    "    print(i, end=\"|\")\n",
    "print()\n",
    "\n",
    "for e in ['apple', 'orange', 'peach']:\n",
    "    print(e, end=\"|\")"
   ]
  },
  {
   "cell_type": "markdown",
   "metadata": {},
   "source": [
    "W takiej pętli nie mamy dostępu do indeksu elementu w liście, ale możemy taki uzyskać, odpowiednio mapując kolekcję za pomocą <b>enumerate</b> (generator):"
   ]
  },
  {
   "cell_type": "code",
   "execution_count": 83,
   "metadata": {},
   "outputs": [
    {
     "name": "stdout",
     "output_type": "stream",
     "text": [
      "[(0, 'apple'), (1, 'orange'), (2, 'peach')] \n",
      "\n",
      "0 apple\n",
      "1 orange\n",
      "2 peach\n"
     ]
    }
   ],
   "source": [
    "print(list(enumerate(['apple', 'orange', 'peach'])), \"\\n\")\n",
    "\n",
    "for i, x in enumerate(['apple', 'orange', 'peach']):\n",
    "    print(i, x)"
   ]
  },
  {
   "cell_type": "markdown",
   "metadata": {},
   "source": [
    "# 2.2 Pętla while\n",
    "\n",
    "Pętla **while** powtarza instrukcje znajdujące się w jej wnętrzu tak długo, dopóki podany warunek logiczny jest spełniony. \n",
    "\n",
    "Na przykład:"
   ]
  },
  {
   "cell_type": "markdown",
   "source": [
    "# Ciekawa obserwacja\n",
    "\n",
    "W Pythonie, jeśli podczas slicing'u czyli np.: `word[start:stop:step]` zrobimy step jako `-1` to tym samym start jest rownież `-1`, a stopem będzie `-len(word)-1`"
   ],
   "metadata": {
    "collapsed": false
   }
  },
  {
   "cell_type": "code",
   "execution_count": 84,
   "metadata": {},
   "outputs": [
    {
     "name": "stdout",
     "output_type": "stream",
     "text": [
      "[1, 2, 3, 4, 5]\n",
      "[1, 2, 3, 4]\n",
      "[1, 2, 3]\n",
      "[1, 2]\n",
      "[1]\n",
      "[]\n"
     ]
    }
   ],
   "source": [
    "x = [1, 2, 3, 4, 5, 6]\n",
    "while x:\n",
    "    x = x[:len(x) - 1]  # funkcja len() zwraca długość listy (liczbę elementów)\n",
    "    print(x)"
   ]
  },
  {
   "cell_type": "code",
   "execution_count": 13,
   "metadata": {
    "ExecuteTime": {
     "end_time": "2024-03-21T12:43:30.499604Z",
     "start_time": "2024-03-21T12:43:30.496814Z"
    }
   },
   "outputs": [
    {
     "name": "stdout",
     "output_type": "stream",
     "text": [
      "Jestem w while.\n",
      "Jestem w while.\n",
      "Jestem w while.\n",
      "Jestem w while.\n",
      "Jestem w while.\n"
     ]
    }
   ],
   "source": [
    "licznik = 10\n",
    "\n",
    "while licznik < 15:\n",
    "    licznik += 1\n",
    "    print(\"Jestem w while.\")"
   ]
  },
  {
   "cell_type": "markdown",
   "metadata": {},
   "source": [
    "\n",
    "# Zad. 2\n",
    "Napisz program, który będzie wczytywał kolejne słowa i je wypisywał aż do wczytania słowa \"stop\" po którym program się zatrzyma.\n"
   ]
  },
  {
   "cell_type": "code",
   "execution_count": 14,
   "metadata": {
    "ExecuteTime": {
     "end_time": "2024-03-21T12:44:31.314508Z",
     "start_time": "2024-03-21T12:44:26.660913Z"
    }
   },
   "outputs": [
    {
     "name": "stdout",
     "output_type": "stream",
     "text": [
      "siema\n",
      "co tam\n"
     ]
    }
   ],
   "source": [
    "word = ''\n",
    "\n",
    "while (word := input(\"Podaj słowo: \")) != 'stop':\n",
    "    print(word)"
   ]
  },
  {
   "cell_type": "markdown",
   "metadata": {},
   "source": [
    "# Zad. 3\n",
    "\n",
    "Napisz program wypisujący tablicę n na m elementową w kształcie tablicy szachowej. Np. dla\n",
    "<br />\n",
    "<tt>\n",
    "n = 5<br />\n",
    "m = 5\n",
    "</tt>\n",
    "\n",
    "otrzymujemy\n",
    "\n",
    "<br />\n",
    "<tt>\n",
    "10101<br />\n",
    "01010<br />\n",
    "10101<br />\n",
    "01010<br />\n",
    "10101<br />\n",
    "</tt>"
   ]
  },
  {
   "cell_type": "code",
   "execution_count": 15,
   "metadata": {
    "ExecuteTime": {
     "end_time": "2024-03-21T12:46:22.450699Z",
     "start_time": "2024-03-21T12:46:20.046922Z"
    }
   },
   "outputs": [
    {
     "name": "stdout",
     "output_type": "stream",
     "text": [
      "10101\n",
      "01010\n",
      "10101\n",
      "01010\n",
      "10101\n"
     ]
    }
   ],
   "source": [
    "rows = int(input(\"Podaj liczbę wierszy: \"))\n",
    "cols = int(input(\"Podaj liczbę kolumn: \"))\n",
    "\n",
    "for i in range(rows):\n",
    "    for j in range(cols):\n",
    "        print((i + j + 1) % 2, end='')\n",
    "    print()"
   ]
  },
  {
   "cell_type": "markdown",
   "metadata": {},
   "source": [
    "# 3. Formatowanie liczb\n",
    "\n",
    "Celem pętli często jest wyświetlenie kolumny liczb. \n",
    "\n",
    "Aby liczby wyświetlane były w należyty sposób i w pożądanym miejscu używamy operatora formatowania **%** w połączeniu z ciągiem formatującym. \n",
    "\n",
    "Ciąg formatujący składa się ze znaku **%**, po którym następują \n",
    "\n",
    "* opcje formatowania, \n",
    "* ilość znaków przeznaczonych do wyświetlenia \n",
    "* oraz typ danej do wyświetlenia \n",
    "(przy czym tylko trzeci element – tj. typ danych jest wymagany).\n",
    "\n",
    "Typ danej sygnalizujemy pojedynczą literą. I tak:\n",
    "* litera s oznacza napis (konwertuje każdy typ danych na tekst), np.:"
   ]
  },
  {
   "cell_type": "code",
   "execution_count": 31,
   "metadata": {
    "ExecuteTime": {
     "end_time": "2024-03-21T13:00:00.090379Z",
     "start_time": "2024-03-21T13:00:00.087600Z"
    }
   },
   "outputs": [
    {
     "name": "stdout",
     "output_type": "stream",
     "text": [
      "|3.141592653589793|\n",
      "|                                                                                                3.14|\n",
      "10\n",
      "[0, 1, 2, 3, 4, 5]\n",
      "txt\n",
      "      test\n",
      "|   test   |\n",
      "test      \n",
      "xylop\n"
     ]
    }
   ],
   "source": [
    "# stary sposób\n",
    "\n",
    "from math import pi\n",
    "\n",
    "print(f\"|{pi}|\")\n",
    "print(f\"|{pi:>100.3}|\")\n",
    "\n",
    "print(\"%s\" % 10)\n",
    "print(\"%s\" % list(range(6)))\n",
    "print(\"%s\" % \"txt\")\n",
    "print('%10s' % 'test')\n",
    "print(f\"|{'test':^10}|\")\n",
    "print('%-10s' % 'test')\n",
    "print('%.5s' % 'xylophone')"
   ]
  },
  {
   "cell_type": "markdown",
   "metadata": {},
   "source": [
    "* litera **d** oznacza dziesiętną liczbę całkowitą (konwertuje kompatybilny typ danych na liczbę całkowitą), np.:"
   ]
  },
  {
   "cell_type": "code",
   "execution_count": 32,
   "metadata": {
    "ExecuteTime": {
     "end_time": "2024-03-21T13:00:37.909202Z",
     "start_time": "2024-03-21T13:00:37.906304Z"
    }
   },
   "outputs": [
    {
     "name": "stdout",
     "output_type": "stream",
     "text": [
      "255\n",
      "2\n",
      "255\n",
      "2\n"
     ]
    }
   ],
   "source": [
    "print(\"%d\" % 0xff)\n",
    "print(\"%d\" % 2)\n",
    "print('{:d}'.format(0xff))\n",
    "print('{:d}'.format(2))"
   ]
  },
  {
   "cell_type": "markdown",
   "metadata": {},
   "source": [
    "* litera **f** oznacza liczbę zmiennopozycyjną w postaci ułamka dziesiętnego, np.:"
   ]
  },
  {
   "cell_type": "code",
   "execution_count": 33,
   "metadata": {
    "ExecuteTime": {
     "end_time": "2024-03-21T13:00:41.739377Z",
     "start_time": "2024-03-21T13:00:41.736799Z"
    }
   },
   "outputs": [
    {
     "name": "stdout",
     "output_type": "stream",
     "text": [
      "123.000000\n",
      "1.230000\n",
      "123.000000\n",
      "1.230000\n"
     ]
    }
   ],
   "source": [
    "print(\"%f\" % 123)\n",
    "print(\"%f\" % 1.23)\n",
    "\n",
    "print('{:f}'.format(123))\n",
    "print('{:f}'.format(1.23))"
   ]
  },
  {
   "cell_type": "markdown",
   "metadata": {},
   "source": [
    "# Zad. 4\n",
    "\n",
    "Napisać program rysujący \"miarkę\" o zadanej długości. Należy prawidłowo obsłużyć liczby składające się z kilku cyfr, np.:\n",
    "\n",
    "$$|....|....|....|....|....|....|....|....|$$\n",
    "$$0 \\quad \\ 1 \\quad \\ 2 \\quad \\ 3 \\quad \\ 4 \\quad \\ 5 \\quad \\ 6 \\quad \\ 7 \\quad \\ 8$$"
   ]
  },
  {
   "cell_type": "code",
   "execution_count": 38,
   "metadata": {
    "ExecuteTime": {
     "end_time": "2024-03-21T13:03:26.655713Z",
     "start_time": "2024-03-21T13:03:24.964881Z"
    }
   },
   "outputs": [
    {
     "name": "stdout",
     "output_type": "stream",
     "text": [
      "|.....|.....|.....|.....|.....|.....|.....|.....|.....|.....|\n",
      "0     1     2     3     4     5     6     7     8     9     10\n"
     ]
    }
   ],
   "source": [
    "d = int(input(\"Podaj długość: \"))\n",
    "\n",
    "for i in range(d):\n",
    "    print(\"|.....\", end=\"\")\n",
    "print(\"|\")\n",
    "\n",
    "for i in range(d):\n",
    "    print(f\"{i:<6}\", end=\"\")\n",
    "print(d)\n"
   ]
  },
  {
   "cell_type": "markdown",
   "metadata": {},
   "source": [
    "# Funkcje\n",
    "\n",
    "Definicja funkcji musi zawierać:\n",
    "\n",
    "* nagłówek funkcji:\n",
    "  * nazwę funkcji, która pozwoli zidentyfikować funkcję w pozostałej części programu,\n",
    "  * listę argumentów\n",
    "* ciało funkcji, zawierające instrukcje, które zostaną wykonane w momencie wywołania (użycia) funkcji\n",
    "  * jeżeli funkcja ma zwracać jakiś rezultat, musi zawierać instrukcję ,,return''\n",
    "\n",
    "W języku Python składnia definicji funkcji jest następująca:"
   ]
  },
  {
   "cell_type": "code",
   "execution_count": 89,
   "metadata": {
    "collapsed": true
   },
   "outputs": [],
   "source": [
    "def nazwa_funkcji(lista_parametrow):\n",
    "    instrukcje_do_wykonania"
   ]
  },
  {
   "cell_type": "markdown",
   "metadata": {},
   "source": [
    "Przykład funkcji:"
   ]
  },
  {
   "cell_type": "code",
   "execution_count": 90,
   "metadata": {},
   "outputs": [
    {
     "name": "stdout",
     "output_type": "stream",
     "text": [
      "To jest użycie funkcji\n",
      "tak\n"
     ]
    }
   ],
   "source": [
    "# Przykład 1\n",
    "def wypisz(lancuch):\n",
    "    print(lancuch)\n",
    "\n",
    "\n",
    "wypisz(\"To jest użycie funkcji\")\n",
    "x = \"tak\"\n",
    "wypisz(x)"
   ]
  },
  {
   "cell_type": "code",
   "execution_count": 91,
   "metadata": {},
   "outputs": [
    {
     "name": "stdout",
     "output_type": "stream",
     "text": [
      "12\n",
      "1\n"
     ]
    }
   ],
   "source": [
    "# Przykład 2 - zwraca wynik\n",
    "def suma(x, y):\n",
    "    return x + y\n",
    "\n",
    "\n",
    "print(suma(4, 8))\n",
    "x = suma(2, -1)\n",
    "print(x)"
   ]
  },
  {
   "cell_type": "markdown",
   "metadata": {},
   "source": [
    "## Wiele rezultatów\n",
    "Jeżeli chcemy aby funkcja zwracała więcej niż jedną zmienną to stosujemy krotkę ,,(zmienna_1, ..., zmienna_n)'':"
   ]
  },
  {
   "cell_type": "code",
   "execution_count": 92,
   "metadata": {},
   "outputs": [
    {
     "name": "stdout",
     "output_type": "stream",
     "text": [
      "(6, -2)\n",
      "(6, -2)\n"
     ]
    }
   ],
   "source": [
    "def f1(a, b):\n",
    "    return a + b, a - b\n",
    "\n",
    "\n",
    "def f2(a, b):\n",
    "    return (a + b, a - b)\n",
    "\n",
    "\n",
    "print(f1(2, 4))\n",
    "print(f2(2, 4))"
   ]
  },
  {
   "cell_type": "markdown",
   "metadata": {},
   "source": [
    "# Zad. 5\n",
    "\n",
    "Napisz funkcje, która zwraca:\n",
    "\n",
    "* sumę,\n",
    "* maximum,\n",
    "* iloczyn \n",
    "\n",
    "elementów listy.\n",
    "\n",
    "OPCJONALNIE: można użyć komendy reduce()"
   ]
  },
  {
   "cell_type": "code",
   "execution_count": 63,
   "metadata": {
    "ExecuteTime": {
     "end_time": "2024-03-21T13:18:10.070669Z",
     "start_time": "2024-03-21T13:18:10.067727Z"
    }
   },
   "outputs": [
    {
     "name": "stdout",
     "output_type": "stream",
     "text": [
      "List:  [1, 2, 3, 4, 5, 6, 7, 8, 9]\n",
      "Sum:\t\t        45\n",
      "Max:\t\t         9\n",
      "Multiply:\t    362880\n"
     ]
    }
   ],
   "source": [
    "from functools import reduce\n",
    "\n",
    "\n",
    "def sum(list):\n",
    "    return reduce(lambda x, y: x + y, list)\n",
    "\n",
    "\n",
    "def max(list):\n",
    "    return reduce(lambda x, y: x if x > y else y, list)\n",
    "\n",
    "\n",
    "def multiply(list):\n",
    "    return reduce(lambda x, y: x * y, list)\n",
    "\n",
    "\n",
    "example_list = list(range(1, 10))\n",
    "\n",
    "print(\"List: \", example_list)\n",
    "print(f\"Sum:\\t\\t{sum(example_list):>10}\")\n",
    "print(f\"Max:\\t\\t{max(example_list):>10}\")\n",
    "print(f\"Multiply:\\t{multiply(example_list):>10}\")\n"
   ]
  },
  {
   "cell_type": "markdown",
   "metadata": {},
   "source": [
    "# Klasy\n",
    "\n",
    "Definicja klasy musi zawierać:\n",
    "\n",
    "* nagłówek klasy:\n",
    "  * nazwę klasy, która pozwoli zidentyfikować klasę w pozostałej części programu,\n",
    "* ciało klasy, zawierające atrybuty i metody, które definiują zachowanie i właściwości obiektów danej klasy.\n",
    "\n",
    "W języku Python składnia definicji klasy jest następująca:\n"
   ]
  },
  {
   "cell_type": "code",
   "execution_count": 93,
   "metadata": {},
   "outputs": [],
   "source": [
    "class Nazwa_klasy:\n",
    "    def funkcja1(self):\n",
    "        pass\n",
    "\n",
    "    def funkcja2(self):\n",
    "        pass"
   ]
  },
  {
   "cell_type": "markdown",
   "metadata": {},
   "source": [
    "Przykład klasy:"
   ]
  },
  {
   "cell_type": "code",
   "execution_count": 94,
   "metadata": {},
   "outputs": [
    {
     "name": "stdout",
     "output_type": "stream",
     "text": [
      "Ilość kół: 4\n",
      "Ilość drzwi: 5\n",
      "Maksymalna prędkość: 200\n",
      "Kolor: czerwony\n",
      "Zmieniono kolor na zielony\n",
      "Aktualna maksymalna prędkość: 220\n",
      "Otwarto drzwi.\n"
     ]
    }
   ],
   "source": [
    "# Przykład 1\n",
    "\n",
    "class Samochody:\n",
    "    def __init__(self, ilosc_kol, ilosc_drzwi, max_predkosc, kolor):\n",
    "        self.ilosc_kol = ilosc_kol\n",
    "        self.ilosc_drzwi = ilosc_drzwi\n",
    "        self.max_predkosc = max_predkosc\n",
    "        self.kolor = kolor\n",
    "\n",
    "    def wyswietl_informacje(self):\n",
    "        print(\"Ilość kół:\", self.ilosc_kol)\n",
    "        print(\"Ilość drzwi:\", self.ilosc_drzwi)\n",
    "        print(\"Maksymalna prędkość:\", self.max_predkosc)\n",
    "        print(\"Kolor:\", self.kolor)\n",
    "\n",
    "    def zmien_kolor(self, nowy_kolor):\n",
    "        self.kolor = nowy_kolor\n",
    "        print(\"Zmieniono kolor na\", self.kolor)\n",
    "\n",
    "    def przyspiesz(self, o_ile):\n",
    "        self.max_predkosc += o_ile\n",
    "        print(\"Aktualna maksymalna prędkość:\", self.max_predkosc)\n",
    "\n",
    "    def otworz_drzwi(self):\n",
    "        if self.ilosc_drzwi >= 1:\n",
    "            print(\"Otwarto drzwi.\")\n",
    "        else:\n",
    "            print(\"Samochód nie ma drzwi.\")\n",
    "\n",
    "\n",
    "# Przykład użycia klasy Samochody\n",
    "moj_samochod = Samochody(4, 5, 200, \"czerwony\")\n",
    "moj_samochod.wyswietl_informacje()\n",
    "moj_samochod.zmien_kolor(\"zielony\")\n",
    "moj_samochod.przyspiesz(20)\n",
    "moj_samochod.otworz_drzwi()\n"
   ]
  },
  {
   "cell_type": "markdown",
   "metadata": {},
   "source": [
    "# Zad. 6\n",
    "\n",
    "Napisz klase, która reprezentuje naukowy artykul:\n",
    "\n",
    "* klassa powinna miec przynajmniej 5 funkcij"
   ]
  },
  {
   "cell_type": "code",
   "execution_count": 94,
   "metadata": {},
   "outputs": [],
   "source": [
    "class Artykul:\n",
    "    def __init__(self, tytul, autor, rok, abstrakt, slowa_kluczowe):\n",
    "        self.tytul = tytul\n",
    "        self.autor = autor\n",
    "        self.rok = rok\n",
    "        self.abstrakt = abstrakt\n",
    "        self.slowa_kluczowe = slowa_kluczowe\n",
    "\n",
    "    def wyswietl_informacje(self):\n",
    "        print(\"Tytuł:\", self.tytul)\n",
    "        print(\"Autor:\", self.autor)\n",
    "        print(\"Rok:\", self.rok)\n",
    "        print(\"Abstrakt:\", self.abstrakt)\n",
    "        print(\"Słowa kluczowe:\", self.slowa_kluczowe)\n",
    "\n",
    "    def zmien_autora(self, nowy_autor):\n",
    "        self.autor = nowy_autor\n",
    "        print(\"Zmieniono autora na\", self.autor)\n",
    "\n",
    "    def zmien_rok(self, nowy_rok):\n",
    "        self.rok = nowy_rok\n",
    "        print(\"Zmieniono rok na\", self.rok)\n",
    "\n",
    "    def zmien_abstrakt(self, nowy_abstrakt):\n",
    "        self.abstrakt = nowy_abstrakt\n",
    "        print(\"Zmieniono abstrakt na\", self.abstrakt)\n",
    "\n",
    "    def zmien_slowa_kluczowe(self, nowe_slowa_kluczowe):\n",
    "        self.slowa_kluczowe = nowe_slowa_kluczowe\n",
    "        print(\"Zmieniono słowa kluczowe na\", self.slowa_kluczowe)"
   ]
  },
  {
   "cell_type": "markdown",
   "metadata": {},
   "source": [
    "# Typy sekwencyjne\n",
    "\n",
    "Sekwencyjne typy danych służą do przechowywaniu wielu wartości w pojedynczej zmiennej (w innych językach nazywane tablicami), w odróżnieniu od typów prostych, takich jak np. int, które w pojedynczej zmiennej mogą zachować tylko jedną wartość. Do typów sekwencyjnych należą: napisy (łańcuchy znaków), listy, krotki."
   ]
  },
  {
   "cell_type": "markdown",
   "metadata": {},
   "source": [
    "# 1. Napisy/łańcuchy\n",
    "Do tej pory poznaliśmy już jeden typ sekwencyjny, mianowicie typ łańcuchowy (łańcuchy znaków). Wartości napisów podajemy w cudzysłowach lub apostrofach:"
   ]
  },
  {
   "cell_type": "code",
   "execution_count": 95,
   "metadata": {},
   "outputs": [
    {
     "name": "stdout",
     "output_type": "stream",
     "text": [
      "T\n",
      "o\n",
      "j\n",
      "s\n",
      "i\n",
      "p\n"
     ]
    }
   ],
   "source": [
    "x = \"To jest napis\"\n",
    "print(x[0])\n",
    "print(x[1])\n",
    "print(x[3])\n",
    "\n",
    "print(x[-1])\n",
    "print(x[-2])\n",
    "print(x[-3])"
   ]
  },
  {
   "cell_type": "code",
   "execution_count": 96,
   "metadata": {},
   "outputs": [
    {
     "name": "stdout",
     "output_type": "stream",
     "text": [
      "13\n"
     ]
    }
   ],
   "source": [
    "x = \"To jest napis\"\n",
    "print(len(x))"
   ]
  },
  {
   "cell_type": "markdown",
   "metadata": {},
   "source": [
    "# 2. Listy\n",
    "Do zapamiętywania sekwencji danych nie będącymi znakami (np. liczby) służy typ sekwencyjny - **lista**. Elementy list mogą być dowolnego typu, to znaczy mogą zawierać zarówno liczby jak i napisy."
   ]
  },
  {
   "cell_type": "code",
   "execution_count": 97,
   "metadata": {},
   "outputs": [
    {
     "name": "stdout",
     "output_type": "stream",
     "text": [
      "[1, 2, 3]\n",
      "[1, 'tak', 5]\n"
     ]
    }
   ],
   "source": [
    "x = [1, 2, 3]\n",
    "y = [1, 'tak', 5]\n",
    "\n",
    "print(x)\n",
    "print(y)"
   ]
  },
  {
   "cell_type": "code",
   "execution_count": 98,
   "metadata": {},
   "outputs": [
    {
     "name": "stdout",
     "output_type": "stream",
     "text": [
      "True\n",
      "False\n",
      "True\n"
     ]
    }
   ],
   "source": [
    "x = [1, 2, 3, 4]\n",
    "\n",
    "print(2 in x)\n",
    "print(3 not in x)\n",
    "print(5 not in x)"
   ]
  },
  {
   "cell_type": "code",
   "execution_count": 99,
   "metadata": {},
   "outputs": [
    {
     "name": "stdout",
     "output_type": "stream",
     "text": [
      "[range(0, 5), [8, -7, -1]]\n",
      "range(0, 5)\n",
      "[8, -7, -1]\n",
      "-7\n"
     ]
    }
   ],
   "source": [
    "x = [range(5), [8, -7, -1]]\n",
    "\n",
    "print(x)\n",
    "print(x[0])\n",
    "print(x[1])\n",
    "print(x[1][1])"
   ]
  },
  {
   "cell_type": "markdown",
   "metadata": {},
   "source": [
    "# Zad. 7\n",
    "\n",
    "Napisać program zamieniający napis na napis „rozstrzelony”, czyli wstawiający spacje przed napisem, pomiędzy literami i po napisie. Przykład: **'Python' → ' P y t h o n '**. "
   ]
  },
  {
   "cell_type": "code",
   "execution_count": 69,
   "metadata": {
    "ExecuteTime": {
     "end_time": "2024-03-21T13:22:41.660507Z",
     "start_time": "2024-03-21T13:22:39.753437Z"
    }
   },
   "outputs": [
    {
     "data": {
      "text/plain": "'w o r d'"
     },
     "execution_count": 69,
     "metadata": {},
     "output_type": "execute_result"
    }
   ],
   "source": [
    "word = input(\"Podaj słowo: \")\n",
    "\" \".join(word)\n"
   ]
  },
  {
   "cell_type": "markdown",
   "metadata": {},
   "source": [
    "# Zad. 8\n",
    "\n",
    "Napisz funkcję **reverse(napis)**, która z napisu będącego jej argumentem tworzy odwrócony napis. Przykładowo, wywołanie reverse(\"hello\") powinno zwrócić napis \"olleh\". "
   ]
  },
  {
   "cell_type": "code",
   "execution_count": 68,
   "metadata": {
    "ExecuteTime": {
     "end_time": "2024-03-21T13:22:26.582274Z",
     "start_time": "2024-03-21T13:22:26.578373Z"
    }
   },
   "outputs": [
    {
     "data": {
      "text/plain": "'elpmaxE'"
     },
     "execution_count": 68,
     "metadata": {},
     "output_type": "execute_result"
    }
   ],
   "source": [
    "def reverse(word):\n",
    "    return word[::-1]\n",
    "\n",
    "\n",
    "example_word = \"Example\"\n",
    "reverse(example_word)"
   ]
  },
  {
   "cell_type": "markdown",
   "metadata": {},
   "source": [
    "## Moduły i pakiety\n",
    "Moduł to plik w Pythonie zawierający definicję klas, funkcji, stałych i zmiennych. Definicje zawarte w module mogą być zaimportowane do innych modułów lub do modułu głównego. Wewnątrz modułu jego nazwa dostępna jest jako wartość zmiennej globalnej **<tt>\\__name__</tt>**."
   ]
  },
  {
   "cell_type": "markdown",
   "metadata": {},
   "source": [
    "## Wybrane pakiety, moduły:\n",
    "\n",
    "* random - moduł ten zawiera funkcje obsługujące generowanie liczb pseudolosowych:"
   ]
  },
  {
   "cell_type": "code",
   "execution_count": 76,
   "metadata": {
    "ExecuteTime": {
     "end_time": "2024-03-21T13:23:29.787705Z",
     "start_time": "2024-03-21T13:23:29.785258Z"
    }
   },
   "outputs": [
    {
     "name": "stdout",
     "output_type": "stream",
     "text": [
      "6\n",
      "2\n",
      "7\n"
     ]
    }
   ],
   "source": [
    "import random\n",
    "\n",
    "random.seed()  # inicjalizacja generatora liczb pseudolosowych, przydatne do powtarzania eksperymentów, możemy ustaić\n",
    "# seed na stałą liczbe dzięki czemu liczby raz zostana wylosowane i potem będą się za każdym razem losowały takie same\n",
    "\n",
    "# losowanie liczb całkowitych z zakresu od..do.\n",
    "print(random.randint(1, 10))\n",
    "print(random.randint(1, 10))\n",
    "print(random.randint(1, 10))"
   ]
  },
  {
   "cell_type": "markdown",
   "metadata": {},
   "source": [
    "* **math** - moduł ten zawiera definicje najczęściej używanych funkcji matematycznych:"
   ]
  },
  {
   "cell_type": "code",
   "execution_count": 101,
   "metadata": {},
   "outputs": [
    {
     "name": "stdout",
     "output_type": "stream",
     "text": [
      "5\n",
      "4\n",
      "3.0\n",
      "(0.5, 2.0)\n",
      "7.38905609893065\n",
      "1.0\n",
      "3.0\n",
      "1.5\n",
      "0.0\n",
      "0.5403023058681398\n"
     ]
    }
   ],
   "source": [
    "from math import *\n",
    "\n",
    "print(ceil(4.7))  # zwraca sufit liczby rzeczywistej\n",
    "print(floor(4.7))  # zwraca podłogę liczby rzeczywistej\n",
    "print(fabs(-3))  # zwraca wartość absolutną liczby rzeczywistej\n",
    "print(modf(2.5))  # zwraca krotkę zawierającą część ułamkową i całkowitą liczby rzeczywistej\n",
    "print(exp(2))  # zwraca e do potęgi x\n",
    "print(log(e))  # zwraca logarytm naturalny\n",
    "print(log(8, 2))  # zwraca logarytm o podstawie 2 (drugi parametr)\n",
    "print(sqrt(2.25))  # zwraca pierwiastek kwadratowy\n",
    "print(acos(1))\n",
    "print(cos(1))"
   ]
  },
  {
   "cell_type": "markdown",
   "metadata": {},
   "source": [
    "\n",
    "# Zad. 9\n",
    "\n",
    "Wyestymować wartość liczby $\\pi$ metodą Monte Carlo.\n",
    "\n",
    "Pole kwadratu to $4r^2$, a pole koła wynosi $\\pi r^2$. W takim razie stosunek:\n",
    "$$\n",
    "\\frac{P_{kola}}{P_{kwadratu}} = \\frac{\\pi r^2}{4 r^2} = \\frac{\\pi}{4}.\n",
    "$$\n",
    "W konsekwencji: \n",
    "$$\n",
    "\\pi = 4 \\frac{P_{kola}}{P_{kwadratu}}.\n",
    "$$\n",
    "\n",
    "Jeżeli będziemy losować punkty o współrzędnych od $-2r$ do $2r$, to stosunek liczby punktów zawierających się w kole o środku w punkcie $(0,0)$ i promieniu $r$ do wszystkich wylosowanych punktów, będzie dążył w nieskończoności (z pewnym prawdopodobieństwem) do stosunku tego pola koła do koła kwadratu o boku $2r$.\n",
    "\n",
    "Cała metoda sprowadza się więc do tego, by losować punkty i sprawdzać, czy mieszczą się w kole. "
   ]
  },
  {
   "cell_type": "code",
   "execution_count": 91,
   "metadata": {
    "ExecuteTime": {
     "end_time": "2024-03-21T13:35:55.595333Z",
     "start_time": "2024-03-21T13:35:55.054671Z"
    }
   },
   "outputs": [
    {
     "data": {
      "text/plain": "3.14162"
     },
     "execution_count": 91,
     "metadata": {},
     "output_type": "execute_result"
    }
   ],
   "source": [
    "def in_circle(r, point):\n",
    "    return True if point[0] ** 2 + point[1] ** 2 <= r ** 2 else False\n",
    "\n",
    "\n",
    "def estimate_pi(r, iter_num):\n",
    "    points_in_circle_num = 0\n",
    "    for _ in range(iter_num):\n",
    "        point = (random.uniform(-r, r), random.uniform(-r, r))\n",
    "        if in_circle(r, point):\n",
    "            points_in_circle_num += 1\n",
    "\n",
    "    return 4 * points_in_circle_num / iter_num\n",
    "\n",
    "\n",
    "estimate_pi(2, 1_000_000)\n",
    "\n"
   ]
  },
  {
   "cell_type": "markdown",
   "source": [
    "Tutaj chyba błąd w treści mianowicie: mowa jest o losowaniu z kwadratu o długości `2r` więc losuje z zakresu `[-r,r]` a w treści podane `od -2r do 2r` więć kwadrat opisany na kole ma długość `4r` i obliczenia nie są poprawne"
   ],
   "metadata": {
    "collapsed": false
   }
  },
  {
   "cell_type": "code",
   "outputs": [],
   "source": [],
   "metadata": {
    "collapsed": false
   }
  }
 ],
 "metadata": {
  "kernelspec": {
   "display_name": "Python 3 (ipykernel)",
   "language": "python",
   "name": "python3"
  },
  "language_info": {
   "codemirror_mode": {
    "name": "ipython",
    "version": 3
   },
   "file_extension": ".py",
   "mimetype": "text/x-python",
   "name": "python",
   "nbconvert_exporter": "python",
   "pygments_lexer": "ipython3",
   "version": "3.10.9"
  }
 },
 "nbformat": 4,
 "nbformat_minor": 1
}
