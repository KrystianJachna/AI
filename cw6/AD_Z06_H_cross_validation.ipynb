{
 "cells": [
  {
   "cell_type": "markdown",
   "metadata": {
    "collapsed": true,
    "jupyter": {
     "outputs_hidden": true
    }
   },
   "source": [
    "# Regresja"
   ]
  },
  {
   "cell_type": "code",
   "metadata": {
    "ExecuteTime": {
     "end_time": "2024-04-19T10:39:17.744925Z",
     "start_time": "2024-04-19T10:39:17.113786Z"
    }
   },
   "source": [
    "import warnings\n",
    "from typing import Literal\n",
    "\n",
    "import matplotlib.pyplot as plt\n",
    "import numpy as np\n",
    "import pandas as pd\n",
    "from sklearn import metrics, model_selection\n",
    "from sklearn.linear_model import ElasticNet, Lasso, LinearRegression, Ridge\n",
    "from sklearn.model_selection import GridSearchCV\n",
    "from sklearn.pipeline import Pipeline, make_pipeline\n",
    "from sklearn.preprocessing import PolynomialFeatures"
   ],
   "outputs": [],
   "execution_count": 1
  },
  {
   "cell_type": "markdown",
   "metadata": {},
   "source": [
    "Rozważmy zbiór Boston"
   ]
  },
  {
   "cell_type": "code",
   "metadata": {
    "ExecuteTime": {
     "end_time": "2024-04-19T10:39:19.185259Z",
     "start_time": "2024-04-19T10:39:17.746122Z"
    }
   },
   "source": [
    "data_url = \"http://lib.stat.cmu.edu/datasets/boston\"\n",
    "boston = pd.read_csv(data_url, sep=\"\\s+\", skiprows=22, header=None)"
   ],
   "outputs": [],
   "execution_count": 2
  },
  {
   "cell_type": "code",
   "metadata": {
    "ExecuteTime": {
     "end_time": "2024-04-19T10:39:19.188495Z",
     "start_time": "2024-04-19T10:39:19.186Z"
    }
   },
   "source": [
    "# get the data\n",
    "\n",
    "boston_X = np.hstack([boston.values[::2, :], boston.values[1::2, :2]])\n",
    "boston_Y = boston.values[1::2, 2]"
   ],
   "outputs": [],
   "execution_count": 3
  },
  {
   "cell_type": "markdown",
   "metadata": {},
   "source": [
    "Podzielmy zbiór na część testową i treningową ."
   ]
  },
  {
   "cell_type": "code",
   "metadata": {
    "ExecuteTime": {
     "end_time": "2024-04-19T10:39:19.204902Z",
     "start_time": "2024-04-19T10:39:19.189336Z"
    }
   },
   "source": [
    "# Split the data into training/testing sets\n",
    "boston_X_train = boston_X[:-50]\n",
    "boston_X_test = boston_X[-50:]\n",
    "\n",
    "# Split the targets into training/testing sets\n",
    "boston_y_train = boston_Y[:-50]\n",
    "boston_y_test = boston_Y[-50:]"
   ],
   "outputs": [],
   "execution_count": 4
  },
  {
   "cell_type": "code",
   "metadata": {
    "ExecuteTime": {
     "end_time": "2024-04-19T10:39:19.213951Z",
     "start_time": "2024-04-19T10:39:19.206081Z"
    }
   },
   "source": [
    "X = boston_X_train\n",
    "y = boston_y_train"
   ],
   "outputs": [],
   "execution_count": 5
  },
  {
   "cell_type": "markdown",
   "metadata": {},
   "source": [
    "# Zadanie\n",
    "Znajdż najleprzy model dzieląc na zbiór testowy i terningowy.\n"
   ]
  },
  {
   "cell_type": "code",
   "metadata": {
    "ExecuteTime": {
     "end_time": "2024-04-19T10:39:19.222802Z",
     "start_time": "2024-04-19T10:39:19.214872Z"
    }
   },
   "source": [
    "seed = 123\n",
    "kfold = model_selection.KFold(n_splits=5, shuffle=True, random_state=seed)"
   ],
   "outputs": [],
   "execution_count": 6
  },
  {
   "cell_type": "code",
   "metadata": {
    "ExecuteTime": {
     "end_time": "2024-04-19T10:39:30.112276Z",
     "start_time": "2024-04-19T10:39:19.223725Z"
    }
   },
   "source": [
    "grid_1 = GridSearchCV(\n",
    "    make_pipeline(PolynomialFeatures(), ElasticNet(random_state=seed)),\n",
    "    param_grid={'polynomialfeatures__degree': [1, 2, 3, 4],\n",
    "                'elasticnet__alpha': [0.01, 0.1, 1, 10]},\n",
    "    cv=kfold,\n",
    "    refit=True\n",
    ")\n",
    "with warnings.catch_warnings():\n",
    "    warnings.simplefilter(\"ignore\")\n",
    "    grid_1.fit(X, y)\n",
    "\n",
    "deg, alpha = grid_1.best_params_['polynomialfeatures__degree'], grid_1.best_params_['elasticnet__alpha']\n",
    "\n",
    "print(f\"Best parameters: degree={deg}, alpha={alpha}\")"
   ],
   "outputs": [
    {
     "name": "stdout",
     "output_type": "stream",
     "text": [
      "Best parameters: degree=2, alpha=0.1\n"
     ]
    }
   ],
   "execution_count": 7
  },
  {
   "cell_type": "code",
   "metadata": {
    "ExecuteTime": {
     "end_time": "2024-04-19T10:39:30.119867Z",
     "start_time": "2024-04-19T10:39:30.113193Z"
    }
   },
   "source": [
    "grid_1.cv_results_['mean_test_score'].reshape(4, -1)"
   ],
   "outputs": [
    {
     "data": {
      "text/plain": [
       "array([[0.70805942, 0.81680208, 0.74702819, 0.63462343],\n",
       "       [0.70014515, 0.83003047, 0.73343859, 0.63043122],\n",
       "       [0.66429641, 0.82359064, 0.75795199, 0.61636726],\n",
       "       [0.52367919, 0.80580758, 0.7581234 , 0.61997622]])"
      ]
     },
     "execution_count": 8,
     "metadata": {},
     "output_type": "execute_result"
    }
   ],
   "execution_count": 8
  },
  {
   "cell_type": "code",
   "metadata": {
    "ExecuteTime": {
     "end_time": "2024-04-19T10:39:30.226158Z",
     "start_time": "2024-04-19T10:39:30.120821Z"
    }
   },
   "source": [
    "plt.matshow(grid_1.cv_results_['mean_test_score'].reshape(4, -1),\n",
    "            vmin=0, cmap=\"viridis\")\n",
    "\n",
    "plt.xticks(np.arange(4), [0.01, 0.1, 1, 10])\n",
    "plt.yticks(np.arange(4), [1, 2, 3, 4])\n",
    "plt.xlabel(\"elasticnet__alpha\")\n",
    "plt.ylabel(\"polynomialfeatures__degree\")\n",
    "plt.show()"
   ],
   "outputs": [
    {
     "data": {
      "text/plain": [
       "<Figure size 480x480 with 1 Axes>"
      ],
      "image/png": "[encoded data removed]"
     },
     "metadata": {},
     "output_type": "display_data"
    }
   ],
   "execution_count": 9
  },
  {
   "cell_type": "code",
   "metadata": {
    "ExecuteTime": {
     "end_time": "2024-04-19T10:39:30.230997Z",
     "start_time": "2024-04-19T10:39:30.226990Z"
    }
   },
   "source": [
    "from sklearn import metrics\n",
    "\n",
    "X_test = boston_X_test\n",
    "y_test = boston_y_test\n",
    "\n",
    "reg_models = {\n",
    "    'lr': LinearRegression(),\n",
    "    'elasticnet': ElasticNet(),\n",
    "    'lasso': Lasso(),\n",
    "    'ridge': Ridge()\n",
    "}\n",
    "\n",
    "\n",
    "def best_fit(reg_model: Literal['elasticnet', 'lasso', 'ridge', 'lr']) -> Pipeline:\n",
    "    param_grid = {\n",
    "        'polynomialfeatures__degree': [1, 2, 3, 4],\n",
    "    }\n",
    "    if reg_model != 'lr':\n",
    "        param_grid[f'{reg_model}__alpha'] = [0.01, 0.1, 1, 10]\n",
    "\n",
    "    grid = GridSearchCV(\n",
    "        make_pipeline(PolynomialFeatures(), reg_models[reg_model]),\n",
    "        param_grid=param_grid,\n",
    "        cv=kfold,\n",
    "        scoring=\"neg_mean_squared_error\"\n",
    "    )\n",
    "    grid.fit(X, y)\n",
    "    best_degree = grid.best_params_['polynomialfeatures__degree']\n",
    "    best_alpha = grid.best_params_.get(f'{reg_model}__alpha', 'not applicable') \n",
    "    return grid.best_estimator_, best_alpha, best_degree\n",
    "\n",
    "def get_measures(model: Pipeline) -> tuple[float, float, float, float, float]:\n",
    "    y_pred = model.predict(X_test)\n",
    "    return (\n",
    "        metrics.r2_score(y_test, y_pred),\n",
    "        metrics.explained_variance_score(y_test, y_pred),\n",
    "        metrics.median_absolute_error(y_test, y_pred),\n",
    "        metrics.mean_squared_error(y_test, y_pred),\n",
    "        metrics.mean_absolute_error(y_test, y_pred)\n",
    "    )"
   ],
   "outputs": [],
   "execution_count": 10
  },
  {
   "cell_type": "code",
   "metadata": {
    "ExecuteTime": {
     "end_time": "2024-04-19T10:39:56.992483Z",
     "start_time": "2024-04-19T10:39:30.231690Z"
    }
   },
   "source": [
    "df = pd.DataFrame(\n",
    "    columns=[\n",
    "        'Method', 'Degree', 'Alpha', 'R2', 'Explained variance', 'Median absolute error', 'Mean squared error', 'Mean absolute error'\n",
    "    ]\n",
    ")\n",
    "\n",
    "for i, reg in enumerate(reg_models.keys()):\n",
    "    with warnings.catch_warnings():\n",
    "        warnings.simplefilter(\"ignore\")\n",
    "        model, alpha, deg = best_fit(reg.lower())\n",
    "    r2, evs, mae, mse, mae = get_measures(model)\n",
    "    df.loc[i] = [reg, deg, alpha, r2, evs, mae, mse, mae]\n",
    "\n",
    "df.head()"
   ],
   "outputs": [
    {
     "data": {
      "text/plain": [
       "       Method  Degree           Alpha        R2  Explained variance  \\\n",
       "0          lr       2  not applicable -3.841594           -2.783637   \n",
       "1  elasticnet       2             0.1 -1.289418           -1.271541   \n",
       "2       lasso       2             0.1 -1.340562           -1.333650   \n",
       "3       ridge       2            0.01 -2.084505           -1.856149   \n",
       "\n",
       "   Median absolute error  Mean squared error  Mean absolute error  \n",
       "0               6.162484           91.326502             6.162484  \n",
       "1               4.829785           43.185069             4.829785  \n",
       "2               4.883117           44.149789             4.883117  \n",
       "3               4.910185           58.182701             4.910185  "
      ],
      "text/html": [
       "<div>\n",
       "<style scoped>\n",
       "    .dataframe tbody tr th:only-of-type {\n",
       "        vertical-align: middle;\n",
       "    }\n",
       "\n",
       "    .dataframe tbody tr th {\n",
       "        vertical-align: top;\n",
       "    }\n",
       "\n",
       "    .dataframe thead th {\n",
       "        text-align: right;\n",
       "    }\n",
       "</style>\n",
       "<table border=\"1\" class=\"dataframe\">\n",
       "  <thead>\n",
       "    <tr style=\"text-align: right;\">\n",
       "      <th></th>\n",
       "      <th>Method</th>\n",
       "      <th>Degree</th>\n",
       "      <th>Alpha</th>\n",
       "      <th>R2</th>\n",
       "      <th>Explained variance</th>\n",
       "      <th>Median absolute error</th>\n",
       "      <th>Mean squared error</th>\n",
       "      <th>Mean absolute error</th>\n",
       "    </tr>\n",
       "  </thead>\n",
       "  <tbody>\n",
       "    <tr>\n",
       "      <th>0</th>\n",
       "      <td>lr</td>\n",
       "      <td>2</td>\n",
       "      <td>not applicable</td>\n",
       "      <td>-3.841594</td>\n",
       "      <td>-2.783637</td>\n",
       "      <td>6.162484</td>\n",
       "      <td>91.326502</td>\n",
       "      <td>6.162484</td>\n",
       "    </tr>\n",
       "    <tr>\n",
       "      <th>1</th>\n",
       "      <td>elasticnet</td>\n",
       "      <td>2</td>\n",
       "      <td>0.1</td>\n",
       "      <td>-1.289418</td>\n",
       "      <td>-1.271541</td>\n",
       "      <td>4.829785</td>\n",
       "      <td>43.185069</td>\n",
       "      <td>4.829785</td>\n",
       "    </tr>\n",
       "    <tr>\n",
       "      <th>2</th>\n",
       "      <td>lasso</td>\n",
       "      <td>2</td>\n",
       "      <td>0.1</td>\n",
       "      <td>-1.340562</td>\n",
       "      <td>-1.333650</td>\n",
       "      <td>4.883117</td>\n",
       "      <td>44.149789</td>\n",
       "      <td>4.883117</td>\n",
       "    </tr>\n",
       "    <tr>\n",
       "      <th>3</th>\n",
       "      <td>ridge</td>\n",
       "      <td>2</td>\n",
       "      <td>0.01</td>\n",
       "      <td>-2.084505</td>\n",
       "      <td>-1.856149</td>\n",
       "      <td>4.910185</td>\n",
       "      <td>58.182701</td>\n",
       "      <td>4.910185</td>\n",
       "    </tr>\n",
       "  </tbody>\n",
       "</table>\n",
       "</div>"
      ]
     },
     "execution_count": 11,
     "metadata": {},
     "output_type": "execute_result"
    }
   ],
   "execution_count": 11
  },
  {
   "metadata": {
    "ExecuteTime": {
     "end_time": "2024-04-19T10:39:56.997839Z",
     "start_time": "2024-04-19T10:39:56.993351Z"
    }
   },
   "cell_type": "code",
   "source": [
    "print(\"Best model:\")\n",
    "df.loc[df['R2'].idxmax()]"
   ],
   "outputs": [
    {
     "name": "stdout",
     "output_type": "stream",
     "text": [
      "Best model:\n"
     ]
    },
    {
     "data": {
      "text/plain": [
       "Method                   elasticnet\n",
       "Degree                            2\n",
       "Alpha                           0.1\n",
       "R2                        -1.289418\n",
       "Explained variance        -1.271541\n",
       "Median absolute error      4.829785\n",
       "Mean squared error        43.185069\n",
       "Mean absolute error        4.829785\n",
       "Name: 1, dtype: object"
      ]
     },
     "execution_count": 12,
     "metadata": {},
     "output_type": "execute_result"
    }
   ],
   "execution_count": 12
  }
 ],
 "metadata": {
  "kernelspec": {
   "display_name": "Python 3 (ipykernel)",
   "language": "python",
   "name": "python3"
  },
  "language_info": {
   "codemirror_mode": {
    "name": "ipython",
    "version": 3
   },
   "file_extension": ".py",
   "mimetype": "text/x-python",
   "name": "python",
   "nbconvert_exporter": "python",
   "pygments_lexer": "ipython3",
   "version": "3.10.13"
  }
 },
 "nbformat": 4,
 "nbformat_minor": 4
}
