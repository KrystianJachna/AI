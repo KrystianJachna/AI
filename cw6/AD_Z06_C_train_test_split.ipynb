{
 "cells": [
  {
   "cell_type": "markdown",
   "metadata": {},
   "source": [
    "# Train test split\n"
   ]
  },
  {
   "cell_type": "code",
   "metadata": {
    "ExecuteTime": {
     "end_time": "2024-04-19T12:36:45.634004Z",
     "start_time": "2024-04-19T12:36:44.858550Z"
    }
   },
   "source": [
    "import numpy as np\n",
    "import pandas as pd\n",
    "import scipy.stats as stats\n",
    "import sklearn.linear_model as lm\n",
    "from sklearn import datasets, linear_model\n",
    "import matplotlib.pyplot as plt\n",
    "\n",
    "from sklearn.preprocessing import PolynomialFeatures\n",
    "from sklearn.pipeline import make_pipeline\n",
    "\n",
    "from sklearn import  metrics"
   ],
   "outputs": [],
   "execution_count": 1
  },
  {
   "cell_type": "markdown",
   "metadata": {},
   "source": [
    "Rozważmy następujący zbiór punktów:"
   ]
  },
  {
   "cell_type": "code",
   "metadata": {
    "ExecuteTime": {
     "end_time": "2024-04-19T12:36:45.738264Z",
     "start_time": "2024-04-19T12:36:45.635152Z"
    }
   },
   "source": [
    "x = stats.uniform(0,3).rvs(100)\n",
    "f = lambda x: ((x*2-1)*(x**2-2)*(x-2)+3)\n",
    "y = f(x) + stats.norm(0,0.3).rvs(len(x))\n",
    "plt.plot(x, y, 'ok', ms=10);\n",
    "plt.show()"
   ],
   "outputs": [
    {
     "data": {
      "text/plain": [
       "<Figure size 640x480 with 1 Axes>"
      ],
      "image/png": "[encoded data removed]"
     },
     "metadata": {},
     "output_type": "display_data"
    }
   ],
   "execution_count": 2
  },
  {
   "cell_type": "markdown",
   "metadata": {},
   "source": [
    "# Przykład\n",
    "Podziel zbiór danych na część testową i treningową. \n",
    "Naucz model na części treningowej i ocen wyniki na części testowej."
   ]
  },
  {
   "cell_type": "code",
   "metadata": {
    "ExecuteTime": {
     "end_time": "2024-04-19T12:36:45.743864Z",
     "start_time": "2024-04-19T12:36:45.739034Z"
    }
   },
   "source": [
    "from sklearn.model_selection import train_test_split\n",
    "X_train, X_test, y_train, y_test = train_test_split(x, y, test_size=0.4, random_state=0)\n",
    "\n",
    "print(X_train.shape, y_train.shape)\n",
    "print(X_test.shape, y_test.shape)"
   ],
   "outputs": [
    {
     "name": "stdout",
     "output_type": "stream",
     "text": [
      "(60,) (60,)\n",
      "(40,) (40,)\n"
     ]
    }
   ],
   "execution_count": 3
  },
  {
   "cell_type": "code",
   "metadata": {
    "ExecuteTime": {
     "end_time": "2024-04-19T12:36:45.753362Z",
     "start_time": "2024-04-19T12:36:45.745216Z"
    }
   },
   "source": [
    "X_train=np.vstack(X_train)\n",
    "X_test=np.vstack(X_test)"
   ],
   "outputs": [],
   "execution_count": 4
  },
  {
   "cell_type": "code",
   "metadata": {
    "ExecuteTime": {
     "end_time": "2024-04-19T12:36:45.766292Z",
     "start_time": "2024-04-19T12:36:45.755217Z"
    }
   },
   "source": [
    "model2 = make_pipeline(PolynomialFeatures(30), linear_model.LinearRegression())\n",
    "model2.fit(X_train, y_train)\n",
    "model2.predict(X_test)"
   ],
   "outputs": [
    {
     "data": {
      "text/plain": [
       "array([ 3.5091572 ,  2.48751141,  3.96840896,  1.48644599,  1.48140152,\n",
       "        1.14205159,  4.03931621, 22.84768296,  3.78176559,  3.39665532,\n",
       "        3.40866411,  3.01914938, 27.80105258,  3.78374368, 34.07203127,\n",
       "        4.04776266,  4.02770715, 19.21798841,  2.72409228,  9.5220954 ,\n",
       "       14.01787479,  3.6522062 , 20.71609534, 11.47244202,  2.33008339,\n",
       "        3.59382549,  2.51844945,  2.78307974, 12.85649566,  3.29366092,\n",
       "        3.64255013,  4.0149564 , 20.36722414,  2.6340031 ,  3.22105322,\n",
       "        7.63355451,  3.03639603,  3.52072508, 28.09230662,  2.24203079])"
      ]
     },
     "execution_count": 5,
     "metadata": {},
     "output_type": "execute_result"
    }
   ],
   "execution_count": 5
  },
  {
   "cell_type": "code",
   "metadata": {
    "ExecuteTime": {
     "end_time": "2024-04-19T12:36:45.780147Z",
     "start_time": "2024-04-19T12:36:45.767177Z"
    }
   },
   "source": [
    "print(\"Explained variance score: {}\".format( metrics.explained_variance_score(y_test, model2.predict(X_test)) ))\n",
    "print(\"Explained variance score: {}\".format( metrics.explained_variance_score(y_test, model2.predict(X_test)) ))\n",
    "print(\"Median absolute error: {}\".format( metrics.median_absolute_error(y_test, model2.predict(X_test)) ))\n",
    "print(\"Mean squared error: {}\".format( metrics.mean_squared_error(y_test, model2.predict(X_test)) ))\n",
    "print(\"Mean absolute errors: {}\".format(metrics.mean_absolute_error(y_test, model2.predict(X_test)) ))"
   ],
   "outputs": [
    {
     "name": "stdout",
     "output_type": "stream",
     "text": [
      "Explained variance score: 0.9876263025275976\n",
      "Explained variance score: 0.9876263025275976\n",
      "Median absolute error: 0.21316315051985824\n",
      "Mean squared error: 1.1198971133831064\n",
      "Mean absolute errors: 0.484317142793266\n"
     ]
    }
   ],
   "execution_count": 6
  },
  {
   "cell_type": "markdown",
   "metadata": {},
   "source": [
    "# Zadanie\n",
    "Wylicz powyższe miary dla wszytkich modeli:\n",
    "\n",
    "- regrsji linowej\n",
    "- regrsji wielomianowej stopnia 2\n",
    "- regrsji wielomianowej stopnia 3\n",
    "- regrsji wielomianowej stopnia 4\n",
    "- regrsji wielomianowej stopnia 5\n",
    "- regrsji wielomianowej stopnia 25"
   ]
  },
  {
   "cell_type": "code",
   "metadata": {
    "collapsed": true,
    "jupyter": {
     "outputs_hidden": true
    },
    "ExecuteTime": {
     "end_time": "2024-04-19T12:36:45.806526Z",
     "start_time": "2024-04-19T12:36:45.781519Z"
    }
   },
   "source": [
    "for deg in [1,2,3,4,5,25]:\n",
    "    model = make_pipeline(PolynomialFeatures(deg), linear_model.LinearRegression())\n",
    "    model.fit(X_train, y_train)\n",
    "    \n",
    "    EVS = metrics.explained_variance_score(y_test, model.predict(X_test))\n",
    "    MAE = metrics.median_absolute_error(y_test, model.predict(X_test))\n",
    "    MSE = metrics.mean_squared_error(y_test, model.predict(X_test))\n",
    "    MAE = metrics.mean_absolute_error(y_test, model.predict(X_test))\n",
    "    \n",
    "    print(f'def={deg}\\t| EVS={EVS:6.5}\\t| MAE={MAE:6.5}\\t| MSE={MSE:6.5}\\t| MAE={MAE:6.5}')\n",
    "\n",
    "print(\"\\n\\nMAE - Mean Absolute Error\\nMSE - Mean Squared Error\\nMedAE - Median Absolute Error\\nR2 - R^2\\nEVS - Explained Variance Score\")"
   ],
   "outputs": [
    {
     "name": "stdout",
     "output_type": "stream",
     "text": [
      "def=1\t| EVS=0.57102\t| MAE=4.5428\t| MSE=36.932\t| MAE=4.5428\n",
      "def=2\t| EVS=0.85126\t| MAE=3.0159\t| MSE=12.649\t| MAE=3.0159\n",
      "def=3\t| EVS=0.9919\t| MAE=0.64722\t| MSE=0.67709\t| MAE=0.64722\n",
      "def=4\t| EVS=0.99888\t| MAE=0.25099\t| MSE=0.09485\t| MAE=0.25099\n",
      "def=5\t| EVS=0.99887\t| MAE=0.25467\t| MSE=0.096489\t| MAE=0.25467\n",
      "def=25\t| EVS=0.98781\t| MAE=0.48118\t| MSE=1.0984\t| MAE=0.48118\n",
      "\n",
      "\n",
      "MAE - Mean Absolute Error\n",
      "MSE - Mean Squared Error\n",
      "MedAE - Median Absolute Error\n",
      "R2 - R^2\n",
      "EVS - Explained Variance Score\n"
     ]
    }
   ],
   "execution_count": 7
  }
 ],
 "metadata": {
  "kernelspec": {
   "display_name": "Python 3 (ipykernel)",
   "language": "python",
   "name": "python3"
  },
  "language_info": {
   "codemirror_mode": {
    "name": "ipython",
    "version": 3
   },
   "file_extension": ".py",
   "mimetype": "text/x-python",
   "name": "python",
   "nbconvert_exporter": "python",
   "pygments_lexer": "ipython3",
   "version": "3.10.13"
  }
 },
 "nbformat": 4,
 "nbformat_minor": 4
}
