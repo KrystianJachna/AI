{
 "cells": [
  {
   "cell_type": "markdown",
   "metadata": {
    "collapsed": true,
    "jupyter": {
     "outputs_hidden": true
    }
   },
   "source": [
    "# Regresja"
   ]
  },
  {
   "cell_type": "code",
   "metadata": {
    "ExecuteTime": {
     "end_time": "2024-04-18T16:51:44.130562Z",
     "start_time": "2024-04-18T16:51:44.126154Z"
    }
   },
   "source": [
    "import numpy as np\n",
    "import matplotlib.pyplot as plt\n",
    "from sklearn import datasets\n",
    "from sklearn.model_selection import cross_val_predict\n",
    "from sklearn import linear_model\n",
    "import matplotlib.pyplot as plt\n",
    "import pandas as pd\n",
    "from sklearn.model_selection import GridSearchCV\n",
    "from sklearn import linear_model\n",
    "from sklearn.preprocessing import PolynomialFeatures\n",
    "from sklearn.linear_model import Ridge\n",
    "from sklearn.linear_model import LinearRegression\n",
    "from sklearn.linear_model import Lasso\n",
    "from sklearn.linear_model import ElasticNet\n",
    "from sklearn.pipeline import make_pipeline\n",
    "from sklearn import model_selection\n",
    "from sklearn.model_selection import cross_val_score\n",
    "import warnings\n",
    "from typing import Literal\n",
    "\n",
    "import matplotlib.pyplot as plt\n",
    "import numpy as np\n",
    "import pandas as pd\n",
    "from sklearn import metrics, model_selection\n",
    "from sklearn.linear_model import ElasticNet, Lasso, LinearRegression, Ridge\n",
    "from sklearn.model_selection import GridSearchCV\n",
    "from sklearn.pipeline import Pipeline, make_pipeline\n",
    "from sklearn.preprocessing import PolynomialFeatures\n"
   ],
   "outputs": [],
   "execution_count": 32
  },
  {
   "cell_type": "markdown",
   "metadata": {},
   "source": [
    "Rozważmy zbiór Boston"
   ]
  },
  {
   "cell_type": "code",
   "metadata": {
    "ExecuteTime": {
     "end_time": "2024-04-18T16:44:39.942881Z",
     "start_time": "2024-04-18T16:44:39.233551Z"
    }
   },
   "source": [
    "data_url = \"http://lib.stat.cmu.edu/datasets/boston\"\n",
    "boston = pd.read_csv(data_url, sep=\"\\s+\", skiprows=22, header=None)"
   ],
   "outputs": [],
   "execution_count": 20
  },
  {
   "cell_type": "code",
   "metadata": {
    "ExecuteTime": {
     "end_time": "2024-04-18T16:44:40.808509Z",
     "start_time": "2024-04-18T16:44:40.800494Z"
    }
   },
   "source": [
    "# get the data\n",
    "boston_X = np.hstack([boston.values[::2, :], boston.values[1::2, :2]])\n",
    "boston_Y = boston.values[1::2, 2]"
   ],
   "outputs": [],
   "execution_count": 21
  },
  {
   "cell_type": "code",
   "metadata": {
    "ExecuteTime": {
     "end_time": "2024-04-18T16:44:42.393823Z",
     "start_time": "2024-04-18T16:44:42.391090Z"
    }
   },
   "source": [
    "X=boston_X\n",
    "y=boston_Y"
   ],
   "outputs": [],
   "execution_count": 22
  },
  {
   "cell_type": "markdown",
   "metadata": {},
   "source": [
    "# Zadanie\n",
    "Znajdż najleprzy model za pomocą podwujną cross-validation (nested cross-validation, double cross-validation) .\n"
   ]
  },
  {
   "cell_type": "code",
   "metadata": {
    "ExecuteTime": {
     "end_time": "2024-04-18T16:44:44.058007Z",
     "start_time": "2024-04-18T16:44:44.050849Z"
    }
   },
   "source": [
    "seed=123\n",
    "kfold = model_selection.KFold(n_splits=5, shuffle=True, random_state=seed)\n",
    "kfold1 = model_selection.KFold(n_splits=5, shuffle=True, random_state=seed)"
   ],
   "outputs": [],
   "execution_count": 23
  },
  {
   "metadata": {
    "ExecuteTime": {
     "end_time": "2024-04-18T16:52:02.127426Z",
     "start_time": "2024-04-18T16:52:02.123232Z"
    }
   },
   "cell_type": "code",
   "source": [
    "reg_models = {\n",
    "    'lr': LinearRegression(),\n",
    "    'elasticnet': ElasticNet(),\n",
    "    'lasso': Lasso(),\n",
    "    'ridge': Ridge()\n",
    "}\n",
    "\n",
    "def best_fit(reg_model: Literal['elasticnet', 'lasso', 'ridge', 'lr']) -> Pipeline:\n",
    "    param_grid = {\n",
    "        'polynomialfeatures__degree': [1, 2, 3, 4],\n",
    "    }\n",
    "    if reg_model != 'lr':\n",
    "        param_grid[f'{reg_model}__alpha'] = [0.01, 0.1, 1, 10]\n",
    "\n",
    "    grid = GridSearchCV(\n",
    "        make_pipeline(PolynomialFeatures(), reg_models[reg_model]),\n",
    "        param_grid=param_grid,\n",
    "        cv=kfold,\n",
    "        scoring=\"r2\"\n",
    "    )\n",
    "    \n",
    "    with warnings.catch_warnings():\n",
    "        warnings.simplefilter(\"ignore\")\n",
    "        grid.fit(X, y)\n",
    "        scores = cross_val_score(grid, X, y, scoring='r2', cv=kfold1)\n",
    "        \n",
    "    return grid.best_estimator_, scores.mean(), scores.std()"
   ],
   "outputs": [],
   "execution_count": 33
  },
  {
   "metadata": {
    "ExecuteTime": {
     "end_time": "2024-04-18T16:55:35.918780Z",
     "start_time": "2024-04-18T16:53:14.982409Z"
    }
   },
   "cell_type": "code",
   "source": [
    "df = pd.DataFrame(columns=['model', 'mean r2', 'std r2'])\n",
    "\n",
    "for i, model in enumerate(reg_models.keys()):\n",
    "    best_model, mean, std = best_fit(model)\n",
    "    df.loc[i] = [model, mean, std]\n",
    "    \n",
    "df"
   ],
   "outputs": [
    {
     "data": {
      "text/plain": [
       "        model   mean r2    std r2\n",
       "0          lr  0.786308  0.069779\n",
       "1  elasticnet  0.821002  0.046942\n",
       "2       lasso  0.753928  0.137880\n",
       "3       ridge  0.829929  0.064057"
      ],
      "text/html": [
       "<div>\n",
       "<style scoped>\n",
       "    .dataframe tbody tr th:only-of-type {\n",
       "        vertical-align: middle;\n",
       "    }\n",
       "\n",
       "    .dataframe tbody tr th {\n",
       "        vertical-align: top;\n",
       "    }\n",
       "\n",
       "    .dataframe thead th {\n",
       "        text-align: right;\n",
       "    }\n",
       "</style>\n",
       "<table border=\"1\" class=\"dataframe\">\n",
       "  <thead>\n",
       "    <tr style=\"text-align: right;\">\n",
       "      <th></th>\n",
       "      <th>model</th>\n",
       "      <th>mean r2</th>\n",
       "      <th>std r2</th>\n",
       "    </tr>\n",
       "  </thead>\n",
       "  <tbody>\n",
       "    <tr>\n",
       "      <th>0</th>\n",
       "      <td>lr</td>\n",
       "      <td>0.786308</td>\n",
       "      <td>0.069779</td>\n",
       "    </tr>\n",
       "    <tr>\n",
       "      <th>1</th>\n",
       "      <td>elasticnet</td>\n",
       "      <td>0.821002</td>\n",
       "      <td>0.046942</td>\n",
       "    </tr>\n",
       "    <tr>\n",
       "      <th>2</th>\n",
       "      <td>lasso</td>\n",
       "      <td>0.753928</td>\n",
       "      <td>0.137880</td>\n",
       "    </tr>\n",
       "    <tr>\n",
       "      <th>3</th>\n",
       "      <td>ridge</td>\n",
       "      <td>0.829929</td>\n",
       "      <td>0.064057</td>\n",
       "    </tr>\n",
       "  </tbody>\n",
       "</table>\n",
       "</div>"
      ]
     },
     "execution_count": 36,
     "metadata": {},
     "output_type": "execute_result"
    }
   ],
   "execution_count": 36
  },
  {
   "cell_type": "markdown",
   "metadata": {
    "collapsed": true,
    "jupyter": {
     "outputs_hidden": true
    }
   },
   "source": [
    "# Zad\n",
    "Zwizualizuj wyniki."
   ]
  },
  {
   "cell_type": "code",
   "metadata": {
    "ExecuteTime": {
     "end_time": "2024-04-18T16:57:17.915721Z",
     "start_time": "2024-04-18T16:57:17.782004Z"
    }
   },
   "source": [
    "df.plot(x='model', y='mean r2', yerr='std r2', kind='bar', legend=False)\n",
    "plt.ylabel('r2')\n",
    "plt.title('Comparison of r2 across different models')\n",
    "plt.show()\n"
   ],
   "outputs": [
    {
     "data": {
      "text/plain": [
       "<Figure size 640x480 with 1 Axes>"
      ],
      "image/png": "[encoded data removed]"
     },
     "metadata": {},
     "output_type": "display_data"
    }
   ],
   "execution_count": 38
  }
 ],
 "metadata": {
  "kernelspec": {
   "display_name": "Python 3 (ipykernel)",
   "language": "python",
   "name": "python3"
  },
  "language_info": {
   "codemirror_mode": {
    "name": "ipython",
    "version": 3
   },
   "file_extension": ".py",
   "mimetype": "text/x-python",
   "name": "python",
   "nbconvert_exporter": "python",
   "pygments_lexer": "ipython3",
   "version": "3.10.13"
  }
 },
 "nbformat": 4,
 "nbformat_minor": 4
}
