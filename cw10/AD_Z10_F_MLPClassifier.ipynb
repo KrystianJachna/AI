{
 "cells": [
  {
   "cell_type": "code",
   "metadata": {
    "ExecuteTime": {
     "end_time": "2024-05-20T22:35:34.487965Z",
     "start_time": "2024-05-20T22:35:33.168726Z"
    }
   },
   "source": [
    "import warnings\n",
    "import numpy as np\n",
    "import pandas as pd\n",
    "import xgboost\n",
    "from sklearn import metrics\n",
    "from sklearn.ensemble import BaggingClassifier, ExtraTreesClassifier, AdaBoostClassifier, GradientBoostingClassifier\n",
    "from sklearn.ensemble import RandomForestClassifier\n",
    "from sklearn.ensemble import VotingClassifier\n",
    "from sklearn.linear_model import LogisticRegression\n",
    "from sklearn.model_selection import GridSearchCV\n",
    "from sklearn.model_selection import StratifiedKFold\n",
    "from sklearn.model_selection import train_test_split\n",
    "from sklearn.naive_bayes import GaussianNB\n",
    "from sklearn.neighbors import KNeighborsClassifier\n",
    "from sklearn.neural_network import MLPClassifier\n",
    "from sklearn.pipeline import Pipeline\n",
    "from sklearn.preprocessing import StandardScaler\n",
    "from sklearn.svm import LinearSVC\n",
    "from sklearn.svm import SVC\n",
    "from sklearn.tree import DecisionTreeClassifier"
   ],
   "outputs": [],
   "execution_count": 1
  },
  {
   "cell_type": "markdown",
   "metadata": {},
   "source": [
    "# Wielowarstwowa sieć neuronowa\n",
    "\n",
    "(*Multilayer perceptron*, *feedforward neural network*)\n",
    "\n",
    "\n",
    "\n",
    "**Uwaga:** \"Input layer\" pomimo tego, że ma w nazwie słowo \"warstwa\", to tak naprawdę to nie jest żadna warstwa sieci... To są po prostu dane wejściowe... Niestety przyjęło się literaturze nazywanie tego w ten sposób, co jest mylące :(\n",
    "\n",
    "\n",
    "Sieci uczy sie metodą spadku gradientu (pewnymi wariantami tej metody). Uczenie wykorzystuje algorytm **propagacji wstecznej** (https://en.wikipedia.org/wiki/Backpropagation).\n",
    "\n",
    "<br>\n",
    "\n",
    "<br>\n",
    "\n",
    "<br>\n",
    "\n",
    "**Uwaga!** Sieci neuronowe absolutnie zawsze wymagają zestandaryzowanych danych! Niezależnie od tego czy wykorzystujemy regularyzację czy nie i niezależnie od typu sieci!\n",
    "\n",
    "<br>\n",
    "\n",
    "<br>\n",
    "\n",
    "### Fakt matematyczny: jednowarstwową siecią możemy otrzymać dowolny kształt. \n",
    "\n",
    "Co z tego wynika? To, że (teoretycznie) zawsze wystarczy sieć jednowarstwowa (odpowiednio duża). W praktyce rzeczywiście z reguły wystarcza jedna warstwa, ale mimo wszystko zawsze warto sprawdzić czy 2 (lub 3) nie zadziałają przypadkiem lepiej. Przy czym jeżeli dla dwóch wartsw jest gorzej, to nie ma sensu sprawdzać dla większej ilości."
   ]
  },
  {
   "cell_type": "markdown",
   "metadata": {},
   "source": [
    "# Zad\n",
    "* Wczytaj zbiór danych - pima-indians-diabetes.data\n",
    "* Podziel dane na train test\n",
    "* Wykonaj uczenie modeli (dobierz najlepsze parametry)\n",
    "    * LogisticRegression\n",
    "    * LinearSVC\n",
    "    * SVC\n",
    "    * KNeighborsClassifier\n",
    "    * DecisionTreeClassifier\n",
    "    * RandomForestClassifier\n",
    "    * BaggingClassifier\n",
    "    * ExtraTreesClassifier\n",
    "    * AdaBoostClassifier\n",
    "    * GradientBoostingClassifier\n",
    "    * VotingClassifier\n",
    "    * xgboost.XGBClassifier\n",
    "* Porównaj wyniki na zbiorze uczącym    "
   ]
  },
  {
   "metadata": {
    "ExecuteTime": {
     "end_time": "2024-05-20T22:35:34.510309Z",
     "start_time": "2024-05-20T22:35:34.494575Z"
    }
   },
   "cell_type": "code",
   "source": [
    "dataset = np.genfromtxt('data/diabetes.csv', delimiter=',', skip_header=1)\n",
    "X = dataset[:, 0:8]\n",
    "Y = dataset[:, 8]\n",
    "print(X.shape)\n",
    "print(np.mean(Y))"
   ],
   "outputs": [
    {
     "name": "stdout",
     "output_type": "stream",
     "text": [
      "(768, 8)\n",
      "0.3489583333333333\n"
     ]
    }
   ],
   "execution_count": 2
  },
  {
   "cell_type": "code",
   "metadata": {
    "ExecuteTime": {
     "end_time": "2024-05-20T22:35:34.517418Z",
     "start_time": "2024-05-20T22:35:34.512336Z"
    }
   },
   "source": [
    "seed = 7\n",
    "test_size = 0.33\n",
    "X_train, X_test, y_train, y_test = train_test_split(X, Y, test_size=test_size, random_state=seed)\n",
    "\n",
    "seed = 123\n",
    "kfold = StratifiedKFold(n_splits=5, random_state=seed, shuffle=True)"
   ],
   "outputs": [],
   "execution_count": 3
  },
  {
   "cell_type": "code",
   "metadata": {
    "ExecuteTime": {
     "end_time": "2024-05-20T22:35:34.534762Z",
     "start_time": "2024-05-20T22:35:34.520107Z"
    }
   },
   "source": [
    "models_and_parameters = {\n",
    "    'LogisticRegression': (LogisticRegression(max_iter=1000), {'classifier__C': [0.1, 1, 10]}),\n",
    "    'LinearSVC': (LinearSVC(max_iter=10000), {'classifier__C': [0.1, 1, 10]}),\n",
    "    'SVC': (SVC(), {'classifier__C': [0.1, 1, 10], 'classifier__gamma': [0.1, 1, 10]}),\n",
    "    'KNeighborsClassifier': (KNeighborsClassifier(), {'classifier__n_neighbors': [3, 5, 7]}),\n",
    "    'DecisionTreeClassifier': (DecisionTreeClassifier(), {'classifier__max_depth': [3, 5, 7]}),\n",
    "    'RandomForestClassifier': (RandomForestClassifier(), {'classifier__n_estimators': [100, 200, 300]}),\n",
    "    'BaggingClassifier': (BaggingClassifier(), {'classifier__n_estimators': [10, 20, 30]}),\n",
    "    'ExtraTreesClassifier': (ExtraTreesClassifier(), {'classifier__n_estimators': [100, 200, 300]}),\n",
    "    'AdaBoostClassifier': (AdaBoostClassifier(), {'classifier__n_estimators': [50, 100, 200]}),\n",
    "    'GradientBoostingClassifier': (GradientBoostingClassifier(), {'classifier__n_estimators': [100, 200, 300]}),\n",
    "    'VotingClassifier': (VotingClassifier(\n",
    "        estimators=[('lr', LogisticRegression()), ('rf', RandomForestClassifier()), ('gnb', GaussianNB())],\n",
    "        voting='soft'), {}),\n",
    "    'XGBClassifier': (xgboost.XGBClassifier(use_label_encoder=False, eval_metric='logloss'),\n",
    "                      {'classifier__n_estimators': [100, 200, 300]})\n",
    "}\n",
    "\n",
    "for model_name, (model, params) in models_and_parameters.items():\n",
    "    params['preprocessing'] = [StandardScaler(), None]"
   ],
   "outputs": [],
   "execution_count": 4
  },
  {
   "cell_type": "code",
   "metadata": {
    "ExecuteTime": {
     "end_time": "2024-05-20T22:37:58.630020Z",
     "start_time": "2024-05-20T22:35:34.537199Z"
    }
   },
   "source": [
    "best_models = []\n",
    "\n",
    "for model_name, (model, params) in models_and_parameters.items():\n",
    "    pipe = Pipeline([\n",
    "        ('preprocessing', StandardScaler()),\n",
    "        ('classifier', model)\n",
    "    ])\n",
    "    with warnings.catch_warnings():\n",
    "        warnings.simplefilter(\"ignore\")\n",
    "        grid = GridSearchCV(pipe, params, cv=kfold, return_train_score=True)\n",
    "        grid.fit(X_train, y_train)\n",
    "    best_models.append((model_name, grid.best_estimator_))\n",
    "    print(f\"Best parameters for {model_name}: {grid.best_params_}\")\n",
    "    print(f\"Best cross-validation score for {model_name}: {grid.best_score_}\")\n",
    "    print(\"-\" * 20)"
   ],
   "outputs": [
    {
     "name": "stdout",
     "output_type": "stream",
     "text": [
      "Best parameters for LogisticRegression: {'classifier__C': 1, 'preprocessing': StandardScaler()}\n",
      "Best cross-validation score for LogisticRegression: 0.7684751570531125\n",
      "--------------------\n",
      "Best parameters for LinearSVC: {'classifier__C': 0.1, 'preprocessing': StandardScaler()}\n",
      "Best cross-validation score for LinearSVC: 0.7645726251665714\n",
      "--------------------\n",
      "Best parameters for SVC: {'classifier__C': 1, 'classifier__gamma': 0.1, 'preprocessing': StandardScaler()}\n",
      "Best cross-validation score for SVC: 0.7490576813249572\n",
      "--------------------\n",
      "Best parameters for KNeighborsClassifier: {'classifier__n_neighbors': 5, 'preprocessing': StandardScaler()}\n",
      "Best cross-validation score for KNeighborsClassifier: 0.7354654483152484\n",
      "--------------------\n",
      "Best parameters for DecisionTreeClassifier: {'classifier__max_depth': 5, 'preprocessing': None}\n",
      "Best cross-validation score for DecisionTreeClassifier: 0.7237578526556254\n",
      "--------------------\n",
      "Best parameters for RandomForestClassifier: {'classifier__n_estimators': 100, 'preprocessing': None}\n",
      "Best cross-validation score for RandomForestClassifier: 0.749114791547687\n",
      "--------------------\n",
      "Best parameters for BaggingClassifier: {'classifier__n_estimators': 20, 'preprocessing': None}\n",
      "Best cross-validation score for BaggingClassifier: 0.7490576813249572\n",
      "--------------------\n",
      "Best parameters for ExtraTreesClassifier: {'classifier__n_estimators': 200, 'preprocessing': StandardScaler()}\n",
      "Best cross-validation score for ExtraTreesClassifier: 0.745231296402056\n",
      "--------------------\n",
      "Best parameters for AdaBoostClassifier: {'classifier__n_estimators': 50, 'preprocessing': StandardScaler()}\n",
      "Best cross-validation score for AdaBoostClassifier: 0.741290691033695\n",
      "--------------------\n",
      "Best parameters for GradientBoostingClassifier: {'classifier__n_estimators': 200, 'preprocessing': StandardScaler()}\n",
      "Best cross-validation score for GradientBoostingClassifier: 0.7257376737102608\n",
      "--------------------\n",
      "Best parameters for VotingClassifier: {'preprocessing': None}\n",
      "Best cross-validation score for VotingClassifier: 0.7529411764705882\n",
      "--------------------\n",
      "Best parameters for XGBClassifier: {'classifier__n_estimators': 100, 'preprocessing': StandardScaler()}\n",
      "Best cross-validation score for XGBClassifier: 0.7237959261374453\n",
      "--------------------\n"
     ]
    }
   ],
   "execution_count": 5
  },
  {
   "cell_type": "code",
   "metadata": {
    "ExecuteTime": {
     "end_time": "2024-05-20T22:37:58.641186Z",
     "start_time": "2024-05-20T22:37:58.634783Z"
    }
   },
   "source": [
    "def score_model(model):\n",
    "    y_pred = model.predict(X_test)\n",
    "    precision_score = metrics.precision_score(y_test, y_pred)\n",
    "    recall_score = metrics.recall_score(y_test, y_pred)\n",
    "    f1_score = metrics.f1_score(y_test, y_pred)\n",
    "    accuracy = metrics.accuracy_score(y_test, y_pred)\n",
    "    try:\n",
    "        roc_auc_score = metrics.roc_auc_score(y_test, model.decision_function(X_test))\n",
    "    except:\n",
    "        roc_auc_score = metrics.roc_auc_score(y_test, model.predict_proba(X_test)[:, 1])\n",
    "    return precision_score, recall_score, f1_score, accuracy, roc_auc_score"
   ],
   "outputs": [],
   "execution_count": 6
  },
  {
   "metadata": {
    "ExecuteTime": {
     "end_time": "2024-05-20T22:37:58.745411Z",
     "start_time": "2024-05-20T22:37:58.644063Z"
    }
   },
   "cell_type": "code",
   "source": "df = pd.DataFrame(columns=['Method', 'precision_score', 'recall_score', 'f1_score', 'accuracy', 'roc_auc_score'])",
   "outputs": [],
   "execution_count": 7
  },
  {
   "metadata": {
    "ExecuteTime": {
     "end_time": "2024-05-20T22:37:58.982698Z",
     "start_time": "2024-05-20T22:37:58.746690Z"
    }
   },
   "cell_type": "code",
   "source": [
    "for i, (model_name, model) in enumerate(best_models):\n",
    "    precision_score, recall_score, f1_score, accuracy, roc_auc_score = score_model(model)\n",
    "    # print(f\"Results for {model_name}:\")\n",
    "    # print(f\"\\t {precision_score}, {recall_score}, {f1_score}, {accuracy}, {roc_auc_score}\")\n",
    "    df.loc[i] = [model_name, precision_score, recall_score, f1_score, accuracy, roc_auc_score]\n",
    "df.head(12)"
   ],
   "outputs": [
    {
     "data": {
      "text/plain": [
       "                        Method  precision_score  recall_score  f1_score  \\\n",
       "0           LogisticRegression         0.734177      0.630435  0.678363   \n",
       "1                    LinearSVC         0.734177      0.630435  0.678363   \n",
       "2                          SVC         0.705128      0.597826  0.647059   \n",
       "3         KNeighborsClassifier         0.595238      0.543478  0.568182   \n",
       "4       DecisionTreeClassifier         0.698413      0.478261  0.567742   \n",
       "5       RandomForestClassifier         0.666667      0.652174  0.659341   \n",
       "6            BaggingClassifier         0.694118      0.641304  0.666667   \n",
       "7         ExtraTreesClassifier         0.687500      0.597826  0.639535   \n",
       "8           AdaBoostClassifier         0.625000      0.597826  0.611111   \n",
       "9   GradientBoostingClassifier         0.663043      0.663043  0.663043   \n",
       "10            VotingClassifier         0.694118      0.641304  0.666667   \n",
       "11               XGBClassifier         0.647727      0.619565  0.633333   \n",
       "\n",
       "    accuracy  roc_auc_score  \n",
       "0   0.783465       0.828435  \n",
       "1   0.783465       0.829777  \n",
       "2   0.763780       0.835749  \n",
       "3   0.700787       0.747585  \n",
       "4   0.736220       0.776067  \n",
       "5   0.755906       0.814513  \n",
       "6   0.767717       0.810722  \n",
       "7   0.755906       0.818673  \n",
       "8   0.724409       0.787607  \n",
       "9   0.755906       0.814278  \n",
       "10  0.767717       0.829576  \n",
       "11  0.740157       0.783011  "
      ],
      "text/html": [
       "<div>\n",
       "<style scoped>\n",
       "    .dataframe tbody tr th:only-of-type {\n",
       "        vertical-align: middle;\n",
       "    }\n",
       "\n",
       "    .dataframe tbody tr th {\n",
       "        vertical-align: top;\n",
       "    }\n",
       "\n",
       "    .dataframe thead th {\n",
       "        text-align: right;\n",
       "    }\n",
       "</style>\n",
       "<table border=\"1\" class=\"dataframe\">\n",
       "  <thead>\n",
       "    <tr style=\"text-align: right;\">\n",
       "      <th></th>\n",
       "      <th>Method</th>\n",
       "      <th>precision_score</th>\n",
       "      <th>recall_score</th>\n",
       "      <th>f1_score</th>\n",
       "      <th>accuracy</th>\n",
       "      <th>roc_auc_score</th>\n",
       "    </tr>\n",
       "  </thead>\n",
       "  <tbody>\n",
       "    <tr>\n",
       "      <th>0</th>\n",
       "      <td>LogisticRegression</td>\n",
       "      <td>0.734177</td>\n",
       "      <td>0.630435</td>\n",
       "      <td>0.678363</td>\n",
       "      <td>0.783465</td>\n",
       "      <td>0.828435</td>\n",
       "    </tr>\n",
       "    <tr>\n",
       "      <th>1</th>\n",
       "      <td>LinearSVC</td>\n",
       "      <td>0.734177</td>\n",
       "      <td>0.630435</td>\n",
       "      <td>0.678363</td>\n",
       "      <td>0.783465</td>\n",
       "      <td>0.829777</td>\n",
       "    </tr>\n",
       "    <tr>\n",
       "      <th>2</th>\n",
       "      <td>SVC</td>\n",
       "      <td>0.705128</td>\n",
       "      <td>0.597826</td>\n",
       "      <td>0.647059</td>\n",
       "      <td>0.763780</td>\n",
       "      <td>0.835749</td>\n",
       "    </tr>\n",
       "    <tr>\n",
       "      <th>3</th>\n",
       "      <td>KNeighborsClassifier</td>\n",
       "      <td>0.595238</td>\n",
       "      <td>0.543478</td>\n",
       "      <td>0.568182</td>\n",
       "      <td>0.700787</td>\n",
       "      <td>0.747585</td>\n",
       "    </tr>\n",
       "    <tr>\n",
       "      <th>4</th>\n",
       "      <td>DecisionTreeClassifier</td>\n",
       "      <td>0.698413</td>\n",
       "      <td>0.478261</td>\n",
       "      <td>0.567742</td>\n",
       "      <td>0.736220</td>\n",
       "      <td>0.776067</td>\n",
       "    </tr>\n",
       "    <tr>\n",
       "      <th>5</th>\n",
       "      <td>RandomForestClassifier</td>\n",
       "      <td>0.666667</td>\n",
       "      <td>0.652174</td>\n",
       "      <td>0.659341</td>\n",
       "      <td>0.755906</td>\n",
       "      <td>0.814513</td>\n",
       "    </tr>\n",
       "    <tr>\n",
       "      <th>6</th>\n",
       "      <td>BaggingClassifier</td>\n",
       "      <td>0.694118</td>\n",
       "      <td>0.641304</td>\n",
       "      <td>0.666667</td>\n",
       "      <td>0.767717</td>\n",
       "      <td>0.810722</td>\n",
       "    </tr>\n",
       "    <tr>\n",
       "      <th>7</th>\n",
       "      <td>ExtraTreesClassifier</td>\n",
       "      <td>0.687500</td>\n",
       "      <td>0.597826</td>\n",
       "      <td>0.639535</td>\n",
       "      <td>0.755906</td>\n",
       "      <td>0.818673</td>\n",
       "    </tr>\n",
       "    <tr>\n",
       "      <th>8</th>\n",
       "      <td>AdaBoostClassifier</td>\n",
       "      <td>0.625000</td>\n",
       "      <td>0.597826</td>\n",
       "      <td>0.611111</td>\n",
       "      <td>0.724409</td>\n",
       "      <td>0.787607</td>\n",
       "    </tr>\n",
       "    <tr>\n",
       "      <th>9</th>\n",
       "      <td>GradientBoostingClassifier</td>\n",
       "      <td>0.663043</td>\n",
       "      <td>0.663043</td>\n",
       "      <td>0.663043</td>\n",
       "      <td>0.755906</td>\n",
       "      <td>0.814278</td>\n",
       "    </tr>\n",
       "    <tr>\n",
       "      <th>10</th>\n",
       "      <td>VotingClassifier</td>\n",
       "      <td>0.694118</td>\n",
       "      <td>0.641304</td>\n",
       "      <td>0.666667</td>\n",
       "      <td>0.767717</td>\n",
       "      <td>0.829576</td>\n",
       "    </tr>\n",
       "    <tr>\n",
       "      <th>11</th>\n",
       "      <td>XGBClassifier</td>\n",
       "      <td>0.647727</td>\n",
       "      <td>0.619565</td>\n",
       "      <td>0.633333</td>\n",
       "      <td>0.740157</td>\n",
       "      <td>0.783011</td>\n",
       "    </tr>\n",
       "  </tbody>\n",
       "</table>\n",
       "</div>"
      ]
     },
     "execution_count": 8,
     "metadata": {},
     "output_type": "execute_result"
    }
   ],
   "execution_count": 8
  },
  {
   "cell_type": "markdown",
   "metadata": {},
   "source": [
    "# MLPClassifier\n",
    "\n",
    "Dodajmy model sieci neuronowej"
   ]
  },
  {
   "cell_type": "code",
   "metadata": {
    "ExecuteTime": {
     "end_time": "2024-05-20T22:38:00.377337Z",
     "start_time": "2024-05-20T22:37:58.984226Z"
    }
   },
   "source": [
    "model = MLPClassifier((20, 10), max_iter=1000, random_state=123)\n",
    "model.fit(X_train, y_train)\n",
    "\n",
    "y_pred = model.predict_proba(X_test)[:, 1]\n",
    "predictions = y_pred.round()\n",
    "\n",
    "accuracy = metrics.accuracy_score(y_test, predictions)\n",
    "print(\"Accuracy: %.2f%%\" % (accuracy * 100.0), \"AUC: \", metrics.roc_auc_score(y_score=y_pred, y_true=y_test))"
   ],
   "outputs": [
    {
     "name": "stdout",
     "output_type": "stream",
     "text": [
      "Accuracy: 70.87% AUC:  0.7157139023081052\n"
     ]
    }
   ],
   "execution_count": 9
  },
  {
   "cell_type": "markdown",
   "metadata": {},
   "source": [
    "# Zad\n",
    "Wykonaj Walidację krzyżową"
   ]
  },
  {
   "cell_type": "code",
   "metadata": {
    "ExecuteTime": {
     "end_time": "2024-05-20T22:38:58.219072Z",
     "start_time": "2024-05-20T22:38:00.380085Z"
    }
   },
   "source": [
    "pipe = Pipeline([('preprocessing', StandardScaler()), ('classifier', MLPClassifier(max_iter=5000))])\n",
    "\n",
    "param_grid = {\n",
    "    'preprocessing': [StandardScaler(), None],\n",
    "    'classifier__hidden_layer_sizes': [(20, 10)],\n",
    "    'classifier__learning_rate_init': [0.001, 0.01, 0.1],\n",
    "    'classifier__max_iter': [100],\n",
    "    'classifier__batch_size': [8, 16, 32],\n",
    "}\n",
    "\n",
    "grid_2 = GridSearchCV(pipe, param_grid, cv=kfold, return_train_score=True)\n",
    "with warnings.catch_warnings():\n",
    "    warnings.simplefilter(\"ignore\")\n",
    "    grid_2.fit(X_train, y_train)\n",
    "\n",
    "grid_2.best_params_"
   ],
   "outputs": [
    {
     "data": {
      "text/plain": [
       "{'classifier__batch_size': 32,\n",
       " 'classifier__hidden_layer_sizes': (20, 10),\n",
       " 'classifier__learning_rate_init': 0.001,\n",
       " 'classifier__max_iter': 100,\n",
       " 'preprocessing': StandardScaler()}"
      ]
     },
     "execution_count": 10,
     "metadata": {},
     "output_type": "execute_result"
    }
   ],
   "execution_count": 10
  },
  {
   "cell_type": "code",
   "metadata": {
    "ExecuteTime": {
     "end_time": "2024-05-20T22:38:58.234099Z",
     "start_time": "2024-05-20T22:38:58.220269Z"
    }
   },
   "source": "df.loc[df.shape[0]] = ['MLP', *score_model(grid_2.best_estimator_)]",
   "outputs": [],
   "execution_count": 11
  },
  {
   "cell_type": "code",
   "metadata": {
    "ExecuteTime": {
     "end_time": "2024-05-20T22:38:58.305710Z",
     "start_time": "2024-05-20T22:38:58.235512Z"
    }
   },
   "source": "df",
   "outputs": [
    {
     "data": {
      "text/plain": [
       "                        Method  precision_score  recall_score  f1_score  \\\n",
       "0           LogisticRegression         0.734177      0.630435  0.678363   \n",
       "1                    LinearSVC         0.734177      0.630435  0.678363   \n",
       "2                          SVC         0.705128      0.597826  0.647059   \n",
       "3         KNeighborsClassifier         0.595238      0.543478  0.568182   \n",
       "4       DecisionTreeClassifier         0.698413      0.478261  0.567742   \n",
       "5       RandomForestClassifier         0.666667      0.652174  0.659341   \n",
       "6            BaggingClassifier         0.694118      0.641304  0.666667   \n",
       "7         ExtraTreesClassifier         0.687500      0.597826  0.639535   \n",
       "8           AdaBoostClassifier         0.625000      0.597826  0.611111   \n",
       "9   GradientBoostingClassifier         0.663043      0.663043  0.663043   \n",
       "10            VotingClassifier         0.694118      0.641304  0.666667   \n",
       "11               XGBClassifier         0.647727      0.619565  0.633333   \n",
       "12                         MLP         0.720930      0.673913  0.696629   \n",
       "\n",
       "    accuracy  roc_auc_score  \n",
       "0   0.783465       0.828435  \n",
       "1   0.783465       0.829777  \n",
       "2   0.763780       0.835749  \n",
       "3   0.700787       0.747585  \n",
       "4   0.736220       0.776067  \n",
       "5   0.755906       0.814513  \n",
       "6   0.767717       0.810722  \n",
       "7   0.755906       0.818673  \n",
       "8   0.724409       0.787607  \n",
       "9   0.755906       0.814278  \n",
       "10  0.767717       0.829576  \n",
       "11  0.740157       0.783011  \n",
       "12  0.787402       0.825349  "
      ],
      "text/html": [
       "<div>\n",
       "<style scoped>\n",
       "    .dataframe tbody tr th:only-of-type {\n",
       "        vertical-align: middle;\n",
       "    }\n",
       "\n",
       "    .dataframe tbody tr th {\n",
       "        vertical-align: top;\n",
       "    }\n",
       "\n",
       "    .dataframe thead th {\n",
       "        text-align: right;\n",
       "    }\n",
       "</style>\n",
       "<table border=\"1\" class=\"dataframe\">\n",
       "  <thead>\n",
       "    <tr style=\"text-align: right;\">\n",
       "      <th></th>\n",
       "      <th>Method</th>\n",
       "      <th>precision_score</th>\n",
       "      <th>recall_score</th>\n",
       "      <th>f1_score</th>\n",
       "      <th>accuracy</th>\n",
       "      <th>roc_auc_score</th>\n",
       "    </tr>\n",
       "  </thead>\n",
       "  <tbody>\n",
       "    <tr>\n",
       "      <th>0</th>\n",
       "      <td>LogisticRegression</td>\n",
       "      <td>0.734177</td>\n",
       "      <td>0.630435</td>\n",
       "      <td>0.678363</td>\n",
       "      <td>0.783465</td>\n",
       "      <td>0.828435</td>\n",
       "    </tr>\n",
       "    <tr>\n",
       "      <th>1</th>\n",
       "      <td>LinearSVC</td>\n",
       "      <td>0.734177</td>\n",
       "      <td>0.630435</td>\n",
       "      <td>0.678363</td>\n",
       "      <td>0.783465</td>\n",
       "      <td>0.829777</td>\n",
       "    </tr>\n",
       "    <tr>\n",
       "      <th>2</th>\n",
       "      <td>SVC</td>\n",
       "      <td>0.705128</td>\n",
       "      <td>0.597826</td>\n",
       "      <td>0.647059</td>\n",
       "      <td>0.763780</td>\n",
       "      <td>0.835749</td>\n",
       "    </tr>\n",
       "    <tr>\n",
       "      <th>3</th>\n",
       "      <td>KNeighborsClassifier</td>\n",
       "      <td>0.595238</td>\n",
       "      <td>0.543478</td>\n",
       "      <td>0.568182</td>\n",
       "      <td>0.700787</td>\n",
       "      <td>0.747585</td>\n",
       "    </tr>\n",
       "    <tr>\n",
       "      <th>4</th>\n",
       "      <td>DecisionTreeClassifier</td>\n",
       "      <td>0.698413</td>\n",
       "      <td>0.478261</td>\n",
       "      <td>0.567742</td>\n",
       "      <td>0.736220</td>\n",
       "      <td>0.776067</td>\n",
       "    </tr>\n",
       "    <tr>\n",
       "      <th>5</th>\n",
       "      <td>RandomForestClassifier</td>\n",
       "      <td>0.666667</td>\n",
       "      <td>0.652174</td>\n",
       "      <td>0.659341</td>\n",
       "      <td>0.755906</td>\n",
       "      <td>0.814513</td>\n",
       "    </tr>\n",
       "    <tr>\n",
       "      <th>6</th>\n",
       "      <td>BaggingClassifier</td>\n",
       "      <td>0.694118</td>\n",
       "      <td>0.641304</td>\n",
       "      <td>0.666667</td>\n",
       "      <td>0.767717</td>\n",
       "      <td>0.810722</td>\n",
       "    </tr>\n",
       "    <tr>\n",
       "      <th>7</th>\n",
       "      <td>ExtraTreesClassifier</td>\n",
       "      <td>0.687500</td>\n",
       "      <td>0.597826</td>\n",
       "      <td>0.639535</td>\n",
       "      <td>0.755906</td>\n",
       "      <td>0.818673</td>\n",
       "    </tr>\n",
       "    <tr>\n",
       "      <th>8</th>\n",
       "      <td>AdaBoostClassifier</td>\n",
       "      <td>0.625000</td>\n",
       "      <td>0.597826</td>\n",
       "      <td>0.611111</td>\n",
       "      <td>0.724409</td>\n",
       "      <td>0.787607</td>\n",
       "    </tr>\n",
       "    <tr>\n",
       "      <th>9</th>\n",
       "      <td>GradientBoostingClassifier</td>\n",
       "      <td>0.663043</td>\n",
       "      <td>0.663043</td>\n",
       "      <td>0.663043</td>\n",
       "      <td>0.755906</td>\n",
       "      <td>0.814278</td>\n",
       "    </tr>\n",
       "    <tr>\n",
       "      <th>10</th>\n",
       "      <td>VotingClassifier</td>\n",
       "      <td>0.694118</td>\n",
       "      <td>0.641304</td>\n",
       "      <td>0.666667</td>\n",
       "      <td>0.767717</td>\n",
       "      <td>0.829576</td>\n",
       "    </tr>\n",
       "    <tr>\n",
       "      <th>11</th>\n",
       "      <td>XGBClassifier</td>\n",
       "      <td>0.647727</td>\n",
       "      <td>0.619565</td>\n",
       "      <td>0.633333</td>\n",
       "      <td>0.740157</td>\n",
       "      <td>0.783011</td>\n",
       "    </tr>\n",
       "    <tr>\n",
       "      <th>12</th>\n",
       "      <td>MLP</td>\n",
       "      <td>0.720930</td>\n",
       "      <td>0.673913</td>\n",
       "      <td>0.696629</td>\n",
       "      <td>0.787402</td>\n",
       "      <td>0.825349</td>\n",
       "    </tr>\n",
       "  </tbody>\n",
       "</table>\n",
       "</div>"
      ]
     },
     "execution_count": 12,
     "metadata": {},
     "output_type": "execute_result"
    }
   ],
   "execution_count": 12
  },
  {
   "cell_type": "markdown",
   "metadata": {},
   "source": [
    "# Wczytaj dane treningowe i testowe"
   ]
  },
  {
   "metadata": {
    "ExecuteTime": {
     "end_time": "2024-05-20T22:38:59.123270Z",
     "start_time": "2024-05-20T22:38:58.307742Z"
    }
   },
   "cell_type": "code",
   "source": [
    "# Read in the data\n",
    "train_set = pd.read_csv('data/adult/adult.data', sep=\", \", header=None, engine='python')\n",
    "test_set = pd.read_csv('data/adult/adult.test', sep=\", \", skiprows=1,\n",
    "                       header=None, engine='python')  "
   ],
   "outputs": [],
   "execution_count": 13
  },
  {
   "metadata": {
    "ExecuteTime": {
     "end_time": "2024-05-20T22:38:59.140449Z",
     "start_time": "2024-05-20T22:38:59.128548Z"
    }
   },
   "cell_type": "code",
   "source": [
    "# Assign column names to the data\n",
    "col_labels = ['age', 'workclass', 'fnlwgt', 'education', 'education_num', 'marital_status', 'occupation',\n",
    "              'relationship', 'race', 'sex', 'capital_gain', 'capital_loss', 'hours_per_week', 'native_country',\n",
    "              'wage_class']\n",
    "train_set.columns = col_labels\n",
    "test_set.columns = col_labels"
   ],
   "outputs": [],
   "execution_count": 14
  },
  {
   "metadata": {
    "ExecuteTime": {
     "end_time": "2024-05-20T22:38:59.660992Z",
     "start_time": "2024-05-20T22:38:59.142740Z"
    }
   },
   "cell_type": "code",
   "source": [
    "# Modify data to make it easier to work with\n",
    "train = train_set.replace('?', np.nan).dropna()\n",
    "test = test_set.replace('?', np.nan).dropna()\n",
    "\n",
    "dataset = pd.concat([train, test])\n",
    "\n",
    "with warnings.catch_warnings():\n",
    "    warnings.simplefilter(\"ignore\")\n",
    "    dataset['wage_class'] = dataset.wage_class.replace({'<=50K.': 0, '<=50K': 0, '>50K.': 1, '>50K': 1})\n",
    "    dataset.drop([\"fnlwgt\"], axis=1, inplace=True)\n",
    "    dataset.drop([\"education\"], axis=1, inplace=True)\n",
    "    x = dataset.groupby('native_country')[\"wage_class\"].mean()\n",
    "    d = dict(pd.cut(x[x.index != \" United-States\"], 5, labels=range(5)))\n",
    "    dataset['native_country'] = dataset['native_country'].replace(d)\n",
    "    dataset = pd.get_dummies(dataset, drop_first=True)"
   ],
   "outputs": [],
   "execution_count": 15
  },
  {
   "cell_type": "code",
   "metadata": {
    "ExecuteTime": {
     "end_time": "2024-05-20T22:38:59.692497Z",
     "start_time": "2024-05-20T22:38:59.667541Z"
    }
   },
   "source": [
    "# Split the data back into the original train and test sets\n",
    "train = dataset.iloc[:train.shape[0]]\n",
    "test = dataset.iloc[train.shape[0]:]\n",
    "\n",
    "X_train = train.drop(\"wage_class\", axis=1)\n",
    "y_train = train.wage_class\n",
    "\n",
    "X_test = test.drop(\"wage_class\", axis=1)\n",
    "y_test = test.wage_class"
   ],
   "outputs": [],
   "execution_count": 16
  },
  {
   "cell_type": "code",
   "metadata": {
    "ExecuteTime": {
     "end_time": "2024-05-20T22:38:59.701994Z",
     "start_time": "2024-05-20T22:38:59.695325Z"
    }
   },
   "source": [
    "print(X_train.shape)\n",
    "print(X_test.shape)"
   ],
   "outputs": [
    {
     "name": "stdout",
     "output_type": "stream",
     "text": [
      "(30162, 41)\n",
      "(15060, 41)\n"
     ]
    }
   ],
   "execution_count": 17
  },
  {
   "cell_type": "markdown",
   "metadata": {},
   "source": [
    "# Zad\n",
    "Porównaj wyniki sieci na:\n",
    "* oryginalnych danych \n",
    "* na wystandaryzowanych"
   ]
  },
  {
   "metadata": {
    "ExecuteTime": {
     "end_time": "2024-05-20T22:38:59.722408Z",
     "start_time": "2024-05-20T22:38:59.704479Z"
    }
   },
   "cell_type": "code",
   "source": "df_nn = pd.DataFrame(columns=['Method', 'precision_score', 'recall_score', 'f1_score', 'accuracy', 'roc_auc_score'])",
   "outputs": [],
   "execution_count": 18
  },
  {
   "cell_type": "code",
   "metadata": {
    "ExecuteTime": {
     "end_time": "2024-05-20T22:39:04.131739Z",
     "start_time": "2024-05-20T22:38:59.729732Z"
    }
   },
   "source": [
    "model = MLPClassifier((20, 10), max_iter=1000, random_state=123)\n",
    "model.fit(X_train, y_train)\n",
    "precision_score, recall_score, f1_score, accuracy, roc_auc_score = score_model(model)\n",
    "df_nn.loc[0] = ['MLP - original data', precision_score, recall_score, f1_score, accuracy, roc_auc_score]"
   ],
   "outputs": [],
   "execution_count": 19
  },
  {
   "metadata": {
    "ExecuteTime": {
     "end_time": "2024-05-20T22:39:20.251224Z",
     "start_time": "2024-05-20T22:39:04.134218Z"
    }
   },
   "cell_type": "code",
   "source": [
    "sc = StandardScaler()\n",
    "X_train = sc.fit_transform(X_train)\n",
    "X_test = sc.transform(X_test)\n",
    "\n",
    "model = MLPClassifier((20, 10), max_iter=1000, random_state=123)\n",
    "model.fit(X_train, y_train)\n",
    "precision_score, recall_score, f1_score, accuracy, roc_auc_score = score_model(model)\n",
    "df_nn.loc[1] = ['MLP - scaled data', precision_score, recall_score, f1_score, accuracy, roc_auc_score]"
   ],
   "outputs": [],
   "execution_count": 20
  },
  {
   "metadata": {
    "ExecuteTime": {
     "end_time": "2024-05-20T22:39:20.278198Z",
     "start_time": "2024-05-20T22:39:20.255143Z"
    }
   },
   "cell_type": "code",
   "source": "df_nn",
   "outputs": [
    {
     "data": {
      "text/plain": [
       "                Method  precision_score  recall_score  f1_score  accuracy  \\\n",
       "0  MLP - original data         0.700437      0.650270  0.674422  0.845750   \n",
       "1    MLP - scaled data         0.722331      0.596216  0.653243  0.844489   \n",
       "\n",
       "   roc_auc_score  \n",
       "0       0.898022  \n",
       "1       0.900495  "
      ],
      "text/html": [
       "<div>\n",
       "<style scoped>\n",
       "    .dataframe tbody tr th:only-of-type {\n",
       "        vertical-align: middle;\n",
       "    }\n",
       "\n",
       "    .dataframe tbody tr th {\n",
       "        vertical-align: top;\n",
       "    }\n",
       "\n",
       "    .dataframe thead th {\n",
       "        text-align: right;\n",
       "    }\n",
       "</style>\n",
       "<table border=\"1\" class=\"dataframe\">\n",
       "  <thead>\n",
       "    <tr style=\"text-align: right;\">\n",
       "      <th></th>\n",
       "      <th>Method</th>\n",
       "      <th>precision_score</th>\n",
       "      <th>recall_score</th>\n",
       "      <th>f1_score</th>\n",
       "      <th>accuracy</th>\n",
       "      <th>roc_auc_score</th>\n",
       "    </tr>\n",
       "  </thead>\n",
       "  <tbody>\n",
       "    <tr>\n",
       "      <th>0</th>\n",
       "      <td>MLP - original data</td>\n",
       "      <td>0.700437</td>\n",
       "      <td>0.650270</td>\n",
       "      <td>0.674422</td>\n",
       "      <td>0.845750</td>\n",
       "      <td>0.898022</td>\n",
       "    </tr>\n",
       "    <tr>\n",
       "      <th>1</th>\n",
       "      <td>MLP - scaled data</td>\n",
       "      <td>0.722331</td>\n",
       "      <td>0.596216</td>\n",
       "      <td>0.653243</td>\n",
       "      <td>0.844489</td>\n",
       "      <td>0.900495</td>\n",
       "    </tr>\n",
       "  </tbody>\n",
       "</table>\n",
       "</div>"
      ]
     },
     "execution_count": 21,
     "metadata": {},
     "output_type": "execute_result"
    }
   ],
   "execution_count": 21
  }
 ],
 "metadata": {
  "celltoolbar": "Raw Cell Format",
  "kernelspec": {
   "display_name": "Python 3 (ipykernel)",
   "language": "python",
   "name": "python3"
  },
  "language_info": {
   "codemirror_mode": {
    "name": "ipython",
    "version": 3
   },
   "file_extension": ".py",
   "mimetype": "text/x-python",
   "name": "python",
   "nbconvert_exporter": "python",
   "pygments_lexer": "ipython3",
   "version": "3.8.10"
  }
 },
 "nbformat": 4,
 "nbformat_minor": 4
}
