{
 "cells": [
  {
   "cell_type": "code",
   "metadata": {
    "ExecuteTime": {
     "end_time": "2024-05-15T22:17:18.892949Z",
     "start_time": "2024-05-15T22:17:18.444355Z"
    }
   },
   "source": [
    "import matplotlib.pyplot as plt\n",
    "import numpy as np\n",
    "import sklearn.datasets\n",
    "from mlxtend.plotting import plot_decision_regions\n",
    "from sklearn.datasets import load_iris\n",
    "from sklearn.linear_model import Perceptron"
   ],
   "execution_count": 11,
   "outputs": []
  },
  {
   "cell_type": "markdown",
   "metadata": {},
   "source": [
    "# Zadanie 1\n",
    "Za pomoca funkcji\n",
    "```python\n",
    "sklearn.datasets.make_moons\n",
    "```\n",
    "wygeneruj 4 zbiory danych z parametrami:\n",
    "\n",
    "* n_samples=1000, noise=.05\n",
    "* n_samples=1000, noise=.3\n",
    "* n_samples=200, noise=.05\n",
    "* n_samples=200, noise=.3"
   ]
  },
  {
   "cell_type": "code",
   "metadata": {
    "ExecuteTime": {
     "end_time": "2024-05-15T22:17:19.043102Z",
     "start_time": "2024-05-15T22:17:18.905019Z"
    }
   },
   "source": [
    "#low noise, plenty of samples, should be easy\n",
    "X, y = sklearn.datasets.make_moons(n_samples=1000, noise=.05)"
   ],
   "execution_count": 12,
   "outputs": []
  },
  {
   "cell_type": "code",
   "metadata": {
    "ExecuteTime": {
     "end_time": "2024-05-15T22:17:20.511445Z",
     "start_time": "2024-05-15T22:17:19.049488Z"
    }
   },
   "source": [
    "plt.scatter(X[:, 0], X[:, 1], c=y)\n",
    "plt.axis('equal')\n",
    "plt.show()"
   ],
   "execution_count": 13,
   "outputs": []
  },
  {
   "metadata": {},
   "cell_type": "markdown",
   "source": "Generowanie 4 zbiorw danych z odpowiednimi parametrami"
  },
  {
   "metadata": {
    "ExecuteTime": {
     "end_time": "2024-05-15T22:17:33.206865Z",
     "start_time": "2024-05-15T22:17:33.197482Z"
    }
   },
   "cell_type": "code",
   "source": [
    "params = [\n",
    "    (1000, .05),\n",
    "    (1000, .5),\n",
    "    (200, .05),\n",
    "    (200, 3)\n",
    "]"
   ],
   "execution_count": 15,
   "outputs": []
  },
  {
   "metadata": {
    "ExecuteTime": {
     "end_time": "2024-05-15T22:17:34.066746Z",
     "start_time": "2024-05-15T22:17:34.041728Z"
    }
   },
   "cell_type": "code",
   "source": "datasets = [sklearn.datasets.make_moons(n_samples=n_samples, noise=noise) for n_samples, noise in params]",
   "execution_count": 16,
   "outputs": []
  },
  {
   "metadata": {
    "ExecuteTime": {
     "end_time": "2024-05-15T22:18:31.364072Z",
     "start_time": "2024-05-15T22:18:30.420689Z"
    }
   },
   "cell_type": "code",
   "source": [
    "fig, axs = plt.subplots(2, 2, figsize=(10, 10))\n",
    "\n",
    "for (X, y), ax in zip(datasets, axs.flat):\n",
    "    ax.scatter(X[:, 0], X[:, 1], c=y)\n",
    "    ax.axis('equal')\n",
    "\n",
    "plt.show()"
   ],
   "execution_count": 18,
   "outputs": []
  },
  {
   "metadata": {},
   "cell_type": "markdown",
   "source": "Trenowanie modelu perceptron na danych"
  },
  {
   "metadata": {
    "ExecuteTime": {
     "end_time": "2024-05-15T22:20:34.447594Z",
     "start_time": "2024-05-15T22:20:32.078106Z"
    }
   },
   "cell_type": "code",
   "source": [
    "per_clf = Perceptron(random_state=42)\n",
    "fig, axs = plt.subplots(2, 2, figsize=(10, 10))\n",
    "\n",
    "for (X, y), ax in zip(datasets, axs.flat):\n",
    "    per_clf.fit(X, y)\n",
    "    plot_decision_regions(X, y, clf=per_clf, ax=ax)"
   ],
   "execution_count": 21,
   "outputs": []
  },
  {
   "metadata": {},
   "cell_type": "markdown",
   "source": "Dane z bazy iris"
  },
  {
   "cell_type": "code",
   "metadata": {
    "ExecuteTime": {
     "end_time": "2024-05-15T22:21:27.500329Z",
     "start_time": "2024-05-15T22:21:27.466137Z"
    }
   },
   "source": [
    "iris = load_iris()\n",
    "X = iris.data[:, (2, 3)]  # petal length, petal width\n",
    "y = (iris.target == 0).astype(np.int32)\n",
    "\n",
    "per_clf = Perceptron(max_iter=1000, tol=1e-3, random_state=42)\n",
    "per_clf.fit(X, y)"
   ],
   "execution_count": 22,
   "outputs": []
  },
  {
   "cell_type": "code",
   "metadata": {
    "ExecuteTime": {
     "end_time": "2024-05-15T22:21:37.769989Z",
     "start_time": "2024-05-15T22:21:37.190572Z"
    }
   },
   "source": [
    "plot_decision_regions(X, y, clf=per_clf, zoom_factor=0.2)"
   ],
   "execution_count": 23,
   "outputs": []
  },
  {
   "cell_type": "markdown",
   "metadata": {},
   "source": [
    "# Zad.\n",
    "Naucz perceptron na danych iris i wylicz F1 score."
   ]
  },
  {
   "cell_type": "code",
   "metadata": {
    "ExecuteTime": {
     "end_time": "2024-05-15T22:23:52.168381Z",
     "start_time": "2024-05-15T22:23:52.145900Z"
    }
   },
   "source": [
    "f1_score = sklearn.metrics.f1_score(y, per_clf.predict(X))\n",
    "print(f\"F1 score: {f1_score:.2f}\")"
   ],
   "execution_count": 25,
   "outputs": []
  }
 ],
 "metadata": {
  "kernelspec": {
   "display_name": "Python 3 (ipykernel)",
   "language": "python",
   "name": "python3"
  },
  "language_info": {
   "codemirror_mode": {
    "name": "ipython",
    "version": 3
   },
   "file_extension": ".py",
   "mimetype": "text/x-python",
   "name": "python",
   "nbconvert_exporter": "python",
   "pygments_lexer": "ipython3",
   "version": "3.8.10"
  }
 },
 "nbformat": 4,
 "nbformat_minor": 4
}
