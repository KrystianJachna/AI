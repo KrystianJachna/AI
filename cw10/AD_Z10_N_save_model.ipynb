{
 "cells": [
  {
   "cell_type": "code",
   "metadata": {
    "ExecuteTime": {
     "end_time": "2024-05-20T23:44:04.251462Z",
     "start_time": "2024-05-20T23:43:58.186235Z"
    }
   },
   "source": [
    "import matplotlib.pyplot as plt\n",
    "import numpy as np\n",
    "import pandas as pd\n",
    "from keras import Sequential\n",
    "from keras.callbacks import History\n",
    "from keras.callbacks import ModelCheckpoint\n",
    "from keras.layers import Flatten, Dense\n",
    "from keras.utils import np_utils\n",
    "from sklearn import metrics\n",
    "from tensorflow import keras"
   ],
   "outputs": [
    {
     "name": "stderr",
     "output_type": "stream",
     "text": [
      "2024-05-21 01:43:58.348290: I tensorflow/core/platform/cpu_feature_guard.cc:193] This TensorFlow binary is optimized with oneAPI Deep Neural Network Library (oneDNN) to use the following CPU instructions in performance-critical operations:  AVX2 FMA\n",
      "To enable them in other operations, rebuild TensorFlow with the appropriate compiler flags.\n",
      "2024-05-21 01:43:58.555318: W tensorflow/compiler/xla/stream_executor/platform/default/dso_loader.cc:64] Could not load dynamic library 'libcudart.so.11.0'; dlerror: libcudart.so.11.0: cannot open shared object file: No such file or directory\n",
      "2024-05-21 01:43:58.555345: I tensorflow/compiler/xla/stream_executor/cuda/cudart_stub.cc:29] Ignore above cudart dlerror if you do not have a GPU set up on your machine.\n",
      "2024-05-21 01:44:00.369947: W tensorflow/compiler/xla/stream_executor/platform/default/dso_loader.cc:64] Could not load dynamic library 'libnvinfer.so.7'; dlerror: libnvinfer.so.7: cannot open shared object file: No such file or directory\n",
      "2024-05-21 01:44:00.370069: W tensorflow/compiler/xla/stream_executor/platform/default/dso_loader.cc:64] Could not load dynamic library 'libnvinfer_plugin.so.7'; dlerror: libnvinfer_plugin.so.7: cannot open shared object file: No such file or directory\n",
      "2024-05-21 01:44:00.370086: W tensorflow/compiler/tf2tensorrt/utils/py_utils.cc:38] TF-TRT Warning: Cannot dlopen some TensorRT libraries. If you would like to use Nvidia GPU with TensorRT, please make sure the missing libraries mentioned above are installed properly.\n"
     ]
    }
   ],
   "execution_count": 1
  },
  {
   "cell_type": "code",
   "metadata": {
    "ExecuteTime": {
     "end_time": "2024-05-20T23:44:05.245401Z",
     "start_time": "2024-05-20T23:44:04.254691Z"
    }
   },
   "source": [
    "train_set = pd.read_csv('data/adult/adult.data', sep=\", \", header=None, engine='python')\n",
    "test_set = pd.read_csv('data/adult/adult.test', sep=\", \", skiprows=1, header=None, engine='python')\n",
    "\n",
    "col_labels = ['age', 'workclass', 'fnlwgt', 'education', 'education_num', 'marital_status', 'occupation',\n",
    "              'relationship', 'race', 'sex', 'capital_gain', 'capital_loss', 'hours_per_week', 'native_country',\n",
    "              'wage_class']\n",
    "\n",
    "train_set.columns = col_labels\n",
    "test_set.columns = col_labels\n",
    "\n",
    "train = train_set.replace('?', np.nan).dropna()\n",
    "test = test_set.replace('?', np.nan).dropna()\n",
    "\n",
    "train_set.head()"
   ],
   "outputs": [
    {
     "data": {
      "text/plain": [
       "   age         workclass  fnlwgt  education  education_num  \\\n",
       "0   39         State-gov   77516  Bachelors             13   \n",
       "1   50  Self-emp-not-inc   83311  Bachelors             13   \n",
       "2   38           Private  215646    HS-grad              9   \n",
       "3   53           Private  234721       11th              7   \n",
       "4   28           Private  338409  Bachelors             13   \n",
       "\n",
       "       marital_status         occupation   relationship   race     sex  \\\n",
       "0       Never-married       Adm-clerical  Not-in-family  White    Male   \n",
       "1  Married-civ-spouse    Exec-managerial        Husband  White    Male   \n",
       "2            Divorced  Handlers-cleaners  Not-in-family  White    Male   \n",
       "3  Married-civ-spouse  Handlers-cleaners        Husband  Black    Male   \n",
       "4  Married-civ-spouse     Prof-specialty           Wife  Black  Female   \n",
       "\n",
       "   capital_gain  capital_loss  hours_per_week native_country wage_class  \n",
       "0          2174             0              40  United-States      <=50K  \n",
       "1             0             0              13  United-States      <=50K  \n",
       "2             0             0              40  United-States      <=50K  \n",
       "3             0             0              40  United-States      <=50K  \n",
       "4             0             0              40           Cuba      <=50K  "
      ],
      "text/html": [
       "<div>\n",
       "<style scoped>\n",
       "    .dataframe tbody tr th:only-of-type {\n",
       "        vertical-align: middle;\n",
       "    }\n",
       "\n",
       "    .dataframe tbody tr th {\n",
       "        vertical-align: top;\n",
       "    }\n",
       "\n",
       "    .dataframe thead th {\n",
       "        text-align: right;\n",
       "    }\n",
       "</style>\n",
       "<table border=\"1\" class=\"dataframe\">\n",
       "  <thead>\n",
       "    <tr style=\"text-align: right;\">\n",
       "      <th></th>\n",
       "      <th>age</th>\n",
       "      <th>workclass</th>\n",
       "      <th>fnlwgt</th>\n",
       "      <th>education</th>\n",
       "      <th>education_num</th>\n",
       "      <th>marital_status</th>\n",
       "      <th>occupation</th>\n",
       "      <th>relationship</th>\n",
       "      <th>race</th>\n",
       "      <th>sex</th>\n",
       "      <th>capital_gain</th>\n",
       "      <th>capital_loss</th>\n",
       "      <th>hours_per_week</th>\n",
       "      <th>native_country</th>\n",
       "      <th>wage_class</th>\n",
       "    </tr>\n",
       "  </thead>\n",
       "  <tbody>\n",
       "    <tr>\n",
       "      <th>0</th>\n",
       "      <td>39</td>\n",
       "      <td>State-gov</td>\n",
       "      <td>77516</td>\n",
       "      <td>Bachelors</td>\n",
       "      <td>13</td>\n",
       "      <td>Never-married</td>\n",
       "      <td>Adm-clerical</td>\n",
       "      <td>Not-in-family</td>\n",
       "      <td>White</td>\n",
       "      <td>Male</td>\n",
       "      <td>2174</td>\n",
       "      <td>0</td>\n",
       "      <td>40</td>\n",
       "      <td>United-States</td>\n",
       "      <td>&lt;=50K</td>\n",
       "    </tr>\n",
       "    <tr>\n",
       "      <th>1</th>\n",
       "      <td>50</td>\n",
       "      <td>Self-emp-not-inc</td>\n",
       "      <td>83311</td>\n",
       "      <td>Bachelors</td>\n",
       "      <td>13</td>\n",
       "      <td>Married-civ-spouse</td>\n",
       "      <td>Exec-managerial</td>\n",
       "      <td>Husband</td>\n",
       "      <td>White</td>\n",
       "      <td>Male</td>\n",
       "      <td>0</td>\n",
       "      <td>0</td>\n",
       "      <td>13</td>\n",
       "      <td>United-States</td>\n",
       "      <td>&lt;=50K</td>\n",
       "    </tr>\n",
       "    <tr>\n",
       "      <th>2</th>\n",
       "      <td>38</td>\n",
       "      <td>Private</td>\n",
       "      <td>215646</td>\n",
       "      <td>HS-grad</td>\n",
       "      <td>9</td>\n",
       "      <td>Divorced</td>\n",
       "      <td>Handlers-cleaners</td>\n",
       "      <td>Not-in-family</td>\n",
       "      <td>White</td>\n",
       "      <td>Male</td>\n",
       "      <td>0</td>\n",
       "      <td>0</td>\n",
       "      <td>40</td>\n",
       "      <td>United-States</td>\n",
       "      <td>&lt;=50K</td>\n",
       "    </tr>\n",
       "    <tr>\n",
       "      <th>3</th>\n",
       "      <td>53</td>\n",
       "      <td>Private</td>\n",
       "      <td>234721</td>\n",
       "      <td>11th</td>\n",
       "      <td>7</td>\n",
       "      <td>Married-civ-spouse</td>\n",
       "      <td>Handlers-cleaners</td>\n",
       "      <td>Husband</td>\n",
       "      <td>Black</td>\n",
       "      <td>Male</td>\n",
       "      <td>0</td>\n",
       "      <td>0</td>\n",
       "      <td>40</td>\n",
       "      <td>United-States</td>\n",
       "      <td>&lt;=50K</td>\n",
       "    </tr>\n",
       "    <tr>\n",
       "      <th>4</th>\n",
       "      <td>28</td>\n",
       "      <td>Private</td>\n",
       "      <td>338409</td>\n",
       "      <td>Bachelors</td>\n",
       "      <td>13</td>\n",
       "      <td>Married-civ-spouse</td>\n",
       "      <td>Prof-specialty</td>\n",
       "      <td>Wife</td>\n",
       "      <td>Black</td>\n",
       "      <td>Female</td>\n",
       "      <td>0</td>\n",
       "      <td>0</td>\n",
       "      <td>40</td>\n",
       "      <td>Cuba</td>\n",
       "      <td>&lt;=50K</td>\n",
       "    </tr>\n",
       "  </tbody>\n",
       "</table>\n",
       "</div>"
      ]
     },
     "execution_count": 2,
     "metadata": {},
     "output_type": "execute_result"
    }
   ],
   "execution_count": 2
  },
  {
   "cell_type": "markdown",
   "metadata": {},
   "source": [
    "# Zad.\n",
    "Zróbmy szybki preprocesing"
   ]
  },
  {
   "cell_type": "code",
   "metadata": {
    "ExecuteTime": {
     "end_time": "2024-05-20T23:44:05.576400Z",
     "start_time": "2024-05-20T23:44:05.251358Z"
    }
   },
   "source": [
    "dataset = pd.concat([train, test])\n",
    "\n",
    "dataset['wage_class'] = dataset.wage_class.replace({'<=50K.': 0, '<=50K': 0, '>50K.': 1, '>50K': 1})\n",
    "\n",
    "dataset.drop([\"fnlwgt\"], axis=1, inplace=True)\n",
    "dataset.drop([\"education\"], axis=1, inplace=True)\n",
    "\n",
    "x = dataset.groupby('native_country')[\"wage_class\"].mean()\n",
    "d = dict(pd.cut(x[x.index != \" United-States\"], 5, labels=range(5)))\n",
    "dataset['native_country'] = dataset['native_country'].replace(d)\n",
    "\n",
    "dataset = pd.get_dummies(dataset, drop_first=True)\n",
    "\n",
    "train = dataset.iloc[:train.shape[0]]\n",
    "test = dataset.iloc[train.shape[0]:]\n",
    "\n",
    "X_train = train.drop(\"wage_class\", axis=1)\n",
    "y_train = train.wage_class\n",
    "\n",
    "X_test = test.drop(\"wage_class\", axis=1)\n",
    "y_test = test.wage_class"
   ],
   "outputs": [],
   "execution_count": 3
  },
  {
   "cell_type": "code",
   "metadata": {
    "ExecuteTime": {
     "end_time": "2024-05-20T23:44:05.819139Z",
     "start_time": "2024-05-20T23:44:05.580973Z"
    }
   },
   "source": [
    "history = History()\n",
    "model = Sequential()\n",
    "model.add(Dense(100, activation=\"sigmoid\", input_shape=(X_train.shape[1],)))\n",
    "model.add(Dense(50, activation=\"sigmoid\"))\n",
    "model.add(Dense(10, activation=\"sigmoid\"))\n",
    "model.add(Dense(1, activation=\"sigmoid\"))\n",
    "model.summary()"
   ],
   "outputs": [
    {
     "name": "stdout",
     "output_type": "stream",
     "text": [
      "Model: \"sequential\"\n",
      "_________________________________________________________________\n",
      " Layer (type)                Output Shape              Param #   \n",
      "=================================================================\n",
      " dense (Dense)               (None, 100)               4200      \n",
      "                                                                 \n",
      " dense_1 (Dense)             (None, 50)                5050      \n",
      "                                                                 \n",
      " dense_2 (Dense)             (None, 10)                510       \n",
      "                                                                 \n",
      " dense_3 (Dense)             (None, 1)                 11        \n",
      "                                                                 \n",
      "=================================================================\n",
      "Total params: 9,771\n",
      "Trainable params: 9,771\n",
      "Non-trainable params: 0\n",
      "_________________________________________________________________\n"
     ]
    },
    {
     "name": "stderr",
     "output_type": "stream",
     "text": [
      "2024-05-21 01:44:05.597965: W tensorflow/compiler/xla/stream_executor/platform/default/dso_loader.cc:64] Could not load dynamic library 'libcuda.so.1'; dlerror: libcuda.so.1: cannot open shared object file: No such file or directory\n",
      "2024-05-21 01:44:05.598017: W tensorflow/compiler/xla/stream_executor/cuda/cuda_driver.cc:265] failed call to cuInit: UNKNOWN ERROR (303)\n",
      "2024-05-21 01:44:05.598054: I tensorflow/compiler/xla/stream_executor/cuda/cuda_diagnostics.cc:156] kernel driver does not appear to be running on this host (kjUbuntu): /proc/driver/nvidia/version does not exist\n",
      "2024-05-21 01:44:05.598483: I tensorflow/core/platform/cpu_feature_guard.cc:193] This TensorFlow binary is optimized with oneAPI Deep Neural Network Library (oneDNN) to use the following CPU instructions in performance-critical operations:  AVX2 FMA\n",
      "To enable them in other operations, rebuild TensorFlow with the appropriate compiler flags.\n"
     ]
    }
   ],
   "execution_count": 4
  },
  {
   "cell_type": "code",
   "metadata": {
    "ExecuteTime": {
     "end_time": "2024-05-20T23:44:05.852271Z",
     "start_time": "2024-05-20T23:44:05.825380Z"
    }
   },
   "source": "model.compile(loss=\"binary_crossentropy\", optimizer=\"Adam\", metrics=[\"accuracy\"])",
   "outputs": [],
   "execution_count": 5
  },
  {
   "cell_type": "code",
   "metadata": {
    "ExecuteTime": {
     "end_time": "2024-05-20T23:46:30.034429Z",
     "start_time": "2024-05-20T23:44:05.855222Z"
    }
   },
   "source": [
    "save_best_model = ModelCheckpoint(\"models/wagi_best.h5\", save_best_only=True)\n",
    "history = model.fit(X_train, y_train, validation_data=(X_test, y_test), batch_size=32, epochs=30,\n",
    "                    callbacks=[save_best_model])"
   ],
   "outputs": [
    {
     "name": "stdout",
     "output_type": "stream",
     "text": [
      "Epoch 1/30\n",
      "943/943 [==============================] - 7s 6ms/step - loss: 0.4939 - accuracy: 0.7696 - val_loss: 0.3939 - val_accuracy: 0.8129\n",
      "Epoch 2/30\n",
      "943/943 [==============================] - 4s 4ms/step - loss: 0.3884 - accuracy: 0.8095 - val_loss: 0.3802 - val_accuracy: 0.8159\n",
      "Epoch 3/30\n",
      "943/943 [==============================] - 4s 4ms/step - loss: 0.3771 - accuracy: 0.8139 - val_loss: 0.3733 - val_accuracy: 0.8016\n",
      "Epoch 4/30\n",
      "943/943 [==============================] - 4s 5ms/step - loss: 0.3732 - accuracy: 0.8139 - val_loss: 0.3744 - val_accuracy: 0.8045\n",
      "Epoch 5/30\n",
      "943/943 [==============================] - 5s 5ms/step - loss: 0.3673 - accuracy: 0.8161 - val_loss: 0.3724 - val_accuracy: 0.8088\n",
      "Epoch 6/30\n",
      "943/943 [==============================] - 5s 5ms/step - loss: 0.3701 - accuracy: 0.8149 - val_loss: 0.3948 - val_accuracy: 0.7926\n",
      "Epoch 7/30\n",
      "943/943 [==============================] - 5s 5ms/step - loss: 0.3694 - accuracy: 0.8145 - val_loss: 0.3793 - val_accuracy: 0.8165\n",
      "Epoch 8/30\n",
      "943/943 [==============================] - 6s 6ms/step - loss: 0.3671 - accuracy: 0.8159 - val_loss: 0.3687 - val_accuracy: 0.8169\n",
      "Epoch 9/30\n",
      "943/943 [==============================] - 5s 5ms/step - loss: 0.3687 - accuracy: 0.8152 - val_loss: 0.3658 - val_accuracy: 0.8169\n",
      "Epoch 10/30\n",
      "943/943 [==============================] - 4s 5ms/step - loss: 0.3688 - accuracy: 0.8130 - val_loss: 0.3830 - val_accuracy: 0.8015\n",
      "Epoch 11/30\n",
      "943/943 [==============================] - 5s 5ms/step - loss: 0.3690 - accuracy: 0.8149 - val_loss: 0.3651 - val_accuracy: 0.8175\n",
      "Epoch 12/30\n",
      "943/943 [==============================] - 4s 4ms/step - loss: 0.3677 - accuracy: 0.8142 - val_loss: 0.3674 - val_accuracy: 0.8176\n",
      "Epoch 13/30\n",
      "943/943 [==============================] - 5s 5ms/step - loss: 0.3669 - accuracy: 0.8149 - val_loss: 0.3883 - val_accuracy: 0.7987\n",
      "Epoch 14/30\n",
      "943/943 [==============================] - 5s 6ms/step - loss: 0.3658 - accuracy: 0.8148 - val_loss: 0.3635 - val_accuracy: 0.8144\n",
      "Epoch 15/30\n",
      "943/943 [==============================] - 5s 5ms/step - loss: 0.3649 - accuracy: 0.8178 - val_loss: 0.3635 - val_accuracy: 0.8187\n",
      "Epoch 16/30\n",
      "943/943 [==============================] - 5s 5ms/step - loss: 0.3653 - accuracy: 0.8137 - val_loss: 0.3655 - val_accuracy: 0.8138\n",
      "Epoch 17/30\n",
      "943/943 [==============================] - 6s 6ms/step - loss: 0.3648 - accuracy: 0.8143 - val_loss: 0.3640 - val_accuracy: 0.8146\n",
      "Epoch 18/30\n",
      "943/943 [==============================] - 4s 5ms/step - loss: 0.3654 - accuracy: 0.8151 - val_loss: 0.3672 - val_accuracy: 0.8172\n",
      "Epoch 19/30\n",
      "943/943 [==============================] - 5s 5ms/step - loss: 0.3629 - accuracy: 0.8160 - val_loss: 0.3688 - val_accuracy: 0.8145\n",
      "Epoch 20/30\n",
      "943/943 [==============================] - 5s 5ms/step - loss: 0.3640 - accuracy: 0.8169 - val_loss: 0.3634 - val_accuracy: 0.8177\n",
      "Epoch 21/30\n",
      "943/943 [==============================] - 5s 5ms/step - loss: 0.3641 - accuracy: 0.8171 - val_loss: 0.3622 - val_accuracy: 0.8180\n",
      "Epoch 22/30\n",
      "943/943 [==============================] - 5s 5ms/step - loss: 0.3630 - accuracy: 0.8160 - val_loss: 0.3633 - val_accuracy: 0.8174\n",
      "Epoch 23/30\n",
      "943/943 [==============================] - 6s 6ms/step - loss: 0.3624 - accuracy: 0.8159 - val_loss: 0.3631 - val_accuracy: 0.8177\n",
      "Epoch 24/30\n",
      "943/943 [==============================] - 5s 5ms/step - loss: 0.3622 - accuracy: 0.8168 - val_loss: 0.3623 - val_accuracy: 0.8181\n",
      "Epoch 25/30\n",
      "943/943 [==============================] - 5s 5ms/step - loss: 0.3626 - accuracy: 0.8172 - val_loss: 0.3719 - val_accuracy: 0.8131\n",
      "Epoch 26/30\n",
      "943/943 [==============================] - 5s 5ms/step - loss: 0.3622 - accuracy: 0.8171 - val_loss: 0.3651 - val_accuracy: 0.8149\n",
      "Epoch 27/30\n",
      "943/943 [==============================] - 5s 5ms/step - loss: 0.3619 - accuracy: 0.8176 - val_loss: 0.3618 - val_accuracy: 0.8189\n",
      "Epoch 28/30\n",
      "943/943 [==============================] - 5s 6ms/step - loss: 0.3607 - accuracy: 0.8188 - val_loss: 0.3683 - val_accuracy: 0.8151\n",
      "Epoch 29/30\n",
      "943/943 [==============================] - 4s 4ms/step - loss: 0.3618 - accuracy: 0.8148 - val_loss: 0.3714 - val_accuracy: 0.8101\n",
      "Epoch 30/30\n",
      "943/943 [==============================] - 4s 4ms/step - loss: 0.3608 - accuracy: 0.8190 - val_loss: 0.3632 - val_accuracy: 0.8171\n"
     ]
    }
   ],
   "execution_count": 6
  },
  {
   "cell_type": "code",
   "metadata": {
    "ExecuteTime": {
     "end_time": "2024-05-20T23:46:30.546269Z",
     "start_time": "2024-05-20T23:46:30.040196Z"
    }
   },
   "source": [
    "pd.DataFrame(history.history).plot(figsize=(8, 5))\n",
    "plt.grid(True)\n",
    "plt.gca().set_ylim(0, 1)\n",
    "plt.show()"
   ],
   "outputs": [
    {
     "data": {
      "text/plain": [
       "<Figure size 800x500 with 1 Axes>"
      ],
      "image/png": "[encoded data removed]"
     },
     "metadata": {},
     "output_type": "display_data"
    }
   ],
   "execution_count": 7
  },
  {
   "cell_type": "code",
   "metadata": {
    "ExecuteTime": {
     "end_time": "2024-05-20T23:46:31.637397Z",
     "start_time": "2024-05-20T23:46:30.548408Z"
    }
   },
   "source": "model.evaluate(X_test, y_test)",
   "outputs": [
    {
     "name": "stdout",
     "output_type": "stream",
     "text": [
      "471/471 [==============================] - 1s 2ms/step - loss: 0.3632 - accuracy: 0.8171\n"
     ]
    },
    {
     "data": {
      "text/plain": [
       "[0.3631944954395294, 0.8171314597129822]"
      ]
     },
     "execution_count": 8,
     "metadata": {},
     "output_type": "execute_result"
    }
   ],
   "execution_count": 8
  },
  {
   "cell_type": "code",
   "metadata": {
    "ExecuteTime": {
     "end_time": "2024-05-20T23:46:33.175856Z",
     "start_time": "2024-05-20T23:46:31.640520Z"
    }
   },
   "source": [
    "y_pred = model.predict(X_test)\n",
    "y_pred = (y_pred > 0.5).astype(int)\n",
    "\n",
    "accuracy = metrics.accuracy_score(y_test, y_pred)\n",
    "print(accuracy)"
   ],
   "outputs": [
    {
     "name": "stdout",
     "output_type": "stream",
     "text": [
      "471/471 [==============================] - 1s 2ms/step\n",
      "0.8171314741035857\n"
     ]
    }
   ],
   "execution_count": 9
  },
  {
   "cell_type": "markdown",
   "metadata": {},
   "source": [
    "# Zad\n",
    "\n",
    "Wczytaj nauczony model"
   ]
  },
  {
   "metadata": {
    "ExecuteTime": {
     "end_time": "2024-05-20T23:46:34.512446Z",
     "start_time": "2024-05-20T23:46:33.177903Z"
    }
   },
   "cell_type": "code",
   "source": [
    "model_from_file = Sequential()\n",
    "model_from_file.add(Dense(100, activation=\"sigmoid\", input_shape=(X_train.shape[1],)))\n",
    "model_from_file.add(Dense(50, activation=\"sigmoid\"))\n",
    "model_from_file.add(Dense(10, activation=\"sigmoid\"))\n",
    "model_from_file.add(Dense(1, activation=\"sigmoid\"))\n",
    "model_from_file.compile(loss=\"binary_crossentropy\", optimizer=\"Adam\", metrics=[\"accuracy\"])\n",
    "model_from_file.load_weights(\"models/wagi_best.h5\")\n",
    "model_from_file.evaluate(X_test, y_test)"
   ],
   "outputs": [
    {
     "name": "stdout",
     "output_type": "stream",
     "text": [
      "471/471 [==============================] - 1s 2ms/step - loss: 0.3618 - accuracy: 0.8189\n"
     ]
    },
    {
     "data": {
      "text/plain": [
       "[0.3617599606513977, 0.8189243078231812]"
      ]
     },
     "execution_count": 10,
     "metadata": {},
     "output_type": "execute_result"
    }
   ],
   "execution_count": 10
  },
  {
   "cell_type": "markdown",
   "metadata": {},
   "source": [
    "# Zad\n",
    "\n",
    "* Naucz dowolny model na zbiorze MNIST.\n",
    "* Zapisz optymalne parametry uczenia do pliku\n",
    "* Wczytaj dane z pliku"
   ]
  },
  {
   "cell_type": "code",
   "metadata": {
    "ExecuteTime": {
     "end_time": "2024-05-20T23:46:35.118946Z",
     "start_time": "2024-05-20T23:46:34.514984Z"
    }
   },
   "source": [
    "# load data\n",
    "(X_train_full, y_train_full), (X_test, y_test) = keras.datasets.mnist.load_data()"
   ],
   "outputs": [],
   "execution_count": 11
  },
  {
   "metadata": {
    "ExecuteTime": {
     "end_time": "2024-05-20T23:46:35.469486Z",
     "start_time": "2024-05-20T23:46:35.120752Z"
    }
   },
   "cell_type": "code",
   "source": [
    "X_valid, X_train = X_train_full[:5000] / 255., X_train_full[5000:] / 255.\n",
    "y_valid, y_train = y_train_full[:5000], y_train_full[5000:]\n",
    "X_test = X_test / 255."
   ],
   "outputs": [],
   "execution_count": 12
  },
  {
   "metadata": {
    "ExecuteTime": {
     "end_time": "2024-05-20T23:46:35.478444Z",
     "start_time": "2024-05-20T23:46:35.471827Z"
    }
   },
   "cell_type": "code",
   "source": [
    "# one hot encode outputs\n",
    "y_train = np_utils.to_categorical(y_train)\n",
    "y_test = np_utils.to_categorical(y_test)\n",
    "y_valid = np_utils.to_categorical(y_valid)"
   ],
   "outputs": [],
   "execution_count": 13
  },
  {
   "metadata": {
    "ExecuteTime": {
     "end_time": "2024-05-20T23:46:35.599006Z",
     "start_time": "2024-05-20T23:46:35.482868Z"
    }
   },
   "cell_type": "code",
   "source": [
    "model = Sequential()\n",
    "model.add(Flatten(input_shape=[28, 28]))\n",
    "model.add(Dense(300, activation=\"relu\"))\n",
    "model.add(Dense(100, activation=\"relu\"))\n",
    "model.add(Dense(10, activation=\"softmax\"))\n",
    "model.summary()"
   ],
   "outputs": [
    {
     "name": "stdout",
     "output_type": "stream",
     "text": [
      "Model: \"sequential_2\"\n",
      "_________________________________________________________________\n",
      " Layer (type)                Output Shape              Param #   \n",
      "=================================================================\n",
      " flatten (Flatten)           (None, 784)               0         \n",
      "                                                                 \n",
      " dense_8 (Dense)             (None, 300)               235500    \n",
      "                                                                 \n",
      " dense_9 (Dense)             (None, 100)               30100     \n",
      "                                                                 \n",
      " dense_10 (Dense)            (None, 10)                1010      \n",
      "                                                                 \n",
      "=================================================================\n",
      "Total params: 266,610\n",
      "Trainable params: 266,610\n",
      "Non-trainable params: 0\n",
      "_________________________________________________________________\n"
     ]
    }
   ],
   "execution_count": 14
  },
  {
   "metadata": {
    "ExecuteTime": {
     "end_time": "2024-05-20T23:46:35.616701Z",
     "start_time": "2024-05-20T23:46:35.601403Z"
    }
   },
   "cell_type": "code",
   "source": [
    "model.compile(loss=\"categorical_crossentropy\",\n",
    "              optimizer=\"sgd\",\n",
    "              metrics=[\"accuracy\"])"
   ],
   "outputs": [],
   "execution_count": 15
  },
  {
   "metadata": {
    "ExecuteTime": {
     "end_time": "2024-05-20T23:50:56.741043Z",
     "start_time": "2024-05-20T23:46:35.618916Z"
    }
   },
   "cell_type": "code",
   "source": [
    "save_best_model = ModelCheckpoint(\"models/mnist_model.h5\", save_best_only=True)\n",
    "history = model.fit(X_train, y_train, validation_data=(X_test, y_test), batch_size=32, epochs=30,\n",
    "                    callbacks=[save_best_model])"
   ],
   "outputs": [
    {
     "name": "stdout",
     "output_type": "stream",
     "text": [
      "Epoch 1/30\n"
     ]
    },
    {
     "name": "stderr",
     "output_type": "stream",
     "text": [
      "2024-05-21 01:46:35.853415: W tensorflow/tsl/framework/cpu_allocator_impl.cc:82] Allocation of 172480000 exceeds 10% of free system memory.\n"
     ]
    },
    {
     "name": "stdout",
     "output_type": "stream",
     "text": [
      "1719/1719 [==============================] - 12s 7ms/step - loss: 0.6130 - accuracy: 0.8375 - val_loss: 0.3159 - val_accuracy: 0.9104\n",
      "Epoch 2/30\n",
      "1719/1719 [==============================] - 11s 6ms/step - loss: 0.2889 - accuracy: 0.9163 - val_loss: 0.2483 - val_accuracy: 0.9297\n",
      "Epoch 3/30\n",
      "1719/1719 [==============================] - 9s 5ms/step - loss: 0.2348 - accuracy: 0.9318 - val_loss: 0.2111 - val_accuracy: 0.9370\n",
      "Epoch 4/30\n",
      "1719/1719 [==============================] - 10s 6ms/step - loss: 0.2005 - accuracy: 0.9426 - val_loss: 0.1800 - val_accuracy: 0.9466\n",
      "Epoch 5/30\n",
      "1719/1719 [==============================] - 9s 5ms/step - loss: 0.1744 - accuracy: 0.9494 - val_loss: 0.1614 - val_accuracy: 0.9522\n",
      "Epoch 6/30\n",
      "1719/1719 [==============================] - 9s 5ms/step - loss: 0.1543 - accuracy: 0.9554 - val_loss: 0.1470 - val_accuracy: 0.9562\n",
      "Epoch 7/30\n",
      "1719/1719 [==============================] - 9s 5ms/step - loss: 0.1379 - accuracy: 0.9607 - val_loss: 0.1386 - val_accuracy: 0.9589\n",
      "Epoch 8/30\n",
      "1719/1719 [==============================] - 8s 5ms/step - loss: 0.1248 - accuracy: 0.9644 - val_loss: 0.1277 - val_accuracy: 0.9620\n",
      "Epoch 9/30\n",
      "1719/1719 [==============================] - 8s 5ms/step - loss: 0.1136 - accuracy: 0.9679 - val_loss: 0.1187 - val_accuracy: 0.9646\n",
      "Epoch 10/30\n",
      "1719/1719 [==============================] - 8s 5ms/step - loss: 0.1042 - accuracy: 0.9706 - val_loss: 0.1133 - val_accuracy: 0.9650\n",
      "Epoch 11/30\n",
      "1719/1719 [==============================] - 8s 5ms/step - loss: 0.0958 - accuracy: 0.9728 - val_loss: 0.1087 - val_accuracy: 0.9661\n",
      "Epoch 12/30\n",
      "1719/1719 [==============================] - 8s 5ms/step - loss: 0.0882 - accuracy: 0.9750 - val_loss: 0.1014 - val_accuracy: 0.9688\n",
      "Epoch 13/30\n",
      "1719/1719 [==============================] - 8s 5ms/step - loss: 0.0819 - accuracy: 0.9769 - val_loss: 0.0986 - val_accuracy: 0.9701\n",
      "Epoch 14/30\n",
      "1719/1719 [==============================] - 8s 5ms/step - loss: 0.0760 - accuracy: 0.9790 - val_loss: 0.0940 - val_accuracy: 0.9717\n",
      "Epoch 15/30\n",
      "1719/1719 [==============================] - 8s 5ms/step - loss: 0.0708 - accuracy: 0.9796 - val_loss: 0.0915 - val_accuracy: 0.9716\n",
      "Epoch 16/30\n",
      "1719/1719 [==============================] - 8s 5ms/step - loss: 0.0662 - accuracy: 0.9817 - val_loss: 0.0904 - val_accuracy: 0.9721\n",
      "Epoch 17/30\n",
      "1719/1719 [==============================] - 8s 5ms/step - loss: 0.0620 - accuracy: 0.9829 - val_loss: 0.0885 - val_accuracy: 0.9726\n",
      "Epoch 18/30\n",
      "1719/1719 [==============================] - 8s 5ms/step - loss: 0.0582 - accuracy: 0.9843 - val_loss: 0.0832 - val_accuracy: 0.9738\n",
      "Epoch 19/30\n",
      "1719/1719 [==============================] - 9s 5ms/step - loss: 0.0546 - accuracy: 0.9852 - val_loss: 0.0804 - val_accuracy: 0.9748\n",
      "Epoch 20/30\n",
      "1719/1719 [==============================] - 8s 5ms/step - loss: 0.0511 - accuracy: 0.9861 - val_loss: 0.0812 - val_accuracy: 0.9750\n",
      "Epoch 21/30\n",
      "1719/1719 [==============================] - 8s 5ms/step - loss: 0.0480 - accuracy: 0.9872 - val_loss: 0.0769 - val_accuracy: 0.9769\n",
      "Epoch 22/30\n",
      "1719/1719 [==============================] - 9s 5ms/step - loss: 0.0452 - accuracy: 0.9883 - val_loss: 0.0768 - val_accuracy: 0.9765\n",
      "Epoch 23/30\n",
      "1719/1719 [==============================] - 9s 5ms/step - loss: 0.0426 - accuracy: 0.9889 - val_loss: 0.0761 - val_accuracy: 0.9765\n",
      "Epoch 24/30\n",
      "1719/1719 [==============================] - 9s 5ms/step - loss: 0.0402 - accuracy: 0.9896 - val_loss: 0.0749 - val_accuracy: 0.9772\n",
      "Epoch 25/30\n",
      "1719/1719 [==============================] - 8s 5ms/step - loss: 0.0378 - accuracy: 0.9908 - val_loss: 0.0739 - val_accuracy: 0.9761\n",
      "Epoch 26/30\n",
      "1719/1719 [==============================] - 8s 5ms/step - loss: 0.0356 - accuracy: 0.9912 - val_loss: 0.0734 - val_accuracy: 0.9778\n",
      "Epoch 27/30\n",
      "1719/1719 [==============================] - 8s 5ms/step - loss: 0.0338 - accuracy: 0.9916 - val_loss: 0.0704 - val_accuracy: 0.9788\n",
      "Epoch 28/30\n",
      "1719/1719 [==============================] - 8s 5ms/step - loss: 0.0316 - accuracy: 0.9922 - val_loss: 0.0704 - val_accuracy: 0.9787\n",
      "Epoch 29/30\n",
      "1719/1719 [==============================] - 8s 5ms/step - loss: 0.0301 - accuracy: 0.9928 - val_loss: 0.0720 - val_accuracy: 0.9776\n",
      "Epoch 30/30\n",
      "1719/1719 [==============================] - 8s 5ms/step - loss: 0.0284 - accuracy: 0.9936 - val_loss: 0.0710 - val_accuracy: 0.9783\n"
     ]
    }
   ],
   "execution_count": 16
  },
  {
   "metadata": {
    "ExecuteTime": {
     "end_time": "2024-05-20T23:50:58.362844Z",
     "start_time": "2024-05-20T23:50:56.746830Z"
    }
   },
   "cell_type": "code",
   "source": "model.evaluate(X_test, y_test)",
   "outputs": [
    {
     "name": "stdout",
     "output_type": "stream",
     "text": [
      "313/313 [==============================] - 1s 4ms/step - loss: 0.0710 - accuracy: 0.9783\n"
     ]
    },
    {
     "data": {
      "text/plain": [
       "[0.07096404582262039, 0.9782999753952026]"
      ]
     },
     "execution_count": 17,
     "metadata": {},
     "output_type": "execute_result"
    }
   ],
   "execution_count": 17
  },
  {
   "metadata": {},
   "cell_type": "markdown",
   "source": "Wczytanie modelu"
  },
  {
   "metadata": {
    "ExecuteTime": {
     "end_time": "2024-05-20T23:50:59.669168Z",
     "start_time": "2024-05-20T23:50:58.367768Z"
    }
   },
   "cell_type": "code",
   "source": [
    "model_from_file = Sequential()\n",
    "model_from_file.add(Flatten(input_shape=[28, 28]))\n",
    "model_from_file.add(Dense(300, activation=\"relu\"))\n",
    "model_from_file.add(Dense(100, activation=\"relu\"))\n",
    "model_from_file.add(Dense(10, activation=\"softmax\"))\n",
    "model_from_file.compile(loss=\"categorical_crossentropy\",\n",
    "                        optimizer=\"sgd\",\n",
    "                        metrics=[\"accuracy\"])\n",
    "model_from_file.load_weights(\"models/mnist_model.h5\")\n",
    "model_from_file.evaluate(X_test, y_test)"
   ],
   "outputs": [
    {
     "name": "stdout",
     "output_type": "stream",
     "text": [
      "313/313 [==============================] - 1s 2ms/step - loss: 0.0704 - accuracy: 0.9788\n"
     ]
    },
    {
     "data": {
      "text/plain": [
       "[0.07041223347187042, 0.9787999987602234]"
      ]
     },
     "execution_count": 18,
     "metadata": {},
     "output_type": "execute_result"
    }
   ],
   "execution_count": 18
  }
 ],
 "metadata": {
  "kernelspec": {
   "display_name": "Python 3 (ipykernel)",
   "language": "python",
   "name": "python3"
  },
  "language_info": {
   "codemirror_mode": {
    "name": "ipython",
    "version": 3
   },
   "file_extension": ".py",
   "mimetype": "text/x-python",
   "name": "python",
   "nbconvert_exporter": "python",
   "pygments_lexer": "ipython3",
   "version": "3.8.10"
  }
 },
 "nbformat": 4,
 "nbformat_minor": 4
}
