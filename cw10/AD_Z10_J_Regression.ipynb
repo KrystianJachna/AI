{
 "cells": [
  {
   "cell_type": "code",
   "metadata": {
    "ExecuteTime": {
     "end_time": "2024-05-20T18:12:50.816610Z",
     "start_time": "2024-05-20T18:12:50.813044Z"
    }
   },
   "source": [
    "from sklearn.datasets import fetch_california_housing\n",
    "from sklearn.model_selection import train_test_split\n",
    "from sklearn.preprocessing import StandardScaler\n",
    "from tensorflow import keras\n",
    "import matplotlib.pyplot as plt\n",
    "import numpy as np\n",
    "import os\n",
    "import pandas as pd\n",
    "import tensorflow as tf"
   ],
   "outputs": [],
   "execution_count": 3
  },
  {
   "cell_type": "code",
   "metadata": {
    "ExecuteTime": {
     "end_time": "2024-05-20T18:14:36.082004Z",
     "start_time": "2024-05-20T18:14:36.051547Z"
    }
   },
   "source": [
    "housing = fetch_california_housing()\n",
    "\n",
    "X_train_full, X_test, y_train_full, y_test = train_test_split(housing.data, housing.target, random_state=42)\n",
    "X_train, X_valid, y_train, y_valid = train_test_split(X_train_full, y_train_full, random_state=42)"
   ],
   "outputs": [],
   "execution_count": 9
  },
  {
   "cell_type": "code",
   "metadata": {
    "ExecuteTime": {
     "end_time": "2024-05-20T18:14:38.821471Z",
     "start_time": "2024-05-20T18:14:38.806678Z"
    }
   },
   "source": [
    "np.random.seed(42)\n",
    "tf.random.set_seed(42)"
   ],
   "outputs": [],
   "execution_count": 10
  },
  {
   "cell_type": "code",
   "metadata": {
    "ExecuteTime": {
     "end_time": "2024-05-20T18:16:47.915703Z",
     "start_time": "2024-05-20T18:16:35.411035Z"
    }
   },
   "source": [
    "model = keras.models.Sequential([\n",
    "    keras.layers.Dense(30, activation=\"relu\", input_shape=X_train.shape[1:]),\n",
    "    keras.layers.Dense(1)\n",
    "])\n",
    "model.compile(loss=\"mean_squared_error\", optimizer=keras.optimizers.SGD(learning_rate=1e-4))\n",
    "history = model.fit(X_train, y_train, epochs=20, validation_data=(X_valid, y_valid))\n",
    "mse_test = model.evaluate(X_test, y_test)\n",
    "X_new = X_test[:3]\n",
    "y_pred = model.predict(X_new)"
   ],
   "outputs": [
    {
     "name": "stdout",
     "output_type": "stream",
     "text": [
      "Epoch 1/20\n",
      "363/363 [==============================] - 1s 2ms/step - loss: 45111169024.0000 - val_loss: 56072.8047\n",
      "Epoch 2/20\n",
      "363/363 [==============================] - 0s 1ms/step - loss: 51619624.0000 - val_loss: 59341.9414\n",
      "Epoch 3/20\n",
      "363/363 [==============================] - 1s 1ms/step - loss: 55226.3555 - val_loss: 51322.8047\n",
      "Epoch 4/20\n",
      "363/363 [==============================] - 0s 1ms/step - loss: 47761.9609 - val_loss: 44387.4180\n",
      "Epoch 5/20\n",
      "363/363 [==============================] - 0s 1ms/step - loss: 41306.4883 - val_loss: 38389.3633\n",
      "Epoch 6/20\n",
      "363/363 [==============================] - 0s 1ms/step - loss: 35723.5430 - val_loss: 33201.9062\n",
      "Epoch 7/20\n",
      "363/363 [==============================] - 0s 1ms/step - loss: 30895.2305 - val_loss: 28715.5332\n",
      "Epoch 8/20\n",
      "363/363 [==============================] - 1s 1ms/step - loss: 26719.5059 - val_loss: 24835.4414\n",
      "Epoch 9/20\n",
      "363/363 [==============================] - 1s 2ms/step - loss: 23108.1523 - val_loss: 21479.7207\n",
      "Epoch 10/20\n",
      "363/363 [==============================] - 1s 2ms/step - loss: 19984.9297 - val_loss: 18577.5000\n",
      "Epoch 11/20\n",
      "363/363 [==============================] - 1s 2ms/step - loss: 17283.8867 - val_loss: 16067.5264\n",
      "Epoch 12/20\n",
      "363/363 [==============================] - 1s 2ms/step - loss: 14947.9141 - val_loss: 13896.7412\n",
      "Epoch 13/20\n",
      "363/363 [==============================] - 1s 2ms/step - loss: 12927.6992 - val_loss: 12019.3115\n",
      "Epoch 14/20\n",
      "363/363 [==============================] - 1s 2ms/step - loss: 11180.5312 - val_loss: 10395.6025\n",
      "Epoch 15/20\n",
      "363/363 [==============================] - 1s 2ms/step - loss: 9669.5234 - val_loss: 8991.3066\n",
      "Epoch 16/20\n",
      "363/363 [==============================] - 1s 2ms/step - loss: 8362.7441 - val_loss: 7776.7793\n",
      "Epoch 17/20\n",
      "363/363 [==============================] - 1s 2ms/step - loss: 7232.5903 - val_loss: 6726.3560\n",
      "Epoch 18/20\n",
      "363/363 [==============================] - 1s 2ms/step - loss: 6255.1841 - val_loss: 5817.8745\n",
      "Epoch 19/20\n",
      "363/363 [==============================] - 1s 2ms/step - loss: 5409.8887 - val_loss: 5032.1567\n",
      "Epoch 20/20\n",
      "363/363 [==============================] - 1s 2ms/step - loss: 4678.8496 - val_loss: 4352.6064\n",
      "162/162 [==============================] - 0s 1ms/step - loss: 4348.8994\n",
      "1/1 [==============================] - 0s 45ms/step\n"
     ]
    }
   ],
   "execution_count": 14
  },
  {
   "cell_type": "code",
   "metadata": {
    "ExecuteTime": {
     "end_time": "2024-05-20T18:16:51.170885Z",
     "start_time": "2024-05-20T18:16:50.921602Z"
    }
   },
   "source": [
    "plt.plot(pd.DataFrame(history.history))\n",
    "plt.grid(True)\n",
    "plt.show()"
   ],
   "outputs": [
    {
     "data": {
      "text/plain": [
       "<Figure size 640x480 with 1 Axes>"
      ],
      "image/png": "[encoded data removed]"
     },
     "metadata": {},
     "output_type": "display_data"
    }
   ],
   "execution_count": 15
  },
  {
   "cell_type": "markdown",
   "metadata": {},
   "source": [
    "# Zad\n",
    "\n",
    "Porównaj powyższy wynik z nauką na danych znormalizowanych."
   ]
  },
  {
   "cell_type": "code",
   "metadata": {
    "ExecuteTime": {
     "end_time": "2024-05-20T18:18:43.637727Z",
     "start_time": "2024-05-20T18:18:31.314436Z"
    }
   },
   "source": [
    "sc = StandardScaler()\n",
    "X_train = sc.fit_transform(X_train)\n",
    "X_valid = sc.transform(X_valid)\n",
    "X_test = sc.transform(X_test)\n",
    "\n",
    "model_scaled = keras.models.Sequential([\n",
    "    keras.layers.Dense(30, activation=\"relu\", input_shape=X_train.shape[1:]),\n",
    "    keras.layers.Dense(1)\n",
    "])\n",
    "\n",
    "model_scaled.compile(loss=\"mean_squared_error\", optimizer=keras.optimizers.SGD(learning_rate=1e-4))\n",
    "history_scaled = model_scaled.fit(X_train, y_train, epochs=20, validation_data=(X_valid, y_valid))\n",
    "mse_test_scaled = model_scaled.evaluate(X_test, y_test)\n",
    "X_new = X_test[:3]\n",
    "y_pred_scaled = model_scaled.predict(X_new)"
   ],
   "outputs": [
    {
     "name": "stdout",
     "output_type": "stream",
     "text": [
      "Epoch 1/20\n",
      "363/363 [==============================] - 1s 2ms/step - loss: 4.8413 - val_loss: 5.3513\n",
      "Epoch 2/20\n",
      "363/363 [==============================] - 0s 1ms/step - loss: 3.4223 - val_loss: 2.9366\n",
      "Epoch 3/20\n",
      "363/363 [==============================] - 0s 1ms/step - loss: 2.5346 - val_loss: 2.0345\n",
      "Epoch 4/20\n",
      "363/363 [==============================] - 0s 1ms/step - loss: 1.9666 - val_loss: 1.7391\n",
      "Epoch 5/20\n",
      "363/363 [==============================] - 0s 1ms/step - loss: 1.5957 - val_loss: 1.6582\n",
      "Epoch 6/20\n",
      "363/363 [==============================] - 0s 1ms/step - loss: 1.3481 - val_loss: 1.6316\n",
      "Epoch 7/20\n",
      "363/363 [==============================] - 0s 1ms/step - loss: 1.1793 - val_loss: 1.5967\n",
      "Epoch 8/20\n",
      "363/363 [==============================] - 0s 1ms/step - loss: 1.0617 - val_loss: 1.5255\n",
      "Epoch 9/20\n",
      "363/363 [==============================] - 1s 2ms/step - loss: 0.9776 - val_loss: 1.4357\n",
      "Epoch 10/20\n",
      "363/363 [==============================] - 1s 2ms/step - loss: 0.9143 - val_loss: 1.3366\n",
      "Epoch 11/20\n",
      "363/363 [==============================] - 1s 2ms/step - loss: 0.8658 - val_loss: 1.2340\n",
      "Epoch 12/20\n",
      "363/363 [==============================] - 1s 2ms/step - loss: 0.8278 - val_loss: 1.1377\n",
      "Epoch 13/20\n",
      "363/363 [==============================] - 1s 2ms/step - loss: 0.7972 - val_loss: 1.0484\n",
      "Epoch 14/20\n",
      "363/363 [==============================] - 1s 2ms/step - loss: 0.7721 - val_loss: 0.9698\n",
      "Epoch 15/20\n",
      "363/363 [==============================] - 1s 2ms/step - loss: 0.7513 - val_loss: 0.9017\n",
      "Epoch 16/20\n",
      "363/363 [==============================] - 1s 2ms/step - loss: 0.7338 - val_loss: 0.8450\n",
      "Epoch 17/20\n",
      "363/363 [==============================] - 1s 2ms/step - loss: 0.7189 - val_loss: 0.7971\n",
      "Epoch 18/20\n",
      "363/363 [==============================] - 1s 2ms/step - loss: 0.7061 - val_loss: 0.7572\n",
      "Epoch 19/20\n",
      "363/363 [==============================] - 1s 2ms/step - loss: 0.6950 - val_loss: 0.7239\n",
      "Epoch 20/20\n",
      "363/363 [==============================] - 1s 2ms/step - loss: 0.6852 - val_loss: 0.6974\n",
      "162/162 [==============================] - 0s 1ms/step - loss: 0.6810\n",
      "1/1 [==============================] - 0s 44ms/step\n"
     ]
    }
   ],
   "execution_count": 16
  },
  {
   "cell_type": "code",
   "metadata": {
    "ExecuteTime": {
     "end_time": "2024-05-20T18:19:10.943120Z",
     "start_time": "2024-05-20T18:19:10.651629Z"
    }
   },
   "source": [
    "plt.plot(pd.DataFrame(history_scaled.history))\n",
    "plt.grid(True)\n",
    "plt.show()"
   ],
   "outputs": [
    {
     "data": {
      "text/plain": [
       "<Figure size 640x480 with 1 Axes>"
      ],
      "image/png": "[encoded data removed]"
     },
     "metadata": {},
     "output_type": "display_data"
    }
   ],
   "execution_count": 18
  },
  {
   "cell_type": "markdown",
   "metadata": {},
   "source": [
    "# Dane zawsze muszą być przeskalowane"
   ]
  }
 ],
 "metadata": {
  "kernelspec": {
   "display_name": "Python 3 (ipykernel)",
   "language": "python",
   "name": "python3"
  },
  "language_info": {
   "codemirror_mode": {
    "name": "ipython",
    "version": 3
   },
   "file_extension": ".py",
   "mimetype": "text/x-python",
   "name": "python",
   "nbconvert_exporter": "python",
   "pygments_lexer": "ipython3",
   "version": "3.8.10"
  }
 },
 "nbformat": 4,
 "nbformat_minor": 4
}
