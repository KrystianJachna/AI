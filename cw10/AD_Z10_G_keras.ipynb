{
 "cells": [
  {
   "cell_type": "code",
   "metadata": {
    "ExecuteTime": {
     "end_time": "2024-05-20T16:48:36.779975Z",
     "start_time": "2024-05-20T16:48:31.520043Z"
    }
   },
   "source": [
    "import numpy as np\n",
    "import pandas as pd\n",
    "from keras.callbacks import History\n",
    "from keras.layers import Dense\n",
    "from keras.models import Sequential\n",
    "from sklearn import metrics\n",
    "import matplotlib.pyplot as plt\n",
    "from sklearn.preprocessing import StandardScaler"
   ],
   "outputs": [
    {
     "name": "stderr",
     "output_type": "stream",
     "text": [
      "2024-05-20 18:48:32.173528: I tensorflow/core/platform/cpu_feature_guard.cc:193] This TensorFlow binary is optimized with oneAPI Deep Neural Network Library (oneDNN) to use the following CPU instructions in performance-critical operations:  AVX2 FMA\n",
      "To enable them in other operations, rebuild TensorFlow with the appropriate compiler flags.\n",
      "2024-05-20 18:48:32.659646: W tensorflow/compiler/xla/stream_executor/platform/default/dso_loader.cc:64] Could not load dynamic library 'libcudart.so.11.0'; dlerror: libcudart.so.11.0: cannot open shared object file: No such file or directory\n",
      "2024-05-20 18:48:32.659668: I tensorflow/compiler/xla/stream_executor/cuda/cudart_stub.cc:29] Ignore above cudart dlerror if you do not have a GPU set up on your machine.\n",
      "2024-05-20 18:48:34.389402: W tensorflow/compiler/xla/stream_executor/platform/default/dso_loader.cc:64] Could not load dynamic library 'libnvinfer.so.7'; dlerror: libnvinfer.so.7: cannot open shared object file: No such file or directory\n",
      "2024-05-20 18:48:34.389532: W tensorflow/compiler/xla/stream_executor/platform/default/dso_loader.cc:64] Could not load dynamic library 'libnvinfer_plugin.so.7'; dlerror: libnvinfer_plugin.so.7: cannot open shared object file: No such file or directory\n",
      "2024-05-20 18:48:34.389542: W tensorflow/compiler/tf2tensorrt/utils/py_utils.cc:38] TF-TRT Warning: Cannot dlopen some TensorRT libraries. If you would like to use Nvidia GPU with TensorRT, please make sure the missing libraries mentioned above are installed properly.\n"
     ]
    }
   ],
   "execution_count": 1
  },
  {
   "metadata": {},
   "cell_type": "markdown",
   "source": "Wczytujemy dane"
  },
  {
   "cell_type": "code",
   "metadata": {
    "ExecuteTime": {
     "end_time": "2024-05-20T16:48:37.386445Z",
     "start_time": "2024-05-20T16:48:36.782088Z"
    }
   },
   "source": [
    "train_set = pd.read_csv('data/adult/adult.data', sep=\", \", header=None, engine='python')\n",
    "test_set = pd.read_csv('data/adult/adult.test', sep=\", \", skiprows=1, header=None, engine='python')\n",
    "\n",
    "col_labels = ['age', 'workclass', 'fnlwgt', 'education', 'education_num', 'marital_status', 'occupation',\n",
    "              'relationship', 'race', 'sex', 'capital_gain', 'capital_loss', 'hours_per_week', 'native_country',\n",
    "              'wage_class']\n",
    "\n",
    "train_set.columns = col_labels\n",
    "test_set.columns = col_labels\n",
    "\n",
    "train = train_set.replace('?', np.nan).dropna()\n",
    "test = test_set.replace('?', np.nan).dropna()\n",
    "\n",
    "train_set.head()"
   ],
   "outputs": [
    {
     "data": {
      "text/plain": [
       "   age         workclass  fnlwgt  education  education_num  \\\n",
       "0   39         State-gov   77516  Bachelors             13   \n",
       "1   50  Self-emp-not-inc   83311  Bachelors             13   \n",
       "2   38           Private  215646    HS-grad              9   \n",
       "3   53           Private  234721       11th              7   \n",
       "4   28           Private  338409  Bachelors             13   \n",
       "\n",
       "       marital_status         occupation   relationship   race     sex  \\\n",
       "0       Never-married       Adm-clerical  Not-in-family  White    Male   \n",
       "1  Married-civ-spouse    Exec-managerial        Husband  White    Male   \n",
       "2            Divorced  Handlers-cleaners  Not-in-family  White    Male   \n",
       "3  Married-civ-spouse  Handlers-cleaners        Husband  Black    Male   \n",
       "4  Married-civ-spouse     Prof-specialty           Wife  Black  Female   \n",
       "\n",
       "   capital_gain  capital_loss  hours_per_week native_country wage_class  \n",
       "0          2174             0              40  United-States      <=50K  \n",
       "1             0             0              13  United-States      <=50K  \n",
       "2             0             0              40  United-States      <=50K  \n",
       "3             0             0              40  United-States      <=50K  \n",
       "4             0             0              40           Cuba      <=50K  "
      ],
      "text/html": [
       "<div>\n",
       "<style scoped>\n",
       "    .dataframe tbody tr th:only-of-type {\n",
       "        vertical-align: middle;\n",
       "    }\n",
       "\n",
       "    .dataframe tbody tr th {\n",
       "        vertical-align: top;\n",
       "    }\n",
       "\n",
       "    .dataframe thead th {\n",
       "        text-align: right;\n",
       "    }\n",
       "</style>\n",
       "<table border=\"1\" class=\"dataframe\">\n",
       "  <thead>\n",
       "    <tr style=\"text-align: right;\">\n",
       "      <th></th>\n",
       "      <th>age</th>\n",
       "      <th>workclass</th>\n",
       "      <th>fnlwgt</th>\n",
       "      <th>education</th>\n",
       "      <th>education_num</th>\n",
       "      <th>marital_status</th>\n",
       "      <th>occupation</th>\n",
       "      <th>relationship</th>\n",
       "      <th>race</th>\n",
       "      <th>sex</th>\n",
       "      <th>capital_gain</th>\n",
       "      <th>capital_loss</th>\n",
       "      <th>hours_per_week</th>\n",
       "      <th>native_country</th>\n",
       "      <th>wage_class</th>\n",
       "    </tr>\n",
       "  </thead>\n",
       "  <tbody>\n",
       "    <tr>\n",
       "      <th>0</th>\n",
       "      <td>39</td>\n",
       "      <td>State-gov</td>\n",
       "      <td>77516</td>\n",
       "      <td>Bachelors</td>\n",
       "      <td>13</td>\n",
       "      <td>Never-married</td>\n",
       "      <td>Adm-clerical</td>\n",
       "      <td>Not-in-family</td>\n",
       "      <td>White</td>\n",
       "      <td>Male</td>\n",
       "      <td>2174</td>\n",
       "      <td>0</td>\n",
       "      <td>40</td>\n",
       "      <td>United-States</td>\n",
       "      <td>&lt;=50K</td>\n",
       "    </tr>\n",
       "    <tr>\n",
       "      <th>1</th>\n",
       "      <td>50</td>\n",
       "      <td>Self-emp-not-inc</td>\n",
       "      <td>83311</td>\n",
       "      <td>Bachelors</td>\n",
       "      <td>13</td>\n",
       "      <td>Married-civ-spouse</td>\n",
       "      <td>Exec-managerial</td>\n",
       "      <td>Husband</td>\n",
       "      <td>White</td>\n",
       "      <td>Male</td>\n",
       "      <td>0</td>\n",
       "      <td>0</td>\n",
       "      <td>13</td>\n",
       "      <td>United-States</td>\n",
       "      <td>&lt;=50K</td>\n",
       "    </tr>\n",
       "    <tr>\n",
       "      <th>2</th>\n",
       "      <td>38</td>\n",
       "      <td>Private</td>\n",
       "      <td>215646</td>\n",
       "      <td>HS-grad</td>\n",
       "      <td>9</td>\n",
       "      <td>Divorced</td>\n",
       "      <td>Handlers-cleaners</td>\n",
       "      <td>Not-in-family</td>\n",
       "      <td>White</td>\n",
       "      <td>Male</td>\n",
       "      <td>0</td>\n",
       "      <td>0</td>\n",
       "      <td>40</td>\n",
       "      <td>United-States</td>\n",
       "      <td>&lt;=50K</td>\n",
       "    </tr>\n",
       "    <tr>\n",
       "      <th>3</th>\n",
       "      <td>53</td>\n",
       "      <td>Private</td>\n",
       "      <td>234721</td>\n",
       "      <td>11th</td>\n",
       "      <td>7</td>\n",
       "      <td>Married-civ-spouse</td>\n",
       "      <td>Handlers-cleaners</td>\n",
       "      <td>Husband</td>\n",
       "      <td>Black</td>\n",
       "      <td>Male</td>\n",
       "      <td>0</td>\n",
       "      <td>0</td>\n",
       "      <td>40</td>\n",
       "      <td>United-States</td>\n",
       "      <td>&lt;=50K</td>\n",
       "    </tr>\n",
       "    <tr>\n",
       "      <th>4</th>\n",
       "      <td>28</td>\n",
       "      <td>Private</td>\n",
       "      <td>338409</td>\n",
       "      <td>Bachelors</td>\n",
       "      <td>13</td>\n",
       "      <td>Married-civ-spouse</td>\n",
       "      <td>Prof-specialty</td>\n",
       "      <td>Wife</td>\n",
       "      <td>Black</td>\n",
       "      <td>Female</td>\n",
       "      <td>0</td>\n",
       "      <td>0</td>\n",
       "      <td>40</td>\n",
       "      <td>Cuba</td>\n",
       "      <td>&lt;=50K</td>\n",
       "    </tr>\n",
       "  </tbody>\n",
       "</table>\n",
       "</div>"
      ]
     },
     "execution_count": 2,
     "metadata": {},
     "output_type": "execute_result"
    }
   ],
   "execution_count": 2
  },
  {
   "cell_type": "markdown",
   "metadata": {},
   "source": "Zróbmy szybki preprocesing"
  },
  {
   "cell_type": "code",
   "metadata": {
    "ExecuteTime": {
     "end_time": "2024-05-20T16:48:37.602249Z",
     "start_time": "2024-05-20T16:48:37.388121Z"
    }
   },
   "source": [
    "dataset = pd.concat([train, test])\n",
    "\n",
    "dataset['wage_class'] = dataset.wage_class.replace({'<=50K.': 0, '<=50K': 0, '>50K.': 1, '>50K': 1})\n",
    "\n",
    "dataset.drop([\"fnlwgt\"], axis=1, inplace=True)\n",
    "dataset.drop([\"education\"], axis=1, inplace=True)\n",
    "\n",
    "x = dataset.groupby('native_country')[\"wage_class\"].mean()\n",
    "d = dict(pd.cut(x[x.index != \" United-States\"], 5, labels=range(5)))\n",
    "dataset['native_country'] = dataset['native_country'].replace(d)\n",
    "\n",
    "dataset = pd.get_dummies(dataset, drop_first=True)\n",
    "\n",
    "train = dataset.iloc[:train.shape[0]]\n",
    "test = dataset.iloc[train.shape[0]:]\n",
    "\n",
    "X_train = train.drop(\"wage_class\", axis=1)\n",
    "y_train = train.wage_class\n",
    "\n",
    "X_test = test.drop(\"wage_class\", axis=1)\n",
    "y_test = test.wage_class"
   ],
   "outputs": [],
   "execution_count": 3
  },
  {
   "cell_type": "code",
   "metadata": {
    "ExecuteTime": {
     "end_time": "2024-05-20T16:48:37.806529Z",
     "start_time": "2024-05-20T16:48:37.604101Z"
    }
   },
   "source": [
    "history = History()\n",
    "model = Sequential()\n",
    "model.add(Dense(100, activation=\"sigmoid\", input_shape=(X_train.shape[1],)))\n",
    "model.add(Dense(50, activation=\"sigmoid\"))\n",
    "model.add(Dense(10, activation=\"sigmoid\"))\n",
    "model.add(Dense(1, activation=\"sigmoid\"))\n",
    "model.summary()"
   ],
   "outputs": [
    {
     "name": "stdout",
     "output_type": "stream",
     "text": [
      "Model: \"sequential\"\n",
      "_________________________________________________________________\n",
      " Layer (type)                Output Shape              Param #   \n",
      "=================================================================\n",
      " dense (Dense)               (None, 100)               4200      \n",
      "                                                                 \n",
      " dense_1 (Dense)             (None, 50)                5050      \n",
      "                                                                 \n",
      " dense_2 (Dense)             (None, 10)                510       \n",
      "                                                                 \n",
      " dense_3 (Dense)             (None, 1)                 11        \n",
      "                                                                 \n",
      "=================================================================\n",
      "Total params: 9,771\n",
      "Trainable params: 9,771\n",
      "Non-trainable params: 0\n",
      "_________________________________________________________________\n"
     ]
    },
    {
     "name": "stderr",
     "output_type": "stream",
     "text": [
      "2024-05-20 18:48:37.623879: W tensorflow/compiler/xla/stream_executor/platform/default/dso_loader.cc:64] Could not load dynamic library 'libcuda.so.1'; dlerror: libcuda.so.1: cannot open shared object file: No such file or directory\n",
      "2024-05-20 18:48:37.624395: W tensorflow/compiler/xla/stream_executor/cuda/cuda_driver.cc:265] failed call to cuInit: UNKNOWN ERROR (303)\n",
      "2024-05-20 18:48:37.624460: I tensorflow/compiler/xla/stream_executor/cuda/cuda_diagnostics.cc:156] kernel driver does not appear to be running on this host (kjUbuntu): /proc/driver/nvidia/version does not exist\n",
      "2024-05-20 18:48:37.625484: I tensorflow/core/platform/cpu_feature_guard.cc:193] This TensorFlow binary is optimized with oneAPI Deep Neural Network Library (oneDNN) to use the following CPU instructions in performance-critical operations:  AVX2 FMA\n",
      "To enable them in other operations, rebuild TensorFlow with the appropriate compiler flags.\n"
     ]
    }
   ],
   "execution_count": 4
  },
  {
   "cell_type": "code",
   "metadata": {
    "ExecuteTime": {
     "end_time": "2024-05-20T16:48:37.828019Z",
     "start_time": "2024-05-20T16:48:37.809429Z"
    }
   },
   "source": [
    "model.compile(loss=\"binary_crossentropy\", optimizer=\"Adam\", metrics=[\"accuracy\"])"
   ],
   "outputs": [],
   "execution_count": 5
  },
  {
   "cell_type": "code",
   "metadata": {
    "ExecuteTime": {
     "end_time": "2024-05-20T16:53:38.345445Z",
     "start_time": "2024-05-20T16:48:37.829597Z"
    }
   },
   "source": "history = model.fit(X_train, y_train, validation_data=(X_test, y_test), batch_size=32, epochs=100)",
   "outputs": [
    {
     "name": "stdout",
     "output_type": "stream",
     "text": [
      "Epoch 1/100\n",
      "943/943 [==============================] - 4s 3ms/step - loss: 0.4351 - accuracy: 0.7922 - val_loss: 0.3796 - val_accuracy: 0.8152\n",
      "Epoch 2/100\n",
      "943/943 [==============================] - 2s 2ms/step - loss: 0.3774 - accuracy: 0.8107 - val_loss: 0.3717 - val_accuracy: 0.8173\n",
      "Epoch 3/100\n",
      "943/943 [==============================] - 2s 2ms/step - loss: 0.3725 - accuracy: 0.8147 - val_loss: 0.3739 - val_accuracy: 0.8183\n",
      "Epoch 4/100\n",
      "943/943 [==============================] - 2s 2ms/step - loss: 0.3709 - accuracy: 0.8153 - val_loss: 0.3721 - val_accuracy: 0.8079\n",
      "Epoch 5/100\n",
      "943/943 [==============================] - 2s 3ms/step - loss: 0.3700 - accuracy: 0.8132 - val_loss: 0.3665 - val_accuracy: 0.8151\n",
      "Epoch 6/100\n",
      "943/943 [==============================] - 3s 3ms/step - loss: 0.3702 - accuracy: 0.8128 - val_loss: 0.3682 - val_accuracy: 0.7910\n",
      "Epoch 7/100\n",
      "943/943 [==============================] - 3s 3ms/step - loss: 0.3675 - accuracy: 0.8154 - val_loss: 0.3676 - val_accuracy: 0.8192\n",
      "Epoch 8/100\n",
      "943/943 [==============================] - 2s 2ms/step - loss: 0.3682 - accuracy: 0.8149 - val_loss: 0.3636 - val_accuracy: 0.8160\n",
      "Epoch 9/100\n",
      "943/943 [==============================] - 2s 3ms/step - loss: 0.3654 - accuracy: 0.8172 - val_loss: 0.3762 - val_accuracy: 0.8151\n",
      "Epoch 10/100\n",
      "943/943 [==============================] - 3s 3ms/step - loss: 0.3633 - accuracy: 0.8198 - val_loss: 0.3908 - val_accuracy: 0.7862\n",
      "Epoch 11/100\n",
      "943/943 [==============================] - 3s 3ms/step - loss: 0.3695 - accuracy: 0.8122 - val_loss: 0.3641 - val_accuracy: 0.8165\n",
      "Epoch 12/100\n",
      "943/943 [==============================] - 3s 3ms/step - loss: 0.3668 - accuracy: 0.8151 - val_loss: 0.3629 - val_accuracy: 0.8183\n",
      "Epoch 13/100\n",
      "943/943 [==============================] - 3s 3ms/step - loss: 0.3652 - accuracy: 0.8152 - val_loss: 0.3620 - val_accuracy: 0.8165\n",
      "Epoch 14/100\n",
      "943/943 [==============================] - 3s 3ms/step - loss: 0.3657 - accuracy: 0.8151 - val_loss: 0.3638 - val_accuracy: 0.8173\n",
      "Epoch 15/100\n",
      "943/943 [==============================] - 2s 3ms/step - loss: 0.3636 - accuracy: 0.8160 - val_loss: 0.3618 - val_accuracy: 0.8181\n",
      "Epoch 16/100\n",
      "943/943 [==============================] - 2s 3ms/step - loss: 0.3642 - accuracy: 0.8161 - val_loss: 0.3622 - val_accuracy: 0.8176\n",
      "Epoch 17/100\n",
      "943/943 [==============================] - 2s 2ms/step - loss: 0.3634 - accuracy: 0.8151 - val_loss: 0.3684 - val_accuracy: 0.8103\n",
      "Epoch 18/100\n",
      "943/943 [==============================] - 3s 3ms/step - loss: 0.3635 - accuracy: 0.8162 - val_loss: 0.3636 - val_accuracy: 0.8184\n",
      "Epoch 19/100\n",
      "943/943 [==============================] - 3s 3ms/step - loss: 0.3636 - accuracy: 0.8151 - val_loss: 0.3684 - val_accuracy: 0.8189\n",
      "Epoch 20/100\n",
      "943/943 [==============================] - 3s 3ms/step - loss: 0.3625 - accuracy: 0.8167 - val_loss: 0.3641 - val_accuracy: 0.8156\n",
      "Epoch 21/100\n",
      "943/943 [==============================] - 2s 3ms/step - loss: 0.3624 - accuracy: 0.8171 - val_loss: 0.3627 - val_accuracy: 0.8174\n",
      "Epoch 22/100\n",
      "943/943 [==============================] - 3s 3ms/step - loss: 0.3634 - accuracy: 0.8158 - val_loss: 0.3614 - val_accuracy: 0.8185\n",
      "Epoch 23/100\n",
      "943/943 [==============================] - 3s 3ms/step - loss: 0.3647 - accuracy: 0.8140 - val_loss: 0.3639 - val_accuracy: 0.8187\n",
      "Epoch 24/100\n",
      "943/943 [==============================] - 3s 3ms/step - loss: 0.3626 - accuracy: 0.8151 - val_loss: 0.3998 - val_accuracy: 0.8022\n",
      "Epoch 25/100\n",
      "943/943 [==============================] - 3s 3ms/step - loss: 0.3648 - accuracy: 0.8131 - val_loss: 0.3637 - val_accuracy: 0.8155\n",
      "Epoch 26/100\n",
      "943/943 [==============================] - 3s 3ms/step - loss: 0.3682 - accuracy: 0.8124 - val_loss: 0.3689 - val_accuracy: 0.8108\n",
      "Epoch 27/100\n",
      "943/943 [==============================] - 3s 3ms/step - loss: 0.3659 - accuracy: 0.8159 - val_loss: 0.3656 - val_accuracy: 0.8127\n",
      "Epoch 28/100\n",
      "943/943 [==============================] - 3s 3ms/step - loss: 0.3629 - accuracy: 0.8180 - val_loss: 0.3805 - val_accuracy: 0.8016\n",
      "Epoch 29/100\n",
      "943/943 [==============================] - 3s 3ms/step - loss: 0.3621 - accuracy: 0.8178 - val_loss: 0.3640 - val_accuracy: 0.8164\n",
      "Epoch 30/100\n",
      "943/943 [==============================] - 3s 3ms/step - loss: 0.3667 - accuracy: 0.8150 - val_loss: 0.3734 - val_accuracy: 0.8129\n",
      "Epoch 31/100\n",
      "943/943 [==============================] - 3s 3ms/step - loss: 0.3656 - accuracy: 0.8145 - val_loss: 0.3659 - val_accuracy: 0.8146\n",
      "Epoch 32/100\n",
      "943/943 [==============================] - 3s 3ms/step - loss: 0.3635 - accuracy: 0.8180 - val_loss: 0.3633 - val_accuracy: 0.8155\n",
      "Epoch 33/100\n",
      "943/943 [==============================] - 3s 3ms/step - loss: 0.3668 - accuracy: 0.8128 - val_loss: 0.3665 - val_accuracy: 0.8135\n",
      "Epoch 34/100\n",
      "943/943 [==============================] - 3s 3ms/step - loss: 0.3639 - accuracy: 0.8154 - val_loss: 0.3639 - val_accuracy: 0.8164\n",
      "Epoch 35/100\n",
      "943/943 [==============================] - 3s 4ms/step - loss: 0.3701 - accuracy: 0.8124 - val_loss: 0.3702 - val_accuracy: 0.8157\n",
      "Epoch 36/100\n",
      "943/943 [==============================] - 3s 3ms/step - loss: 0.3654 - accuracy: 0.8159 - val_loss: 0.3644 - val_accuracy: 0.8171\n",
      "Epoch 37/100\n",
      "943/943 [==============================] - 3s 3ms/step - loss: 0.3640 - accuracy: 0.8165 - val_loss: 0.3658 - val_accuracy: 0.8161\n",
      "Epoch 38/100\n",
      "943/943 [==============================] - 3s 3ms/step - loss: 0.3621 - accuracy: 0.8182 - val_loss: 0.3689 - val_accuracy: 0.7955\n",
      "Epoch 39/100\n",
      "943/943 [==============================] - 3s 3ms/step - loss: 0.3639 - accuracy: 0.8134 - val_loss: 0.3682 - val_accuracy: 0.8159\n",
      "Epoch 40/100\n",
      "943/943 [==============================] - 3s 3ms/step - loss: 0.3657 - accuracy: 0.8152 - val_loss: 0.3662 - val_accuracy: 0.8179\n",
      "Epoch 41/100\n",
      "943/943 [==============================] - 3s 3ms/step - loss: 0.3649 - accuracy: 0.8176 - val_loss: 0.3760 - val_accuracy: 0.8164\n",
      "Epoch 42/100\n",
      "943/943 [==============================] - 3s 3ms/step - loss: 0.3621 - accuracy: 0.8166 - val_loss: 0.3749 - val_accuracy: 0.8114\n",
      "Epoch 43/100\n",
      "943/943 [==============================] - 3s 3ms/step - loss: 0.3621 - accuracy: 0.8168 - val_loss: 0.3729 - val_accuracy: 0.8144\n",
      "Epoch 44/100\n",
      "943/943 [==============================] - 3s 3ms/step - loss: 0.3595 - accuracy: 0.8185 - val_loss: 0.3738 - val_accuracy: 0.8080\n",
      "Epoch 45/100\n",
      "943/943 [==============================] - 3s 3ms/step - loss: 0.3616 - accuracy: 0.8170 - val_loss: 0.3627 - val_accuracy: 0.8172\n",
      "Epoch 46/100\n",
      "943/943 [==============================] - 3s 3ms/step - loss: 0.3604 - accuracy: 0.8182 - val_loss: 0.3704 - val_accuracy: 0.8160\n",
      "Epoch 47/100\n",
      "943/943 [==============================] - 3s 3ms/step - loss: 0.3622 - accuracy: 0.8167 - val_loss: 0.3645 - val_accuracy: 0.8184\n",
      "Epoch 48/100\n",
      "943/943 [==============================] - 3s 3ms/step - loss: 0.3678 - accuracy: 0.8151 - val_loss: 0.3822 - val_accuracy: 0.8050\n",
      "Epoch 49/100\n",
      "943/943 [==============================] - 3s 3ms/step - loss: 0.3626 - accuracy: 0.8185 - val_loss: 0.3783 - val_accuracy: 0.7951\n",
      "Epoch 50/100\n",
      "943/943 [==============================] - 3s 3ms/step - loss: 0.3656 - accuracy: 0.8158 - val_loss: 0.3645 - val_accuracy: 0.8177\n",
      "Epoch 51/100\n",
      "943/943 [==============================] - 3s 3ms/step - loss: 0.3662 - accuracy: 0.8148 - val_loss: 0.3724 - val_accuracy: 0.8108\n",
      "Epoch 52/100\n",
      "943/943 [==============================] - 3s 3ms/step - loss: 0.3674 - accuracy: 0.8147 - val_loss: 0.3728 - val_accuracy: 0.8103\n",
      "Epoch 53/100\n",
      "943/943 [==============================] - 3s 3ms/step - loss: 0.3633 - accuracy: 0.8158 - val_loss: 0.3659 - val_accuracy: 0.8181\n",
      "Epoch 54/100\n",
      "943/943 [==============================] - 3s 3ms/step - loss: 0.3625 - accuracy: 0.8167 - val_loss: 0.3679 - val_accuracy: 0.8138\n",
      "Epoch 55/100\n",
      "943/943 [==============================] - 3s 3ms/step - loss: 0.3623 - accuracy: 0.8197 - val_loss: 0.3703 - val_accuracy: 0.8155\n",
      "Epoch 56/100\n",
      "943/943 [==============================] - 3s 3ms/step - loss: 0.3609 - accuracy: 0.8191 - val_loss: 0.3702 - val_accuracy: 0.8112\n",
      "Epoch 57/100\n",
      "943/943 [==============================] - 4s 4ms/step - loss: 0.3599 - accuracy: 0.8168 - val_loss: 0.3636 - val_accuracy: 0.8179\n",
      "Epoch 58/100\n",
      "943/943 [==============================] - 3s 4ms/step - loss: 0.3591 - accuracy: 0.8187 - val_loss: 0.3635 - val_accuracy: 0.8167\n",
      "Epoch 59/100\n",
      "943/943 [==============================] - 3s 3ms/step - loss: 0.3687 - accuracy: 0.8142 - val_loss: 0.3636 - val_accuracy: 0.8166\n",
      "Epoch 60/100\n",
      "943/943 [==============================] - 3s 4ms/step - loss: 0.3621 - accuracy: 0.8188 - val_loss: 0.3687 - val_accuracy: 0.8098\n",
      "Epoch 61/100\n",
      "943/943 [==============================] - 3s 3ms/step - loss: 0.3613 - accuracy: 0.8173 - val_loss: 0.3636 - val_accuracy: 0.8174\n",
      "Epoch 62/100\n",
      "943/943 [==============================] - 3s 3ms/step - loss: 0.3632 - accuracy: 0.8177 - val_loss: 0.3661 - val_accuracy: 0.8145\n",
      "Epoch 63/100\n",
      "943/943 [==============================] - 3s 4ms/step - loss: 0.3660 - accuracy: 0.8142 - val_loss: 0.3674 - val_accuracy: 0.8159\n",
      "Epoch 64/100\n",
      "943/943 [==============================] - 4s 4ms/step - loss: 0.3635 - accuracy: 0.8169 - val_loss: 0.3696 - val_accuracy: 0.8110\n",
      "Epoch 65/100\n",
      "943/943 [==============================] - 3s 3ms/step - loss: 0.3638 - accuracy: 0.8165 - val_loss: 0.3693 - val_accuracy: 0.8163\n",
      "Epoch 66/100\n",
      "943/943 [==============================] - 4s 4ms/step - loss: 0.3693 - accuracy: 0.8156 - val_loss: 0.3784 - val_accuracy: 0.8065\n",
      "Epoch 67/100\n",
      "943/943 [==============================] - 3s 4ms/step - loss: 0.3712 - accuracy: 0.8109 - val_loss: 0.3718 - val_accuracy: 0.8140\n",
      "Epoch 68/100\n",
      "943/943 [==============================] - 3s 3ms/step - loss: 0.3662 - accuracy: 0.8145 - val_loss: 0.3666 - val_accuracy: 0.8163\n",
      "Epoch 69/100\n",
      "943/943 [==============================] - 3s 3ms/step - loss: 0.3639 - accuracy: 0.8156 - val_loss: 0.3684 - val_accuracy: 0.8159\n",
      "Epoch 70/100\n",
      "943/943 [==============================] - 4s 4ms/step - loss: 0.3623 - accuracy: 0.8170 - val_loss: 0.3703 - val_accuracy: 0.8106\n",
      "Epoch 71/100\n",
      "943/943 [==============================] - 3s 3ms/step - loss: 0.3613 - accuracy: 0.8182 - val_loss: 0.3632 - val_accuracy: 0.8163\n",
      "Epoch 72/100\n",
      "943/943 [==============================] - 4s 4ms/step - loss: 0.3614 - accuracy: 0.8184 - val_loss: 0.3709 - val_accuracy: 0.8149\n",
      "Epoch 73/100\n",
      "943/943 [==============================] - 4s 4ms/step - loss: 0.3602 - accuracy: 0.8188 - val_loss: 0.3694 - val_accuracy: 0.8140\n",
      "Epoch 74/100\n",
      "943/943 [==============================] - 3s 3ms/step - loss: 0.3594 - accuracy: 0.8193 - val_loss: 0.3627 - val_accuracy: 0.8177\n",
      "Epoch 75/100\n",
      "943/943 [==============================] - 3s 3ms/step - loss: 0.3588 - accuracy: 0.8179 - val_loss: 0.3633 - val_accuracy: 0.8179\n",
      "Epoch 76/100\n",
      "943/943 [==============================] - 4s 4ms/step - loss: 0.3585 - accuracy: 0.8197 - val_loss: 0.3637 - val_accuracy: 0.8165\n",
      "Epoch 77/100\n",
      "943/943 [==============================] - 3s 3ms/step - loss: 0.3590 - accuracy: 0.8202 - val_loss: 0.3756 - val_accuracy: 0.8166\n",
      "Epoch 78/100\n",
      "943/943 [==============================] - 3s 4ms/step - loss: 0.3591 - accuracy: 0.8183 - val_loss: 0.3625 - val_accuracy: 0.8163\n",
      "Epoch 79/100\n",
      "943/943 [==============================] - 4s 4ms/step - loss: 0.3715 - accuracy: 0.8125 - val_loss: 0.3683 - val_accuracy: 0.7970\n",
      "Epoch 80/100\n",
      "943/943 [==============================] - 3s 3ms/step - loss: 0.3662 - accuracy: 0.8150 - val_loss: 0.3674 - val_accuracy: 0.8163\n",
      "Epoch 81/100\n",
      "943/943 [==============================] - 3s 3ms/step - loss: 0.3664 - accuracy: 0.8173 - val_loss: 0.3666 - val_accuracy: 0.8162\n",
      "Epoch 82/100\n",
      "943/943 [==============================] - 4s 4ms/step - loss: 0.3704 - accuracy: 0.8149 - val_loss: 0.3695 - val_accuracy: 0.8121\n",
      "Epoch 83/100\n",
      "943/943 [==============================] - 3s 3ms/step - loss: 0.3628 - accuracy: 0.8168 - val_loss: 0.3735 - val_accuracy: 0.8097\n",
      "Epoch 84/100\n",
      "943/943 [==============================] - 4s 4ms/step - loss: 0.3612 - accuracy: 0.8184 - val_loss: 0.3640 - val_accuracy: 0.8185\n",
      "Epoch 85/100\n",
      "943/943 [==============================] - 4s 4ms/step - loss: 0.3614 - accuracy: 0.8178 - val_loss: 0.3666 - val_accuracy: 0.8159\n",
      "Epoch 86/100\n",
      "943/943 [==============================] - 3s 3ms/step - loss: 0.3617 - accuracy: 0.8160 - val_loss: 0.3637 - val_accuracy: 0.8155\n",
      "Epoch 87/100\n",
      "943/943 [==============================] - 3s 3ms/step - loss: 0.3595 - accuracy: 0.8191 - val_loss: 0.3633 - val_accuracy: 0.8163\n",
      "Epoch 88/100\n",
      "943/943 [==============================] - 4s 4ms/step - loss: 0.3581 - accuracy: 0.8192 - val_loss: 0.3659 - val_accuracy: 0.8169\n",
      "Epoch 89/100\n",
      "943/943 [==============================] - 3s 3ms/step - loss: 0.3590 - accuracy: 0.8180 - val_loss: 0.3671 - val_accuracy: 0.8098\n",
      "Epoch 90/100\n",
      "943/943 [==============================] - 3s 3ms/step - loss: 0.3581 - accuracy: 0.8192 - val_loss: 0.3650 - val_accuracy: 0.8184\n",
      "Epoch 91/100\n",
      "943/943 [==============================] - 4s 4ms/step - loss: 0.3592 - accuracy: 0.8168 - val_loss: 0.3841 - val_accuracy: 0.8111\n",
      "Epoch 92/100\n",
      "943/943 [==============================] - 3s 3ms/step - loss: 0.3592 - accuracy: 0.8171 - val_loss: 0.3711 - val_accuracy: 0.8114\n",
      "Epoch 93/100\n",
      "943/943 [==============================] - 3s 3ms/step - loss: 0.3585 - accuracy: 0.8201 - val_loss: 0.3663 - val_accuracy: 0.8155\n",
      "Epoch 94/100\n",
      "943/943 [==============================] - 3s 3ms/step - loss: 0.3665 - accuracy: 0.8135 - val_loss: 0.3660 - val_accuracy: 0.8157\n",
      "Epoch 95/100\n",
      "943/943 [==============================] - 3s 3ms/step - loss: 0.3607 - accuracy: 0.8180 - val_loss: 0.3627 - val_accuracy: 0.8160\n",
      "Epoch 96/100\n",
      "943/943 [==============================] - 3s 3ms/step - loss: 0.3589 - accuracy: 0.8174 - val_loss: 0.3619 - val_accuracy: 0.8172\n",
      "Epoch 97/100\n",
      "943/943 [==============================] - 3s 3ms/step - loss: 0.3591 - accuracy: 0.8194 - val_loss: 0.3617 - val_accuracy: 0.8165\n",
      "Epoch 98/100\n",
      "943/943 [==============================] - 3s 3ms/step - loss: 0.3588 - accuracy: 0.8172 - val_loss: 0.3644 - val_accuracy: 0.8202\n",
      "Epoch 99/100\n",
      "943/943 [==============================] - 3s 3ms/step - loss: 0.3636 - accuracy: 0.8164 - val_loss: 0.3688 - val_accuracy: 0.8156\n",
      "Epoch 100/100\n",
      "943/943 [==============================] - 3s 3ms/step - loss: 0.3623 - accuracy: 0.8173 - val_loss: 0.3665 - val_accuracy: 0.8176\n"
     ]
    }
   ],
   "execution_count": 6
  },
  {
   "cell_type": "code",
   "metadata": {
    "ExecuteTime": {
     "end_time": "2024-05-20T17:05:37.235347Z",
     "start_time": "2024-05-20T17:05:36.965943Z"
    }
   },
   "source": [
    "pd.DataFrame(history.history).plot(figsize=(8, 5))\n",
    "plt.grid(True)\n",
    "plt.gca().set_ylim(0.2, 0.9)\n",
    "plt.show()"
   ],
   "outputs": [
    {
     "data": {
      "text/plain": [
       "<Figure size 800x500 with 1 Axes>"
      ],
      "image/png": "[encoded data removed]"
     },
     "metadata": {},
     "output_type": "display_data"
    }
   ],
   "execution_count": 22
  },
  {
   "cell_type": "code",
   "metadata": {
    "ExecuteTime": {
     "end_time": "2024-05-20T16:53:39.606977Z",
     "start_time": "2024-05-20T16:53:38.751080Z"
    }
   },
   "source": "model.evaluate(X_test, y_test)",
   "outputs": [
    {
     "name": "stdout",
     "output_type": "stream",
     "text": [
      "471/471 [==============================] - 1s 2ms/step - loss: 0.3665 - accuracy: 0.8176\n"
     ]
    },
    {
     "data": {
      "text/plain": [
       "[0.3664516508579254, 0.8175962567329407]"
      ]
     },
     "execution_count": 8,
     "metadata": {},
     "output_type": "execute_result"
    }
   ],
   "execution_count": 8
  },
  {
   "cell_type": "code",
   "metadata": {
    "ExecuteTime": {
     "end_time": "2024-05-20T16:53:40.570163Z",
     "start_time": "2024-05-20T16:53:39.608702Z"
    }
   },
   "source": [
    "y_pred = model.predict(X_test)\n",
    "y_pred = (y_pred > 0.5).astype(int)\n",
    "\n",
    "accuracy = metrics.accuracy_score(y_test, y_pred)\n",
    "print(accuracy)"
   ],
   "outputs": [
    {
     "name": "stdout",
     "output_type": "stream",
     "text": [
      "471/471 [==============================] - 1s 1ms/step\n",
      "0.8175962815405047\n"
     ]
    }
   ],
   "execution_count": 9
  },
  {
   "cell_type": "markdown",
   "metadata": {},
   "source": [
    "# Zad\n",
    "\n",
    "Porównaj powyższy wynik z nauką na danych znormalizowanych."
   ]
  },
  {
   "metadata": {
    "ExecuteTime": {
     "end_time": "2024-05-20T16:53:40.628817Z",
     "start_time": "2024-05-20T16:53:40.573137Z"
    }
   },
   "cell_type": "code",
   "source": [
    "sc = StandardScaler()\n",
    "X_train_normalized = sc.fit_transform(X_train)\n",
    "X_test_normalized = sc.transform(X_test)"
   ],
   "outputs": [],
   "execution_count": 10
  },
  {
   "metadata": {
    "ExecuteTime": {
     "end_time": "2024-05-20T16:53:40.692852Z",
     "start_time": "2024-05-20T16:53:40.630384Z"
    }
   },
   "cell_type": "code",
   "source": [
    "history_normalized = History()\n",
    "model_normalized = Sequential()\n",
    "model_normalized.add(Dense(100, activation=\"sigmoid\", input_shape=(X_train.shape[1],)))\n",
    "model_normalized.add(Dense(50, activation=\"sigmoid\"))\n",
    "model_normalized.add(Dense(10, activation=\"sigmoid\"))\n",
    "model_normalized.add(Dense(1, activation=\"sigmoid\"))\n",
    "\n",
    "model_normalized.compile(loss=\"binary_crossentropy\", optimizer=\"Adam\", metrics=[\"accuracy\"])"
   ],
   "outputs": [],
   "execution_count": 11
  },
  {
   "cell_type": "code",
   "metadata": {
    "ExecuteTime": {
     "end_time": "2024-05-20T16:59:11.348327Z",
     "start_time": "2024-05-20T16:53:40.694637Z"
    }
   },
   "source": "history_normalized = model.fit(X_train_normalized, y_train, validation_data=(X_test_normalized, y_test), batch_size=32, epochs=100)",
   "outputs": [
    {
     "name": "stdout",
     "output_type": "stream",
     "text": [
      "Epoch 1/100\n",
      "943/943 [==============================] - 3s 2ms/step - loss: 0.4223 - accuracy: 0.8156 - val_loss: 0.3365 - val_accuracy: 0.8429\n",
      "Epoch 2/100\n",
      "943/943 [==============================] - 3s 3ms/step - loss: 0.3261 - accuracy: 0.8471 - val_loss: 0.3309 - val_accuracy: 0.8436\n",
      "Epoch 3/100\n",
      "943/943 [==============================] - 3s 3ms/step - loss: 0.3219 - accuracy: 0.8492 - val_loss: 0.3284 - val_accuracy: 0.8446\n",
      "Epoch 4/100\n",
      "943/943 [==============================] - 3s 3ms/step - loss: 0.3188 - accuracy: 0.8515 - val_loss: 0.3280 - val_accuracy: 0.8467\n",
      "Epoch 5/100\n",
      "943/943 [==============================] - 2s 2ms/step - loss: 0.3166 - accuracy: 0.8514 - val_loss: 0.3281 - val_accuracy: 0.8463\n",
      "Epoch 6/100\n",
      "943/943 [==============================] - 3s 3ms/step - loss: 0.3142 - accuracy: 0.8534 - val_loss: 0.3261 - val_accuracy: 0.8468\n",
      "Epoch 7/100\n",
      "943/943 [==============================] - 3s 4ms/step - loss: 0.3123 - accuracy: 0.8541 - val_loss: 0.3257 - val_accuracy: 0.8463\n",
      "Epoch 8/100\n",
      "943/943 [==============================] - 4s 4ms/step - loss: 0.3098 - accuracy: 0.8554 - val_loss: 0.3254 - val_accuracy: 0.8470\n",
      "Epoch 9/100\n",
      "943/943 [==============================] - 4s 4ms/step - loss: 0.3084 - accuracy: 0.8560 - val_loss: 0.3243 - val_accuracy: 0.8477\n",
      "Epoch 10/100\n",
      "943/943 [==============================] - 3s 4ms/step - loss: 0.3062 - accuracy: 0.8562 - val_loss: 0.3231 - val_accuracy: 0.8482\n",
      "Epoch 11/100\n",
      "943/943 [==============================] - 3s 3ms/step - loss: 0.3044 - accuracy: 0.8577 - val_loss: 0.3241 - val_accuracy: 0.8459\n",
      "Epoch 12/100\n",
      "943/943 [==============================] - 3s 3ms/step - loss: 0.3022 - accuracy: 0.8590 - val_loss: 0.3219 - val_accuracy: 0.8489\n",
      "Epoch 13/100\n",
      "943/943 [==============================] - 3s 3ms/step - loss: 0.3010 - accuracy: 0.8602 - val_loss: 0.3232 - val_accuracy: 0.8494\n",
      "Epoch 14/100\n",
      "943/943 [==============================] - 3s 3ms/step - loss: 0.2996 - accuracy: 0.8611 - val_loss: 0.3220 - val_accuracy: 0.8509\n",
      "Epoch 15/100\n",
      "943/943 [==============================] - 3s 3ms/step - loss: 0.2978 - accuracy: 0.8615 - val_loss: 0.3276 - val_accuracy: 0.8432\n",
      "Epoch 16/100\n",
      "943/943 [==============================] - 3s 3ms/step - loss: 0.2961 - accuracy: 0.8621 - val_loss: 0.3245 - val_accuracy: 0.8495\n",
      "Epoch 17/100\n",
      "943/943 [==============================] - 4s 4ms/step - loss: 0.2948 - accuracy: 0.8631 - val_loss: 0.3227 - val_accuracy: 0.8511\n",
      "Epoch 18/100\n",
      "943/943 [==============================] - 4s 4ms/step - loss: 0.2937 - accuracy: 0.8630 - val_loss: 0.3235 - val_accuracy: 0.8494\n",
      "Epoch 19/100\n",
      "943/943 [==============================] - 3s 3ms/step - loss: 0.2928 - accuracy: 0.8628 - val_loss: 0.3256 - val_accuracy: 0.8509\n",
      "Epoch 20/100\n",
      "943/943 [==============================] - 3s 3ms/step - loss: 0.2915 - accuracy: 0.8640 - val_loss: 0.3271 - val_accuracy: 0.8499\n",
      "Epoch 21/100\n",
      "943/943 [==============================] - 4s 4ms/step - loss: 0.2907 - accuracy: 0.8648 - val_loss: 0.3246 - val_accuracy: 0.8521\n",
      "Epoch 22/100\n",
      "943/943 [==============================] - 4s 4ms/step - loss: 0.2893 - accuracy: 0.8651 - val_loss: 0.3267 - val_accuracy: 0.8493\n",
      "Epoch 23/100\n",
      "943/943 [==============================] - 3s 3ms/step - loss: 0.2883 - accuracy: 0.8649 - val_loss: 0.3312 - val_accuracy: 0.8477\n",
      "Epoch 24/100\n",
      "943/943 [==============================] - 3s 3ms/step - loss: 0.2875 - accuracy: 0.8657 - val_loss: 0.3278 - val_accuracy: 0.8503\n",
      "Epoch 25/100\n",
      "943/943 [==============================] - 3s 3ms/step - loss: 0.2866 - accuracy: 0.8672 - val_loss: 0.3272 - val_accuracy: 0.8513\n",
      "Epoch 26/100\n",
      "943/943 [==============================] - 3s 3ms/step - loss: 0.2854 - accuracy: 0.8666 - val_loss: 0.3275 - val_accuracy: 0.8481\n",
      "Epoch 27/100\n",
      "943/943 [==============================] - 4s 4ms/step - loss: 0.2847 - accuracy: 0.8668 - val_loss: 0.3302 - val_accuracy: 0.8507\n",
      "Epoch 28/100\n",
      "943/943 [==============================] - 4s 4ms/step - loss: 0.2834 - accuracy: 0.8678 - val_loss: 0.3301 - val_accuracy: 0.8497\n",
      "Epoch 29/100\n",
      "943/943 [==============================] - 3s 3ms/step - loss: 0.2824 - accuracy: 0.8684 - val_loss: 0.3317 - val_accuracy: 0.8497\n",
      "Epoch 30/100\n",
      "943/943 [==============================] - 4s 4ms/step - loss: 0.2818 - accuracy: 0.8677 - val_loss: 0.3331 - val_accuracy: 0.8496\n",
      "Epoch 31/100\n",
      "943/943 [==============================] - 3s 4ms/step - loss: 0.2808 - accuracy: 0.8685 - val_loss: 0.3339 - val_accuracy: 0.8495\n",
      "Epoch 32/100\n",
      "943/943 [==============================] - 3s 3ms/step - loss: 0.2803 - accuracy: 0.8683 - val_loss: 0.3355 - val_accuracy: 0.8498\n",
      "Epoch 33/100\n",
      "943/943 [==============================] - 3s 4ms/step - loss: 0.2791 - accuracy: 0.8693 - val_loss: 0.3328 - val_accuracy: 0.8497\n",
      "Epoch 34/100\n",
      "943/943 [==============================] - 4s 4ms/step - loss: 0.2787 - accuracy: 0.8687 - val_loss: 0.3348 - val_accuracy: 0.8483\n",
      "Epoch 35/100\n",
      "943/943 [==============================] - 3s 3ms/step - loss: 0.2776 - accuracy: 0.8703 - val_loss: 0.3361 - val_accuracy: 0.8495\n",
      "Epoch 36/100\n",
      "943/943 [==============================] - 4s 4ms/step - loss: 0.2768 - accuracy: 0.8692 - val_loss: 0.3368 - val_accuracy: 0.8454\n",
      "Epoch 37/100\n",
      "943/943 [==============================] - 3s 4ms/step - loss: 0.2762 - accuracy: 0.8719 - val_loss: 0.3382 - val_accuracy: 0.8479\n",
      "Epoch 38/100\n",
      "943/943 [==============================] - 3s 3ms/step - loss: 0.2752 - accuracy: 0.8712 - val_loss: 0.3410 - val_accuracy: 0.8436\n",
      "Epoch 39/100\n",
      "943/943 [==============================] - 4s 4ms/step - loss: 0.2739 - accuracy: 0.8726 - val_loss: 0.3414 - val_accuracy: 0.8491\n",
      "Epoch 40/100\n",
      "943/943 [==============================] - 3s 4ms/step - loss: 0.2735 - accuracy: 0.8715 - val_loss: 0.3443 - val_accuracy: 0.8483\n",
      "Epoch 41/100\n",
      "943/943 [==============================] - 3s 3ms/step - loss: 0.2729 - accuracy: 0.8717 - val_loss: 0.3425 - val_accuracy: 0.8474\n",
      "Epoch 42/100\n",
      "943/943 [==============================] - 4s 4ms/step - loss: 0.2721 - accuracy: 0.8720 - val_loss: 0.3448 - val_accuracy: 0.8459\n",
      "Epoch 43/100\n",
      "943/943 [==============================] - 4s 4ms/step - loss: 0.2705 - accuracy: 0.8728 - val_loss: 0.3443 - val_accuracy: 0.8457\n",
      "Epoch 44/100\n",
      "943/943 [==============================] - 3s 3ms/step - loss: 0.2702 - accuracy: 0.8734 - val_loss: 0.3459 - val_accuracy: 0.8467\n",
      "Epoch 45/100\n",
      "943/943 [==============================] - 4s 4ms/step - loss: 0.2694 - accuracy: 0.8736 - val_loss: 0.3479 - val_accuracy: 0.8468\n",
      "Epoch 46/100\n",
      "943/943 [==============================] - 3s 3ms/step - loss: 0.2689 - accuracy: 0.8737 - val_loss: 0.3486 - val_accuracy: 0.8464\n",
      "Epoch 47/100\n",
      "943/943 [==============================] - 3s 3ms/step - loss: 0.2676 - accuracy: 0.8757 - val_loss: 0.3499 - val_accuracy: 0.8485\n",
      "Epoch 48/100\n",
      "943/943 [==============================] - 4s 4ms/step - loss: 0.2673 - accuracy: 0.8745 - val_loss: 0.3496 - val_accuracy: 0.8452\n",
      "Epoch 49/100\n",
      "943/943 [==============================] - 4s 4ms/step - loss: 0.2662 - accuracy: 0.8755 - val_loss: 0.3577 - val_accuracy: 0.8468\n",
      "Epoch 50/100\n",
      "943/943 [==============================] - 3s 3ms/step - loss: 0.2656 - accuracy: 0.8745 - val_loss: 0.3506 - val_accuracy: 0.8463\n",
      "Epoch 51/100\n",
      "943/943 [==============================] - 3s 3ms/step - loss: 0.2649 - accuracy: 0.8754 - val_loss: 0.3504 - val_accuracy: 0.8461\n",
      "Epoch 52/100\n",
      "943/943 [==============================] - 3s 3ms/step - loss: 0.2640 - accuracy: 0.8758 - val_loss: 0.3528 - val_accuracy: 0.8442\n",
      "Epoch 53/100\n",
      "943/943 [==============================] - 4s 4ms/step - loss: 0.2634 - accuracy: 0.8758 - val_loss: 0.3573 - val_accuracy: 0.8451\n",
      "Epoch 54/100\n",
      "943/943 [==============================] - 3s 3ms/step - loss: 0.2627 - accuracy: 0.8771 - val_loss: 0.3584 - val_accuracy: 0.8426\n",
      "Epoch 55/100\n",
      "943/943 [==============================] - 3s 3ms/step - loss: 0.2617 - accuracy: 0.8778 - val_loss: 0.3626 - val_accuracy: 0.8456\n",
      "Epoch 56/100\n",
      "943/943 [==============================] - 4s 4ms/step - loss: 0.2609 - accuracy: 0.8767 - val_loss: 0.3577 - val_accuracy: 0.8450\n",
      "Epoch 57/100\n",
      "943/943 [==============================] - 4s 4ms/step - loss: 0.2604 - accuracy: 0.8777 - val_loss: 0.3593 - val_accuracy: 0.8443\n",
      "Epoch 58/100\n",
      "943/943 [==============================] - 3s 3ms/step - loss: 0.2595 - accuracy: 0.8768 - val_loss: 0.3594 - val_accuracy: 0.8432\n",
      "Epoch 59/100\n",
      "943/943 [==============================] - 4s 4ms/step - loss: 0.2590 - accuracy: 0.8781 - val_loss: 0.3689 - val_accuracy: 0.8454\n",
      "Epoch 60/100\n",
      "943/943 [==============================] - 3s 3ms/step - loss: 0.2579 - accuracy: 0.8777 - val_loss: 0.3666 - val_accuracy: 0.8445\n",
      "Epoch 61/100\n",
      "943/943 [==============================] - 3s 3ms/step - loss: 0.2569 - accuracy: 0.8794 - val_loss: 0.3711 - val_accuracy: 0.8444\n",
      "Epoch 62/100\n",
      "943/943 [==============================] - 4s 4ms/step - loss: 0.2560 - accuracy: 0.8791 - val_loss: 0.3725 - val_accuracy: 0.8446\n",
      "Epoch 63/100\n",
      "943/943 [==============================] - 4s 4ms/step - loss: 0.2557 - accuracy: 0.8794 - val_loss: 0.3822 - val_accuracy: 0.8424\n",
      "Epoch 64/100\n",
      "943/943 [==============================] - 3s 3ms/step - loss: 0.2548 - accuracy: 0.8788 - val_loss: 0.3757 - val_accuracy: 0.8418\n",
      "Epoch 65/100\n",
      "943/943 [==============================] - 4s 4ms/step - loss: 0.2543 - accuracy: 0.8785 - val_loss: 0.3751 - val_accuracy: 0.8457\n",
      "Epoch 66/100\n",
      "943/943 [==============================] - 3s 4ms/step - loss: 0.2538 - accuracy: 0.8796 - val_loss: 0.3724 - val_accuracy: 0.8432\n",
      "Epoch 67/100\n",
      "943/943 [==============================] - 3s 3ms/step - loss: 0.2530 - accuracy: 0.8797 - val_loss: 0.3810 - val_accuracy: 0.8437\n",
      "Epoch 68/100\n",
      "943/943 [==============================] - 4s 4ms/step - loss: 0.2523 - accuracy: 0.8809 - val_loss: 0.3752 - val_accuracy: 0.8446\n",
      "Epoch 69/100\n",
      "943/943 [==============================] - 3s 4ms/step - loss: 0.2514 - accuracy: 0.8805 - val_loss: 0.3810 - val_accuracy: 0.8450\n",
      "Epoch 70/100\n",
      "943/943 [==============================] - 3s 3ms/step - loss: 0.2510 - accuracy: 0.8811 - val_loss: 0.3835 - val_accuracy: 0.8406\n",
      "Epoch 71/100\n",
      "943/943 [==============================] - 3s 4ms/step - loss: 0.2501 - accuracy: 0.8808 - val_loss: 0.3843 - val_accuracy: 0.8435\n",
      "Epoch 72/100\n",
      "943/943 [==============================] - 4s 4ms/step - loss: 0.2492 - accuracy: 0.8818 - val_loss: 0.3845 - val_accuracy: 0.8428\n",
      "Epoch 73/100\n",
      "943/943 [==============================] - 3s 3ms/step - loss: 0.2492 - accuracy: 0.8818 - val_loss: 0.3845 - val_accuracy: 0.8445\n",
      "Epoch 74/100\n",
      "943/943 [==============================] - 4s 4ms/step - loss: 0.2482 - accuracy: 0.8812 - val_loss: 0.3966 - val_accuracy: 0.8423\n",
      "Epoch 75/100\n",
      "943/943 [==============================] - 3s 4ms/step - loss: 0.2478 - accuracy: 0.8824 - val_loss: 0.3895 - val_accuracy: 0.8426\n",
      "Epoch 76/100\n",
      "943/943 [==============================] - 3s 3ms/step - loss: 0.2471 - accuracy: 0.8822 - val_loss: 0.3951 - val_accuracy: 0.8394\n",
      "Epoch 77/100\n",
      "943/943 [==============================] - 3s 4ms/step - loss: 0.2463 - accuracy: 0.8828 - val_loss: 0.3920 - val_accuracy: 0.8436\n",
      "Epoch 78/100\n",
      "943/943 [==============================] - 3s 4ms/step - loss: 0.2457 - accuracy: 0.8824 - val_loss: 0.3970 - val_accuracy: 0.8403\n",
      "Epoch 79/100\n",
      "943/943 [==============================] - 3s 3ms/step - loss: 0.2454 - accuracy: 0.8828 - val_loss: 0.3944 - val_accuracy: 0.8410\n",
      "Epoch 80/100\n",
      "943/943 [==============================] - 4s 4ms/step - loss: 0.2451 - accuracy: 0.8832 - val_loss: 0.4007 - val_accuracy: 0.8430\n",
      "Epoch 81/100\n",
      "943/943 [==============================] - 3s 4ms/step - loss: 0.2439 - accuracy: 0.8820 - val_loss: 0.4050 - val_accuracy: 0.8422\n",
      "Epoch 82/100\n",
      "943/943 [==============================] - 3s 3ms/step - loss: 0.2436 - accuracy: 0.8830 - val_loss: 0.4044 - val_accuracy: 0.8429\n",
      "Epoch 83/100\n",
      "943/943 [==============================] - 4s 4ms/step - loss: 0.2433 - accuracy: 0.8829 - val_loss: 0.4025 - val_accuracy: 0.8425\n",
      "Epoch 84/100\n",
      "943/943 [==============================] - 3s 3ms/step - loss: 0.2424 - accuracy: 0.8828 - val_loss: 0.4068 - val_accuracy: 0.8414\n",
      "Epoch 85/100\n",
      "943/943 [==============================] - 3s 3ms/step - loss: 0.2419 - accuracy: 0.8842 - val_loss: 0.4093 - val_accuracy: 0.8361\n",
      "Epoch 86/100\n",
      "943/943 [==============================] - 3s 3ms/step - loss: 0.2420 - accuracy: 0.8841 - val_loss: 0.4075 - val_accuracy: 0.8424\n",
      "Epoch 87/100\n",
      "943/943 [==============================] - 4s 4ms/step - loss: 0.2408 - accuracy: 0.8841 - val_loss: 0.4084 - val_accuracy: 0.8414\n",
      "Epoch 88/100\n",
      "943/943 [==============================] - 3s 3ms/step - loss: 0.2404 - accuracy: 0.8851 - val_loss: 0.4084 - val_accuracy: 0.8412\n",
      "Epoch 89/100\n",
      "943/943 [==============================] - 3s 3ms/step - loss: 0.2397 - accuracy: 0.8853 - val_loss: 0.4103 - val_accuracy: 0.8321\n",
      "Epoch 90/100\n",
      "943/943 [==============================] - 4s 4ms/step - loss: 0.2395 - accuracy: 0.8855 - val_loss: 0.4121 - val_accuracy: 0.8427\n",
      "Epoch 91/100\n",
      "943/943 [==============================] - 3s 3ms/step - loss: 0.2389 - accuracy: 0.8848 - val_loss: 0.4170 - val_accuracy: 0.8405\n",
      "Epoch 92/100\n",
      "943/943 [==============================] - 3s 4ms/step - loss: 0.2383 - accuracy: 0.8860 - val_loss: 0.4218 - val_accuracy: 0.8430\n",
      "Epoch 93/100\n",
      "943/943 [==============================] - 4s 4ms/step - loss: 0.2378 - accuracy: 0.8858 - val_loss: 0.4189 - val_accuracy: 0.8421\n",
      "Epoch 94/100\n",
      "943/943 [==============================] - 3s 3ms/step - loss: 0.2377 - accuracy: 0.8858 - val_loss: 0.4185 - val_accuracy: 0.8408\n",
      "Epoch 95/100\n",
      "943/943 [==============================] - 3s 3ms/step - loss: 0.2371 - accuracy: 0.8853 - val_loss: 0.4167 - val_accuracy: 0.8396\n",
      "Epoch 96/100\n",
      "943/943 [==============================] - 4s 4ms/step - loss: 0.2363 - accuracy: 0.8862 - val_loss: 0.4295 - val_accuracy: 0.8444\n",
      "Epoch 97/100\n",
      "943/943 [==============================] - 3s 3ms/step - loss: 0.2361 - accuracy: 0.8858 - val_loss: 0.4263 - val_accuracy: 0.8400\n",
      "Epoch 98/100\n",
      "943/943 [==============================] - 3s 3ms/step - loss: 0.2352 - accuracy: 0.8872 - val_loss: 0.4252 - val_accuracy: 0.8406\n",
      "Epoch 99/100\n",
      "943/943 [==============================] - 4s 4ms/step - loss: 0.2349 - accuracy: 0.8867 - val_loss: 0.4274 - val_accuracy: 0.8392\n",
      "Epoch 100/100\n",
      "943/943 [==============================] - 3s 4ms/step - loss: 0.2340 - accuracy: 0.8870 - val_loss: 0.4273 - val_accuracy: 0.8349\n"
     ]
    }
   ],
   "execution_count": 12
  },
  {
   "metadata": {
    "ExecuteTime": {
     "end_time": "2024-05-20T16:59:12.461761Z",
     "start_time": "2024-05-20T16:59:11.350988Z"
    }
   },
   "cell_type": "code",
   "source": "model_normalized.evaluate(X_test_normalized, y_test)",
   "outputs": [
    {
     "name": "stdout",
     "output_type": "stream",
     "text": [
      "471/471 [==============================] - 1s 2ms/step - loss: 0.6491 - accuracy: 0.7543\n"
     ]
    },
    {
     "data": {
      "text/plain": [
       "[0.6490984559059143, 0.7543160915374756]"
      ]
     },
     "execution_count": 13,
     "metadata": {},
     "output_type": "execute_result"
    }
   ],
   "execution_count": 13
  },
  {
   "metadata": {
    "ExecuteTime": {
     "end_time": "2024-05-20T16:59:13.453373Z",
     "start_time": "2024-05-20T16:59:12.466441Z"
    }
   },
   "cell_type": "code",
   "source": [
    "y_pred = model.predict(X_test_normalized)\n",
    "y_pred = (y_pred > 0.5).astype(int)\n",
    "\n",
    "accuracy = metrics.accuracy_score(y_test, y_pred)\n",
    "print(accuracy)"
   ],
   "outputs": [
    {
     "name": "stdout",
     "output_type": "stream",
     "text": [
      "471/471 [==============================] - 1s 1ms/step\n",
      "0.8349269588313413\n"
     ]
    }
   ],
   "execution_count": 14
  },
  {
   "cell_type": "markdown",
   "metadata": {},
   "source": [
    "# Zad. \n",
    "Stwórz wykres porównujący metody. "
   ]
  },
  {
   "cell_type": "code",
   "metadata": {
    "ExecuteTime": {
     "end_time": "2024-05-20T17:03:08.149697Z",
     "start_time": "2024-05-20T17:03:07.688731Z"
    }
   },
   "source": [
    "plt.plot(history.history['accuracy'], label='Train (Non-normalized)')\n",
    "plt.plot(history.history['val_accuracy'], label='Test (Non-normalized)')\n",
    "plt.plot(history_normalized.history['accuracy'], label='Train (Normalized)')\n",
    "plt.plot(history_normalized.history['val_accuracy'], label='Test (Normalized)')\n",
    "\n",
    "plt.title('Model accuracy comparison')\n",
    "plt.ylabel('Accuracy')\n",
    "plt.xlabel('Epoch')\n",
    "plt.legend(loc='upper left')\n",
    "plt.grid(True)\n",
    "plt.gca().set_ylim(0.78, .9) \n",
    "\n",
    "plt.show()"
   ],
   "outputs": [
    {
     "data": {
      "text/plain": [
       "<Figure size 640x480 with 1 Axes>"
      ],
      "image/png": "[encoded data removed]"
     },
     "metadata": {},
     "output_type": "display_data"
    }
   ],
   "execution_count": 21
  }
 ],
 "metadata": {
  "kernelspec": {
   "display_name": "Python 3 (ipykernel)",
   "language": "python",
   "name": "python3"
  },
  "language_info": {
   "codemirror_mode": {
    "name": "ipython",
    "version": 3
   },
   "file_extension": ".py",
   "mimetype": "text/x-python",
   "name": "python",
   "nbconvert_exporter": "python",
   "pygments_lexer": "ipython3",
   "version": "3.8.10"
  }
 },
 "nbformat": 4,
 "nbformat_minor": 4
}
